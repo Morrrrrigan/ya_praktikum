{
 "cells": [
  {
   "cell_type": "markdown",
   "metadata": {
    "id": "s48l7VwKzYe5"
   },
   "source": [
    "# Исследование тарифов для телеком компании\n",
    "\n",
    "Заказчик: федеральный оператор сотовой связи. Клиентам предлагают два тарифных плана: «Смарт» и «Ультра». \n",
    "\n",
    "Цель: для корректировки рекламного бюджета определить какой тариф приносит больше денег.\n",
    "\n",
    "Задача: проанализировать поведение клиентов и определить лучший тариф.\n",
    "\n",
    "Данные: данные 500 пользователей «Мегалайна»: кто они, откуда, каким тарифом пользуются, сколько звонков и сообщений каждый отправил за 2018 год. \n",
    "\n",
    "Описание тарифов\n",
    "\n",
    "**Тариф «Смарт»**\n",
    "\n",
    "Ежемесячная плата: 550 рублей\n",
    "\n",
    "Включено 500 минут разговора, 50 сообщений и 15 Гб интернет-трафика\n",
    "\n",
    "Стоимость услуг сверх тарифного пакета:\n",
    "\n",
    "- минута разговора: 3 рубля («Мегалайн» всегда округляет вверх значения минут и мегабайтов. Если пользователь проговорил всего 1 секунду, в тарифе засчитывается целая минута.)\n",
    "- сообщение: 3 рубля\n",
    "- 1 Гб интернет-трафика: 200 рублей\n",
    "\n",
    "**Тариф «Ультра»**\n",
    "\n",
    "Ежемесячная плата: 1950 рублей\n",
    "\n",
    "Включено 3000 минут разговора, 1000 сообщений и 30 Гб интернет-трафика\n",
    "\n",
    "Стоимость услуг сверх тарифного пакета:\n",
    "\n",
    "- минута разговора: 1 рубль\n",
    "- сообщение: 1 рубль\n",
    "- 1 Гб интернет-трафика: 150 рублей"
   ]
  },
  {
   "cell_type": "markdown",
   "metadata": {},
   "source": [
    "# Оглавление <a id=\"0\"></a>\n",
    "\n",
    "1. [Описание данных](#1)\n",
    "\n",
    "    \n",
    "2. [Открытие и изучение данных](#2)\n",
    "\n",
    "   \n",
    "3. [Предобработка данных](#3)\n",
    "\n",
    "    3.1 [calls](#3_1)\n",
    "\n",
    "    3.2 [internet](#3_2)\n",
    "\n",
    "    3.3 [messages](#3_3)\n",
    "    \n",
    "    3.4 [tariffs](#3_4)\n",
    "    \n",
    "    3.5 [users](#3_5)\n",
    "    \n",
    "    3.6 [Изменение типа данных (даты) по всем таблицам](#3_6)\n",
    "    \n",
    "    3.7 [Расчет месячных показателей для каждого пользователя](#3_7)\n",
    "    \n",
    "    3.8 [Расчет месячной выручки с каждого пользователя](#3_8)  \n",
    "   \n",
    "    \n",
    "4. [Анализ данных](#4)\n",
    "\n",
    "    4.1 [Минуты](#4_1)\n",
    "        \n",
    "    4.2 [СМС](#4_2)\n",
    "    \n",
    "    \n",
    "5. [Проверка гипотез](#5)\n",
    "\n",
    "    5.1 [средняя выручка пользователей тарифов \"Ультра\" и \"Смарт\"](#5_1)\n",
    "        \n",
    "    5.2 [средняя выручка пользователей из Москвы и регионов](#5_2)\n",
    "    \n",
    "    5.3 [средняя выручка пользователей из Москвы и регионов для тарифа \"Ультра\"](#5_3)\n",
    "    \n",
    "    5.4 [средняя выручка пользователей из Москвы и регионов для тарифа \"Смарт\"](#5_4)\n",
    "    \n",
    "   \n",
    "6.[Общий вывод](#6)"
   ]
  },
  {
   "cell_type": "markdown",
   "metadata": {
    "id": "zJ8xEUYA0iIv"
   },
   "source": [
    "# Обзор и первичное исследование данных\n",
    "\n",
    "Описание данных <a id=\"1\"></a>\n",
    "\n",
    "Таблица users (информация о пользователях):\n",
    "- user_id — уникальный идентификатор пользователя\n",
    "- first_name — имя пользователя\n",
    "- last_name — фамилия пользователя\n",
    "- age — возраст пользователя (годы)\n",
    "- reg_date — дата подключения тарифа (день, месяц, год)\n",
    "- churn_date — дата прекращения пользования тарифом (если значение пропущено, то тариф ещё действовал на момент выгрузки данных)\n",
    "- city — город проживания пользователя\n",
    "- tariff — название тарифного плана\n",
    "\n",
    "Таблица calls (информация о звонках):\n",
    "- id — уникальный номер звонка\n",
    "- call_date — дата звонка\n",
    "- duration — длительность звонка в минутах\n",
    "- user_id — идентификатор пользователя, сделавшего звонок\n",
    "\n",
    "Таблица messages (информация о сообщениях):\n",
    "- id — уникальный номер сообщения\n",
    "- message_date — дата сообщения\n",
    "- user_id — идентификатор пользователя, отправившего сообщение\n",
    "\n",
    "Таблица internet (информация об интернет-сессиях):\n",
    "- id — уникальный номер сессии\n",
    "- mb_used — объём потраченного за сессию интернет-трафика (в мегабайтах)\n",
    "- session_date — дата интернет-сессии\n",
    "- user_id — идентификатор пользователя\n",
    "\n",
    "Таблица tariffs (информация о тарифах):\n",
    "- tariff_name — название тарифа\n",
    "- rub_monthly_fee — ежемесячная абонентская плата в рублях\n",
    "- minutes_included — количество минут разговора в месяц, включённых в абонентскую плату\n",
    "- messages_included — количество сообщений в месяц, включённых в абонентскую плату\n",
    "- mb_per_month_included — объём интернет-трафика, включённого в абонентскую плату (в мегабайтах)\n",
    "- rub_per_minute — стоимость минуты разговора сверх тарифного пакета (например, если в тарифе 100 минут разговора в месяц, то со 101 минуты будет взиматься плата)\n",
    "- rub_per_message — стоимость отправки сообщения сверх тарифного пакета\n",
    "- rub_per_gb — стоимость дополнительного гигабайта интернет-трафика сверх тарифного пакета (1 гигабайт = 1024 мегабайта)"
   ]
  },
  {
   "cell_type": "markdown",
   "metadata": {
    "id": "bm-YPMmJ2-TA"
   },
   "source": [
    "## Открытие и изучение данных <a id=\"2\"></a>"
   ]
  },
  {
   "cell_type": "code",
   "execution_count": 1,
   "metadata": {
    "id": "gBxO_x15wzCW"
   },
   "outputs": [],
   "source": [
    "import pandas as pd\n",
    "from IPython.display import display\n",
    "import numpy as np\n",
    "import matplotlib.pyplot as plt \n",
    "from math import factorial\n",
    "from scipy import stats as st\n",
    "import warnings\n",
    "warnings.filterwarnings('ignore')\n",
    "import datetime as dt\n",
    "import math"
   ]
  },
  {
   "cell_type": "code",
   "execution_count": 2,
   "metadata": {
    "id": "OoNDhpFP7aWT"
   },
   "outputs": [],
   "source": [
    "calls = pd.read_csv('https://.../calls.csv')\n",
    "internet = pd.read_csv('https://.../internet.csv')\n",
    "messages = pd.read_csv('https://.../messages.csv')\n",
    "tariffs = pd.read_csv('https://.../tariffs.csv')\n",
    "users = pd.read_csv('https://.../users.csv')"
   ]
  },
  {
   "cell_type": "markdown",
   "metadata": {
    "id": "tanfQ8-O3Ud_"
   },
   "source": [
    "## Предобработка данных <a id=\"3\"></a>\n",
    "\n",
    "Сначала рассмотрим каждую таблицу отдельно."
   ]
  },
  {
   "cell_type": "markdown",
   "metadata": {
    "id": "wEYuRlDPGLpU"
   },
   "source": [
    "### calls <a id=\"3_1\"></a>"
   ]
  },
  {
   "cell_type": "code",
   "execution_count": 3,
   "metadata": {
    "colab": {
     "base_uri": "https://localhost:8080/",
     "height": 204
    },
    "id": "iqgL78ZiGQxk",
    "outputId": "f64ff07c-da80-4250-9b0a-49fb76336023"
   },
   "outputs": [
    {
     "data": {
      "text/html": [
       "<div>\n",
       "<style scoped>\n",
       "    .dataframe tbody tr th:only-of-type {\n",
       "        vertical-align: middle;\n",
       "    }\n",
       "\n",
       "    .dataframe tbody tr th {\n",
       "        vertical-align: top;\n",
       "    }\n",
       "\n",
       "    .dataframe thead th {\n",
       "        text-align: right;\n",
       "    }\n",
       "</style>\n",
       "<table border=\"1\" class=\"dataframe\">\n",
       "  <thead>\n",
       "    <tr style=\"text-align: right;\">\n",
       "      <th></th>\n",
       "      <th>id</th>\n",
       "      <th>call_date</th>\n",
       "      <th>duration</th>\n",
       "      <th>user_id</th>\n",
       "    </tr>\n",
       "  </thead>\n",
       "  <tbody>\n",
       "    <tr>\n",
       "      <th>158741</th>\n",
       "      <td>1392_406</td>\n",
       "      <td>2018-07-09</td>\n",
       "      <td>4.94</td>\n",
       "      <td>1392</td>\n",
       "    </tr>\n",
       "    <tr>\n",
       "      <th>95947</th>\n",
       "      <td>1244_202</td>\n",
       "      <td>2018-11-09</td>\n",
       "      <td>0.00</td>\n",
       "      <td>1244</td>\n",
       "    </tr>\n",
       "    <tr>\n",
       "      <th>10624</th>\n",
       "      <td>1027_494</td>\n",
       "      <td>2018-10-07</td>\n",
       "      <td>3.10</td>\n",
       "      <td>1027</td>\n",
       "    </tr>\n",
       "    <tr>\n",
       "      <th>167423</th>\n",
       "      <td>1412_340</td>\n",
       "      <td>2018-09-25</td>\n",
       "      <td>5.91</td>\n",
       "      <td>1412</td>\n",
       "    </tr>\n",
       "    <tr>\n",
       "      <th>73194</th>\n",
       "      <td>1184_168</td>\n",
       "      <td>2018-09-03</td>\n",
       "      <td>9.86</td>\n",
       "      <td>1184</td>\n",
       "    </tr>\n",
       "  </tbody>\n",
       "</table>\n",
       "</div>"
      ],
      "text/plain": [
       "              id   call_date  duration  user_id\n",
       "158741  1392_406  2018-07-09      4.94     1392\n",
       "95947   1244_202  2018-11-09      0.00     1244\n",
       "10624   1027_494  2018-10-07      3.10     1027\n",
       "167423  1412_340  2018-09-25      5.91     1412\n",
       "73194   1184_168  2018-09-03      9.86     1184"
      ]
     },
     "execution_count": 3,
     "metadata": {},
     "output_type": "execute_result"
    }
   ],
   "source": [
    "calls.sample(5, random_state=42)"
   ]
  },
  {
   "cell_type": "code",
   "execution_count": 4,
   "metadata": {
    "colab": {
     "base_uri": "https://localhost:8080/"
    },
    "id": "ZLwQ0aT7GawY",
    "outputId": "d99e78a4-e200-4294-aafd-8b29def92781"
   },
   "outputs": [
    {
     "name": "stdout",
     "output_type": "stream",
     "text": [
      "<class 'pandas.core.frame.DataFrame'>\n",
      "RangeIndex: 202607 entries, 0 to 202606\n",
      "Data columns (total 4 columns):\n",
      " #   Column     Non-Null Count   Dtype  \n",
      "---  ------     --------------   -----  \n",
      " 0   id         202607 non-null  object \n",
      " 1   call_date  202607 non-null  object \n",
      " 2   duration   202607 non-null  float64\n",
      " 3   user_id    202607 non-null  int64  \n",
      "dtypes: float64(1), int64(1), object(2)\n",
      "memory usage: 6.2+ MB\n"
     ]
    }
   ],
   "source": [
    "calls.info()"
   ]
  },
  {
   "cell_type": "markdown",
   "metadata": {
    "id": "gGTijDeEv24E"
   },
   "source": [
    "Так как у нас всего один количественный показатель - длительность звонков в минутах, то статистически показатели выведем только по нему, а сразу посмотрим на распределение. "
   ]
  },
  {
   "cell_type": "code",
   "execution_count": 5,
   "metadata": {
    "colab": {
     "base_uri": "https://localhost:8080/"
    },
    "id": "jQrv50cgzZPH",
    "outputId": "0542bb31-478c-4a9a-8a4f-1c348ea6713a"
   },
   "outputs": [
    {
     "data": {
      "text/plain": [
       "count    202607.000000\n",
       "mean          6.755887\n",
       "std           5.843365\n",
       "min           0.000000\n",
       "25%           1.300000\n",
       "50%           6.000000\n",
       "75%          10.700000\n",
       "max          38.000000\n",
       "Name: duration, dtype: float64"
      ]
     },
     "execution_count": 5,
     "metadata": {},
     "output_type": "execute_result"
    }
   ],
   "source": [
    "calls['duration'].describe()"
   ]
  },
  {
   "cell_type": "code",
   "execution_count": 6,
   "metadata": {
    "colab": {
     "base_uri": "https://localhost:8080/",
     "height": 281
    },
    "id": "JTOghMbgmEb2",
    "outputId": "0511b687-95be-4cb1-8f96-f7a5d6a8dce4"
   },
   "outputs": [
    {
     "data": {
      "image/png": "[encoded data removed]",
      "text/plain": [
       "<Figure size 432x288 with 1 Axes>"
      ]
     },
     "metadata": {
      "needs_background": "light"
     },
     "output_type": "display_data"
    }
   ],
   "source": [
    "calls.hist('duration', bins=50)\n",
    "plt.show()"
   ]
  },
  {
   "cell_type": "code",
   "execution_count": 7,
   "metadata": {
    "colab": {
     "base_uri": "https://localhost:8080/"
    },
    "id": "IsARnJ4npc4b",
    "outputId": "f170a80b-1e27-4c0c-f113-9d4e6b3a95f3"
   },
   "outputs": [
    {
     "name": "stdout",
     "output_type": "stream",
     "text": [
      "Количество звонков с нулевой длительностью: 39613 , доля в общем количестве: 0.2\n"
     ]
    }
   ],
   "source": [
    "print ('Количество звонков с нулевой длительностью:', len(calls.query('duration == 0')), \n",
    "       ', доля в общем количестве:', round((len(calls.query('duration == 0'))/len(calls['duration'])), 2))\n"
   ]
  },
  {
   "cell_type": "markdown",
   "metadata": {
    "id": "p1C4kmbIpDYb"
   },
   "source": [
    "\"Мегалайн\" округляет вверх значения минут, даже если проговорили 1 секунду. Стоимость за минуту разговора в случае использования сверх тарифа: 3 рубля для Смарта и 1 рубль для Ультры.\n",
    "\n",
    "Доля звонков с нулевой продолжительностью - 20 % от общего количества звонков. Маловероятно, что это ошибка, скорее всего пропущенные/непринятые звонки. В реальных условиях нужно было бы уточнить у оператора, что же в действительности означают нули и как учитываются. \n",
    "В рамках нашего задания предположим, что \"Мегалайн\" - честный оператор и не накручивает минуты, если разговор не состоялся. Удалим данные строки из таблицы, т.к. они не окажут влияния на дальнейшие расчеты. \n",
    "Остальные данные по времени разговора округляем по правилам \"Мегалайна\".  "
   ]
  },
  {
   "cell_type": "code",
   "execution_count": 8,
   "metadata": {
    "id": "5y05Ubss5X4l"
   },
   "outputs": [
    {
     "name": "stdout",
     "output_type": "stream",
     "text": [
      "Количество строк до обработки 39613\n",
      "Количество строк после обработки : 0\n"
     ]
    }
   ],
   "source": [
    "print('Количество строк до обработки', (calls.loc[calls.loc[:,'duration'] == 0]['duration'].count())) \n",
    "calls = calls.query('duration != 0')\n",
    "print('Количество строк после обработки :', (calls.loc[calls.loc[:,'duration'] == 0]['duration'].count())) "
   ]
  },
  {
   "cell_type": "code",
   "execution_count": 9,
   "metadata": {
    "id": "KV7EH8U5ai3n"
   },
   "outputs": [],
   "source": [
    "calls['duration'] = (np.ceil(calls['duration'])).astype(int)"
   ]
  },
  {
   "cell_type": "code",
   "execution_count": 10,
   "metadata": {
    "colab": {
     "base_uri": "https://localhost:8080/"
    },
    "id": "W5h6rJoB5ygx",
    "outputId": "b7895fdd-4ba0-49d1-84f4-3ffe508e2e70"
   },
   "outputs": [
    {
     "name": "stdout",
     "output_type": "stream",
     "text": [
      "<class 'pandas.core.frame.DataFrame'>\n",
      "Int64Index: 162994 entries, 2 to 202606\n",
      "Data columns (total 4 columns):\n",
      " #   Column     Non-Null Count   Dtype \n",
      "---  ------     --------------   ----- \n",
      " 0   id         162994 non-null  object\n",
      " 1   call_date  162994 non-null  object\n",
      " 2   duration   162994 non-null  int32 \n",
      " 3   user_id    162994 non-null  int64 \n",
      "dtypes: int32(1), int64(1), object(2)\n",
      "memory usage: 5.6+ MB\n"
     ]
    }
   ],
   "source": [
    "calls.info()"
   ]
  },
  {
   "cell_type": "code",
   "execution_count": 11,
   "metadata": {
    "colab": {
     "base_uri": "https://localhost:8080/",
     "height": 204
    },
    "id": "xbBd3tYmYKiu",
    "outputId": "300632ca-3f70-40ee-8c01-32e06d22a530"
   },
   "outputs": [
    {
     "data": {
      "text/html": [
       "<div>\n",
       "<style scoped>\n",
       "    .dataframe tbody tr th:only-of-type {\n",
       "        vertical-align: middle;\n",
       "    }\n",
       "\n",
       "    .dataframe tbody tr th {\n",
       "        vertical-align: top;\n",
       "    }\n",
       "\n",
       "    .dataframe thead th {\n",
       "        text-align: right;\n",
       "    }\n",
       "</style>\n",
       "<table border=\"1\" class=\"dataframe\">\n",
       "  <thead>\n",
       "    <tr style=\"text-align: right;\">\n",
       "      <th></th>\n",
       "      <th>id</th>\n",
       "      <th>call_date</th>\n",
       "      <th>duration</th>\n",
       "      <th>user_id</th>\n",
       "    </tr>\n",
       "  </thead>\n",
       "  <tbody>\n",
       "    <tr>\n",
       "      <th>2</th>\n",
       "      <td>1000_2</td>\n",
       "      <td>2018-06-11</td>\n",
       "      <td>3</td>\n",
       "      <td>1000</td>\n",
       "    </tr>\n",
       "    <tr>\n",
       "      <th>3</th>\n",
       "      <td>1000_3</td>\n",
       "      <td>2018-09-21</td>\n",
       "      <td>14</td>\n",
       "      <td>1000</td>\n",
       "    </tr>\n",
       "    <tr>\n",
       "      <th>4</th>\n",
       "      <td>1000_4</td>\n",
       "      <td>2018-12-15</td>\n",
       "      <td>6</td>\n",
       "      <td>1000</td>\n",
       "    </tr>\n",
       "    <tr>\n",
       "      <th>7</th>\n",
       "      <td>1000_7</td>\n",
       "      <td>2018-08-22</td>\n",
       "      <td>19</td>\n",
       "      <td>1000</td>\n",
       "    </tr>\n",
       "    <tr>\n",
       "      <th>8</th>\n",
       "      <td>1000_8</td>\n",
       "      <td>2018-09-15</td>\n",
       "      <td>19</td>\n",
       "      <td>1000</td>\n",
       "    </tr>\n",
       "  </tbody>\n",
       "</table>\n",
       "</div>"
      ],
      "text/plain": [
       "       id   call_date  duration  user_id\n",
       "2  1000_2  2018-06-11         3     1000\n",
       "3  1000_3  2018-09-21        14     1000\n",
       "4  1000_4  2018-12-15         6     1000\n",
       "7  1000_7  2018-08-22        19     1000\n",
       "8  1000_8  2018-09-15        19     1000"
      ]
     },
     "execution_count": 11,
     "metadata": {},
     "output_type": "execute_result"
    }
   ],
   "source": [
    "calls.head()"
   ]
  },
  {
   "cell_type": "code",
   "execution_count": 12,
   "metadata": {},
   "outputs": [
    {
     "data": {
      "text/plain": [
       "0"
      ]
     },
     "execution_count": 12,
     "metadata": {},
     "output_type": "execute_result"
    }
   ],
   "source": [
    "calls.duplicated().sum()"
   ]
  },
  {
   "cell_type": "markdown",
   "metadata": {
    "id": "DdCPDV76Gt57"
   },
   "source": [
    "### internet <a id=\"3_2\"></a>"
   ]
  },
  {
   "cell_type": "code",
   "execution_count": 13,
   "metadata": {
    "colab": {
     "base_uri": "https://localhost:8080/",
     "height": 204
    },
    "id": "87q8gsgh-MqO",
    "outputId": "1613e109-bd58-4b11-877c-e0b09513866d"
   },
   "outputs": [
    {
     "data": {
      "text/html": [
       "<div>\n",
       "<style scoped>\n",
       "    .dataframe tbody tr th:only-of-type {\n",
       "        vertical-align: middle;\n",
       "    }\n",
       "\n",
       "    .dataframe tbody tr th {\n",
       "        vertical-align: top;\n",
       "    }\n",
       "\n",
       "    .dataframe thead th {\n",
       "        text-align: right;\n",
       "    }\n",
       "</style>\n",
       "<table border=\"1\" class=\"dataframe\">\n",
       "  <thead>\n",
       "    <tr style=\"text-align: right;\">\n",
       "      <th></th>\n",
       "      <th>Unnamed: 0</th>\n",
       "      <th>id</th>\n",
       "      <th>mb_used</th>\n",
       "      <th>session_date</th>\n",
       "      <th>user_id</th>\n",
       "    </tr>\n",
       "  </thead>\n",
       "  <tbody>\n",
       "    <tr>\n",
       "      <th>31737</th>\n",
       "      <td>31737</td>\n",
       "      <td>1110_331</td>\n",
       "      <td>351.71</td>\n",
       "      <td>2018-09-04</td>\n",
       "      <td>1110</td>\n",
       "    </tr>\n",
       "    <tr>\n",
       "      <th>31333</th>\n",
       "      <td>31333</td>\n",
       "      <td>1109_399</td>\n",
       "      <td>257.69</td>\n",
       "      <td>2018-06-09</td>\n",
       "      <td>1109</td>\n",
       "    </tr>\n",
       "    <tr>\n",
       "      <th>61121</th>\n",
       "      <td>61121</td>\n",
       "      <td>1207_191</td>\n",
       "      <td>128.18</td>\n",
       "      <td>2018-11-05</td>\n",
       "      <td>1207</td>\n",
       "    </tr>\n",
       "    <tr>\n",
       "      <th>71184</th>\n",
       "      <td>71184</td>\n",
       "      <td>1241_88</td>\n",
       "      <td>736.71</td>\n",
       "      <td>2018-11-23</td>\n",
       "      <td>1241</td>\n",
       "    </tr>\n",
       "    <tr>\n",
       "      <th>84394</th>\n",
       "      <td>84394</td>\n",
       "      <td>1286_76</td>\n",
       "      <td>900.69</td>\n",
       "      <td>2018-12-18</td>\n",
       "      <td>1286</td>\n",
       "    </tr>\n",
       "  </tbody>\n",
       "</table>\n",
       "</div>"
      ],
      "text/plain": [
       "       Unnamed: 0        id  mb_used session_date  user_id\n",
       "31737       31737  1110_331   351.71   2018-09-04     1110\n",
       "31333       31333  1109_399   257.69   2018-06-09     1109\n",
       "61121       61121  1207_191   128.18   2018-11-05     1207\n",
       "71184       71184   1241_88   736.71   2018-11-23     1241\n",
       "84394       84394   1286_76   900.69   2018-12-18     1286"
      ]
     },
     "execution_count": 13,
     "metadata": {},
     "output_type": "execute_result"
    }
   ],
   "source": [
    "internet.sample(5, random_state=42)"
   ]
  },
  {
   "cell_type": "code",
   "execution_count": 14,
   "metadata": {
    "colab": {
     "base_uri": "https://localhost:8080/"
    },
    "id": "7dBsatnnG4Um",
    "outputId": "c6060366-0eee-416f-fc49-d77cd46d317a"
   },
   "outputs": [
    {
     "name": "stdout",
     "output_type": "stream",
     "text": [
      "<class 'pandas.core.frame.DataFrame'>\n",
      "RangeIndex: 149396 entries, 0 to 149395\n",
      "Data columns (total 5 columns):\n",
      " #   Column        Non-Null Count   Dtype  \n",
      "---  ------        --------------   -----  \n",
      " 0   Unnamed: 0    149396 non-null  int64  \n",
      " 1   id            149396 non-null  object \n",
      " 2   mb_used       149396 non-null  float64\n",
      " 3   session_date  149396 non-null  object \n",
      " 4   user_id       149396 non-null  int64  \n",
      "dtypes: float64(1), int64(2), object(2)\n",
      "memory usage: 5.7+ MB\n"
     ]
    }
   ],
   "source": [
    "internet.info()"
   ]
  },
  {
   "cell_type": "code",
   "execution_count": 15,
   "metadata": {
    "colab": {
     "base_uri": "https://localhost:8080/"
    },
    "id": "A5cSBbwPY4M_",
    "outputId": "b325dd94-21e8-43aa-880f-5c0150645173"
   },
   "outputs": [
    {
     "data": {
      "text/plain": [
       "count    149396.000000\n",
       "mean        370.192426\n",
       "std         278.300951\n",
       "min           0.000000\n",
       "25%         138.187500\n",
       "50%         348.015000\n",
       "75%         559.552500\n",
       "max        1724.830000\n",
       "Name: mb_used, dtype: float64"
      ]
     },
     "execution_count": 15,
     "metadata": {},
     "output_type": "execute_result"
    }
   ],
   "source": [
    "internet['mb_used'].describe()"
   ]
  },
  {
   "cell_type": "code",
   "execution_count": 16,
   "metadata": {
    "colab": {
     "base_uri": "https://localhost:8080/",
     "height": 281
    },
    "id": "KlwEZxoYY2lQ",
    "outputId": "aab4169b-5f4f-4366-96c3-cfb07d1c33ba"
   },
   "outputs": [
    {
     "data": {
      "image/png": "[encoded data removed]",
      "text/plain": [
       "<Figure size 432x288 with 1 Axes>"
      ]
     },
     "metadata": {
      "needs_background": "light"
     },
     "output_type": "display_data"
    }
   ],
   "source": [
    "internet.hist('mb_used', bins=50)\n",
    "plt.show()"
   ]
  },
  {
   "cell_type": "code",
   "execution_count": 17,
   "metadata": {
    "colab": {
     "base_uri": "https://localhost:8080/"
    },
    "id": "lckcrxurdeBu",
    "outputId": "f768987c-9f6d-4dfb-93d6-93d206969343"
   },
   "outputs": [
    {
     "name": "stdout",
     "output_type": "stream",
     "text": [
      "Количество сессий с нулем мегабайт: 19598 , доля в общем количестве: 0.13\n"
     ]
    }
   ],
   "source": [
    "print ('Количество сессий с нулем мегабайт:', len(internet.query('mb_used == 0')), \n",
    "       ', доля в общем количестве:', round((len(internet.query('mb_used == 0'))/len(internet['mb_used'])), 2))"
   ]
  },
  {
   "cell_type": "markdown",
   "metadata": {
    "id": "OZ7QLpIGZh1E"
   },
   "source": [
    "Также как и с минутами, \"Мегалайн\" округляет вверх значения Мб.\n",
    "\n",
    "Доля выходов в интернет с нулевым трафиком в Мб - 13 % от общего количества. Так же, как с минутами, в реальных условяих стоило бы уточнить у оператора, как он поступает с трафиком, меньше 1 Мб, округляет до 1 Мб или же нет. \n",
    "\n",
    "В нашей ситуации предположим, что всё, что меньше 1 Мб не округляется в бОльшую сторону и остается нулями. Так же удалим эти строки и округлим остальные значения до целых значений.\n",
    "\n",
    "Также заменим индекс на значения из столбца 'Unnamed: 0'"
   ]
  },
  {
   "cell_type": "code",
   "execution_count": 18,
   "metadata": {
    "id": "eYlzzs_ghzLj"
   },
   "outputs": [
    {
     "name": "stdout",
     "output_type": "stream",
     "text": [
      "Количество строк до обработки 19598\n",
      "Количество строк до обработки 0\n"
     ]
    }
   ],
   "source": [
    "print('Количество строк до обработки', (internet.loc[internet.loc[:,'mb_used'] == 0]['mb_used'].count())) \n",
    "internet = internet.query('mb_used != 0')\n",
    "print('Количество строк до обработки', (internet.loc[internet.loc[:,'mb_used'] == 0]['mb_used'].count())) "
   ]
  },
  {
   "cell_type": "code",
   "execution_count": 19,
   "metadata": {
    "id": "zuVul55phzjB"
   },
   "outputs": [],
   "source": [
    "internet['mb_used'] = (np.ceil(internet['mb_used'])).astype(int)"
   ]
  },
  {
   "cell_type": "code",
   "execution_count": 20,
   "metadata": {
    "id": "CcKOfNJ6DaAB"
   },
   "outputs": [],
   "source": [
    "internet.set_index('Unnamed: 0', inplace=True)"
   ]
  },
  {
   "cell_type": "code",
   "execution_count": 21,
   "metadata": {
    "colab": {
     "base_uri": "https://localhost:8080/",
     "height": 204
    },
    "id": "PQ54fESsiLLB",
    "outputId": "deb31c93-eb5a-42ea-dde5-cb0f35aac010"
   },
   "outputs": [
    {
     "data": {
      "text/html": [
       "<div>\n",
       "<style scoped>\n",
       "    .dataframe tbody tr th:only-of-type {\n",
       "        vertical-align: middle;\n",
       "    }\n",
       "\n",
       "    .dataframe tbody tr th {\n",
       "        vertical-align: top;\n",
       "    }\n",
       "\n",
       "    .dataframe thead th {\n",
       "        text-align: right;\n",
       "    }\n",
       "</style>\n",
       "<table border=\"1\" class=\"dataframe\">\n",
       "  <thead>\n",
       "    <tr style=\"text-align: right;\">\n",
       "      <th></th>\n",
       "      <th>id</th>\n",
       "      <th>mb_used</th>\n",
       "      <th>session_date</th>\n",
       "      <th>user_id</th>\n",
       "    </tr>\n",
       "    <tr>\n",
       "      <th>Unnamed: 0</th>\n",
       "      <th></th>\n",
       "      <th></th>\n",
       "      <th></th>\n",
       "      <th></th>\n",
       "    </tr>\n",
       "  </thead>\n",
       "  <tbody>\n",
       "    <tr>\n",
       "      <th>0</th>\n",
       "      <td>1000_0</td>\n",
       "      <td>113</td>\n",
       "      <td>2018-11-25</td>\n",
       "      <td>1000</td>\n",
       "    </tr>\n",
       "    <tr>\n",
       "      <th>1</th>\n",
       "      <td>1000_1</td>\n",
       "      <td>1053</td>\n",
       "      <td>2018-09-07</td>\n",
       "      <td>1000</td>\n",
       "    </tr>\n",
       "    <tr>\n",
       "      <th>2</th>\n",
       "      <td>1000_2</td>\n",
       "      <td>1198</td>\n",
       "      <td>2018-06-25</td>\n",
       "      <td>1000</td>\n",
       "    </tr>\n",
       "    <tr>\n",
       "      <th>3</th>\n",
       "      <td>1000_3</td>\n",
       "      <td>551</td>\n",
       "      <td>2018-08-22</td>\n",
       "      <td>1000</td>\n",
       "    </tr>\n",
       "    <tr>\n",
       "      <th>4</th>\n",
       "      <td>1000_4</td>\n",
       "      <td>303</td>\n",
       "      <td>2018-09-24</td>\n",
       "      <td>1000</td>\n",
       "    </tr>\n",
       "  </tbody>\n",
       "</table>\n",
       "</div>"
      ],
      "text/plain": [
       "                id  mb_used session_date  user_id\n",
       "Unnamed: 0                                       \n",
       "0           1000_0      113   2018-11-25     1000\n",
       "1           1000_1     1053   2018-09-07     1000\n",
       "2           1000_2     1198   2018-06-25     1000\n",
       "3           1000_3      551   2018-08-22     1000\n",
       "4           1000_4      303   2018-09-24     1000"
      ]
     },
     "execution_count": 21,
     "metadata": {},
     "output_type": "execute_result"
    }
   ],
   "source": [
    "internet.head()"
   ]
  },
  {
   "cell_type": "code",
   "execution_count": 22,
   "metadata": {},
   "outputs": [
    {
     "data": {
      "text/plain": [
       "0"
      ]
     },
     "execution_count": 22,
     "metadata": {},
     "output_type": "execute_result"
    }
   ],
   "source": [
    "internet.duplicated().sum()"
   ]
  },
  {
   "cell_type": "markdown",
   "metadata": {
    "id": "IkeVmEKAG7GU"
   },
   "source": [
    "### messages <a id=\"3_3\"></a>"
   ]
  },
  {
   "cell_type": "code",
   "execution_count": 23,
   "metadata": {
    "colab": {
     "base_uri": "https://localhost:8080/",
     "height": 204
    },
    "id": "fcWMyCzuG_4Q",
    "outputId": "484e18c6-e4b5-4428-bb8e-7abed73f88d4"
   },
   "outputs": [
    {
     "data": {
      "text/html": [
       "<div>\n",
       "<style scoped>\n",
       "    .dataframe tbody tr th:only-of-type {\n",
       "        vertical-align: middle;\n",
       "    }\n",
       "\n",
       "    .dataframe tbody tr th {\n",
       "        vertical-align: top;\n",
       "    }\n",
       "\n",
       "    .dataframe thead th {\n",
       "        text-align: right;\n",
       "    }\n",
       "</style>\n",
       "<table border=\"1\" class=\"dataframe\">\n",
       "  <thead>\n",
       "    <tr style=\"text-align: right;\">\n",
       "      <th></th>\n",
       "      <th>id</th>\n",
       "      <th>message_date</th>\n",
       "      <th>user_id</th>\n",
       "    </tr>\n",
       "  </thead>\n",
       "  <tbody>\n",
       "    <tr>\n",
       "      <th>8581</th>\n",
       "      <td>1033_332</td>\n",
       "      <td>2018-11-08</td>\n",
       "      <td>1033</td>\n",
       "    </tr>\n",
       "    <tr>\n",
       "      <th>12476</th>\n",
       "      <td>1054_32</td>\n",
       "      <td>2018-08-10</td>\n",
       "      <td>1054</td>\n",
       "    </tr>\n",
       "    <tr>\n",
       "      <th>14805</th>\n",
       "      <td>1065_141</td>\n",
       "      <td>2018-05-29</td>\n",
       "      <td>1065</td>\n",
       "    </tr>\n",
       "    <tr>\n",
       "      <th>118278</th>\n",
       "      <td>1481_49</td>\n",
       "      <td>2018-05-24</td>\n",
       "      <td>1481</td>\n",
       "    </tr>\n",
       "    <tr>\n",
       "      <th>23803</th>\n",
       "      <td>1099_10</td>\n",
       "      <td>2018-08-24</td>\n",
       "      <td>1099</td>\n",
       "    </tr>\n",
       "  </tbody>\n",
       "</table>\n",
       "</div>"
      ],
      "text/plain": [
       "              id message_date  user_id\n",
       "8581    1033_332   2018-11-08     1033\n",
       "12476    1054_32   2018-08-10     1054\n",
       "14805   1065_141   2018-05-29     1065\n",
       "118278   1481_49   2018-05-24     1481\n",
       "23803    1099_10   2018-08-24     1099"
      ]
     },
     "execution_count": 23,
     "metadata": {},
     "output_type": "execute_result"
    }
   ],
   "source": [
    "messages.sample(5, random_state=42)"
   ]
  },
  {
   "cell_type": "code",
   "execution_count": 24,
   "metadata": {
    "colab": {
     "base_uri": "https://localhost:8080/"
    },
    "id": "D9pE1BGEHACE",
    "outputId": "794d163d-a07f-4366-9649-7db50ce43ccc"
   },
   "outputs": [
    {
     "name": "stdout",
     "output_type": "stream",
     "text": [
      "<class 'pandas.core.frame.DataFrame'>\n",
      "RangeIndex: 123036 entries, 0 to 123035\n",
      "Data columns (total 3 columns):\n",
      " #   Column        Non-Null Count   Dtype \n",
      "---  ------        --------------   ----- \n",
      " 0   id            123036 non-null  object\n",
      " 1   message_date  123036 non-null  object\n",
      " 2   user_id       123036 non-null  int64 \n",
      "dtypes: int64(1), object(2)\n",
      "memory usage: 2.8+ MB\n"
     ]
    }
   ],
   "source": [
    "messages.info()"
   ]
  },
  {
   "cell_type": "code",
   "execution_count": 25,
   "metadata": {},
   "outputs": [
    {
     "data": {
      "text/plain": [
       "0"
      ]
     },
     "execution_count": 25,
     "metadata": {},
     "output_type": "execute_result"
    }
   ],
   "source": [
    "messages.duplicated().sum()"
   ]
  },
  {
   "cell_type": "markdown",
   "metadata": {
    "id": "QkChezjLHOmO"
   },
   "source": [
    "### tariffs <a id=\"3_4\"></a>"
   ]
  },
  {
   "cell_type": "code",
   "execution_count": 26,
   "metadata": {
    "colab": {
     "base_uri": "https://localhost:8080/",
     "height": 111
    },
    "id": "SCBNI7o4HQ_3",
    "outputId": "dedaf976-64b7-4d7f-8e55-f858f8803811"
   },
   "outputs": [
    {
     "data": {
      "text/html": [
       "<div>\n",
       "<style scoped>\n",
       "    .dataframe tbody tr th:only-of-type {\n",
       "        vertical-align: middle;\n",
       "    }\n",
       "\n",
       "    .dataframe tbody tr th {\n",
       "        vertical-align: top;\n",
       "    }\n",
       "\n",
       "    .dataframe thead th {\n",
       "        text-align: right;\n",
       "    }\n",
       "</style>\n",
       "<table border=\"1\" class=\"dataframe\">\n",
       "  <thead>\n",
       "    <tr style=\"text-align: right;\">\n",
       "      <th></th>\n",
       "      <th>messages_included</th>\n",
       "      <th>mb_per_month_included</th>\n",
       "      <th>minutes_included</th>\n",
       "      <th>rub_monthly_fee</th>\n",
       "      <th>rub_per_gb</th>\n",
       "      <th>rub_per_message</th>\n",
       "      <th>rub_per_minute</th>\n",
       "      <th>tariff_name</th>\n",
       "    </tr>\n",
       "  </thead>\n",
       "  <tbody>\n",
       "    <tr>\n",
       "      <th>0</th>\n",
       "      <td>50</td>\n",
       "      <td>15360</td>\n",
       "      <td>500</td>\n",
       "      <td>550</td>\n",
       "      <td>200</td>\n",
       "      <td>3</td>\n",
       "      <td>3</td>\n",
       "      <td>smart</td>\n",
       "    </tr>\n",
       "    <tr>\n",
       "      <th>1</th>\n",
       "      <td>1000</td>\n",
       "      <td>30720</td>\n",
       "      <td>3000</td>\n",
       "      <td>1950</td>\n",
       "      <td>150</td>\n",
       "      <td>1</td>\n",
       "      <td>1</td>\n",
       "      <td>ultra</td>\n",
       "    </tr>\n",
       "  </tbody>\n",
       "</table>\n",
       "</div>"
      ],
      "text/plain": [
       "   messages_included  mb_per_month_included  minutes_included  \\\n",
       "0                 50                  15360               500   \n",
       "1               1000                  30720              3000   \n",
       "\n",
       "   rub_monthly_fee  rub_per_gb  rub_per_message  rub_per_minute tariff_name  \n",
       "0              550         200                3               3       smart  \n",
       "1             1950         150                1               1       ultra  "
      ]
     },
     "execution_count": 26,
     "metadata": {},
     "output_type": "execute_result"
    }
   ],
   "source": [
    "tariffs.head()"
   ]
  },
  {
   "cell_type": "code",
   "execution_count": 27,
   "metadata": {
    "colab": {
     "base_uri": "https://localhost:8080/"
    },
    "id": "jwJjiYyqHRI_",
    "outputId": "d9186588-07c5-42a2-f8ca-53ebef040a9f",
    "scrolled": true
   },
   "outputs": [
    {
     "name": "stdout",
     "output_type": "stream",
     "text": [
      "<class 'pandas.core.frame.DataFrame'>\n",
      "RangeIndex: 2 entries, 0 to 1\n",
      "Data columns (total 8 columns):\n",
      " #   Column                 Non-Null Count  Dtype \n",
      "---  ------                 --------------  ----- \n",
      " 0   messages_included      2 non-null      int64 \n",
      " 1   mb_per_month_included  2 non-null      int64 \n",
      " 2   minutes_included       2 non-null      int64 \n",
      " 3   rub_monthly_fee        2 non-null      int64 \n",
      " 4   rub_per_gb             2 non-null      int64 \n",
      " 5   rub_per_message        2 non-null      int64 \n",
      " 6   rub_per_minute         2 non-null      int64 \n",
      " 7   tariff_name            2 non-null      object\n",
      "dtypes: int64(7), object(1)\n",
      "memory usage: 256.0+ bytes\n"
     ]
    }
   ],
   "source": [
    "tariffs.info()"
   ]
  },
  {
   "cell_type": "markdown",
   "metadata": {
    "id": "1WyrjtDzHaFS"
   },
   "source": [
    "### users <a id=\"3_5\"></a>"
   ]
  },
  {
   "cell_type": "code",
   "execution_count": 28,
   "metadata": {
    "colab": {
     "base_uri": "https://localhost:8080/",
     "height": 204
    },
    "id": "BtwWkWBFHaRA",
    "outputId": "56f09ee7-e0b9-4ab2-d1a4-63846415b2ee"
   },
   "outputs": [
    {
     "data": {
      "text/html": [
       "<div>\n",
       "<style scoped>\n",
       "    .dataframe tbody tr th:only-of-type {\n",
       "        vertical-align: middle;\n",
       "    }\n",
       "\n",
       "    .dataframe tbody tr th {\n",
       "        vertical-align: top;\n",
       "    }\n",
       "\n",
       "    .dataframe thead th {\n",
       "        text-align: right;\n",
       "    }\n",
       "</style>\n",
       "<table border=\"1\" class=\"dataframe\">\n",
       "  <thead>\n",
       "    <tr style=\"text-align: right;\">\n",
       "      <th></th>\n",
       "      <th>user_id</th>\n",
       "      <th>age</th>\n",
       "      <th>churn_date</th>\n",
       "      <th>city</th>\n",
       "      <th>first_name</th>\n",
       "      <th>last_name</th>\n",
       "      <th>reg_date</th>\n",
       "      <th>tariff</th>\n",
       "    </tr>\n",
       "  </thead>\n",
       "  <tbody>\n",
       "    <tr>\n",
       "      <th>361</th>\n",
       "      <td>1361</td>\n",
       "      <td>38</td>\n",
       "      <td>NaN</td>\n",
       "      <td>Екатеринбург</td>\n",
       "      <td>Рената</td>\n",
       "      <td>Кошелева</td>\n",
       "      <td>2018-09-09</td>\n",
       "      <td>ultra</td>\n",
       "    </tr>\n",
       "    <tr>\n",
       "      <th>73</th>\n",
       "      <td>1073</td>\n",
       "      <td>63</td>\n",
       "      <td>NaN</td>\n",
       "      <td>Владикавказ</td>\n",
       "      <td>Гордей</td>\n",
       "      <td>Павловский</td>\n",
       "      <td>2018-10-04</td>\n",
       "      <td>smart</td>\n",
       "    </tr>\n",
       "    <tr>\n",
       "      <th>374</th>\n",
       "      <td>1374</td>\n",
       "      <td>67</td>\n",
       "      <td>NaN</td>\n",
       "      <td>Махачкала</td>\n",
       "      <td>Леонид</td>\n",
       "      <td>Аркадьев</td>\n",
       "      <td>2018-04-01</td>\n",
       "      <td>smart</td>\n",
       "    </tr>\n",
       "    <tr>\n",
       "      <th>155</th>\n",
       "      <td>1155</td>\n",
       "      <td>71</td>\n",
       "      <td>NaN</td>\n",
       "      <td>Ставрополь</td>\n",
       "      <td>Александр</td>\n",
       "      <td>Чернов</td>\n",
       "      <td>2018-01-02</td>\n",
       "      <td>smart</td>\n",
       "    </tr>\n",
       "    <tr>\n",
       "      <th>104</th>\n",
       "      <td>1104</td>\n",
       "      <td>60</td>\n",
       "      <td>NaN</td>\n",
       "      <td>Нижний Тагил</td>\n",
       "      <td>Габриэль</td>\n",
       "      <td>Поляков</td>\n",
       "      <td>2018-02-21</td>\n",
       "      <td>ultra</td>\n",
       "    </tr>\n",
       "  </tbody>\n",
       "</table>\n",
       "</div>"
      ],
      "text/plain": [
       "     user_id  age churn_date          city first_name   last_name    reg_date  \\\n",
       "361     1361   38        NaN  Екатеринбург     Рената    Кошелева  2018-09-09   \n",
       "73      1073   63        NaN   Владикавказ     Гордей  Павловский  2018-10-04   \n",
       "374     1374   67        NaN     Махачкала     Леонид    Аркадьев  2018-04-01   \n",
       "155     1155   71        NaN    Ставрополь  Александр      Чернов  2018-01-02   \n",
       "104     1104   60        NaN  Нижний Тагил   Габриэль     Поляков  2018-02-21   \n",
       "\n",
       "    tariff  \n",
       "361  ultra  \n",
       "73   smart  \n",
       "374  smart  \n",
       "155  smart  \n",
       "104  ultra  "
      ]
     },
     "execution_count": 28,
     "metadata": {},
     "output_type": "execute_result"
    }
   ],
   "source": [
    "users.sample(5, random_state=42)"
   ]
  },
  {
   "cell_type": "code",
   "execution_count": 29,
   "metadata": {
    "colab": {
     "base_uri": "https://localhost:8080/"
    },
    "id": "mMObY48KHaaR",
    "outputId": "6f869f43-6b20-4105-854c-934538ede1a4"
   },
   "outputs": [
    {
     "name": "stdout",
     "output_type": "stream",
     "text": [
      "<class 'pandas.core.frame.DataFrame'>\n",
      "RangeIndex: 500 entries, 0 to 499\n",
      "Data columns (total 8 columns):\n",
      " #   Column      Non-Null Count  Dtype \n",
      "---  ------      --------------  ----- \n",
      " 0   user_id     500 non-null    int64 \n",
      " 1   age         500 non-null    int64 \n",
      " 2   churn_date  38 non-null     object\n",
      " 3   city        500 non-null    object\n",
      " 4   first_name  500 non-null    object\n",
      " 5   last_name   500 non-null    object\n",
      " 6   reg_date    500 non-null    object\n",
      " 7   tariff      500 non-null    object\n",
      "dtypes: int64(2), object(6)\n",
      "memory usage: 31.4+ KB\n"
     ]
    }
   ],
   "source": [
    "users.info()"
   ]
  },
  {
   "cell_type": "code",
   "execution_count": 30,
   "metadata": {},
   "outputs": [
    {
     "data": {
      "text/plain": [
       "0"
      ]
     },
     "execution_count": 30,
     "metadata": {},
     "output_type": "execute_result"
    }
   ],
   "source": [
    "users.duplicated().sum()"
   ]
  },
  {
   "cell_type": "markdown",
   "metadata": {},
   "source": [
    "Пропуски в `churn_date` заполнять не будем. Но при создании общей таблицы учтем факт того, что часть пользователей \"ушла\"."
   ]
  },
  {
   "cell_type": "markdown",
   "metadata": {},
   "source": [
    "Создадим словарь с id, фамилиями и именами пользователей, и оставим с основной таблице только id, чтобы не утяжелять данные с которыми мы будем работать. "
   ]
  },
  {
   "cell_type": "code",
   "execution_count": 31,
   "metadata": {},
   "outputs": [],
   "source": [
    "users_dict = users[['user_id', 'first_name', 'last_name']].drop_duplicates().reset_index(drop=True)\n",
    "users = users[['user_id', 'age', 'reg_date', 'churn_date', 'city', 'tariff']]"
   ]
  },
  {
   "cell_type": "markdown",
   "metadata": {
    "id": "-9bps6YmT8VO"
   },
   "source": [
    "### Изменение типа данных (даты) по всем таблицам <a id=\"3_6\"></a>"
   ]
  },
  {
   "cell_type": "markdown",
   "metadata": {
    "id": "-OyRY-ASFJab"
   },
   "source": [
    "Далее по всем таблицам приведем столбцы с датами к типу `datetime` и выделим месяца."
   ]
  },
  {
   "cell_type": "code",
   "execution_count": 32,
   "metadata": {
    "id": "Sq4fEE8rTfz8"
   },
   "outputs": [],
   "source": [
    "#функция для изменения типа данных на datetime и добавление столбца: год-месяц\n",
    "def date_replace(list_of_tab):\n",
    "    for tab in list_of_tab:\n",
    "        for column in tab.columns:\n",
    "            if 'date' in column and column != 'churn_date':\n",
    "                try:\n",
    "                    tab[column] = pd.to_datetime(tab[column], format='%Y-%m-%d')\n",
    "                    tab['year_month'] = tab[column].dt.to_period('M')\n",
    "                except:\n",
    "                    'проверьте формат даты'\n",
    "                \n",
    "            if column == 'churn_date':\n",
    "                try:\n",
    "                    tab[column] = pd.to_datetime(tab[column], format='%Y-%m-%d')\n",
    "                    tab['churn_date'] = tab[column].dt.to_period('M')\n",
    "                except:\n",
    "                    'проверьте формат даты'   \n",
    "                \n",
    "           "
   ]
  },
  {
   "cell_type": "code",
   "execution_count": 33,
   "metadata": {
    "id": "A7UdXg-bYqFh"
   },
   "outputs": [],
   "source": [
    "date_replace([calls, internet, messages, users])"
   ]
  },
  {
   "cell_type": "code",
   "execution_count": 34,
   "metadata": {},
   "outputs": [
    {
     "name": "stdout",
     "output_type": "stream",
     "text": [
      "<class 'pandas.core.frame.DataFrame'>\n",
      "Int64Index: 162994 entries, 2 to 202606\n",
      "Data columns (total 5 columns):\n",
      " #   Column      Non-Null Count   Dtype         \n",
      "---  ------      --------------   -----         \n",
      " 0   id          162994 non-null  object        \n",
      " 1   call_date   162994 non-null  datetime64[ns]\n",
      " 2   duration    162994 non-null  int32         \n",
      " 3   user_id     162994 non-null  int64         \n",
      " 4   year_month  162994 non-null  period[M]     \n",
      "dtypes: datetime64[ns](1), int32(1), int64(1), object(1), period[M](1)\n",
      "memory usage: 6.8+ MB\n"
     ]
    }
   ],
   "source": [
    "calls.info()"
   ]
  },
  {
   "cell_type": "markdown",
   "metadata": {
    "id": "ukUiwXPRbS_b"
   },
   "source": [
    "Проверим за какой период у нас данные:"
   ]
  },
  {
   "cell_type": "code",
   "execution_count": 35,
   "metadata": {
    "colab": {
     "base_uri": "https://localhost:8080/"
    },
    "id": "5nF9EzEbald7",
    "outputId": "ea278cf5-11d3-4d42-906d-d31b651b9878"
   },
   "outputs": [
    {
     "name": "stdout",
     "output_type": "stream",
     "text": [
      "период использования 2018-01 - 2018-12\n",
      "период использования 2018-01 - 2018-12\n",
      "период использования 2018-01 - 2018-12\n",
      "период использования 2018-01 - 2018-12\n"
     ]
    }
   ],
   "source": [
    "list_of_tab = [calls, internet, messages, users]\n",
    "\n",
    "for tab in list_of_tab:\n",
    "    if 'year_month' in tab.columns:\n",
    "        print('период использования', tab['year_month'].min(), '-', tab['year_month'].max())\n"
   ]
  },
  {
   "cell_type": "markdown",
   "metadata": {},
   "source": [
    "По всем видам услуг период один: январь - декабрь 2018 года. "
   ]
  },
  {
   "cell_type": "markdown",
   "metadata": {
    "id": "P4au_1ETDa0o"
   },
   "source": [
    "### Расчет месячных показателей для каждого пользователя <a id=\"3_7\"></a>\n",
    "\n",
    "**Создание таблицы пользователей по месяцам**\n",
    "\n",
    "Создадим таблицу с месяцами и добавим к ней данные по пользователям. "
   ]
  },
  {
   "cell_type": "code",
   "execution_count": 36,
   "metadata": {},
   "outputs": [],
   "source": [
    "period = pd.DataFrame(pd.period_range('2018-01', '2018-12', freq='M'))\n",
    "period.columns = ['month']"
   ]
  },
  {
   "cell_type": "code",
   "execution_count": 37,
   "metadata": {},
   "outputs": [],
   "source": [
    "period['key'] = 1\n",
    "users['key'] = 1"
   ]
  },
  {
   "cell_type": "code",
   "execution_count": 38,
   "metadata": {},
   "outputs": [],
   "source": [
    "df = period.merge(users, on='key')"
   ]
  },
  {
   "cell_type": "markdown",
   "metadata": {},
   "source": [
    "Проверим количество строк, которое получилось с расчетным (кол-во строк в таблице users * кол-во строк в period) и посмотри на результат объединения."
   ]
  },
  {
   "cell_type": "code",
   "execution_count": 39,
   "metadata": {},
   "outputs": [
    {
     "data": {
      "text/plain": [
       "6000"
      ]
     },
     "execution_count": 39,
     "metadata": {},
     "output_type": "execute_result"
    }
   ],
   "source": [
    "len(df)"
   ]
  },
  {
   "cell_type": "code",
   "execution_count": 40,
   "metadata": {},
   "outputs": [
    {
     "data": {
      "text/plain": [
       "6000"
      ]
     },
     "execution_count": 40,
     "metadata": {},
     "output_type": "execute_result"
    }
   ],
   "source": [
    "len(users)*len(period)"
   ]
  },
  {
   "cell_type": "code",
   "execution_count": 41,
   "metadata": {},
   "outputs": [
    {
     "name": "stdout",
     "output_type": "stream",
     "text": [
      "<class 'pandas.core.frame.DataFrame'>\n",
      "Int64Index: 6000 entries, 0 to 5999\n",
      "Data columns (total 9 columns):\n",
      " #   Column      Non-Null Count  Dtype         \n",
      "---  ------      --------------  -----         \n",
      " 0   month       6000 non-null   period[M]     \n",
      " 1   key         6000 non-null   int64         \n",
      " 2   user_id     6000 non-null   int64         \n",
      " 3   age         6000 non-null   int64         \n",
      " 4   reg_date    6000 non-null   datetime64[ns]\n",
      " 5   churn_date  456 non-null    period[M]     \n",
      " 6   city        6000 non-null   object        \n",
      " 7   tariff      6000 non-null   object        \n",
      " 8   year_month  6000 non-null   period[M]     \n",
      "dtypes: datetime64[ns](1), int64(3), object(2), period[M](3)\n",
      "memory usage: 468.8+ KB\n"
     ]
    }
   ],
   "source": [
    "df.info()"
   ]
  },
  {
   "cell_type": "markdown",
   "metadata": {},
   "source": [
    "Поменяем название столбца с месяцем подключения:"
   ]
  },
  {
   "cell_type": "code",
   "execution_count": 42,
   "metadata": {},
   "outputs": [],
   "source": [
    "df.drop(['reg_date'], axis=1, inplace=True)\n",
    "df.rename(columns={'year_month':'reg_month'}, inplace=True)"
   ]
  },
  {
   "cell_type": "code",
   "execution_count": 43,
   "metadata": {},
   "outputs": [
    {
     "data": {
      "text/html": [
       "<div>\n",
       "<style scoped>\n",
       "    .dataframe tbody tr th:only-of-type {\n",
       "        vertical-align: middle;\n",
       "    }\n",
       "\n",
       "    .dataframe tbody tr th {\n",
       "        vertical-align: top;\n",
       "    }\n",
       "\n",
       "    .dataframe thead th {\n",
       "        text-align: right;\n",
       "    }\n",
       "</style>\n",
       "<table border=\"1\" class=\"dataframe\">\n",
       "  <thead>\n",
       "    <tr style=\"text-align: right;\">\n",
       "      <th></th>\n",
       "      <th>month</th>\n",
       "      <th>key</th>\n",
       "      <th>user_id</th>\n",
       "      <th>age</th>\n",
       "      <th>churn_date</th>\n",
       "      <th>city</th>\n",
       "      <th>tariff</th>\n",
       "      <th>reg_month</th>\n",
       "    </tr>\n",
       "  </thead>\n",
       "  <tbody>\n",
       "    <tr>\n",
       "      <th>0</th>\n",
       "      <td>2018-01</td>\n",
       "      <td>1</td>\n",
       "      <td>1000</td>\n",
       "      <td>52</td>\n",
       "      <td>NaT</td>\n",
       "      <td>Краснодар</td>\n",
       "      <td>ultra</td>\n",
       "      <td>2018-05</td>\n",
       "    </tr>\n",
       "    <tr>\n",
       "      <th>1</th>\n",
       "      <td>2018-01</td>\n",
       "      <td>1</td>\n",
       "      <td>1001</td>\n",
       "      <td>41</td>\n",
       "      <td>NaT</td>\n",
       "      <td>Москва</td>\n",
       "      <td>smart</td>\n",
       "      <td>2018-11</td>\n",
       "    </tr>\n",
       "    <tr>\n",
       "      <th>2</th>\n",
       "      <td>2018-01</td>\n",
       "      <td>1</td>\n",
       "      <td>1002</td>\n",
       "      <td>59</td>\n",
       "      <td>NaT</td>\n",
       "      <td>Стерлитамак</td>\n",
       "      <td>smart</td>\n",
       "      <td>2018-06</td>\n",
       "    </tr>\n",
       "    <tr>\n",
       "      <th>3</th>\n",
       "      <td>2018-01</td>\n",
       "      <td>1</td>\n",
       "      <td>1003</td>\n",
       "      <td>23</td>\n",
       "      <td>NaT</td>\n",
       "      <td>Москва</td>\n",
       "      <td>ultra</td>\n",
       "      <td>2018-08</td>\n",
       "    </tr>\n",
       "    <tr>\n",
       "      <th>4</th>\n",
       "      <td>2018-01</td>\n",
       "      <td>1</td>\n",
       "      <td>1004</td>\n",
       "      <td>68</td>\n",
       "      <td>NaT</td>\n",
       "      <td>Новокузнецк</td>\n",
       "      <td>ultra</td>\n",
       "      <td>2018-05</td>\n",
       "    </tr>\n",
       "  </tbody>\n",
       "</table>\n",
       "</div>"
      ],
      "text/plain": [
       "     month  key  user_id  age churn_date         city tariff reg_month\n",
       "0  2018-01    1     1000   52        NaT    Краснодар  ultra   2018-05\n",
       "1  2018-01    1     1001   41        NaT       Москва  smart   2018-11\n",
       "2  2018-01    1     1002   59        NaT  Стерлитамак  smart   2018-06\n",
       "3  2018-01    1     1003   23        NaT       Москва  ultra   2018-08\n",
       "4  2018-01    1     1004   68        NaT  Новокузнецк  ultra   2018-05"
      ]
     },
     "execution_count": 43,
     "metadata": {},
     "output_type": "execute_result"
    }
   ],
   "source": [
    "df.head()"
   ]
  },
  {
   "cell_type": "markdown",
   "metadata": {},
   "source": [
    "Удалим строки с месяцами до месяца подключения пользователей:"
   ]
  },
  {
   "cell_type": "code",
   "execution_count": 44,
   "metadata": {},
   "outputs": [],
   "source": [
    "df = df.query('month >= reg_month')"
   ]
  },
  {
   "cell_type": "code",
   "execution_count": 45,
   "metadata": {},
   "outputs": [
    {
     "data": {
      "text/plain": [
       "3259"
      ]
     },
     "execution_count": 45,
     "metadata": {},
     "output_type": "execute_result"
    }
   ],
   "source": [
    "len(df)"
   ]
  },
  {
   "cell_type": "code",
   "execution_count": 46,
   "metadata": {
    "scrolled": true
   },
   "outputs": [
    {
     "data": {
      "text/plain": [
       "43"
      ]
     },
     "execution_count": 46,
     "metadata": {},
     "output_type": "execute_result"
    }
   ],
   "source": [
    "len(df.query('month > churn_date'))"
   ]
  },
  {
   "cell_type": "markdown",
   "metadata": {},
   "source": [
    "и строки с месяцами после прекращения пользования тарифом"
   ]
  },
  {
   "cell_type": "code",
   "execution_count": 47,
   "metadata": {},
   "outputs": [],
   "source": [
    "df = df.query('month <= churn_date or churn_date.isna()')"
   ]
  },
  {
   "cell_type": "code",
   "execution_count": 48,
   "metadata": {},
   "outputs": [
    {
     "data": {
      "text/plain": [
       "3216"
      ]
     },
     "execution_count": 48,
     "metadata": {},
     "output_type": "execute_result"
    }
   ],
   "source": [
    "len(df)"
   ]
  },
  {
   "cell_type": "markdown",
   "metadata": {},
   "source": [
    "Посмотрим как выглядит наша таблица по определенным пользователям:"
   ]
  },
  {
   "cell_type": "code",
   "execution_count": 49,
   "metadata": {},
   "outputs": [
    {
     "data": {
      "text/html": [
       "<div>\n",
       "<style scoped>\n",
       "    .dataframe tbody tr th:only-of-type {\n",
       "        vertical-align: middle;\n",
       "    }\n",
       "\n",
       "    .dataframe tbody tr th {\n",
       "        vertical-align: top;\n",
       "    }\n",
       "\n",
       "    .dataframe thead th {\n",
       "        text-align: right;\n",
       "    }\n",
       "</style>\n",
       "<table border=\"1\" class=\"dataframe\">\n",
       "  <thead>\n",
       "    <tr style=\"text-align: right;\">\n",
       "      <th></th>\n",
       "      <th>month</th>\n",
       "      <th>key</th>\n",
       "      <th>user_id</th>\n",
       "      <th>age</th>\n",
       "      <th>churn_date</th>\n",
       "      <th>city</th>\n",
       "      <th>tariff</th>\n",
       "      <th>reg_month</th>\n",
       "    </tr>\n",
       "  </thead>\n",
       "  <tbody>\n",
       "  </tbody>\n",
       "</table>\n",
       "</div>"
      ],
      "text/plain": [
       "Empty DataFrame\n",
       "Columns: [month, key, user_id, age, churn_date, city, tariff, reg_month]\n",
       "Index: []"
      ]
     },
     "execution_count": 49,
     "metadata": {},
     "output_type": "execute_result"
    }
   ],
   "source": [
    "df.query('user_id == \"1000\"')"
   ]
  },
  {
   "cell_type": "code",
   "execution_count": 50,
   "metadata": {},
   "outputs": [
    {
     "data": {
      "text/html": [
       "<div>\n",
       "<style scoped>\n",
       "    .dataframe tbody tr th:only-of-type {\n",
       "        vertical-align: middle;\n",
       "    }\n",
       "\n",
       "    .dataframe tbody tr th {\n",
       "        vertical-align: top;\n",
       "    }\n",
       "\n",
       "    .dataframe thead th {\n",
       "        text-align: right;\n",
       "    }\n",
       "</style>\n",
       "<table border=\"1\" class=\"dataframe\">\n",
       "  <thead>\n",
       "    <tr style=\"text-align: right;\">\n",
       "      <th></th>\n",
       "      <th>month</th>\n",
       "      <th>key</th>\n",
       "      <th>user_id</th>\n",
       "      <th>age</th>\n",
       "      <th>churn_date</th>\n",
       "      <th>city</th>\n",
       "      <th>tariff</th>\n",
       "      <th>reg_month</th>\n",
       "    </tr>\n",
       "  </thead>\n",
       "  <tbody>\n",
       "  </tbody>\n",
       "</table>\n",
       "</div>"
      ],
      "text/plain": [
       "Empty DataFrame\n",
       "Columns: [month, key, user_id, age, churn_date, city, tariff, reg_month]\n",
       "Index: []"
      ]
     },
     "execution_count": 50,
     "metadata": {},
     "output_type": "execute_result"
    }
   ],
   "source": [
    "df.query('user_id == \"1251\"')"
   ]
  },
  {
   "cell_type": "markdown",
   "metadata": {},
   "source": [
    "**Группировка таблиц с видами услуг по пользователям и месяцам**\n",
    "\n",
    "Сгруппируем таблицы по пользователям и месяцам, что позволит нам объединить данные в одну таблицу и посчитать кол-во сделанных звонков, израсходованных минут, отправленных сообщений и объем израсходованного интернет-трафика по месяцам."
   ]
  },
  {
   "cell_type": "code",
   "execution_count": 51,
   "metadata": {},
   "outputs": [
    {
     "name": "stdout",
     "output_type": "stream",
     "text": [
      "Сумма по группируемому столбцу ДО группировки 1450301\n",
      "Сумма по группируемому столбцу ПОСЛЕ группировки 1450301\n"
     ]
    }
   ],
   "source": [
    "calls_pt = calls.pivot_table(index=['user_id', 'year_month'], values='duration', aggfunc = ['sum', 'count']).reset_index()\n",
    "calls_pt.columns = ['user_id', 'month', 'min_per_month', 'count_calls_per_month']\n",
    "\n",
    "print('Сумма по группируемому столбцу ДО группировки', calls['duration'].sum())\n",
    "print('Сумма по группируемому столбцу ПОСЛЕ группировки', calls_pt['min_per_month'].sum())"
   ]
  },
  {
   "cell_type": "markdown",
   "metadata": {},
   "source": [
    "Повторим тоже самое для смс и интернета. "
   ]
  },
  {
   "cell_type": "code",
   "execution_count": 52,
   "metadata": {},
   "outputs": [
    {
     "name": "stdout",
     "output_type": "stream",
     "text": [
      "Сумма по группируемому столбцу ДО группировки 123036\n",
      "Сумма по группируемому столбцу ПОСЛЕ группировки 123036\n"
     ]
    }
   ],
   "source": [
    "messages_pt = messages.pivot_table(index=['user_id', 'year_month'], values='id', aggfunc='count').reset_index()\n",
    "messages_pt.columns = ['user_id', 'month', 'sms_per_month']\n",
    "\n",
    "print('Сумма по группируемому столбцу ДО группировки', messages['id'].count())\n",
    "print('Сумма по группируемому столбцу ПОСЛЕ группировки', messages_pt['sms_per_month'].sum())"
   ]
  },
  {
   "cell_type": "code",
   "execution_count": 53,
   "metadata": {},
   "outputs": [
    {
     "name": "stdout",
     "output_type": "stream",
     "text": [
      "Сумма по группируемому столбцу ДО группировки 55369459\n",
      "Сумма по группируемому столбцу ПОСЛЕ группировки 55369459\n"
     ]
    }
   ],
   "source": [
    "internet_pt = internet.pivot_table(index=['user_id', 'year_month'], values='mb_used', aggfunc='sum').reset_index()\n",
    "internet_pt.columns = ['user_id', 'month', 'mb_per_month']\n",
    "\n",
    "print('Сумма по группируемому столбцу ДО группировки', internet['mb_used'].sum())\n",
    "print('Сумма по группируемому столбцу ПОСЛЕ группировки', internet_pt['mb_per_month'].sum())"
   ]
  },
  {
   "cell_type": "markdown",
   "metadata": {},
   "source": [
    "**Объединение таблиц с видами услуг по пользователям и месяцам**\n",
    "\n",
    "Объединяем сгруппированные таблицы по звонкам, смс и трафику в интернете."
   ]
  },
  {
   "cell_type": "code",
   "execution_count": 54,
   "metadata": {},
   "outputs": [
    {
     "name": "stdout",
     "output_type": "stream",
     "text": [
      "Сумма ДО 1450301\n",
      "Сумма ПОСЛЕ 1450301.0\n"
     ]
    }
   ],
   "source": [
    "df = df.merge(calls_pt, on=['user_id', 'month'], how='left')\n",
    "\n",
    "print('Сумма ДО', calls_pt['min_per_month'].sum())\n",
    "print('Сумма ПОСЛЕ', df['min_per_month'].sum())"
   ]
  },
  {
   "cell_type": "code",
   "execution_count": 55,
   "metadata": {},
   "outputs": [
    {
     "name": "stdout",
     "output_type": "stream",
     "text": [
      "Сумма ДО 123036\n",
      "Сумма ПОСЛЕ 123036.0\n"
     ]
    }
   ],
   "source": [
    "df = df.merge(messages_pt, on=['user_id', 'month'], how='left')\n",
    "\n",
    "print('Сумма ДО', messages_pt['sms_per_month'].sum())\n",
    "print('Сумма ПОСЛЕ', df['sms_per_month'].sum())"
   ]
  },
  {
   "cell_type": "code",
   "execution_count": 56,
   "metadata": {},
   "outputs": [
    {
     "name": "stdout",
     "output_type": "stream",
     "text": [
      "Сумма ДО 55369459\n",
      "Сумма ПОСЛЕ 55369459.0\n"
     ]
    }
   ],
   "source": [
    "df = df.merge(internet_pt, on=['user_id', 'month'], how='left')\n",
    "\n",
    "print('Сумма ДО', internet_pt['mb_per_month'].sum())\n",
    "print('Сумма ПОСЛЕ', df['mb_per_month'].sum())"
   ]
  },
  {
   "cell_type": "markdown",
   "metadata": {},
   "source": [
    "Посмотрим на результат объединения: "
   ]
  },
  {
   "cell_type": "code",
   "execution_count": 57,
   "metadata": {
    "scrolled": false
   },
   "outputs": [
    {
     "name": "stdout",
     "output_type": "stream",
     "text": [
      "<class 'pandas.core.frame.DataFrame'>\n",
      "Int64Index: 3216 entries, 0 to 3215\n",
      "Data columns (total 12 columns):\n",
      " #   Column                 Non-Null Count  Dtype    \n",
      "---  ------                 --------------  -----    \n",
      " 0   month                  3216 non-null   period[M]\n",
      " 1   key                    3216 non-null   int64    \n",
      " 2   user_id                3216 non-null   int64    \n",
      " 3   age                    3216 non-null   int64    \n",
      " 4   churn_date             189 non-null    period[M]\n",
      " 5   city                   3216 non-null   object   \n",
      " 6   tariff                 3216 non-null   object   \n",
      " 7   reg_month              3216 non-null   period[M]\n",
      " 8   min_per_month          3168 non-null   float64  \n",
      " 9   count_calls_per_month  3168 non-null   float64  \n",
      " 10  sms_per_month          2717 non-null   float64  \n",
      " 11  mb_per_month           3201 non-null   float64  \n",
      "dtypes: float64(4), int64(3), object(2), period[M](3)\n",
      "memory usage: 326.6+ KB\n"
     ]
    }
   ],
   "source": [
    "df.info()"
   ]
  },
  {
   "cell_type": "code",
   "execution_count": 58,
   "metadata": {},
   "outputs": [
    {
     "data": {
      "text/html": [
       "<div>\n",
       "<style scoped>\n",
       "    .dataframe tbody tr th:only-of-type {\n",
       "        vertical-align: middle;\n",
       "    }\n",
       "\n",
       "    .dataframe tbody tr th {\n",
       "        vertical-align: top;\n",
       "    }\n",
       "\n",
       "    .dataframe thead th {\n",
       "        text-align: right;\n",
       "    }\n",
       "</style>\n",
       "<table border=\"1\" class=\"dataframe\">\n",
       "  <thead>\n",
       "    <tr style=\"text-align: right;\">\n",
       "      <th></th>\n",
       "      <th>month</th>\n",
       "      <th>key</th>\n",
       "      <th>user_id</th>\n",
       "      <th>age</th>\n",
       "      <th>churn_date</th>\n",
       "      <th>city</th>\n",
       "      <th>tariff</th>\n",
       "      <th>reg_month</th>\n",
       "      <th>min_per_month</th>\n",
       "      <th>count_calls_per_month</th>\n",
       "      <th>sms_per_month</th>\n",
       "      <th>mb_per_month</th>\n",
       "    </tr>\n",
       "  </thead>\n",
       "  <tbody>\n",
       "  </tbody>\n",
       "</table>\n",
       "</div>"
      ],
      "text/plain": [
       "Empty DataFrame\n",
       "Columns: [month, key, user_id, age, churn_date, city, tariff, reg_month, min_per_month, count_calls_per_month, sms_per_month, mb_per_month]\n",
       "Index: []"
      ]
     },
     "execution_count": 58,
     "metadata": {},
     "output_type": "execute_result"
    }
   ],
   "source": [
    "df.query('user_id == \"1251\"')"
   ]
  },
  {
   "cell_type": "markdown",
   "metadata": {},
   "source": [
    "Проверим есть ли строки, где нет данных по минутам, смс и трафику"
   ]
  },
  {
   "cell_type": "code",
   "execution_count": 59,
   "metadata": {
    "scrolled": true
   },
   "outputs": [
    {
     "data": {
      "text/html": [
       "<div>\n",
       "<style scoped>\n",
       "    .dataframe tbody tr th:only-of-type {\n",
       "        vertical-align: middle;\n",
       "    }\n",
       "\n",
       "    .dataframe tbody tr th {\n",
       "        vertical-align: top;\n",
       "    }\n",
       "\n",
       "    .dataframe thead th {\n",
       "        text-align: right;\n",
       "    }\n",
       "</style>\n",
       "<table border=\"1\" class=\"dataframe\">\n",
       "  <thead>\n",
       "    <tr style=\"text-align: right;\">\n",
       "      <th></th>\n",
       "      <th>month</th>\n",
       "      <th>key</th>\n",
       "      <th>user_id</th>\n",
       "      <th>age</th>\n",
       "      <th>churn_date</th>\n",
       "      <th>city</th>\n",
       "      <th>tariff</th>\n",
       "      <th>reg_month</th>\n",
       "      <th>min_per_month</th>\n",
       "      <th>count_calls_per_month</th>\n",
       "      <th>sms_per_month</th>\n",
       "      <th>mb_per_month</th>\n",
       "    </tr>\n",
       "  </thead>\n",
       "  <tbody>\n",
       "    <tr>\n",
       "      <th>2860</th>\n",
       "      <td>2018-12</td>\n",
       "      <td>1</td>\n",
       "      <td>1128</td>\n",
       "      <td>51</td>\n",
       "      <td>2018-12</td>\n",
       "      <td>Волжский</td>\n",
       "      <td>ultra</td>\n",
       "      <td>2018-12</td>\n",
       "      <td>NaN</td>\n",
       "      <td>NaN</td>\n",
       "      <td>NaN</td>\n",
       "      <td>NaN</td>\n",
       "    </tr>\n",
       "    <tr>\n",
       "      <th>3090</th>\n",
       "      <td>2018-12</td>\n",
       "      <td>1</td>\n",
       "      <td>1371</td>\n",
       "      <td>50</td>\n",
       "      <td>2018-12</td>\n",
       "      <td>Омск</td>\n",
       "      <td>smart</td>\n",
       "      <td>2018-12</td>\n",
       "      <td>NaN</td>\n",
       "      <td>NaN</td>\n",
       "      <td>NaN</td>\n",
       "      <td>NaN</td>\n",
       "    </tr>\n",
       "  </tbody>\n",
       "</table>\n",
       "</div>"
      ],
      "text/plain": [
       "        month  key  user_id  age churn_date      city tariff reg_month  \\\n",
       "2860  2018-12    1     1128   51    2018-12  Волжский  ultra   2018-12   \n",
       "3090  2018-12    1     1371   50    2018-12      Омск  smart   2018-12   \n",
       "\n",
       "      min_per_month  count_calls_per_month  sms_per_month  mb_per_month  \n",
       "2860            NaN                    NaN            NaN           NaN  \n",
       "3090            NaN                    NaN            NaN           NaN  "
      ]
     },
     "execution_count": 59,
     "metadata": {},
     "output_type": "execute_result"
    }
   ],
   "source": [
    "df.query('min_per_month.isna() and sms_per_month.isna() and mb_per_month.isna()')"
   ]
  },
  {
   "cell_type": "markdown",
   "metadata": {},
   "source": [
    "Удалять данные строки не будем, т.к. абонентская плата по тарифу за месяц подключения всё равно должна была быть начислена. "
   ]
  },
  {
   "cell_type": "markdown",
   "metadata": {},
   "source": [
    "### Расчет месячной выручки с каждого пользователя <a id=\"3_8\"></a>"
   ]
  },
  {
   "cell_type": "markdown",
   "metadata": {},
   "source": [
    "Добавим данные по тарифам."
   ]
  },
  {
   "cell_type": "code",
   "execution_count": 60,
   "metadata": {},
   "outputs": [],
   "source": [
    "df = df.merge(tariffs, left_on='tariff', right_on='tariff_name', how='outer')"
   ]
  },
  {
   "cell_type": "code",
   "execution_count": 61,
   "metadata": {},
   "outputs": [
    {
     "data": {
      "text/html": [
       "<div>\n",
       "<style scoped>\n",
       "    .dataframe tbody tr th:only-of-type {\n",
       "        vertical-align: middle;\n",
       "    }\n",
       "\n",
       "    .dataframe tbody tr th {\n",
       "        vertical-align: top;\n",
       "    }\n",
       "\n",
       "    .dataframe thead th {\n",
       "        text-align: right;\n",
       "    }\n",
       "</style>\n",
       "<table border=\"1\" class=\"dataframe\">\n",
       "  <thead>\n",
       "    <tr style=\"text-align: right;\">\n",
       "      <th></th>\n",
       "      <th>month</th>\n",
       "      <th>key</th>\n",
       "      <th>user_id</th>\n",
       "      <th>age</th>\n",
       "      <th>churn_date</th>\n",
       "      <th>city</th>\n",
       "      <th>tariff</th>\n",
       "      <th>reg_month</th>\n",
       "      <th>min_per_month</th>\n",
       "      <th>count_calls_per_month</th>\n",
       "      <th>sms_per_month</th>\n",
       "      <th>mb_per_month</th>\n",
       "      <th>messages_included</th>\n",
       "      <th>mb_per_month_included</th>\n",
       "      <th>minutes_included</th>\n",
       "      <th>rub_monthly_fee</th>\n",
       "      <th>rub_per_gb</th>\n",
       "      <th>rub_per_message</th>\n",
       "      <th>rub_per_minute</th>\n",
       "      <th>tariff_name</th>\n",
       "    </tr>\n",
       "  </thead>\n",
       "  <tbody>\n",
       "    <tr>\n",
       "      <th>0</th>\n",
       "      <td>2018-01</td>\n",
       "      <td>1</td>\n",
       "      <td>1005</td>\n",
       "      <td>67</td>\n",
       "      <td>NaT</td>\n",
       "      <td>Набережные Челны</td>\n",
       "      <td>smart</td>\n",
       "      <td>2018-01</td>\n",
       "      <td>95.0</td>\n",
       "      <td>11.0</td>\n",
       "      <td>7.0</td>\n",
       "      <td>2730.0</td>\n",
       "      <td>50</td>\n",
       "      <td>15360</td>\n",
       "      <td>500</td>\n",
       "      <td>550</td>\n",
       "      <td>200</td>\n",
       "      <td>3</td>\n",
       "      <td>3</td>\n",
       "      <td>smart</td>\n",
       "    </tr>\n",
       "    <tr>\n",
       "      <th>1</th>\n",
       "      <td>2018-01</td>\n",
       "      <td>1</td>\n",
       "      <td>1032</td>\n",
       "      <td>31</td>\n",
       "      <td>NaT</td>\n",
       "      <td>Ульяновск</td>\n",
       "      <td>smart</td>\n",
       "      <td>2018-01</td>\n",
       "      <td>380.0</td>\n",
       "      <td>44.0</td>\n",
       "      <td>38.0</td>\n",
       "      <td>24147.0</td>\n",
       "      <td>50</td>\n",
       "      <td>15360</td>\n",
       "      <td>500</td>\n",
       "      <td>550</td>\n",
       "      <td>200</td>\n",
       "      <td>3</td>\n",
       "      <td>3</td>\n",
       "      <td>smart</td>\n",
       "    </tr>\n",
       "    <tr>\n",
       "      <th>2</th>\n",
       "      <td>2018-01</td>\n",
       "      <td>1</td>\n",
       "      <td>1045</td>\n",
       "      <td>48</td>\n",
       "      <td>NaT</td>\n",
       "      <td>Улан-Удэ</td>\n",
       "      <td>smart</td>\n",
       "      <td>2018-01</td>\n",
       "      <td>9.0</td>\n",
       "      <td>1.0</td>\n",
       "      <td>5.0</td>\n",
       "      <td>2348.0</td>\n",
       "      <td>50</td>\n",
       "      <td>15360</td>\n",
       "      <td>500</td>\n",
       "      <td>550</td>\n",
       "      <td>200</td>\n",
       "      <td>3</td>\n",
       "      <td>3</td>\n",
       "      <td>smart</td>\n",
       "    </tr>\n",
       "    <tr>\n",
       "      <th>3</th>\n",
       "      <td>2018-01</td>\n",
       "      <td>1</td>\n",
       "      <td>1055</td>\n",
       "      <td>39</td>\n",
       "      <td>NaT</td>\n",
       "      <td>Казань</td>\n",
       "      <td>smart</td>\n",
       "      <td>2018-01</td>\n",
       "      <td>551.0</td>\n",
       "      <td>47.0</td>\n",
       "      <td>30.0</td>\n",
       "      <td>17111.0</td>\n",
       "      <td>50</td>\n",
       "      <td>15360</td>\n",
       "      <td>500</td>\n",
       "      <td>550</td>\n",
       "      <td>200</td>\n",
       "      <td>3</td>\n",
       "      <td>3</td>\n",
       "      <td>smart</td>\n",
       "    </tr>\n",
       "    <tr>\n",
       "      <th>4</th>\n",
       "      <td>2018-01</td>\n",
       "      <td>1</td>\n",
       "      <td>1071</td>\n",
       "      <td>20</td>\n",
       "      <td>2018-08</td>\n",
       "      <td>Омск</td>\n",
       "      <td>smart</td>\n",
       "      <td>2018-01</td>\n",
       "      <td>194.0</td>\n",
       "      <td>18.0</td>\n",
       "      <td>16.0</td>\n",
       "      <td>15622.0</td>\n",
       "      <td>50</td>\n",
       "      <td>15360</td>\n",
       "      <td>500</td>\n",
       "      <td>550</td>\n",
       "      <td>200</td>\n",
       "      <td>3</td>\n",
       "      <td>3</td>\n",
       "      <td>smart</td>\n",
       "    </tr>\n",
       "  </tbody>\n",
       "</table>\n",
       "</div>"
      ],
      "text/plain": [
       "     month  key  user_id  age churn_date              city tariff reg_month  \\\n",
       "0  2018-01    1     1005   67        NaT  Набережные Челны  smart   2018-01   \n",
       "1  2018-01    1     1032   31        NaT         Ульяновск  smart   2018-01   \n",
       "2  2018-01    1     1045   48        NaT          Улан-Удэ  smart   2018-01   \n",
       "3  2018-01    1     1055   39        NaT            Казань  smart   2018-01   \n",
       "4  2018-01    1     1071   20    2018-08              Омск  smart   2018-01   \n",
       "\n",
       "   min_per_month  count_calls_per_month  sms_per_month  mb_per_month  \\\n",
       "0           95.0                   11.0            7.0        2730.0   \n",
       "1          380.0                   44.0           38.0       24147.0   \n",
       "2            9.0                    1.0            5.0        2348.0   \n",
       "3          551.0                   47.0           30.0       17111.0   \n",
       "4          194.0                   18.0           16.0       15622.0   \n",
       "\n",
       "   messages_included  mb_per_month_included  minutes_included  \\\n",
       "0                 50                  15360               500   \n",
       "1                 50                  15360               500   \n",
       "2                 50                  15360               500   \n",
       "3                 50                  15360               500   \n",
       "4                 50                  15360               500   \n",
       "\n",
       "   rub_monthly_fee  rub_per_gb  rub_per_message  rub_per_minute tariff_name  \n",
       "0              550         200                3               3       smart  \n",
       "1              550         200                3               3       smart  \n",
       "2              550         200                3               3       smart  \n",
       "3              550         200                3               3       smart  \n",
       "4              550         200                3               3       smart  "
      ]
     },
     "execution_count": 61,
     "metadata": {},
     "output_type": "execute_result"
    }
   ],
   "source": [
    "df.head()"
   ]
  },
  {
   "cell_type": "code",
   "execution_count": 62,
   "metadata": {},
   "outputs": [
    {
     "name": "stdout",
     "output_type": "stream",
     "text": [
      "<class 'pandas.core.frame.DataFrame'>\n",
      "Int64Index: 3216 entries, 0 to 3215\n",
      "Data columns (total 20 columns):\n",
      " #   Column                 Non-Null Count  Dtype    \n",
      "---  ------                 --------------  -----    \n",
      " 0   month                  3216 non-null   period[M]\n",
      " 1   key                    3216 non-null   int64    \n",
      " 2   user_id                3216 non-null   int64    \n",
      " 3   age                    3216 non-null   int64    \n",
      " 4   churn_date             189 non-null    period[M]\n",
      " 5   city                   3216 non-null   object   \n",
      " 6   tariff                 3216 non-null   object   \n",
      " 7   reg_month              3216 non-null   period[M]\n",
      " 8   min_per_month          3168 non-null   float64  \n",
      " 9   count_calls_per_month  3168 non-null   float64  \n",
      " 10  sms_per_month          2717 non-null   float64  \n",
      " 11  mb_per_month           3201 non-null   float64  \n",
      " 12  messages_included      3216 non-null   int64    \n",
      " 13  mb_per_month_included  3216 non-null   int64    \n",
      " 14  minutes_included       3216 non-null   int64    \n",
      " 15  rub_monthly_fee        3216 non-null   int64    \n",
      " 16  rub_per_gb             3216 non-null   int64    \n",
      " 17  rub_per_message        3216 non-null   int64    \n",
      " 18  rub_per_minute         3216 non-null   int64    \n",
      " 19  tariff_name            3216 non-null   object   \n",
      "dtypes: float64(4), int64(10), object(3), period[M](3)\n",
      "memory usage: 527.6+ KB\n"
     ]
    }
   ],
   "source": [
    "df.info()"
   ]
  },
  {
   "cell_type": "markdown",
   "metadata": {},
   "source": [
    "В результате объединения таблиц появились дублирующиеся столбцы, которые не нужны нам для анализа и пропуски в столбцах с данными о потраченных минутах, Мб и смс. Пропуски появились обосновано и ожидаемо, не все абоненты используют все три способа связи, поэтому заменим NaN'ы на нули.\n",
    "Так же приведем типа данных к подходящему виду."
   ]
  },
  {
   "cell_type": "code",
   "execution_count": 63,
   "metadata": {},
   "outputs": [],
   "source": [
    "#удаление лишних столбцов\n",
    "df.drop('tariff_name', axis=1, inplace=True)"
   ]
  },
  {
   "cell_type": "code",
   "execution_count": 64,
   "metadata": {},
   "outputs": [],
   "source": [
    "#заполнение пропусков\n",
    "df[['min_per_month', 'count_calls_per_month', 'sms_per_month', 'mb_per_month']] = (\n",
    "    df[['min_per_month', 'count_calls_per_month', 'sms_per_month', 'mb_per_month']].fillna(0))"
   ]
  },
  {
   "cell_type": "code",
   "execution_count": 65,
   "metadata": {},
   "outputs": [],
   "source": [
    "#float to int\n",
    "df['min_per_month'] = df['min_per_month'].astype('int')\n",
    "df['count_calls_per_month'] = df['count_calls_per_month'].astype('int')\n",
    "df['sms_per_month'] = df['sms_per_month'].astype('int')\n",
    "df['mb_per_month'] = df['mb_per_month'].astype('int')"
   ]
  },
  {
   "cell_type": "markdown",
   "metadata": {},
   "source": [
    "Рассчитаем помесячную выручку с каждого пользователя (вычтем бесплатный лимит из суммарного количества звонков, сообщений и интернет-трафика; остаток умножим на значение из тарифного плана; прибавим абонентскую плату, соответствующую тарифному плану)."
   ]
  },
  {
   "cell_type": "code",
   "execution_count": 66,
   "metadata": {},
   "outputs": [],
   "source": [
    "#фунция для расчета выручки\n",
    "\n",
    "def billing(row):\n",
    "    rub_monthly_fee = row['rub_monthly_fee']\n",
    "    min_per_month = row['min_per_month']\n",
    "    minutes_included = row['minutes_included']\n",
    "    rub_per_minute = row['rub_per_minute']\n",
    "    sms_per_month = row['sms_per_month']\n",
    "    messages_included = row['messages_included']\n",
    "    rub_per_message = row['rub_per_message']\n",
    "    mb_per_month = row['mb_per_month']\n",
    "    mb_per_month_included = row['mb_per_month_included']\n",
    "    rub_per_gb = row['rub_per_gb']\n",
    "        \n",
    "    cost = rub_monthly_fee \n",
    "        \n",
    "    #minutes\n",
    "    if (min_per_month - minutes_included)> 0:\n",
    "        cost += (min_per_month - minutes_included) * rub_per_minute \n",
    "    else:\n",
    "        cost += 0\n",
    "    \n",
    "    #messages\n",
    "    if (sms_per_month - messages_included) > 0:\n",
    "        cost += (sms_per_month - messages_included) * rub_per_message\n",
    "    else:\n",
    "        cost += 0\n",
    "        \n",
    "    #traffic\n",
    "    if (mb_per_month - mb_per_month_included) > 0:\n",
    "        cost += (np.ceil(((mb_per_month - mb_per_month_included)/1024) * rub_per_gb))\n",
    "    else:\n",
    "        cost += 0     \n",
    "        \n",
    "    return cost"
   ]
  },
  {
   "cell_type": "code",
   "execution_count": 67,
   "metadata": {},
   "outputs": [],
   "source": [
    "df['billing_cost'] = df.apply(billing, axis=1)"
   ]
  },
  {
   "cell_type": "code",
   "execution_count": 68,
   "metadata": {},
   "outputs": [
    {
     "data": {
      "text/html": [
       "<div>\n",
       "<style scoped>\n",
       "    .dataframe tbody tr th:only-of-type {\n",
       "        vertical-align: middle;\n",
       "    }\n",
       "\n",
       "    .dataframe tbody tr th {\n",
       "        vertical-align: top;\n",
       "    }\n",
       "\n",
       "    .dataframe thead th {\n",
       "        text-align: right;\n",
       "    }\n",
       "</style>\n",
       "<table border=\"1\" class=\"dataframe\">\n",
       "  <thead>\n",
       "    <tr style=\"text-align: right;\">\n",
       "      <th></th>\n",
       "      <th>month</th>\n",
       "      <th>key</th>\n",
       "      <th>user_id</th>\n",
       "      <th>age</th>\n",
       "      <th>churn_date</th>\n",
       "      <th>city</th>\n",
       "      <th>tariff</th>\n",
       "      <th>reg_month</th>\n",
       "      <th>min_per_month</th>\n",
       "      <th>count_calls_per_month</th>\n",
       "      <th>sms_per_month</th>\n",
       "      <th>mb_per_month</th>\n",
       "      <th>messages_included</th>\n",
       "      <th>mb_per_month_included</th>\n",
       "      <th>minutes_included</th>\n",
       "      <th>rub_monthly_fee</th>\n",
       "      <th>rub_per_gb</th>\n",
       "      <th>rub_per_message</th>\n",
       "      <th>rub_per_minute</th>\n",
       "      <th>billing_cost</th>\n",
       "    </tr>\n",
       "  </thead>\n",
       "  <tbody>\n",
       "    <tr>\n",
       "      <th>0</th>\n",
       "      <td>2018-01</td>\n",
       "      <td>1</td>\n",
       "      <td>1005</td>\n",
       "      <td>67</td>\n",
       "      <td>NaT</td>\n",
       "      <td>Набережные Челны</td>\n",
       "      <td>smart</td>\n",
       "      <td>2018-01</td>\n",
       "      <td>95</td>\n",
       "      <td>11</td>\n",
       "      <td>7</td>\n",
       "      <td>2730</td>\n",
       "      <td>50</td>\n",
       "      <td>15360</td>\n",
       "      <td>500</td>\n",
       "      <td>550</td>\n",
       "      <td>200</td>\n",
       "      <td>3</td>\n",
       "      <td>3</td>\n",
       "      <td>550.0</td>\n",
       "    </tr>\n",
       "    <tr>\n",
       "      <th>1</th>\n",
       "      <td>2018-01</td>\n",
       "      <td>1</td>\n",
       "      <td>1032</td>\n",
       "      <td>31</td>\n",
       "      <td>NaT</td>\n",
       "      <td>Ульяновск</td>\n",
       "      <td>smart</td>\n",
       "      <td>2018-01</td>\n",
       "      <td>380</td>\n",
       "      <td>44</td>\n",
       "      <td>38</td>\n",
       "      <td>24147</td>\n",
       "      <td>50</td>\n",
       "      <td>15360</td>\n",
       "      <td>500</td>\n",
       "      <td>550</td>\n",
       "      <td>200</td>\n",
       "      <td>3</td>\n",
       "      <td>3</td>\n",
       "      <td>2267.0</td>\n",
       "    </tr>\n",
       "    <tr>\n",
       "      <th>2</th>\n",
       "      <td>2018-01</td>\n",
       "      <td>1</td>\n",
       "      <td>1045</td>\n",
       "      <td>48</td>\n",
       "      <td>NaT</td>\n",
       "      <td>Улан-Удэ</td>\n",
       "      <td>smart</td>\n",
       "      <td>2018-01</td>\n",
       "      <td>9</td>\n",
       "      <td>1</td>\n",
       "      <td>5</td>\n",
       "      <td>2348</td>\n",
       "      <td>50</td>\n",
       "      <td>15360</td>\n",
       "      <td>500</td>\n",
       "      <td>550</td>\n",
       "      <td>200</td>\n",
       "      <td>3</td>\n",
       "      <td>3</td>\n",
       "      <td>550.0</td>\n",
       "    </tr>\n",
       "    <tr>\n",
       "      <th>3</th>\n",
       "      <td>2018-01</td>\n",
       "      <td>1</td>\n",
       "      <td>1055</td>\n",
       "      <td>39</td>\n",
       "      <td>NaT</td>\n",
       "      <td>Казань</td>\n",
       "      <td>smart</td>\n",
       "      <td>2018-01</td>\n",
       "      <td>551</td>\n",
       "      <td>47</td>\n",
       "      <td>30</td>\n",
       "      <td>17111</td>\n",
       "      <td>50</td>\n",
       "      <td>15360</td>\n",
       "      <td>500</td>\n",
       "      <td>550</td>\n",
       "      <td>200</td>\n",
       "      <td>3</td>\n",
       "      <td>3</td>\n",
       "      <td>1045.0</td>\n",
       "    </tr>\n",
       "    <tr>\n",
       "      <th>4</th>\n",
       "      <td>2018-01</td>\n",
       "      <td>1</td>\n",
       "      <td>1071</td>\n",
       "      <td>20</td>\n",
       "      <td>2018-08</td>\n",
       "      <td>Омск</td>\n",
       "      <td>smart</td>\n",
       "      <td>2018-01</td>\n",
       "      <td>194</td>\n",
       "      <td>18</td>\n",
       "      <td>16</td>\n",
       "      <td>15622</td>\n",
       "      <td>50</td>\n",
       "      <td>15360</td>\n",
       "      <td>500</td>\n",
       "      <td>550</td>\n",
       "      <td>200</td>\n",
       "      <td>3</td>\n",
       "      <td>3</td>\n",
       "      <td>602.0</td>\n",
       "    </tr>\n",
       "  </tbody>\n",
       "</table>\n",
       "</div>"
      ],
      "text/plain": [
       "     month  key  user_id  age churn_date              city tariff reg_month  \\\n",
       "0  2018-01    1     1005   67        NaT  Набережные Челны  smart   2018-01   \n",
       "1  2018-01    1     1032   31        NaT         Ульяновск  smart   2018-01   \n",
       "2  2018-01    1     1045   48        NaT          Улан-Удэ  smart   2018-01   \n",
       "3  2018-01    1     1055   39        NaT            Казань  smart   2018-01   \n",
       "4  2018-01    1     1071   20    2018-08              Омск  smart   2018-01   \n",
       "\n",
       "   min_per_month  count_calls_per_month  sms_per_month  mb_per_month  \\\n",
       "0             95                     11              7          2730   \n",
       "1            380                     44             38         24147   \n",
       "2              9                      1              5          2348   \n",
       "3            551                     47             30         17111   \n",
       "4            194                     18             16         15622   \n",
       "\n",
       "   messages_included  mb_per_month_included  minutes_included  \\\n",
       "0                 50                  15360               500   \n",
       "1                 50                  15360               500   \n",
       "2                 50                  15360               500   \n",
       "3                 50                  15360               500   \n",
       "4                 50                  15360               500   \n",
       "\n",
       "   rub_monthly_fee  rub_per_gb  rub_per_message  rub_per_minute  billing_cost  \n",
       "0              550         200                3               3         550.0  \n",
       "1              550         200                3               3        2267.0  \n",
       "2              550         200                3               3         550.0  \n",
       "3              550         200                3               3        1045.0  \n",
       "4              550         200                3               3         602.0  "
      ]
     },
     "execution_count": 68,
     "metadata": {},
     "output_type": "execute_result"
    }
   ],
   "source": [
    "df.head()"
   ]
  },
  {
   "cell_type": "code",
   "execution_count": 69,
   "metadata": {},
   "outputs": [
    {
     "data": {
      "text/html": [
       "<div>\n",
       "<style scoped>\n",
       "    .dataframe tbody tr th:only-of-type {\n",
       "        vertical-align: middle;\n",
       "    }\n",
       "\n",
       "    .dataframe tbody tr th {\n",
       "        vertical-align: top;\n",
       "    }\n",
       "\n",
       "    .dataframe thead th {\n",
       "        text-align: right;\n",
       "    }\n",
       "</style>\n",
       "<table border=\"1\" class=\"dataframe\">\n",
       "  <thead>\n",
       "    <tr style=\"text-align: right;\">\n",
       "      <th></th>\n",
       "      <th>billing_cost</th>\n",
       "      <th>%%</th>\n",
       "    </tr>\n",
       "    <tr>\n",
       "      <th>tariff</th>\n",
       "      <th></th>\n",
       "      <th></th>\n",
       "    </tr>\n",
       "  </thead>\n",
       "  <tbody>\n",
       "    <tr>\n",
       "      <th>smart</th>\n",
       "      <td>2750336.0</td>\n",
       "      <td>0.575146</td>\n",
       "    </tr>\n",
       "    <tr>\n",
       "      <th>ultra</th>\n",
       "      <td>2031640.0</td>\n",
       "      <td>0.424854</td>\n",
       "    </tr>\n",
       "  </tbody>\n",
       "</table>\n",
       "</div>"
      ],
      "text/plain": [
       "        billing_cost        %%\n",
       "tariff                        \n",
       "smart      2750336.0  0.575146\n",
       "ultra      2031640.0  0.424854"
      ]
     },
     "metadata": {},
     "output_type": "display_data"
    }
   ],
   "source": [
    "total_billing = df.pivot_table(index='tariff', values='billing_cost', aggfunc='sum')\n",
    "\n",
    "total_billing['%%'] = total_billing['billing_cost'] / total_billing['billing_cost'].sum()\n",
    "\n",
    "display(total_billing)"
   ]
  },
  {
   "cell_type": "markdown",
   "metadata": {},
   "source": [
    "Общая выручка составила почти 4,8 млн. рублей, причем бОльшая часть 2,75 млн. (57 %) приходится на тариф Смарт. "
   ]
  },
  {
   "cell_type": "code",
   "execution_count": 70,
   "metadata": {},
   "outputs": [
    {
     "name": "stdout",
     "output_type": "stream",
     "text": [
      "Количество пользователей \"Смарт\": 351\n",
      "Количество пользователей \"Ультра\": 149\n"
     ]
    }
   ],
   "source": [
    "print('Количество пользователей \"Смарт\":', users.loc[users.loc[:, 'tariff'] == 'smart']['user_id'].count())\n",
    "print('Количество пользователей \"Ультра\":', users.loc[users.loc[:, 'tariff'] == 'ultra']['user_id'].count())"
   ]
  },
  {
   "cell_type": "code",
   "execution_count": 71,
   "metadata": {},
   "outputs": [
    {
     "data": {
      "image/png": "[encoded data removed]",
      "text/plain": [
       "<Figure size 1152x360 with 1 Axes>"
      ]
     },
     "metadata": {},
     "output_type": "display_data"
    }
   ],
   "source": [
    "# количество всех клиентов для отрисовки абсолютных величин\n",
    "all_users = users['user_id'].count()\n",
    "\n",
    "\n",
    "def func_pct(pct):\n",
    "    value = float(pct/100.*all_users)\n",
    "    return \"{:.2f}%\\n({:.0f} чел.)\".format(pct, value)\n",
    "\n",
    "explode = (0.05, 0)  # сектор 'ultra' немного выдвинем\n",
    "\n",
    "axes = users.groupby('tariff')['user_id'].count().plot(kind='pie', subplots=True, fontsize=15,\n",
    "                                                       use_index=False, shadow=True, explode=explode,\n",
    "                                                       title = 'Распределение по клиентам', pctdistance=0.45,\n",
    "                                                       figsize=(16,5), autopct=lambda pct: func_pct(pct))\n",
    "\n",
    "plt.tight_layout(pad=0)\n",
    "\n",
    "for ax in axes:\n",
    "    ax.legend(['Смарт', 'Ультра'], bbox_to_anchor=(0.87,0.87), prop={'size':12})\n",
    "    ax.set_ylabel('')"
   ]
  },
  {
   "cell_type": "markdown",
   "metadata": {},
   "source": [
    "## Анализ данных <a id=\"4\"></a>\n",
    "\n",
    "Посчитаем сколько минут разговора, сколько сообщений и какой объём интернет-трафика требуется пользователям каждого тарифа в месяц. Найдем среднее количество, дисперсию и стандартное отклонение для каждого показателя."
   ]
  },
  {
   "cell_type": "code",
   "execution_count": 72,
   "metadata": {},
   "outputs": [],
   "source": [
    "dict_smart={'min_per_month':500, 'sms_per_month':50, 'mb_per_month':15360, 'billing_cost':550}\n",
    "\n",
    "dict_ultra={'min_per_month':3000, 'sms_per_month':1000, 'mb_per_month':30720, 'billing_cost':1950}"
   ]
  },
  {
   "cell_type": "code",
   "execution_count": 73,
   "metadata": {},
   "outputs": [],
   "source": [
    "def stat_and_plot(column, title_plot, title_hist):\n",
    "    display(df.pivot_table(index='tariff', \n",
    "               aggfunc={column: [np.median, np.mean, np.var, np.std]}).round(2))\n",
    "    \n",
    "    #кол-во услуг по месяцам\n",
    "    ax = (df.query('tariff == \"ultra\"').pivot_table(index='month', values=column, aggfunc='mean')\n",
    "          .plot(y=column, kind='bar', grid=True, figsize=(15, 9), title=title_plot, color='orange'))\n",
    "    (df.query('tariff == \"smart\"').pivot_table(index='month', values=column, aggfunc='mean')\n",
    "     .plot(ax=ax, kind='bar', grid=True,  figsize=(15, 9), color='green'))\n",
    "    plt.axhline(y=dict_ultra[column], linewidth=3, color='orange', linestyle='--' )\n",
    "    plt.axhline(y=dict_smart[column], linewidth=3, color='green', linestyle='--' )\n",
    "    plt.plot()\n",
    "    plt.legend(['included in ultra', 'included in smart', 'ultra', 'smart'])\n",
    "    plt.ylabel('quantity, unit')\n",
    "    plt.show()    \n",
    "    \n",
    "    #гистограмма\n",
    "    ax = (df.query('tariff == \"ultra\"')\n",
    "          .plot(y=column, kind='hist', bins=50, grid=True, figsize=(15, 9), title=title_hist, color='orange', \n",
    "                histtype='step', linewidth=3))\n",
    "    (df.query('tariff == \"smart\"')\n",
    "     .plot(ax=ax, y=column, kind='hist', bins=50, grid=True,  figsize=(15, 9), color='green', \n",
    "           histtype='step', linewidth=3))\n",
    "    plt.axvline(x=(df.loc[df.loc[:, 'tariff'] == 'ultra'][column].median()), \n",
    "                linewidth=3, color='orange', linestyle='--' )\n",
    "    plt.axvline(x=(df.loc[df.loc[:, 'tariff'] == 'smart'][column].median()), \n",
    "                linewidth=3, color='green', linestyle='--' )\n",
    "    plt.plot()\n",
    "    plt.legend(['median ultra', 'median smart', 'ultra', 'smart'])\n",
    "    plt.ylabel('quantity, unit')\n",
    "    plt.show() "
   ]
  },
  {
   "cell_type": "markdown",
   "metadata": {},
   "source": [
    "###  Минуты <a id=\"4_1\"></a>"
   ]
  },
  {
   "cell_type": "code",
   "execution_count": 74,
   "metadata": {
    "scrolled": false
   },
   "outputs": [
    {
     "data": {
      "text/html": [
       "<div>\n",
       "<style scoped>\n",
       "    .dataframe tbody tr th:only-of-type {\n",
       "        vertical-align: middle;\n",
       "    }\n",
       "\n",
       "    .dataframe tbody tr th {\n",
       "        vertical-align: top;\n",
       "    }\n",
       "\n",
       "    .dataframe thead tr th {\n",
       "        text-align: left;\n",
       "    }\n",
       "\n",
       "    .dataframe thead tr:last-of-type th {\n",
       "        text-align: right;\n",
       "    }\n",
       "</style>\n",
       "<table border=\"1\" class=\"dataframe\">\n",
       "  <thead>\n",
       "    <tr>\n",
       "      <th></th>\n",
       "      <th colspan=\"4\" halign=\"left\">min_per_month</th>\n",
       "    </tr>\n",
       "    <tr>\n",
       "      <th></th>\n",
       "      <th>mean</th>\n",
       "      <th>median</th>\n",
       "      <th>std</th>\n",
       "      <th>var</th>\n",
       "    </tr>\n",
       "    <tr>\n",
       "      <th>tariff</th>\n",
       "      <th></th>\n",
       "      <th></th>\n",
       "      <th></th>\n",
       "      <th></th>\n",
       "    </tr>\n",
       "  </thead>\n",
       "  <tbody>\n",
       "    <tr>\n",
       "      <th>smart</th>\n",
       "      <td>417.75</td>\n",
       "      <td>421.5</td>\n",
       "      <td>190.48</td>\n",
       "      <td>36281.39</td>\n",
       "    </tr>\n",
       "    <tr>\n",
       "      <th>ultra</th>\n",
       "      <td>526.09</td>\n",
       "      <td>518.0</td>\n",
       "      <td>317.89</td>\n",
       "      <td>101052.49</td>\n",
       "    </tr>\n",
       "  </tbody>\n",
       "</table>\n",
       "</div>"
      ],
      "text/plain": [
       "       min_per_month                          \n",
       "                mean median     std        var\n",
       "tariff                                        \n",
       "smart         417.75  421.5  190.48   36281.39\n",
       "ultra         526.09  518.0  317.89  101052.49"
      ]
     },
     "metadata": {},
     "output_type": "display_data"
    },
    {
     "data": {
      "image/png": "[encoded data removed]",
      "text/plain": [
       "<Figure size 1080x648 with 1 Axes>"
      ]
     },
     "metadata": {
      "needs_background": "light"
     },
     "output_type": "display_data"
    },
    {
     "data": {
      "image/png": "[encoded data removed]",
      "text/plain": [
       "<Figure size 1080x648 with 1 Axes>"
      ]
     },
     "metadata": {
      "needs_background": "light"
     },
     "output_type": "display_data"
    }
   ],
   "source": [
    "stat_and_plot('min_per_month', 'Количество израсходованных минут по месяцам', \n",
    "              'Гистограмма длительности звонков, мин.')"
   ]
  },
  {
   "cell_type": "markdown",
   "metadata": {},
   "source": [
    "Пользователи не превышают отведенные им лимиты в рамках тарифов. \n",
    "Стоит отметить, что пользователи тарифа \"Ультра\" в среднем разговаривают немного больше, чем пользователи \"Смарт\", но и те, и другие в основном \"проговоривают\" примерно по 400-550 минут в месяц (медиана \"Смарт\" - 421 минута, медиана \"Ультра\" - 518 минут). \n",
    "По гистограмме мы видим, что распределение по обоим тарифам стремится к нормальному (что подтверждается расчетами: медиана и среднее почти равны)."
   ]
  },
  {
   "cell_type": "markdown",
   "metadata": {},
   "source": [
    "### СМС <a id=\"4_2\"></a>"
   ]
  },
  {
   "cell_type": "code",
   "execution_count": 75,
   "metadata": {},
   "outputs": [
    {
     "data": {
      "text/html": [
       "<div>\n",
       "<style scoped>\n",
       "    .dataframe tbody tr th:only-of-type {\n",
       "        vertical-align: middle;\n",
       "    }\n",
       "\n",
       "    .dataframe tbody tr th {\n",
       "        vertical-align: top;\n",
       "    }\n",
       "\n",
       "    .dataframe thead tr th {\n",
       "        text-align: left;\n",
       "    }\n",
       "\n",
       "    .dataframe thead tr:last-of-type th {\n",
       "        text-align: right;\n",
       "    }\n",
       "</style>\n",
       "<table border=\"1\" class=\"dataframe\">\n",
       "  <thead>\n",
       "    <tr>\n",
       "      <th></th>\n",
       "      <th colspan=\"4\" halign=\"left\">sms_per_month</th>\n",
       "    </tr>\n",
       "    <tr>\n",
       "      <th></th>\n",
       "      <th>mean</th>\n",
       "      <th>median</th>\n",
       "      <th>std</th>\n",
       "      <th>var</th>\n",
       "    </tr>\n",
       "    <tr>\n",
       "      <th>tariff</th>\n",
       "      <th></th>\n",
       "      <th></th>\n",
       "      <th></th>\n",
       "      <th></th>\n",
       "    </tr>\n",
       "  </thead>\n",
       "  <tbody>\n",
       "    <tr>\n",
       "      <th>smart</th>\n",
       "      <td>33.37</td>\n",
       "      <td>28.0</td>\n",
       "      <td>28.23</td>\n",
       "      <td>796.96</td>\n",
       "    </tr>\n",
       "    <tr>\n",
       "      <th>ultra</th>\n",
       "      <td>49.31</td>\n",
       "      <td>38.0</td>\n",
       "      <td>47.81</td>\n",
       "      <td>2285.42</td>\n",
       "    </tr>\n",
       "  </tbody>\n",
       "</table>\n",
       "</div>"
      ],
      "text/plain": [
       "       sms_per_month                       \n",
       "                mean median    std      var\n",
       "tariff                                     \n",
       "smart          33.37   28.0  28.23   796.96\n",
       "ultra          49.31   38.0  47.81  2285.42"
      ]
     },
     "metadata": {},
     "output_type": "display_data"
    },
    {
     "data": {
      "image/png": "[encoded data removed]",
      "text/plain": [
       "<Figure size 1080x648 with 1 Axes>"
      ]
     },
     "metadata": {
      "needs_background": "light"
     },
     "output_type": "display_data"
    },
    {
     "data": {
      "image/png": "[encoded data removed]",
      "text/plain": [
       "<Figure size 1080x648 with 1 Axes>"
      ]
     },
     "metadata": {
      "needs_background": "light"
     },
     "output_type": "display_data"
    }
   ],
   "source": [
    "stat_and_plot('sms_per_month', 'Количество смс по месяцам', \n",
    "              'Гистограмма количества смс')"
   ]
  },
  {
   "cell_type": "markdown",
   "metadata": {},
   "source": [
    "Как и со звонками, среднее значение по месяцам находится в районе лимита для \"Смарта\". \n",
    "По гистограмме можно отметить, что несмотря на общую не популярность смс-ок, активнее их используют владельцы \"Смарта\".\n"
   ]
  },
  {
   "cell_type": "markdown",
   "metadata": {},
   "source": [
    "### Интернет <a id=\"4_2\"></a>"
   ]
  },
  {
   "cell_type": "code",
   "execution_count": 76,
   "metadata": {
    "scrolled": false
   },
   "outputs": [
    {
     "data": {
      "text/html": [
       "<div>\n",
       "<style scoped>\n",
       "    .dataframe tbody tr th:only-of-type {\n",
       "        vertical-align: middle;\n",
       "    }\n",
       "\n",
       "    .dataframe tbody tr th {\n",
       "        vertical-align: top;\n",
       "    }\n",
       "\n",
       "    .dataframe thead tr th {\n",
       "        text-align: left;\n",
       "    }\n",
       "\n",
       "    .dataframe thead tr:last-of-type th {\n",
       "        text-align: right;\n",
       "    }\n",
       "</style>\n",
       "<table border=\"1\" class=\"dataframe\">\n",
       "  <thead>\n",
       "    <tr>\n",
       "      <th></th>\n",
       "      <th colspan=\"4\" halign=\"left\">mb_per_month</th>\n",
       "    </tr>\n",
       "    <tr>\n",
       "      <th></th>\n",
       "      <th>mean</th>\n",
       "      <th>median</th>\n",
       "      <th>std</th>\n",
       "      <th>var</th>\n",
       "    </tr>\n",
       "    <tr>\n",
       "      <th>tariff</th>\n",
       "      <th></th>\n",
       "      <th></th>\n",
       "      <th></th>\n",
       "      <th></th>\n",
       "    </tr>\n",
       "  </thead>\n",
       "  <tbody>\n",
       "    <tr>\n",
       "      <th>smart</th>\n",
       "      <td>16221.91</td>\n",
       "      <td>16529.0</td>\n",
       "      <td>5886.30</td>\n",
       "      <td>3.464852e+07</td>\n",
       "    </tr>\n",
       "    <tr>\n",
       "      <th>ultra</th>\n",
       "      <td>19467.14</td>\n",
       "      <td>19320.0</td>\n",
       "      <td>10110.26</td>\n",
       "      <td>1.022173e+08</td>\n",
       "    </tr>\n",
       "  </tbody>\n",
       "</table>\n",
       "</div>"
      ],
      "text/plain": [
       "       mb_per_month                                 \n",
       "               mean   median       std           var\n",
       "tariff                                              \n",
       "smart      16221.91  16529.0   5886.30  3.464852e+07\n",
       "ultra      19467.14  19320.0  10110.26  1.022173e+08"
      ]
     },
     "metadata": {},
     "output_type": "display_data"
    },
    {
     "data": {
      "image/png": "[encoded data removed]",
      "text/plain": [
       "<Figure size 1080x648 with 1 Axes>"
      ]
     },
     "metadata": {
      "needs_background": "light"
     },
     "output_type": "display_data"
    },
    {
     "data": {
      "image/png": "[encoded data removed]",
      "text/plain": [
       "<Figure size 1080x648 with 1 Axes>"
      ]
     },
     "metadata": {
      "needs_background": "light"
     },
     "output_type": "display_data"
    }
   ],
   "source": [
    "stat_and_plot('mb_per_month', 'Количество израсходованных мегабайт трафика по месяцам', \n",
    "              'Гистограмма по использованным мегабайтам')"
   ]
  },
  {
   "cell_type": "markdown",
   "metadata": {},
   "source": [
    "Все пользователи активно используют интернет, тратят примерно от 15 до 20 Гб независимо от тарифа. \n",
    "\n",
    "Пользователи \"Смарта\" почти всегда выходят за рамки лимита в 15 Гб. Это видно и по среднему трафику за месяц и по гистограмме. \n",
    "\n",
    "Пользователи \"Ультры\" тоже иногда превышают свой лимит в 30 Гб, но таких пользователей не так много. Медианное значение в 19 Гб показывает, что чаще лимит остается неизрасходованным почти на 1/3."
   ]
  },
  {
   "cell_type": "markdown",
   "metadata": {},
   "source": [
    "## Проверка гипотез <a id=\"5\"></a>\n",
    "\n",
    "### средняя выручка пользователей тарифов «Ультра» и «Смарт»  <a id=\"5_1\"></a>"
   ]
  },
  {
   "cell_type": "markdown",
   "metadata": {},
   "source": [
    "Нужно проверить различается ли средняя выручка пользователей тарифов. Сформулируем гипотезы так, чтобы использовать знак равенства.  \n",
    "\n",
    "**Нулевая гипотеза**: средняя выручка пользователей тарифов равна.\n",
    "\n",
    "**Альтернативная гипотеза**: средняя выручка пользователей тарифов не равна."
   ]
  },
  {
   "cell_type": "code",
   "execution_count": 77,
   "metadata": {},
   "outputs": [
    {
     "name": "stdout",
     "output_type": "stream",
     "text": [
      "Количество наблюдений для тарифа \"Ультра\": 986\n",
      "Количество наблюдений для тарифа \"Смарт\": 2230\n"
     ]
    }
   ],
   "source": [
    "ultra = df.loc[df.loc[:, 'tariff'] == 'ultra']['billing_cost']\n",
    "smart = df.loc[df.loc[:, 'tariff'] == 'smart']['billing_cost']\n",
    "\n",
    "print('Количество наблюдений для тарифа \"Ультра\":', len(ultra))\n",
    "print('Количество наблюдений для тарифа \"Смарт\":', len(smart))"
   ]
  },
  {
   "cell_type": "markdown",
   "metadata": {},
   "source": [
    "Так как у нас достаточно много наблюдений, вид распределения не имеет критичного значения, для проверки гипотезы о равенстве среднего применим t-тест. \n",
    "Для определения какое значение передать для параметра equal_var рассчитаем дисперсии наших совокупностей. "
   ]
  },
  {
   "cell_type": "code",
   "execution_count": 78,
   "metadata": {},
   "outputs": [
    {
     "name": "stdout",
     "output_type": "stream",
     "text": [
      "Дисперсия выручки по тарифу \"Ультра\": 126944.04094274151\n",
      "Дисперсия выручки по тарифу \"Смарт\": 620630.8490090873\n"
     ]
    }
   ],
   "source": [
    "print('Дисперсия выручки по тарифу \"Ультра\":', np.var(ultra, ddof=1))\n",
    "print('Дисперсия выручки по тарифу \"Смарт\":', np.var(smart, ddof=1))"
   ]
  },
  {
   "cell_type": "markdown",
   "metadata": {},
   "source": [
    "Дисперсии не равны, поэтому передадим параметру `equal_var` значение False."
   ]
  },
  {
   "cell_type": "code",
   "execution_count": 79,
   "metadata": {},
   "outputs": [
    {
     "name": "stdout",
     "output_type": "stream",
     "text": [
      "p-значение: 6.654511917309927e-296\n",
      "Отвергаем нулевую гипотезу\n"
     ]
    }
   ],
   "source": [
    "alpha = 0.05\n",
    "results = st.ttest_ind(ultra, smart, equal_var=False)\n",
    "print('p-значение:', results.pvalue)\n",
    "\n",
    "if results.pvalue < alpha:\n",
    "    print('Отвергаем нулевую гипотезу')\n",
    "else:\n",
    "    print('Не получилось отвергнуть нулевую гипотезу')"
   ]
  },
  {
   "cell_type": "markdown",
   "metadata": {},
   "source": [
    "Средняя выручка пользователей тарифов не равна. \n",
    "Раз уж у нас есть функция для графиков и статистических значений, посмотрим что получается: "
   ]
  },
  {
   "cell_type": "code",
   "execution_count": 80,
   "metadata": {
    "scrolled": false
   },
   "outputs": [
    {
     "data": {
      "text/html": [
       "<div>\n",
       "<style scoped>\n",
       "    .dataframe tbody tr th:only-of-type {\n",
       "        vertical-align: middle;\n",
       "    }\n",
       "\n",
       "    .dataframe tbody tr th {\n",
       "        vertical-align: top;\n",
       "    }\n",
       "\n",
       "    .dataframe thead tr th {\n",
       "        text-align: left;\n",
       "    }\n",
       "\n",
       "    .dataframe thead tr:last-of-type th {\n",
       "        text-align: right;\n",
       "    }\n",
       "</style>\n",
       "<table border=\"1\" class=\"dataframe\">\n",
       "  <thead>\n",
       "    <tr>\n",
       "      <th></th>\n",
       "      <th colspan=\"4\" halign=\"left\">billing_cost</th>\n",
       "    </tr>\n",
       "    <tr>\n",
       "      <th></th>\n",
       "      <th>mean</th>\n",
       "      <th>median</th>\n",
       "      <th>std</th>\n",
       "      <th>var</th>\n",
       "    </tr>\n",
       "    <tr>\n",
       "      <th>tariff</th>\n",
       "      <th></th>\n",
       "      <th></th>\n",
       "      <th></th>\n",
       "      <th></th>\n",
       "    </tr>\n",
       "  </thead>\n",
       "  <tbody>\n",
       "    <tr>\n",
       "      <th>smart</th>\n",
       "      <td>1233.33</td>\n",
       "      <td>960.0</td>\n",
       "      <td>787.80</td>\n",
       "      <td>620630.85</td>\n",
       "    </tr>\n",
       "    <tr>\n",
       "      <th>ultra</th>\n",
       "      <td>2060.49</td>\n",
       "      <td>1950.0</td>\n",
       "      <td>356.29</td>\n",
       "      <td>126944.04</td>\n",
       "    </tr>\n",
       "  </tbody>\n",
       "</table>\n",
       "</div>"
      ],
      "text/plain": [
       "       billing_cost                           \n",
       "               mean  median     std        var\n",
       "tariff                                        \n",
       "smart       1233.33   960.0  787.80  620630.85\n",
       "ultra       2060.49  1950.0  356.29  126944.04"
      ]
     },
     "metadata": {},
     "output_type": "display_data"
    },
    {
     "data": {
      "image/png": "[encoded data removed]",
      "text/plain": [
       "<Figure size 1080x648 with 1 Axes>"
      ]
     },
     "metadata": {
      "needs_background": "light"
     },
     "output_type": "display_data"
    },
    {
     "data": {
      "image/png": "[encoded data removed]",
      "text/plain": [
       "<Figure size 1080x648 with 1 Axes>"
      ]
     },
     "metadata": {
      "needs_background": "light"
     },
     "output_type": "display_data"
    }
   ],
   "source": [
    "stat_and_plot('billing_cost', 'Выручки по месяцам', 'Гистограмма по выручке')"
   ]
  },
  {
   "cell_type": "markdown",
   "metadata": {},
   "source": [
    "По графикам так же видно, что средняя выручка по тарифам не равна. Средняя выручка для \"Смарта\" - 1200 руб., для \"Ультры\" - около 2050 руб.\n",
    "Средняя выручка от \"Ультры\" в течение года примерно одинаковая, а вот средняя выручка с пользователя от \"Смарта\" к концу года значительно выросла (с 700 руб. в январе до 1500 руб. в декабре). \n",
    "По гистограмме мы также видим, что пользователи \"Смарта\" активнее тратят деньги сверх абонентской платы. Медианное значение близко к 1000 руб., при аб.плате 550 руб. \n",
    "Пользователи \"Ультры\" не так часто расходуют деньги сверх аб.платы. Медиана равна стоимости аб.платы (1950 руб.)"
   ]
  },
  {
   "cell_type": "markdown",
   "metadata": {},
   "source": [
    "### средняя выручка пользователей из Москвы и регионов <a id=\"5_2\"></a>"
   ]
  },
  {
   "cell_type": "markdown",
   "metadata": {},
   "source": [
    "**Нулевая гипотеза**: средняя выручка пользователей из Москвы равна выручке пользователей из других регионов.\n",
    "\n",
    "**Альтернативная гипотеза**: средняя выручка пользователей из Москвы не равна выручке пользователей из других регионов."
   ]
  },
  {
   "cell_type": "code",
   "execution_count": 81,
   "metadata": {},
   "outputs": [
    {
     "data": {
      "text/plain": [
       "array(['Набережные Челны', 'Ульяновск', 'Улан-Удэ', 'Казань', 'Омск',\n",
       "       'Чита', 'Красноярск', 'Архангельск', 'Ставрополь', 'Волгоград',\n",
       "       'Санкт-Петербург', 'Тамбов', 'Москва', 'Киров', 'Ростов-на-Дону',\n",
       "       'Уфа', 'Вологда', 'Пенза', 'Магнитогорск', 'Иркутск', 'Орёл',\n",
       "       'Астрахань', 'Подольск', 'Ярославль', 'Новокузнецк', 'Самара',\n",
       "       'Пермь', 'Краснодар', 'Новороссийск', 'Калининград', 'Саранск',\n",
       "       'Якутск', 'Новосибирск', 'Томск', 'Саратов', 'Челябинск',\n",
       "       'Петрозаводск', 'Тюмень', 'Курск', 'Сочи', 'Нижний Новгород',\n",
       "       'Смоленск', 'Балашиха', 'Хабаровск', 'Махачкала', 'Ижевск',\n",
       "       'Чебоксары', 'Рязань', 'Белгород', 'Мурманск', 'Воронеж',\n",
       "       'Череповец', 'Владимир', 'Стерлитамак', 'Волжский', 'Калуга',\n",
       "       'Екатеринбург', 'Владивосток', 'Севастополь', 'Грозный',\n",
       "       'Тольятти', 'Владикавказ', 'Тула', 'Химки', 'Тверь',\n",
       "       'Нижний Тагил', 'Липецк', 'Кострома', 'Барнаул', 'Оренбург',\n",
       "       'Курган', 'Кемерово', 'Брянск', 'Нижневартовск', 'Сургут',\n",
       "       'Иваново'], dtype=object)"
      ]
     },
     "execution_count": 81,
     "metadata": {},
     "output_type": "execute_result"
    }
   ],
   "source": [
    "df['city'].unique()"
   ]
  },
  {
   "cell_type": "code",
   "execution_count": 82,
   "metadata": {},
   "outputs": [
    {
     "name": "stdout",
     "output_type": "stream",
     "text": [
      "Количество наблюдений для пользователей из Москвы: 611\n",
      "Количество наблюдений для пользователей из регионов: 2605\n"
     ]
    }
   ],
   "source": [
    "msk_city = df.loc[df.loc[:, 'city'] == 'Москва']['billing_cost']\n",
    "other_city = df.loc[df.loc[:, 'city'] != 'Москва']['billing_cost']\n",
    "\n",
    "print('Количество наблюдений для пользователей из Москвы:', len(msk_city))\n",
    "print('Количество наблюдений для пользователей из регионов:', len(other_city))"
   ]
  },
  {
   "cell_type": "markdown",
   "metadata": {},
   "source": [
    "Так как у нас достаточно много наблюдений, вид распределения не имеет критичного значения, для проверки гипотезы о равенстве среднего применим t-тест. \n",
    "Для определения какое значение передать для параметра `equal_var` рассчитаем дисперсии наших совокупностей. "
   ]
  },
  {
   "cell_type": "code",
   "execution_count": 83,
   "metadata": {},
   "outputs": [
    {
     "name": "stdout",
     "output_type": "stream",
     "text": [
      "Дисперсия выручки для пользователей из Москвы: 547324.220605833\n",
      "Дисперсия выручки для пользователей из регионов: 630573.8774267257\n"
     ]
    }
   ],
   "source": [
    "print('Дисперсия выручки для пользователей из Москвы:', np.var(msk_city, ddof=1))\n",
    "print('Дисперсия выручки для пользователей из регионов:', np.var(other_city, ddof=1))"
   ]
  },
  {
   "cell_type": "markdown",
   "metadata": {},
   "source": [
    "Дисперсии не равны, поэтому передадим параметру equal_var значение False."
   ]
  },
  {
   "cell_type": "code",
   "execution_count": 84,
   "metadata": {},
   "outputs": [
    {
     "name": "stdout",
     "output_type": "stream",
     "text": [
      "p-значение: 0.4521716010094219\n",
      "Не получилось отвергнуть нулевую гипотезу\n"
     ]
    }
   ],
   "source": [
    "alpha = 0.05\n",
    "results = st.ttest_ind(msk_city, other_city, equal_var=False)\n",
    "print('p-значение:', results.pvalue)\n",
    "\n",
    "if results.pvalue < alpha:\n",
    "    print('Отвергаем нулевую гипотезу')\n",
    "else:\n",
    "    print('Не получилось отвергнуть нулевую гипотезу')"
   ]
  },
  {
   "cell_type": "code",
   "execution_count": 85,
   "metadata": {},
   "outputs": [
    {
     "name": "stdout",
     "output_type": "stream",
     "text": [
      "Выручка пользователей из Москвы: 1507.4828150572832\n",
      "Выручка пользователей из регионов: 1482.1128598848368\n"
     ]
    }
   ],
   "source": [
    "print('Выручка пользователей из Москвы:', msk_city.mean())\n",
    "print('Выручка пользователей из регионов:', other_city.mean())"
   ]
  },
  {
   "cell_type": "markdown",
   "metadata": {},
   "source": [
    "Выручка пользователей из Москвы равна выручке пользователей из других регионов. Разница в 100 руб. не является статистически значимой для нас."
   ]
  },
  {
   "cell_type": "markdown",
   "metadata": {},
   "source": [
    "### средняя выручка пользователей из Москвы и регионов для тарифа \"Ультра\" <a id=\"5_3\"></a>"
   ]
  },
  {
   "cell_type": "markdown",
   "metadata": {},
   "source": [
    "Рассмотрим дополнительные гипотезы: равна ли выручка по тарифам для пользователей Москвы и регионов."
   ]
  },
  {
   "cell_type": "markdown",
   "metadata": {},
   "source": [
    "гипотеза для \"Ультры\":\n",
    "\n",
    "**Нулевая гипотеза**: средняя выручка пользователей из Москвы равна выручке пользователей из других регионов для тарифа \"Ультра\".\n",
    "\n",
    "**Альтернативная гипотеза**: средняя выручка пользователей из Москвы не равна выручке пользователей из других регионов для тарифа \"Ультра\"."
   ]
  },
  {
   "cell_type": "code",
   "execution_count": 86,
   "metadata": {},
   "outputs": [
    {
     "name": "stdout",
     "output_type": "stream",
     "text": [
      "Количество наблюдений для пользователей \"Ультра\" из Москвы: 225\n",
      "Количество наблюдений для пользователей \"Ультра\" из регионов: 761\n",
      "Дисперсия выручки для пользователей \"Ультра\" из Москвы: 109376.22075396826\n",
      "Дисперсия выручки для пользователей \"Ультра\" из регионов: 132285.0015561242\n"
     ]
    }
   ],
   "source": [
    "ultra_msk_city = df.loc[(df.loc[:, 'city'] == 'Москва') & (df.loc[:, 'tariff'] == 'ultra')]['billing_cost']\n",
    "ultra_other_city = df.loc[(df.loc[:, 'city'] != 'Москва') & (df.loc[:, 'tariff'] == 'ultra')]['billing_cost']\n",
    "\n",
    "print('Количество наблюдений для пользователей \"Ультра\" из Москвы:', len(ultra_msk_city))\n",
    "print('Количество наблюдений для пользователей \"Ультра\" из регионов:', len(ultra_other_city))\n",
    "\n",
    "print('Дисперсия выручки для пользователей \"Ультра\" из Москвы:', np.var(ultra_msk_city, ddof=1))\n",
    "print('Дисперсия выручки для пользователей \"Ультра\" из регионов:', np.var(ultra_other_city, ddof=1))"
   ]
  },
  {
   "cell_type": "code",
   "execution_count": 87,
   "metadata": {},
   "outputs": [
    {
     "name": "stdout",
     "output_type": "stream",
     "text": [
      "p-значение: 0.8714297959474109\n",
      "Не получилось отвергнуть нулевую гипотезу\n"
     ]
    }
   ],
   "source": [
    "alpha = 0.05\n",
    "results = st.ttest_ind(ultra_msk_city, ultra_other_city, equal_var=False)\n",
    "print('p-значение:', results.pvalue)\n",
    "\n",
    "if results.pvalue < alpha:\n",
    "    print('Отвергаем нулевую гипотезу')\n",
    "else:\n",
    "    print('Не получилось отвергнуть нулевую гипотезу')"
   ]
  },
  {
   "cell_type": "code",
   "execution_count": 88,
   "metadata": {},
   "outputs": [
    {
     "name": "stdout",
     "output_type": "stream",
     "text": [
      "Выручка пользователей \"Ультра\" из Москвы: 2063.697777777778\n",
      "Выручка пользователей \"Ультра\" из регионов: 2059.5374507227334\n"
     ]
    }
   ],
   "source": [
    "print('Выручка пользователей \"Ультра\" из Москвы:', ultra_msk_city.mean())\n",
    "print('Выручка пользователей \"Ультра\" из регионов:', ultra_other_city.mean())"
   ]
  },
  {
   "cell_type": "markdown",
   "metadata": {},
   "source": [
    "### средняя выручка пользователей из Москвы и регионов для тарифа \"Смарт\" <a id=\"5_4\"></a>"
   ]
  },
  {
   "cell_type": "markdown",
   "metadata": {},
   "source": [
    "гипотеза для \"Смарта\":\n",
    "\n",
    "**Нулевая гипотеза**: средняя выручка пользователей из Москвы равна выручке пользователей из других регионов для тарифа \"Смарт\".\n",
    "\n",
    "**Альтернативная гипотеза**: средняя выручка пользователей из Москвы не равна выручке пользователей из других регионов для тарифа \"Смарт\"."
   ]
  },
  {
   "cell_type": "code",
   "execution_count": 89,
   "metadata": {},
   "outputs": [
    {
     "name": "stdout",
     "output_type": "stream",
     "text": [
      "Количество наблюдений для пользователей \"Смарт\" из Москвы: 386\n",
      "Количество наблюдений для пользователей \"Смарт\" из регионов: 1844\n",
      "Дисперсия выручки для пользователей \"Смарт\" из Москвы: 517357.61830294057\n",
      "Дисперсия выручки для пользователей \"Смарт\" из регионов: 641906.2372817121\n"
     ]
    }
   ],
   "source": [
    "smart_msk_city = df.loc[(df.loc[:, 'city'] == 'Москва') & (df.loc[:, 'tariff'] == 'smart')]['billing_cost']\n",
    "smart_other_city = df.loc[(df.loc[:, 'city'] != 'Москва') & (df.loc[:, 'tariff'] == 'smart')]['billing_cost']\n",
    "\n",
    "print('Количество наблюдений для пользователей \"Смарт\" из Москвы:', len(smart_msk_city))\n",
    "print('Количество наблюдений для пользователей \"Смарт\" из регионов:', len(smart_other_city))\n",
    "\n",
    "print('Дисперсия выручки для пользователей \"Смарт\" из Москвы:', np.var(smart_msk_city, ddof=1))\n",
    "print('Дисперсия выручки для пользователей \"Смарт\" из регионов:', np.var(smart_other_city, ddof=1))"
   ]
  },
  {
   "cell_type": "code",
   "execution_count": 90,
   "metadata": {},
   "outputs": [
    {
     "name": "stdout",
     "output_type": "stream",
     "text": [
      "p-значение: 0.1411066727679241\n",
      "Не получилось отвергнуть нулевую гипотезу\n"
     ]
    }
   ],
   "source": [
    "alpha = 0.05\n",
    "results = st.ttest_ind(smart_msk_city, smart_other_city, equal_var=False)\n",
    "print('p-значение:', results.pvalue)\n",
    "\n",
    "if results.pvalue < alpha:\n",
    "    print('Отвергаем нулевую гипотезу')\n",
    "else:\n",
    "    print('Не получилось отвергнуть нулевую гипотезу')"
   ]
  },
  {
   "cell_type": "code",
   "execution_count": 91,
   "metadata": {},
   "outputs": [
    {
     "name": "stdout",
     "output_type": "stream",
     "text": [
      "Выручка пользователей \"Ультра\" из Москвы: 1183.2642487046633\n",
      "Выручка пользователей \"Ультра\" из регионов: 1243.815618221258\n"
     ]
    }
   ],
   "source": [
    "print('Выручка пользователей \"Ультра\" из Москвы:', smart_msk_city.mean())\n",
    "print('Выручка пользователей \"Ультра\" из регионов:', smart_other_city.mean())"
   ]
  },
  {
   "cell_type": "markdown",
   "metadata": {},
   "source": [
    "## Общий вывод <a id=\"6\"></a>"
   ]
  },
  {
   "cell_type": "code",
   "execution_count": 92,
   "metadata": {},
   "outputs": [
    {
     "data": {
      "text/html": [
       "<div>\n",
       "<style scoped>\n",
       "    .dataframe tbody tr th:only-of-type {\n",
       "        vertical-align: middle;\n",
       "    }\n",
       "\n",
       "    .dataframe tbody tr th {\n",
       "        vertical-align: top;\n",
       "    }\n",
       "\n",
       "    .dataframe thead tr th {\n",
       "        text-align: left;\n",
       "    }\n",
       "\n",
       "    .dataframe thead tr:last-of-type th {\n",
       "        text-align: right;\n",
       "    }\n",
       "</style>\n",
       "<table border=\"1\" class=\"dataframe\">\n",
       "  <thead>\n",
       "    <tr>\n",
       "      <th></th>\n",
       "      <th colspan=\"2\" halign=\"left\">billing_cost</th>\n",
       "      <th>mb_per_month</th>\n",
       "      <th>min_per_month</th>\n",
       "      <th>sms_per_month</th>\n",
       "      <th>limit_mb</th>\n",
       "      <th>limit_min</th>\n",
       "      <th>limit_sms</th>\n",
       "    </tr>\n",
       "    <tr>\n",
       "      <th></th>\n",
       "      <th>mean</th>\n",
       "      <th>sum</th>\n",
       "      <th>mean</th>\n",
       "      <th>mean</th>\n",
       "      <th>mean</th>\n",
       "      <th></th>\n",
       "      <th></th>\n",
       "      <th></th>\n",
       "    </tr>\n",
       "    <tr>\n",
       "      <th>tariff</th>\n",
       "      <th></th>\n",
       "      <th></th>\n",
       "      <th></th>\n",
       "      <th></th>\n",
       "      <th></th>\n",
       "      <th></th>\n",
       "      <th></th>\n",
       "      <th></th>\n",
       "    </tr>\n",
       "  </thead>\n",
       "  <tbody>\n",
       "    <tr>\n",
       "      <th>smart</th>\n",
       "      <td>1233.33</td>\n",
       "      <td>2750336.0</td>\n",
       "      <td>16221.91</td>\n",
       "      <td>417.75</td>\n",
       "      <td>33.37</td>\n",
       "      <td>15360</td>\n",
       "      <td>500</td>\n",
       "      <td>50</td>\n",
       "    </tr>\n",
       "    <tr>\n",
       "      <th>ultra</th>\n",
       "      <td>2060.49</td>\n",
       "      <td>2031640.0</td>\n",
       "      <td>19467.14</td>\n",
       "      <td>526.09</td>\n",
       "      <td>49.31</td>\n",
       "      <td>30720</td>\n",
       "      <td>3000</td>\n",
       "      <td>1000</td>\n",
       "    </tr>\n",
       "  </tbody>\n",
       "</table>\n",
       "</div>"
      ],
      "text/plain": [
       "       billing_cost            mb_per_month min_per_month sms_per_month  \\\n",
       "               mean        sum         mean          mean          mean   \n",
       "tariff                                                                    \n",
       "smart       1233.33  2750336.0     16221.91        417.75         33.37   \n",
       "ultra       2060.49  2031640.0     19467.14        526.09         49.31   \n",
       "\n",
       "       limit_mb limit_min limit_sms  \n",
       "                                     \n",
       "tariff                               \n",
       "smart     15360       500        50  \n",
       "ultra     30720      3000      1000  "
      ]
     },
     "metadata": {},
     "output_type": "display_data"
    },
    {
     "name": "stdout",
     "output_type": "stream",
     "text": [
      "Количество пользователей \"Смарт\": 351\n",
      "Количество пользователей \"Ультра\": 149\n"
     ]
    }
   ],
   "source": [
    "total_2 = df.pivot_table(index='tariff', \n",
    "                       aggfunc=({'min_per_month':'mean', \n",
    "                            'sms_per_month':'mean', \n",
    "                            'mb_per_month':'mean', \n",
    "                            'billing_cost':['mean', 'sum']})).round(2)\n",
    "\n",
    "total_2['limit_mb'] = [15360, 30720]\n",
    "total_2['limit_min'] = [500, 3000]\n",
    "total_2['limit_sms'] = [50, 1000]\n",
    "\n",
    "display(total_2)\n",
    "print('Количество пользователей \"Смарт\":', users.loc[users.loc[:, 'tariff'] == 'smart']['user_id'].count())\n",
    "print('Количество пользователей \"Ультра\":', users.loc[users.loc[:, 'tariff'] == 'ultra']['user_id'].count())"
   ]
  },
  {
   "cell_type": "code",
   "execution_count": 93,
   "metadata": {},
   "outputs": [
    {
     "data": {
      "image/png": "[encoded data removed]",
      "text/plain": [
       "<Figure size 1152x360 with 1 Axes>"
      ]
     },
     "metadata": {},
     "output_type": "display_data"
    }
   ],
   "source": [
    "# количество всех клиентов для отрисовки абсолютных величин\n",
    "all_users = users['user_id'].count()\n",
    "\n",
    "\n",
    "def func_pct(pct):\n",
    "    value = float(pct/100.*all_users)\n",
    "    return \"{:.2f}%\\n({:.0f} чел.)\".format(pct, value)\n",
    "\n",
    "explode = (0.05, 0)  # сектор 'ultra' немного выдвинем\n",
    "\n",
    "axes = users.groupby('tariff')['user_id'].count().plot(kind='pie', subplots=True, fontsize=15,\n",
    "                                                       use_index=False, shadow=True, explode=explode,\n",
    "                                                       title = 'Распределение по клиентам', pctdistance=0.45,\n",
    "                                                       figsize=(16,5), autopct=lambda pct: func_pct(pct))\n",
    "\n",
    "plt.tight_layout(pad=0)\n",
    "\n",
    "for ax in axes:\n",
    "    ax.legend(['Смарт', 'Ультра'], bbox_to_anchor=(0.87,0.87), prop={'size':12})\n",
    "    ax.set_ylabel('')"
   ]
  },
  {
   "cell_type": "markdown",
   "metadata": {},
   "source": [
    "По результатам анализа получается, что несмотря на то, что абонентская плата тарифа \"Ультра\" выше (1950 руб.), больше выручки \"Мегалайну\" приносит тариф \"Смарт\" с меньшей аб.платой (550 руб.), т.к. его абоненты вынуждены тратить деньги на дополнительные пакеты интернет-трафика. В среднем пользователи \"Смарта\" тратят больше 16 Гб при лимите в 15. \n",
    "\n",
    "При этом стоит отметить, что количество израсходованных минут и отправленных смс на обоих тарифах не сильно отличается и колеблется +/- в рамках лимита по тарифу \"Смарт\": среднее кол-во потрачнных минут 417 и 526 и 33 и 49 смс для \"Смарта\" и \"Ультры\" соответственно при лимите для \"Смарта\" 500 минут и 50 смс. Т.е. пользователи \"Ультры\" чаще всего не доиспользуют услуги в рамках своего пакета в части звонков и смс. Можно сделать предположение, что \"Ультру\" выбирают только из-за большого пакета интернет-трафика. \n",
    "\n",
    "Нельзя однозначно ответить какой для \"Мегалайна\" лучше тариф, т.к. \"Смарт\" дает бОльшую выручку при меньшем потреблении ресурсов, но и при бОльшем же количестве пользователей. Выручка за год по \"Смарту\" составила 2,7 млн. от 351 пользователя, по \"Ультре\" - 2 млн. от 149 пользователей. Если \"Мегалайн\" сделает ставку только на \"Смарт\", то придется тратиться на привлечение бОльшего количества клиентов, т.е. возможно нужна будет более агрессивная и заметная рекламная компания, чем на текущий момент. \n",
    "Мне кажется, что оптимальным решением будет внедрить 3ий тарифный план со стоимостью и лимитами между \"Смартом\" и \"Ультрой\".   \n",
    "\n",
    "Для пользователей, к сожалению, оба тарифа не могут удовлетворить соотношению \"цена/качество\", приходится или регулярно доплачивать за услуги сверх тарифа на \"Смарте\" или сразу платить больше на \"Ультре\". \n",
    "Создание третьего промежуточного тарифа в том числе решит и проблему пользователей, а также может повысить лояльность клиентов к оператору.\n",
    "\n",
    "И в столице, и в регионах пользователи тратят на мобильную связь примерно одинаковое количество денег. Таким образом, можно сказать, что \"Мегалайну\" есть смысл продвигать свои тарифы по всей России. \n"
   ]
  },
  {
   "cell_type": "code",
   "execution_count": null,
   "metadata": {},
   "outputs": [],
   "source": []
  }
 ],
 "metadata": {
  "colab": {
   "collapsed_sections": [],
   "name": "анализ тарифов оператора.ipynb",
   "provenance": [],
   "toc_visible": true
  },
  "kernelspec": {
   "display_name": "Python 3",
   "language": "python",
   "name": "python3"
  },
  "language_info": {
   "codemirror_mode": {
    "name": "ipython",
    "version": 3
   },
   "file_extension": ".py",
   "mimetype": "text/x-python",
   "name": "python",
   "nbconvert_exporter": "python",
   "pygments_lexer": "ipython3",
   "version": "3.8.5"
  },
  "toc": {
   "base_numbering": 1,
   "nav_menu": {},
   "number_sections": true,
   "sideBar": true,
   "skip_h1_title": true,
   "title_cell": "Table of Contents",
   "title_sidebar": "Contents",
   "toc_cell": false,
   "toc_position": {
    "height": "calc(100% - 180px)",
    "left": "10px",
    "top": "150px",
    "width": "417.75px"
   },
   "toc_section_display": true,
   "toc_window_display": true
  }
 },
 "nbformat": 4,
 "nbformat_minor": 1
}
