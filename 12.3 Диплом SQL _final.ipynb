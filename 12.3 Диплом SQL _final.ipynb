{
 "cells": [
  {
   "cell_type": "markdown",
   "id": "e43b4966",
   "metadata": {},
   "source": [
    "# Обзор и первичное исследование данных\n",
    "\n",
    "\n",
    "## Описание проекта и цели\n",
    "\n",
    "Задача — проанализировать базу данных.\n",
    "\n",
    "В ней — информация о книгах, издательствах, авторах, а также пользовательские обзоры книг. Эти данные помогут сформулировать ценностное предложение для нового продукта."
   ]
  },
  {
   "cell_type": "markdown",
   "id": "d96a4462",
   "metadata": {},
   "source": [
    "## Описание данных\n",
    "\n",
    "**Таблица `books`**\n",
    "\n",
    "Содержит данные о книгах:\n",
    "\n",
    "- `book_id` — идентификатор книги;\n",
    "- `author_id` — идентификатор автора;\n",
    "- `title` — название книги;\n",
    "- `num_pages` — количество страниц;\n",
    "- `publication_date` — дата публикации книги;\n",
    "- `publisher_id` — идентификатор издателя.\n",
    "\n",
    "**Таблица `authors`**\n",
    "\n",
    "Содержит данные об авторах:\n",
    "\n",
    "- `author_id` — идентификатор автора;\n",
    "- `author` — имя автора.\n",
    "\n",
    "**Таблица `publishers`**\n",
    "\n",
    "Содержит данные об издательствах:\n",
    "\n",
    "- `publisher_id` — идентификатор издательства;\n",
    "- `publisher` — название издательства;\n",
    "\n",
    "**Таблица `ratings`**\n",
    "\n",
    "Содержит данные о пользовательских оценках книг:\n",
    "\n",
    "- `rating_id` — идентификатор оценки;\n",
    "- `book_id` — идентификатор книги;\n",
    "- `username` — имя пользователя, оставившего оценку;\n",
    "- `rating` — оценка книги.\n",
    "\n",
    "**Таблица `reviews`**\n",
    "\n",
    "Содержит данные о пользовательских обзорах на книги:\n",
    "\n",
    "- `review_id` — идентификатор обзора;\n",
    "- `book_id` — идентификатор книги;\n",
    "- `username` — имя пользователя, написавшего обзор;\n",
    "- `text` — текст обзора.\n"
   ]
  },
  {
   "attachments": {
    "%D1%81%D0%B2%D1%8F%D0%B7%D1%8C%20%D1%82%D0%B0%D0%B1%D0%BB%D0%B8%D1%86.png": {
     "image/png": "[encoded data removed]"
    }
   },
   "cell_type": "markdown",
   "id": "1cd739ad",
   "metadata": {},
   "source": [
    "![%D1%81%D0%B2%D1%8F%D0%B7%D1%8C%20%D1%82%D0%B0%D0%B1%D0%BB%D0%B8%D1%86.png](attachment:%D1%81%D0%B2%D1%8F%D0%B7%D1%8C%20%D1%82%D0%B0%D0%B1%D0%BB%D0%B8%D1%86.png)"
   ]
  },
  {
   "cell_type": "markdown",
   "id": "2190671b",
   "metadata": {},
   "source": [
    "## Импорт библиотек"
   ]
  },
  {
   "cell_type": "code",
   "execution_count": 1,
   "id": "39189adb",
   "metadata": {},
   "outputs": [],
   "source": [
    "# импортируем библиотеки\n",
    "import pandas as pd\n",
    "from sqlalchemy import create_engine\n",
    "\n",
    "# подавление предупреждений \n",
    "import warnings\n",
    "warnings.filterwarnings('ignore')\n",
    "\n",
    "# для вывода всех символов в значениях столбцов таблицы\n",
    "pd.set_option('max_colwidth', -1)"
   ]
  },
  {
   "cell_type": "code",
   "execution_count": 2,
   "id": "7628e438",
   "metadata": {},
   "outputs": [],
   "source": [
    "# устанавливаем параметры\n",
    "db_config = {'user': '...', # имя пользователя\n",
    "'pwd':'...', # пароль\n",
    "'host': '....',\n",
    "'port': ...., # порт подключения\n",
    "'db': '....'} # название базы данных\n",
    "connection_string = 'postgresql://{}:{}@{}:{}/{}'.format(db_config['user'],\n",
    " db_config['pwd'],\n",
    " db_config['host'],\n",
    " db_config['port'],\n",
    " db_config['db'])\n",
    "# сохраняем коннектор\n",
    "engine = create_engine(connection_string, connect_args={'sslmode':'require'}) "
   ]
  },
  {
   "cell_type": "markdown",
   "id": "2be56776",
   "metadata": {},
   "source": [
    "# Анализ"
   ]
  },
  {
   "cell_type": "code",
   "execution_count": 3,
   "id": "7287e367",
   "metadata": {},
   "outputs": [
    {
     "data": {
      "text/html": [
       "<div>\n",
       "<style scoped>\n",
       "    .dataframe tbody tr th:only-of-type {\n",
       "        vertical-align: middle;\n",
       "    }\n",
       "\n",
       "    .dataframe tbody tr th {\n",
       "        vertical-align: top;\n",
       "    }\n",
       "\n",
       "    .dataframe thead th {\n",
       "        text-align: right;\n",
       "    }\n",
       "</style>\n",
       "<table border=\"1\" class=\"dataframe\">\n",
       "  <thead>\n",
       "    <tr style=\"text-align: right;\">\n",
       "      <th></th>\n",
       "      <th>book_id</th>\n",
       "      <th>author_id</th>\n",
       "      <th>title</th>\n",
       "      <th>num_pages</th>\n",
       "      <th>publication_date</th>\n",
       "      <th>publisher_id</th>\n",
       "    </tr>\n",
       "  </thead>\n",
       "  <tbody>\n",
       "    <tr>\n",
       "      <th>0</th>\n",
       "      <td>1</td>\n",
       "      <td>546</td>\n",
       "      <td>'Salem's Lot</td>\n",
       "      <td>594</td>\n",
       "      <td>2005-11-01</td>\n",
       "      <td>93</td>\n",
       "    </tr>\n",
       "    <tr>\n",
       "      <th>1</th>\n",
       "      <td>2</td>\n",
       "      <td>465</td>\n",
       "      <td>1 000 Places to See Before You Die</td>\n",
       "      <td>992</td>\n",
       "      <td>2003-05-22</td>\n",
       "      <td>336</td>\n",
       "    </tr>\n",
       "    <tr>\n",
       "      <th>2</th>\n",
       "      <td>3</td>\n",
       "      <td>407</td>\n",
       "      <td>13 Little Blue Envelopes (Little Blue Envelope  #1)</td>\n",
       "      <td>322</td>\n",
       "      <td>2010-12-21</td>\n",
       "      <td>135</td>\n",
       "    </tr>\n",
       "    <tr>\n",
       "      <th>3</th>\n",
       "      <td>4</td>\n",
       "      <td>82</td>\n",
       "      <td>1491: New Revelations of the Americas Before Columbus</td>\n",
       "      <td>541</td>\n",
       "      <td>2006-10-10</td>\n",
       "      <td>309</td>\n",
       "    </tr>\n",
       "    <tr>\n",
       "      <th>4</th>\n",
       "      <td>5</td>\n",
       "      <td>125</td>\n",
       "      <td>1776</td>\n",
       "      <td>386</td>\n",
       "      <td>2006-07-04</td>\n",
       "      <td>268</td>\n",
       "    </tr>\n",
       "  </tbody>\n",
       "</table>\n",
       "</div>"
      ],
      "text/plain": [
       "   book_id  author_id                                                  title  \\\n",
       "0  1        546        'Salem's Lot                                            \n",
       "1  2        465        1 000 Places to See Before You Die                      \n",
       "2  3        407        13 Little Blue Envelopes (Little Blue Envelope  #1)     \n",
       "3  4        82         1491: New Revelations of the Americas Before Columbus   \n",
       "4  5        125        1776                                                    \n",
       "\n",
       "   num_pages publication_date  publisher_id  \n",
       "0  594        2005-11-01       93            \n",
       "1  992        2003-05-22       336           \n",
       "2  322        2010-12-21       135           \n",
       "3  541        2006-10-10       309           \n",
       "4  386        2006-07-04       268           "
      ]
     },
     "execution_count": 3,
     "metadata": {},
     "output_type": "execute_result"
    }
   ],
   "source": [
    "query_books = '''\n",
    "        SELECT *\n",
    "        FROM books\n",
    "        LIMIT 5\n",
    "        '''\n",
    "books = pd.io.sql.read_sql(query_books, con = engine)\n",
    "\n",
    "books"
   ]
  },
  {
   "cell_type": "code",
   "execution_count": 4,
   "id": "c29c7ce3",
   "metadata": {},
   "outputs": [
    {
     "data": {
      "text/html": [
       "<div>\n",
       "<style scoped>\n",
       "    .dataframe tbody tr th:only-of-type {\n",
       "        vertical-align: middle;\n",
       "    }\n",
       "\n",
       "    .dataframe tbody tr th {\n",
       "        vertical-align: top;\n",
       "    }\n",
       "\n",
       "    .dataframe thead th {\n",
       "        text-align: right;\n",
       "    }\n",
       "</style>\n",
       "<table border=\"1\" class=\"dataframe\">\n",
       "  <thead>\n",
       "    <tr style=\"text-align: right;\">\n",
       "      <th></th>\n",
       "      <th>author_id</th>\n",
       "      <th>author</th>\n",
       "    </tr>\n",
       "  </thead>\n",
       "  <tbody>\n",
       "    <tr>\n",
       "      <th>0</th>\n",
       "      <td>1</td>\n",
       "      <td>A.S. Byatt</td>\n",
       "    </tr>\n",
       "    <tr>\n",
       "      <th>1</th>\n",
       "      <td>2</td>\n",
       "      <td>Aesop/Laura Harris/Laura Gibbs</td>\n",
       "    </tr>\n",
       "    <tr>\n",
       "      <th>2</th>\n",
       "      <td>3</td>\n",
       "      <td>Agatha Christie</td>\n",
       "    </tr>\n",
       "    <tr>\n",
       "      <th>3</th>\n",
       "      <td>4</td>\n",
       "      <td>Alan Brennert</td>\n",
       "    </tr>\n",
       "    <tr>\n",
       "      <th>4</th>\n",
       "      <td>5</td>\n",
       "      <td>Alan Moore/David   Lloyd</td>\n",
       "    </tr>\n",
       "  </tbody>\n",
       "</table>\n",
       "</div>"
      ],
      "text/plain": [
       "   author_id                          author\n",
       "0  1          A.S. Byatt                    \n",
       "1  2          Aesop/Laura Harris/Laura Gibbs\n",
       "2  3          Agatha Christie               \n",
       "3  4          Alan Brennert                 \n",
       "4  5          Alan Moore/David   Lloyd      "
      ]
     },
     "execution_count": 4,
     "metadata": {},
     "output_type": "execute_result"
    }
   ],
   "source": [
    "query_authors = '''\n",
    "        SELECT *\n",
    "        FROM authors\n",
    "        LIMIT 5\n",
    "        '''\n",
    "authors = pd.io.sql.read_sql(query_authors, con = engine)\n",
    "\n",
    "authors"
   ]
  },
  {
   "cell_type": "code",
   "execution_count": 5,
   "id": "7123c65a",
   "metadata": {},
   "outputs": [
    {
     "data": {
      "text/html": [
       "<div>\n",
       "<style scoped>\n",
       "    .dataframe tbody tr th:only-of-type {\n",
       "        vertical-align: middle;\n",
       "    }\n",
       "\n",
       "    .dataframe tbody tr th {\n",
       "        vertical-align: top;\n",
       "    }\n",
       "\n",
       "    .dataframe thead th {\n",
       "        text-align: right;\n",
       "    }\n",
       "</style>\n",
       "<table border=\"1\" class=\"dataframe\">\n",
       "  <thead>\n",
       "    <tr style=\"text-align: right;\">\n",
       "      <th></th>\n",
       "      <th>publisher_id</th>\n",
       "      <th>publisher</th>\n",
       "    </tr>\n",
       "  </thead>\n",
       "  <tbody>\n",
       "    <tr>\n",
       "      <th>0</th>\n",
       "      <td>1</td>\n",
       "      <td>Ace</td>\n",
       "    </tr>\n",
       "    <tr>\n",
       "      <th>1</th>\n",
       "      <td>2</td>\n",
       "      <td>Ace Book</td>\n",
       "    </tr>\n",
       "    <tr>\n",
       "      <th>2</th>\n",
       "      <td>3</td>\n",
       "      <td>Ace Books</td>\n",
       "    </tr>\n",
       "    <tr>\n",
       "      <th>3</th>\n",
       "      <td>4</td>\n",
       "      <td>Ace Hardcover</td>\n",
       "    </tr>\n",
       "    <tr>\n",
       "      <th>4</th>\n",
       "      <td>5</td>\n",
       "      <td>Addison Wesley Publishing Company</td>\n",
       "    </tr>\n",
       "  </tbody>\n",
       "</table>\n",
       "</div>"
      ],
      "text/plain": [
       "   publisher_id                          publisher\n",
       "0  1             Ace                              \n",
       "1  2             Ace Book                         \n",
       "2  3             Ace Books                        \n",
       "3  4             Ace Hardcover                    \n",
       "4  5             Addison Wesley Publishing Company"
      ]
     },
     "execution_count": 5,
     "metadata": {},
     "output_type": "execute_result"
    }
   ],
   "source": [
    "query_publishers = '''\n",
    "        SELECT *\n",
    "        FROM publishers\n",
    "        LIMIT 5\n",
    "        '''\n",
    "publishers = pd.io.sql.read_sql(query_publishers, con = engine)\n",
    "\n",
    "publishers"
   ]
  },
  {
   "cell_type": "code",
   "execution_count": 6,
   "id": "17df6be8",
   "metadata": {},
   "outputs": [
    {
     "data": {
      "text/html": [
       "<div>\n",
       "<style scoped>\n",
       "    .dataframe tbody tr th:only-of-type {\n",
       "        vertical-align: middle;\n",
       "    }\n",
       "\n",
       "    .dataframe tbody tr th {\n",
       "        vertical-align: top;\n",
       "    }\n",
       "\n",
       "    .dataframe thead th {\n",
       "        text-align: right;\n",
       "    }\n",
       "</style>\n",
       "<table border=\"1\" class=\"dataframe\">\n",
       "  <thead>\n",
       "    <tr style=\"text-align: right;\">\n",
       "      <th></th>\n",
       "      <th>rating_id</th>\n",
       "      <th>book_id</th>\n",
       "      <th>username</th>\n",
       "      <th>rating</th>\n",
       "    </tr>\n",
       "  </thead>\n",
       "  <tbody>\n",
       "    <tr>\n",
       "      <th>0</th>\n",
       "      <td>1</td>\n",
       "      <td>1</td>\n",
       "      <td>ryanfranco</td>\n",
       "      <td>4</td>\n",
       "    </tr>\n",
       "    <tr>\n",
       "      <th>1</th>\n",
       "      <td>2</td>\n",
       "      <td>1</td>\n",
       "      <td>grantpatricia</td>\n",
       "      <td>2</td>\n",
       "    </tr>\n",
       "    <tr>\n",
       "      <th>2</th>\n",
       "      <td>3</td>\n",
       "      <td>1</td>\n",
       "      <td>brandtandrea</td>\n",
       "      <td>5</td>\n",
       "    </tr>\n",
       "    <tr>\n",
       "      <th>3</th>\n",
       "      <td>4</td>\n",
       "      <td>2</td>\n",
       "      <td>lorichen</td>\n",
       "      <td>3</td>\n",
       "    </tr>\n",
       "    <tr>\n",
       "      <th>4</th>\n",
       "      <td>5</td>\n",
       "      <td>2</td>\n",
       "      <td>mariokeller</td>\n",
       "      <td>2</td>\n",
       "    </tr>\n",
       "  </tbody>\n",
       "</table>\n",
       "</div>"
      ],
      "text/plain": [
       "   rating_id  book_id       username  rating\n",
       "0  1          1        ryanfranco     4     \n",
       "1  2          1        grantpatricia  2     \n",
       "2  3          1        brandtandrea   5     \n",
       "3  4          2        lorichen       3     \n",
       "4  5          2        mariokeller    2     "
      ]
     },
     "execution_count": 6,
     "metadata": {},
     "output_type": "execute_result"
    }
   ],
   "source": [
    "query_ratings = '''\n",
    "        SELECT *\n",
    "        FROM ratings\n",
    "        LIMIT 5\n",
    "        '''\n",
    "ratings = pd.io.sql.read_sql(query_ratings, con = engine)\n",
    "\n",
    "ratings"
   ]
  },
  {
   "cell_type": "code",
   "execution_count": 7,
   "id": "2ece13b4",
   "metadata": {},
   "outputs": [
    {
     "data": {
      "text/html": [
       "<div>\n",
       "<style scoped>\n",
       "    .dataframe tbody tr th:only-of-type {\n",
       "        vertical-align: middle;\n",
       "    }\n",
       "\n",
       "    .dataframe tbody tr th {\n",
       "        vertical-align: top;\n",
       "    }\n",
       "\n",
       "    .dataframe thead th {\n",
       "        text-align: right;\n",
       "    }\n",
       "</style>\n",
       "<table border=\"1\" class=\"dataframe\">\n",
       "  <thead>\n",
       "    <tr style=\"text-align: right;\">\n",
       "      <th></th>\n",
       "      <th>review_id</th>\n",
       "      <th>book_id</th>\n",
       "      <th>username</th>\n",
       "      <th>text</th>\n",
       "    </tr>\n",
       "  </thead>\n",
       "  <tbody>\n",
       "    <tr>\n",
       "      <th>0</th>\n",
       "      <td>1</td>\n",
       "      <td>1</td>\n",
       "      <td>brandtandrea</td>\n",
       "      <td>Mention society tell send professor analysis. Over provide race technology continue these.</td>\n",
       "    </tr>\n",
       "    <tr>\n",
       "      <th>1</th>\n",
       "      <td>2</td>\n",
       "      <td>1</td>\n",
       "      <td>ryanfranco</td>\n",
       "      <td>Foot glass pretty audience hit themselves. Among admit investment argue security.</td>\n",
       "    </tr>\n",
       "    <tr>\n",
       "      <th>2</th>\n",
       "      <td>3</td>\n",
       "      <td>2</td>\n",
       "      <td>lorichen</td>\n",
       "      <td>Listen treat keep worry. Miss husband tax but person sport treatment industry. Kitchen decision deep the. Social party body the.</td>\n",
       "    </tr>\n",
       "    <tr>\n",
       "      <th>3</th>\n",
       "      <td>4</td>\n",
       "      <td>3</td>\n",
       "      <td>johnsonamanda</td>\n",
       "      <td>Finally month interesting blue could nature cultural bit. Prepare beat finish grow that smile teach. Dream me play near.</td>\n",
       "    </tr>\n",
       "    <tr>\n",
       "      <th>4</th>\n",
       "      <td>5</td>\n",
       "      <td>3</td>\n",
       "      <td>scotttamara</td>\n",
       "      <td>Nation purpose heavy give wait song will. List dinner another whole positive radio fast. Music staff many green.</td>\n",
       "    </tr>\n",
       "  </tbody>\n",
       "</table>\n",
       "</div>"
      ],
      "text/plain": [
       "   review_id  book_id       username  \\\n",
       "0  1          1        brandtandrea    \n",
       "1  2          1        ryanfranco      \n",
       "2  3          2        lorichen        \n",
       "3  4          3        johnsonamanda   \n",
       "4  5          3        scotttamara     \n",
       "\n",
       "                                                                                                                               text  \n",
       "0  Mention society tell send professor analysis. Over provide race technology continue these.                                        \n",
       "1  Foot glass pretty audience hit themselves. Among admit investment argue security.                                                 \n",
       "2  Listen treat keep worry. Miss husband tax but person sport treatment industry. Kitchen decision deep the. Social party body the.  \n",
       "3  Finally month interesting blue could nature cultural bit. Prepare beat finish grow that smile teach. Dream me play near.          \n",
       "4  Nation purpose heavy give wait song will. List dinner another whole positive radio fast. Music staff many green.                  "
      ]
     },
     "execution_count": 7,
     "metadata": {},
     "output_type": "execute_result"
    }
   ],
   "source": [
    "query_reviews = '''\n",
    "        SELECT *\n",
    "        FROM reviews\n",
    "        LIMIT 5\n",
    "        '''\n",
    "reviews = pd.io.sql.read_sql(query_reviews, con = engine)\n",
    "\n",
    "reviews"
   ]
  },
  {
   "cell_type": "markdown",
   "id": "44024601",
   "metadata": {},
   "source": [
    "## кол-во книг после 1 января 2000 года"
   ]
  },
  {
   "cell_type": "code",
   "execution_count": 8,
   "id": "6cf09551",
   "metadata": {},
   "outputs": [
    {
     "data": {
      "text/html": [
       "<div>\n",
       "<style scoped>\n",
       "    .dataframe tbody tr th:only-of-type {\n",
       "        vertical-align: middle;\n",
       "    }\n",
       "\n",
       "    .dataframe tbody tr th {\n",
       "        vertical-align: top;\n",
       "    }\n",
       "\n",
       "    .dataframe thead th {\n",
       "        text-align: right;\n",
       "    }\n",
       "</style>\n",
       "<table border=\"1\" class=\"dataframe\">\n",
       "  <thead>\n",
       "    <tr style=\"text-align: right;\">\n",
       "      <th></th>\n",
       "      <th>book_id</th>\n",
       "      <th>author_id</th>\n",
       "      <th>title</th>\n",
       "      <th>num_pages</th>\n",
       "      <th>publication_date</th>\n",
       "      <th>publisher_id</th>\n",
       "    </tr>\n",
       "  </thead>\n",
       "  <tbody>\n",
       "    <tr>\n",
       "      <th>0</th>\n",
       "      <td>1</td>\n",
       "      <td>546</td>\n",
       "      <td>'Salem's Lot</td>\n",
       "      <td>594</td>\n",
       "      <td>2005-11-01</td>\n",
       "      <td>93</td>\n",
       "    </tr>\n",
       "    <tr>\n",
       "      <th>1</th>\n",
       "      <td>2</td>\n",
       "      <td>465</td>\n",
       "      <td>1 000 Places to See Before You Die</td>\n",
       "      <td>992</td>\n",
       "      <td>2003-05-22</td>\n",
       "      <td>336</td>\n",
       "    </tr>\n",
       "    <tr>\n",
       "      <th>2</th>\n",
       "      <td>3</td>\n",
       "      <td>407</td>\n",
       "      <td>13 Little Blue Envelopes (Little Blue Envelope  #1)</td>\n",
       "      <td>322</td>\n",
       "      <td>2010-12-21</td>\n",
       "      <td>135</td>\n",
       "    </tr>\n",
       "    <tr>\n",
       "      <th>3</th>\n",
       "      <td>4</td>\n",
       "      <td>82</td>\n",
       "      <td>1491: New Revelations of the Americas Before Columbus</td>\n",
       "      <td>541</td>\n",
       "      <td>2006-10-10</td>\n",
       "      <td>309</td>\n",
       "    </tr>\n",
       "    <tr>\n",
       "      <th>4</th>\n",
       "      <td>5</td>\n",
       "      <td>125</td>\n",
       "      <td>1776</td>\n",
       "      <td>386</td>\n",
       "      <td>2006-07-04</td>\n",
       "      <td>268</td>\n",
       "    </tr>\n",
       "  </tbody>\n",
       "</table>\n",
       "</div>"
      ],
      "text/plain": [
       "   book_id  author_id                                                  title  \\\n",
       "0  1        546        'Salem's Lot                                            \n",
       "1  2        465        1 000 Places to See Before You Die                      \n",
       "2  3        407        13 Little Blue Envelopes (Little Blue Envelope  #1)     \n",
       "3  4        82         1491: New Revelations of the Americas Before Columbus   \n",
       "4  5        125        1776                                                    \n",
       "\n",
       "   num_pages publication_date  publisher_id  \n",
       "0  594        2005-11-01       93            \n",
       "1  992        2003-05-22       336           \n",
       "2  322        2010-12-21       135           \n",
       "3  541        2006-10-10       309           \n",
       "4  386        2006-07-04       268           "
      ]
     },
     "execution_count": 8,
     "metadata": {},
     "output_type": "execute_result"
    }
   ],
   "source": [
    "books"
   ]
  },
  {
   "cell_type": "code",
   "execution_count": 9,
   "id": "7c320c85",
   "metadata": {},
   "outputs": [
    {
     "data": {
      "text/html": [
       "<div>\n",
       "<style scoped>\n",
       "    .dataframe tbody tr th:only-of-type {\n",
       "        vertical-align: middle;\n",
       "    }\n",
       "\n",
       "    .dataframe tbody tr th {\n",
       "        vertical-align: top;\n",
       "    }\n",
       "\n",
       "    .dataframe thead th {\n",
       "        text-align: right;\n",
       "    }\n",
       "</style>\n",
       "<table border=\"1\" class=\"dataframe\">\n",
       "  <thead>\n",
       "    <tr style=\"text-align: right;\">\n",
       "      <th></th>\n",
       "      <th>cnt_book_after_01_01_2000</th>\n",
       "    </tr>\n",
       "  </thead>\n",
       "  <tbody>\n",
       "    <tr>\n",
       "      <th>0</th>\n",
       "      <td>820</td>\n",
       "    </tr>\n",
       "  </tbody>\n",
       "</table>\n",
       "</div>"
      ],
      "text/plain": [
       "   cnt_book_after_01_01_2000\n",
       "0  820                      "
      ]
     },
     "execution_count": 9,
     "metadata": {},
     "output_type": "execute_result"
    }
   ],
   "source": [
    "query_books_after_01_01_2000 = '''\n",
    "        SELECT \n",
    "            COUNT(DISTINCT title) AS cnt_book_after_01_01_2000\n",
    "            \n",
    "        FROM \n",
    "            books\n",
    "            \n",
    "        WHERE\n",
    "            publication_date >= '2000-01-01'\n",
    "        '''\n",
    "books_after_01_01_2000 = pd.io.sql.read_sql(query_books_after_01_01_2000, con = engine)\n",
    "\n",
    "books_after_01_01_2000"
   ]
  },
  {
   "cell_type": "markdown",
   "id": "2b6b0c63",
   "metadata": {},
   "source": [
    "## кол-во обзоров и средняя оценка\n",
    "\n",
    "Для каждой книги посчитайте количество обзоров и среднюю оценку"
   ]
  },
  {
   "cell_type": "code",
   "execution_count": 10,
   "id": "fdf8640e",
   "metadata": {},
   "outputs": [
    {
     "data": {
      "text/html": [
       "<div>\n",
       "<style scoped>\n",
       "    .dataframe tbody tr th:only-of-type {\n",
       "        vertical-align: middle;\n",
       "    }\n",
       "\n",
       "    .dataframe tbody tr th {\n",
       "        vertical-align: top;\n",
       "    }\n",
       "\n",
       "    .dataframe thead th {\n",
       "        text-align: right;\n",
       "    }\n",
       "</style>\n",
       "<table border=\"1\" class=\"dataframe\">\n",
       "  <thead>\n",
       "    <tr style=\"text-align: right;\">\n",
       "      <th></th>\n",
       "      <th>book_id</th>\n",
       "      <th>title</th>\n",
       "      <th>cnt_reviews</th>\n",
       "      <th>avg_ratings</th>\n",
       "    </tr>\n",
       "  </thead>\n",
       "  <tbody>\n",
       "    <tr>\n",
       "      <th>0</th>\n",
       "      <td>948</td>\n",
       "      <td>Twilight (Twilight  #1)</td>\n",
       "      <td>7</td>\n",
       "      <td>3.662500</td>\n",
       "    </tr>\n",
       "    <tr>\n",
       "      <th>1</th>\n",
       "      <td>302</td>\n",
       "      <td>Harry Potter and the Prisoner of Azkaban (Harry Potter  #3)</td>\n",
       "      <td>6</td>\n",
       "      <td>4.414634</td>\n",
       "    </tr>\n",
       "    <tr>\n",
       "      <th>2</th>\n",
       "      <td>299</td>\n",
       "      <td>Harry Potter and the Chamber of Secrets (Harry Potter  #2)</td>\n",
       "      <td>6</td>\n",
       "      <td>4.287500</td>\n",
       "    </tr>\n",
       "    <tr>\n",
       "      <th>3</th>\n",
       "      <td>656</td>\n",
       "      <td>The Book Thief</td>\n",
       "      <td>6</td>\n",
       "      <td>4.264151</td>\n",
       "    </tr>\n",
       "    <tr>\n",
       "      <th>4</th>\n",
       "      <td>734</td>\n",
       "      <td>The Glass Castle</td>\n",
       "      <td>6</td>\n",
       "      <td>4.206897</td>\n",
       "    </tr>\n",
       "    <tr>\n",
       "      <th>5</th>\n",
       "      <td>497</td>\n",
       "      <td>Outlander (Outlander  #1)</td>\n",
       "      <td>6</td>\n",
       "      <td>4.125000</td>\n",
       "    </tr>\n",
       "    <tr>\n",
       "      <th>6</th>\n",
       "      <td>750</td>\n",
       "      <td>The Hobbit  or There and Back Again</td>\n",
       "      <td>6</td>\n",
       "      <td>4.125000</td>\n",
       "    </tr>\n",
       "    <tr>\n",
       "      <th>7</th>\n",
       "      <td>695</td>\n",
       "      <td>The Curious Incident of the Dog in the Night-Time</td>\n",
       "      <td>6</td>\n",
       "      <td>4.081081</td>\n",
       "    </tr>\n",
       "    <tr>\n",
       "      <th>8</th>\n",
       "      <td>779</td>\n",
       "      <td>The Lightning Thief (Percy Jackson and the Olympians  #1)</td>\n",
       "      <td>6</td>\n",
       "      <td>4.080645</td>\n",
       "    </tr>\n",
       "    <tr>\n",
       "      <th>9</th>\n",
       "      <td>963</td>\n",
       "      <td>Water for Elephants</td>\n",
       "      <td>6</td>\n",
       "      <td>3.977273</td>\n",
       "    </tr>\n",
       "  </tbody>\n",
       "</table>\n",
       "</div>"
      ],
      "text/plain": [
       "   book_id                                                        title  \\\n",
       "0  948      Twilight (Twilight  #1)                                       \n",
       "1  302      Harry Potter and the Prisoner of Azkaban (Harry Potter  #3)   \n",
       "2  299      Harry Potter and the Chamber of Secrets (Harry Potter  #2)    \n",
       "3  656      The Book Thief                                                \n",
       "4  734      The Glass Castle                                              \n",
       "5  497      Outlander (Outlander  #1)                                     \n",
       "6  750      The Hobbit  or There and Back Again                           \n",
       "7  695      The Curious Incident of the Dog in the Night-Time             \n",
       "8  779      The Lightning Thief (Percy Jackson and the Olympians  #1)     \n",
       "9  963      Water for Elephants                                           \n",
       "\n",
       "   cnt_reviews  avg_ratings  \n",
       "0  7            3.662500     \n",
       "1  6            4.414634     \n",
       "2  6            4.287500     \n",
       "3  6            4.264151     \n",
       "4  6            4.206897     \n",
       "5  6            4.125000     \n",
       "6  6            4.125000     \n",
       "7  6            4.081081     \n",
       "8  6            4.080645     \n",
       "9  6            3.977273     "
      ]
     },
     "execution_count": 10,
     "metadata": {},
     "output_type": "execute_result"
    }
   ],
   "source": [
    "cnt_reviews_and_avg_ratings = '''\n",
    "        SELECT \n",
    "            books.book_id,\n",
    "            books.title,\n",
    "            COUNT(DISTINCT reviews.review_id) AS cnt_reviews, \n",
    "            AVG (CAST(ratings.rating AS integer)) AS avg_ratings\n",
    "             \n",
    "        FROM \n",
    "            books\n",
    "        LEFT JOIN reviews ON reviews.book_id = books.book_id \n",
    "        LEFT JOIN ratings ON ratings.book_id = books.book_id\n",
    "            \n",
    "        GROUP BY \n",
    "            books.book_id,\n",
    "            books.title\n",
    "            \n",
    "        ORDER BY \n",
    "            cnt_reviews DESC,\n",
    "            avg_ratings DESC         \n",
    "                        \n",
    "        LIMIT 10\n",
    "             \n",
    "        '''\n",
    "cnt_reviews_and_avg_ratings = pd.io.sql.read_sql(cnt_reviews_and_avg_ratings, con = engine)\n",
    "\n",
    "cnt_reviews_and_avg_ratings"
   ]
  },
  {
   "cell_type": "markdown",
   "id": "5bd9a3c7",
   "metadata": {},
   "source": [
    "## издательство\n",
    "\n",
    "Определите издательство, которое выпустило наибольшее число книг толще 50 страниц — так вы исключите из анализа брошюры;"
   ]
  },
  {
   "cell_type": "code",
   "execution_count": 11,
   "id": "a8d38123",
   "metadata": {},
   "outputs": [
    {
     "data": {
      "text/html": [
       "<div>\n",
       "<style scoped>\n",
       "    .dataframe tbody tr th:only-of-type {\n",
       "        vertical-align: middle;\n",
       "    }\n",
       "\n",
       "    .dataframe tbody tr th {\n",
       "        vertical-align: top;\n",
       "    }\n",
       "\n",
       "    .dataframe thead th {\n",
       "        text-align: right;\n",
       "    }\n",
       "</style>\n",
       "<table border=\"1\" class=\"dataframe\">\n",
       "  <thead>\n",
       "    <tr style=\"text-align: right;\">\n",
       "      <th></th>\n",
       "      <th>publisher_id</th>\n",
       "      <th>publisher</th>\n",
       "      <th>books_cnt</th>\n",
       "    </tr>\n",
       "  </thead>\n",
       "  <tbody>\n",
       "    <tr>\n",
       "      <th>0</th>\n",
       "      <td>212</td>\n",
       "      <td>Penguin Books</td>\n",
       "      <td>42</td>\n",
       "    </tr>\n",
       "  </tbody>\n",
       "</table>\n",
       "</div>"
      ],
      "text/plain": [
       "   publisher_id      publisher  books_cnt\n",
       "0  212           Penguin Books  42       "
      ]
     },
     "execution_count": 11,
     "metadata": {},
     "output_type": "execute_result"
    }
   ],
   "source": [
    "publishers_cnt_book = '''\n",
    "        SELECT \n",
    "            publishers.publisher_id,\n",
    "            publishers.publisher,\n",
    "            COUNT(books.book_id) AS books_cnt\n",
    "            \n",
    "             \n",
    "        FROM \n",
    "            books\n",
    "        LEFT JOIN publishers ON publishers.publisher_id = books.publisher_id \n",
    "        \n",
    "        WHERE\n",
    "            books.num_pages >= 50\n",
    "        \n",
    "        GROUP BY\n",
    "            publishers.publisher_id,\n",
    "            publishers.publisher\n",
    "            \n",
    "        ORDER BY\n",
    "            books_cnt DESC\n",
    "                       \n",
    "        LIMIT 1\n",
    "             \n",
    "        '''\n",
    "publishers_cnt_book = pd.io.sql.read_sql(publishers_cnt_book, con = engine)\n",
    "\n",
    "publishers_cnt_book"
   ]
  },
  {
   "cell_type": "markdown",
   "id": "c33f90e2",
   "metadata": {},
   "source": [
    "## автор с высокой средней оценкой книг\n",
    "\n",
    "Определите автора с самой высокой средней оценкой книг — учитывайте только книги с 50 и более оценками;"
   ]
  },
  {
   "cell_type": "code",
   "execution_count": 12,
   "id": "8bca2f88",
   "metadata": {},
   "outputs": [
    {
     "data": {
      "text/html": [
       "<div>\n",
       "<style scoped>\n",
       "    .dataframe tbody tr th:only-of-type {\n",
       "        vertical-align: middle;\n",
       "    }\n",
       "\n",
       "    .dataframe tbody tr th {\n",
       "        vertical-align: top;\n",
       "    }\n",
       "\n",
       "    .dataframe thead th {\n",
       "        text-align: right;\n",
       "    }\n",
       "</style>\n",
       "<table border=\"1\" class=\"dataframe\">\n",
       "  <thead>\n",
       "    <tr style=\"text-align: right;\">\n",
       "      <th></th>\n",
       "      <th>author_id</th>\n",
       "      <th>author</th>\n",
       "      <th>cnt_rating</th>\n",
       "      <th>sum_rating</th>\n",
       "      <th>avg_rating</th>\n",
       "    </tr>\n",
       "  </thead>\n",
       "  <tbody>\n",
       "    <tr>\n",
       "      <th>0</th>\n",
       "      <td>236</td>\n",
       "      <td>J.K. Rowling/Mary GrandPré</td>\n",
       "      <td>310.0</td>\n",
       "      <td>1329.0</td>\n",
       "      <td>4.287097</td>\n",
       "    </tr>\n",
       "  </tbody>\n",
       "</table>\n",
       "</div>"
      ],
      "text/plain": [
       "   author_id                      author  cnt_rating  sum_rating  avg_rating\n",
       "0  236        J.K. Rowling/Mary GrandPré  310.0       1329.0      4.287097  "
      ]
     },
     "execution_count": 12,
     "metadata": {},
     "output_type": "execute_result"
    }
   ],
   "source": [
    "authors_best_avg_ratings = '''\n",
    "        SELECT \n",
    "            authors.author_id, \n",
    "            authors.author,\n",
    "            SUM(COUNT_RATING_BOOK.cnt_rating) AS cnt_rating,\n",
    "            SUM(COUNT_RATING_BOOK.sum_rating) AS sum_rating,\n",
    "            SUM(COUNT_RATING_BOOK.sum_rating) / SUM(COUNT_RATING_BOOK.cnt_rating) AS avg_rating\n",
    "             \n",
    "        FROM \n",
    "        (SELECT \n",
    "            books.book_id,\n",
    "            books.title,\n",
    "            books.author_id,\n",
    "            COUNT(ratings.rating) AS cnt_rating,\n",
    "            SUM(ratings.rating) AS sum_rating\n",
    "             \n",
    "        FROM \n",
    "            books\n",
    "        INNER JOIN ratings ON ratings.book_id = books.book_id\n",
    "             \n",
    "        GROUP BY\n",
    "            books.book_id,\n",
    "            books.title,\n",
    "            books.author_id          \n",
    "            \n",
    "        HAVING\n",
    "            COUNT(ratings.rating) >= 50           \n",
    "        ) AS COUNT_RATING_BOOK\n",
    "        \n",
    "        LEFT JOIN authors ON authors.author_id = COUNT_RATING_BOOK.author_id\n",
    "        \n",
    "        GROUP BY\n",
    "            authors.author_id, \n",
    "            authors.author\n",
    "            \n",
    "            \n",
    "        --HAVING--\n",
    "            \n",
    "            \n",
    "        ORDER BY\n",
    "            avg_rating DESC\n",
    "            \n",
    "                       \n",
    "        LIMIT 1\n",
    "             \n",
    "        '''\n",
    "authors_best_avg_ratings = pd.io.sql.read_sql(authors_best_avg_ratings, con = engine)\n",
    "\n",
    "authors_best_avg_ratings"
   ]
  },
  {
   "cell_type": "markdown",
   "id": "af263145",
   "metadata": {},
   "source": [
    "## среднее кол-во обзоров от пользователей\n",
    "\n",
    "Посчитайте среднее количество обзоров от пользователей, которые поставили больше 50 оценок."
   ]
  },
  {
   "cell_type": "code",
   "execution_count": 13,
   "id": "ab9609e0",
   "metadata": {},
   "outputs": [
    {
     "data": {
      "text/html": [
       "<div>\n",
       "<style scoped>\n",
       "    .dataframe tbody tr th:only-of-type {\n",
       "        vertical-align: middle;\n",
       "    }\n",
       "\n",
       "    .dataframe tbody tr th {\n",
       "        vertical-align: top;\n",
       "    }\n",
       "\n",
       "    .dataframe thead th {\n",
       "        text-align: right;\n",
       "    }\n",
       "</style>\n",
       "<table border=\"1\" class=\"dataframe\">\n",
       "  <thead>\n",
       "    <tr style=\"text-align: right;\">\n",
       "      <th></th>\n",
       "      <th>avg_reviews_from_users_with_more_50_rating</th>\n",
       "    </tr>\n",
       "  </thead>\n",
       "  <tbody>\n",
       "    <tr>\n",
       "      <th>0</th>\n",
       "      <td>24</td>\n",
       "    </tr>\n",
       "  </tbody>\n",
       "</table>\n",
       "</div>"
      ],
      "text/plain": [
       "   avg_reviews_from_users_with_more_50_rating\n",
       "0  24                                        "
      ]
     },
     "execution_count": 13,
     "metadata": {},
     "output_type": "execute_result"
    }
   ],
   "source": [
    "avg_reviews_from_users_with_more_50_rating = '''\n",
    "        SELECT \n",
    "            COUNT(reviews.review_id) / COUNT(DISTINCT reviews.username) AS avg_reviews_from_users_with_more_50_rating\n",
    "             \n",
    "        FROM \n",
    "        (SELECT \n",
    "            ratings.username,\n",
    "            COUNT(ratings.rating_id)\n",
    "            \n",
    "        FROM \n",
    "            ratings  \n",
    "            \n",
    "        GROUP BY\n",
    "            ratings.username\n",
    "                    \n",
    "        HAVING\n",
    "            COUNT(ratings.rating_id) >= 50\n",
    "        ) AS users_with_more_50_rating_score\n",
    "        \n",
    "                 \n",
    "        INNER JOIN reviews ON reviews.username = users_with_more_50_rating_score.username\n",
    "             \n",
    "        '''\n",
    "\n",
    "avg_reviews_from_users_with_more_50_rating = pd.io.sql.read_sql(avg_reviews_from_users_with_more_50_rating, con = engine)\n",
    "\n",
    "avg_reviews_from_users_with_more_50_rating"
   ]
  },
  {
   "cell_type": "markdown",
   "id": "25a93caf",
   "metadata": {},
   "source": [
    "# Общие выводы и рекомендации\n",
    "\n"
   ]
  },
  {
   "cell_type": "markdown",
   "id": "165f6802",
   "metadata": {},
   "source": [
    "- **820** книг вышло после 1 января 2000 года;\n",
    "- Для каждой книги посчитали количество обзоров и среднюю оценку:"
   ]
  },
  {
   "cell_type": "code",
   "execution_count": 14,
   "id": "cf3abc0e",
   "metadata": {},
   "outputs": [
    {
     "data": {
      "text/html": [
       "<div>\n",
       "<style scoped>\n",
       "    .dataframe tbody tr th:only-of-type {\n",
       "        vertical-align: middle;\n",
       "    }\n",
       "\n",
       "    .dataframe tbody tr th {\n",
       "        vertical-align: top;\n",
       "    }\n",
       "\n",
       "    .dataframe thead th {\n",
       "        text-align: right;\n",
       "    }\n",
       "</style>\n",
       "<table border=\"1\" class=\"dataframe\">\n",
       "  <thead>\n",
       "    <tr style=\"text-align: right;\">\n",
       "      <th></th>\n",
       "      <th>book_id</th>\n",
       "      <th>title</th>\n",
       "      <th>cnt_reviews</th>\n",
       "      <th>avg_ratings</th>\n",
       "    </tr>\n",
       "  </thead>\n",
       "  <tbody>\n",
       "    <tr>\n",
       "      <th>0</th>\n",
       "      <td>948</td>\n",
       "      <td>Twilight (Twilight  #1)</td>\n",
       "      <td>7</td>\n",
       "      <td>3.662500</td>\n",
       "    </tr>\n",
       "    <tr>\n",
       "      <th>1</th>\n",
       "      <td>302</td>\n",
       "      <td>Harry Potter and the Prisoner of Azkaban (Harry Potter  #3)</td>\n",
       "      <td>6</td>\n",
       "      <td>4.414634</td>\n",
       "    </tr>\n",
       "    <tr>\n",
       "      <th>2</th>\n",
       "      <td>299</td>\n",
       "      <td>Harry Potter and the Chamber of Secrets (Harry Potter  #2)</td>\n",
       "      <td>6</td>\n",
       "      <td>4.287500</td>\n",
       "    </tr>\n",
       "    <tr>\n",
       "      <th>3</th>\n",
       "      <td>656</td>\n",
       "      <td>The Book Thief</td>\n",
       "      <td>6</td>\n",
       "      <td>4.264151</td>\n",
       "    </tr>\n",
       "    <tr>\n",
       "      <th>4</th>\n",
       "      <td>734</td>\n",
       "      <td>The Glass Castle</td>\n",
       "      <td>6</td>\n",
       "      <td>4.206897</td>\n",
       "    </tr>\n",
       "    <tr>\n",
       "      <th>5</th>\n",
       "      <td>497</td>\n",
       "      <td>Outlander (Outlander  #1)</td>\n",
       "      <td>6</td>\n",
       "      <td>4.125000</td>\n",
       "    </tr>\n",
       "    <tr>\n",
       "      <th>6</th>\n",
       "      <td>750</td>\n",
       "      <td>The Hobbit  or There and Back Again</td>\n",
       "      <td>6</td>\n",
       "      <td>4.125000</td>\n",
       "    </tr>\n",
       "    <tr>\n",
       "      <th>7</th>\n",
       "      <td>695</td>\n",
       "      <td>The Curious Incident of the Dog in the Night-Time</td>\n",
       "      <td>6</td>\n",
       "      <td>4.081081</td>\n",
       "    </tr>\n",
       "    <tr>\n",
       "      <th>8</th>\n",
       "      <td>779</td>\n",
       "      <td>The Lightning Thief (Percy Jackson and the Olympians  #1)</td>\n",
       "      <td>6</td>\n",
       "      <td>4.080645</td>\n",
       "    </tr>\n",
       "    <tr>\n",
       "      <th>9</th>\n",
       "      <td>963</td>\n",
       "      <td>Water for Elephants</td>\n",
       "      <td>6</td>\n",
       "      <td>3.977273</td>\n",
       "    </tr>\n",
       "  </tbody>\n",
       "</table>\n",
       "</div>"
      ],
      "text/plain": [
       "   book_id                                                        title  \\\n",
       "0  948      Twilight (Twilight  #1)                                       \n",
       "1  302      Harry Potter and the Prisoner of Azkaban (Harry Potter  #3)   \n",
       "2  299      Harry Potter and the Chamber of Secrets (Harry Potter  #2)    \n",
       "3  656      The Book Thief                                                \n",
       "4  734      The Glass Castle                                              \n",
       "5  497      Outlander (Outlander  #1)                                     \n",
       "6  750      The Hobbit  or There and Back Again                           \n",
       "7  695      The Curious Incident of the Dog in the Night-Time             \n",
       "8  779      The Lightning Thief (Percy Jackson and the Olympians  #1)     \n",
       "9  963      Water for Elephants                                           \n",
       "\n",
       "   cnt_reviews  avg_ratings  \n",
       "0  7            3.662500     \n",
       "1  6            4.414634     \n",
       "2  6            4.287500     \n",
       "3  6            4.264151     \n",
       "4  6            4.206897     \n",
       "5  6            4.125000     \n",
       "6  6            4.125000     \n",
       "7  6            4.081081     \n",
       "8  6            4.080645     \n",
       "9  6            3.977273     "
      ]
     },
     "execution_count": 14,
     "metadata": {},
     "output_type": "execute_result"
    }
   ],
   "source": [
    "cnt_reviews_and_avg_ratings"
   ]
  },
  {
   "cell_type": "markdown",
   "id": "a45504f2",
   "metadata": {},
   "source": [
    "- Издательство, которое выпустило наибольшее число книг толще 50 страниц — **Penguin Books**;\n",
    "- Автор с самой высокой средней оценкой книг — **J.K. Rowling/Mary GrandPré**;\n",
    "- Среднее количество обзоров от пользователей, которые поставили больше 50 оценок - **24**."
   ]
  }
 ],
 "metadata": {
  "ExecuteTimeLog": [
   {
    "duration": 2207,
    "start_time": "2021-06-29T08:55:33.939Z"
   },
   {
    "duration": 519,
    "start_time": "2021-06-29T08:55:36.148Z"
   },
   {
    "duration": 386,
    "start_time": "2021-06-29T08:55:36.286Z"
   },
   {
    "duration": 386,
    "start_time": "2021-06-29T08:55:36.288Z"
   },
   {
    "duration": 381,
    "start_time": "2021-06-29T08:55:36.295Z"
   },
   {
    "duration": 380,
    "start_time": "2021-06-29T08:55:36.297Z"
   },
   {
    "duration": 381,
    "start_time": "2021-06-29T08:55:36.299Z"
   },
   {
    "duration": 381,
    "start_time": "2021-06-29T08:55:36.301Z"
   },
   {
    "duration": 382,
    "start_time": "2021-06-29T08:55:36.302Z"
   },
   {
    "duration": 382,
    "start_time": "2021-06-29T08:55:36.304Z"
   },
   {
    "duration": 381,
    "start_time": "2021-06-29T08:55:36.306Z"
   },
   {
    "duration": 381,
    "start_time": "2021-06-29T08:55:36.308Z"
   },
   {
    "duration": 381,
    "start_time": "2021-06-29T08:55:36.310Z"
   },
   {
    "duration": 381,
    "start_time": "2021-06-29T08:55:36.311Z"
   },
   {
    "duration": 376,
    "start_time": "2021-06-29T08:55:36.318Z"
   },
   {
    "duration": 377,
    "start_time": "2021-06-29T08:55:36.319Z"
   },
   {
    "duration": 2062,
    "start_time": "2021-06-29T08:57:31.312Z"
   },
   {
    "duration": 3,
    "start_time": "2021-06-29T08:57:33.377Z"
   },
   {
    "duration": 1767,
    "start_time": "2021-06-29T08:57:33.383Z"
   },
   {
    "duration": 12,
    "start_time": "2021-06-29T08:57:35.153Z"
   },
   {
    "duration": 117,
    "start_time": "2021-06-29T08:57:35.167Z"
   },
   {
    "duration": 17,
    "start_time": "2021-06-29T08:57:35.287Z"
   },
   {
    "duration": 18,
    "start_time": "2021-06-29T08:57:35.307Z"
   },
   {
    "duration": 14,
    "start_time": "2021-06-29T08:57:35.329Z"
   },
   {
    "duration": 53,
    "start_time": "2021-06-29T08:57:35.346Z"
   },
   {
    "duration": 33,
    "start_time": "2021-06-29T08:57:35.402Z"
   },
   {
    "duration": 45,
    "start_time": "2021-06-29T08:57:35.438Z"
   },
   {
    "duration": 7,
    "start_time": "2021-06-29T08:57:35.485Z"
   },
   {
    "duration": 15,
    "start_time": "2021-06-29T08:57:35.497Z"
   },
   {
    "duration": 12,
    "start_time": "2021-06-29T08:57:35.516Z"
   },
   {
    "duration": 52,
    "start_time": "2021-06-29T08:57:35.531Z"
   },
   {
    "duration": 42,
    "start_time": "2021-06-29T08:57:35.586Z"
   },
   {
    "duration": 8,
    "start_time": "2021-06-29T08:58:36.773Z"
   },
   {
    "duration": 37,
    "start_time": "2021-06-29T08:58:58.612Z"
   },
   {
    "duration": 1957,
    "start_time": "2021-06-29T08:59:11.204Z"
   },
   {
    "duration": 4,
    "start_time": "2021-06-29T08:59:13.163Z"
   },
   {
    "duration": 823,
    "start_time": "2021-06-29T08:59:13.170Z"
   },
   {
    "duration": 11,
    "start_time": "2021-06-29T08:59:13.996Z"
   },
   {
    "duration": 114,
    "start_time": "2021-06-29T08:59:14.009Z"
   },
   {
    "duration": 16,
    "start_time": "2021-06-29T08:59:14.125Z"
   },
   {
    "duration": 41,
    "start_time": "2021-06-29T08:59:14.143Z"
   },
   {
    "duration": 13,
    "start_time": "2021-06-29T08:59:14.186Z"
   },
   {
    "duration": 16,
    "start_time": "2021-06-29T08:59:14.202Z"
   },
   {
    "duration": 29,
    "start_time": "2021-06-29T08:59:14.221Z"
   },
   {
    "duration": 23,
    "start_time": "2021-06-29T08:59:14.283Z"
   },
   {
    "duration": 13,
    "start_time": "2021-06-29T08:59:14.309Z"
   },
   {
    "duration": 17,
    "start_time": "2021-06-29T08:59:14.324Z"
   },
   {
    "duration": 39,
    "start_time": "2021-06-29T08:59:14.343Z"
   },
   {
    "duration": 9,
    "start_time": "2021-06-29T08:59:14.385Z"
   },
   {
    "duration": 463,
    "start_time": "2021-06-29T08:59:14.397Z"
   },
   {
    "duration": 387,
    "start_time": "2021-06-29T08:59:14.475Z"
   },
   {
    "duration": 42,
    "start_time": "2021-06-29T08:59:32.247Z"
   },
   {
    "duration": 1659,
    "start_time": "2021-06-29T09:00:00.088Z"
   },
   {
    "duration": 44,
    "start_time": "2021-06-29T09:01:31.726Z"
   },
   {
    "duration": 606,
    "start_time": "2021-06-29T09:01:38.323Z"
   },
   {
    "duration": 40,
    "start_time": "2021-06-29T09:03:06.697Z"
   },
   {
    "duration": 800,
    "start_time": "2021-06-29T09:03:07.637Z"
   },
   {
    "duration": 8406,
    "start_time": "2021-06-29T09:05:17.803Z"
   },
   {
    "duration": 2510,
    "start_time": "2021-06-29T09:05:46.850Z"
   },
   {
    "duration": 27,
    "start_time": "2021-06-29T09:06:01.778Z"
   },
   {
    "duration": 49,
    "start_time": "2021-06-29T09:27:24.848Z"
   },
   {
    "duration": 783,
    "start_time": "2021-06-29T09:27:36.695Z"
   },
   {
    "duration": 2352,
    "start_time": "2021-06-29T09:27:43.215Z"
   },
   {
    "duration": 29,
    "start_time": "2021-06-29T09:27:45.571Z"
   },
   {
    "duration": 111,
    "start_time": "2021-06-29T09:32:17.090Z"
   },
   {
    "duration": 289,
    "start_time": "2021-06-29T09:33:42.740Z"
   },
   {
    "duration": 6503,
    "start_time": "2021-06-29T09:34:08.296Z"
   },
   {
    "duration": 1946,
    "start_time": "2021-06-29T09:34:27.892Z"
   },
   {
    "duration": 3,
    "start_time": "2021-06-29T09:34:29.841Z"
   },
   {
    "duration": 2037,
    "start_time": "2021-06-29T09:34:29.850Z"
   },
   {
    "duration": 11,
    "start_time": "2021-06-29T09:34:31.889Z"
   },
   {
    "duration": 105,
    "start_time": "2021-06-29T09:34:31.903Z"
   },
   {
    "duration": 15,
    "start_time": "2021-06-29T09:34:32.011Z"
   },
   {
    "duration": 25,
    "start_time": "2021-06-29T09:34:32.029Z"
   },
   {
    "duration": 33,
    "start_time": "2021-06-29T09:34:32.058Z"
   },
   {
    "duration": 16,
    "start_time": "2021-06-29T09:34:32.094Z"
   },
   {
    "duration": 31,
    "start_time": "2021-06-29T09:34:32.113Z"
   },
   {
    "duration": 57,
    "start_time": "2021-06-29T09:34:32.147Z"
   },
   {
    "duration": 12,
    "start_time": "2021-06-29T09:34:32.207Z"
   },
   {
    "duration": 13,
    "start_time": "2021-06-29T09:34:32.222Z"
   },
   {
    "duration": 45,
    "start_time": "2021-06-29T09:34:32.238Z"
   },
   {
    "duration": 8,
    "start_time": "2021-06-29T09:34:32.286Z"
   },
   {
    "duration": 45,
    "start_time": "2021-06-29T09:34:32.297Z"
   },
   {
    "duration": 1587,
    "start_time": "2021-06-29T09:34:32.345Z"
   },
   {
    "duration": 2308,
    "start_time": "2021-06-29T09:34:33.935Z"
   },
   {
    "duration": 19,
    "start_time": "2021-06-29T09:34:36.245Z"
   },
   {
    "duration": 3278,
    "start_time": "2021-06-29T09:34:36.267Z"
   },
   {
    "duration": 250,
    "start_time": "2021-06-29T09:34:39.548Z"
   },
   {
    "duration": 593,
    "start_time": "2021-06-29T09:37:29.637Z"
   },
   {
    "duration": 341,
    "start_time": "2021-06-29T09:38:22.878Z"
   },
   {
    "duration": 5,
    "start_time": "2021-06-29T09:39:11.652Z"
   },
   {
    "duration": 348,
    "start_time": "2021-06-29T09:39:50.024Z"
   },
   {
    "duration": 103,
    "start_time": "2021-06-29T09:40:25.714Z"
   },
   {
    "duration": 700,
    "start_time": "2021-06-29T09:41:41.919Z"
   },
   {
    "duration": 24,
    "start_time": "2021-06-29T09:41:52.994Z"
   },
   {
    "duration": 1157,
    "start_time": "2021-06-29T09:42:22.278Z"
   },
   {
    "duration": 30,
    "start_time": "2021-06-29T09:42:24.917Z"
   },
   {
    "duration": 733,
    "start_time": "2021-06-29T09:45:35.431Z"
   },
   {
    "duration": 1368,
    "start_time": "2021-06-29T09:45:40.099Z"
   },
   {
    "duration": 1799,
    "start_time": "2021-06-29T09:46:00.405Z"
   },
   {
    "duration": 711,
    "start_time": "2021-06-29T09:46:10.166Z"
   },
   {
    "duration": 1321,
    "start_time": "2021-06-29T09:46:13.821Z"
   },
   {
    "duration": 2130,
    "start_time": "2021-06-29T09:56:32.874Z"
   },
   {
    "duration": 4,
    "start_time": "2021-06-29T09:56:35.007Z"
   },
   {
    "duration": 823,
    "start_time": "2021-06-29T09:56:35.014Z"
   },
   {
    "duration": 11,
    "start_time": "2021-06-29T09:56:35.840Z"
   },
   {
    "duration": 102,
    "start_time": "2021-06-29T09:56:35.854Z"
   },
   {
    "duration": 37,
    "start_time": "2021-06-29T09:56:35.959Z"
   },
   {
    "duration": 18,
    "start_time": "2021-06-29T09:56:35.999Z"
   },
   {
    "duration": 15,
    "start_time": "2021-06-29T09:56:36.021Z"
   },
   {
    "duration": 58,
    "start_time": "2021-06-29T09:56:36.040Z"
   },
   {
    "duration": 33,
    "start_time": "2021-06-29T09:56:36.100Z"
   },
   {
    "duration": 50,
    "start_time": "2021-06-29T09:56:36.135Z"
   },
   {
    "duration": 8,
    "start_time": "2021-06-29T09:56:36.187Z"
   },
   {
    "duration": 15,
    "start_time": "2021-06-29T09:56:36.197Z"
   },
   {
    "duration": 13,
    "start_time": "2021-06-29T09:56:36.214Z"
   },
   {
    "duration": 54,
    "start_time": "2021-06-29T09:56:36.229Z"
   },
   {
    "duration": 51,
    "start_time": "2021-06-29T09:56:36.286Z"
   },
   {
    "duration": 1653,
    "start_time": "2021-06-29T09:56:36.340Z"
   },
   {
    "duration": 2515,
    "start_time": "2021-06-29T09:56:37.995Z"
   },
   {
    "duration": 20,
    "start_time": "2021-06-29T09:56:40.515Z"
   },
   {
    "duration": 21,
    "start_time": "2021-06-29T09:56:40.538Z"
   },
   {
    "duration": 26,
    "start_time": "2021-06-29T09:57:47.015Z"
   },
   {
    "duration": 507,
    "start_time": "2021-06-29T10:08:35.205Z"
   },
   {
    "duration": 53,
    "start_time": "2021-06-29T10:09:09.993Z"
   },
   {
    "duration": 292,
    "start_time": "2021-06-29T10:10:17.909Z"
   },
   {
    "duration": 53,
    "start_time": "2021-06-29T10:11:19.142Z"
   },
   {
    "duration": 33,
    "start_time": "2021-06-29T10:35:16.264Z"
   },
   {
    "duration": 2089,
    "start_time": "2021-06-29T10:35:51.503Z"
   },
   {
    "duration": 4,
    "start_time": "2021-06-29T10:35:53.595Z"
   },
   {
    "duration": 1870,
    "start_time": "2021-06-29T10:35:53.602Z"
   },
   {
    "duration": 12,
    "start_time": "2021-06-29T10:35:55.476Z"
   },
   {
    "duration": 108,
    "start_time": "2021-06-29T10:35:55.490Z"
   },
   {
    "duration": 16,
    "start_time": "2021-06-29T10:35:55.600Z"
   },
   {
    "duration": 17,
    "start_time": "2021-06-29T10:35:55.619Z"
   },
   {
    "duration": 45,
    "start_time": "2021-06-29T10:35:55.638Z"
   },
   {
    "duration": 17,
    "start_time": "2021-06-29T10:35:55.687Z"
   },
   {
    "duration": 34,
    "start_time": "2021-06-29T10:35:55.708Z"
   },
   {
    "duration": 53,
    "start_time": "2021-06-29T10:35:55.744Z"
   },
   {
    "duration": 14,
    "start_time": "2021-06-29T10:35:55.799Z"
   },
   {
    "duration": 18,
    "start_time": "2021-06-29T10:35:55.816Z"
   },
   {
    "duration": 12,
    "start_time": "2021-06-29T10:35:55.836Z"
   },
   {
    "duration": 39,
    "start_time": "2021-06-29T10:35:55.851Z"
   },
   {
    "duration": 44,
    "start_time": "2021-06-29T10:35:55.893Z"
   },
   {
    "duration": 44,
    "start_time": "2021-06-29T10:35:55.940Z"
   },
   {
    "duration": 5,
    "start_time": "2021-06-29T10:35:55.987Z"
   },
   {
    "duration": 7,
    "start_time": "2021-06-29T10:35:55.994Z"
   },
   {
    "duration": 8,
    "start_time": "2021-06-29T10:35:56.004Z"
   },
   {
    "duration": 9,
    "start_time": "2021-06-29T10:35:56.014Z"
   },
   {
    "duration": 2283,
    "start_time": "2021-06-29T10:37:07.602Z"
   },
   {
    "duration": 4,
    "start_time": "2021-06-29T10:37:09.889Z"
   },
   {
    "duration": 1888,
    "start_time": "2021-06-29T10:37:09.898Z"
   },
   {
    "duration": 12,
    "start_time": "2021-06-29T10:37:11.788Z"
   },
   {
    "duration": 112,
    "start_time": "2021-06-29T10:37:11.802Z"
   },
   {
    "duration": 16,
    "start_time": "2021-06-29T10:37:11.916Z"
   },
   {
    "duration": 24,
    "start_time": "2021-06-29T10:37:11.934Z"
   },
   {
    "duration": 33,
    "start_time": "2021-06-29T10:37:11.960Z"
   },
   {
    "duration": 19,
    "start_time": "2021-06-29T10:37:11.997Z"
   },
   {
    "duration": 42,
    "start_time": "2021-06-29T10:37:12.019Z"
   },
   {
    "duration": 41,
    "start_time": "2021-06-29T10:37:12.063Z"
   },
   {
    "duration": 7,
    "start_time": "2021-06-29T10:37:12.106Z"
   },
   {
    "duration": 24,
    "start_time": "2021-06-29T10:37:12.115Z"
   },
   {
    "duration": 20,
    "start_time": "2021-06-29T10:37:12.141Z"
   },
   {
    "duration": 26,
    "start_time": "2021-06-29T10:37:12.163Z"
   },
   {
    "duration": 53,
    "start_time": "2021-06-29T10:37:12.192Z"
   },
   {
    "duration": 65,
    "start_time": "2021-06-29T10:37:12.247Z"
   },
   {
    "duration": 14,
    "start_time": "2021-06-29T10:37:12.314Z"
   },
   {
    "duration": 29,
    "start_time": "2021-06-29T10:37:12.330Z"
   },
   {
    "duration": 15,
    "start_time": "2021-06-29T10:37:12.362Z"
   },
   {
    "duration": 2240,
    "start_time": "2021-06-29T19:56:30.679Z"
   },
   {
    "duration": 4,
    "start_time": "2021-06-29T19:56:32.922Z"
   },
   {
    "duration": 2247,
    "start_time": "2021-06-29T19:56:32.929Z"
   },
   {
    "duration": 18,
    "start_time": "2021-06-29T19:56:35.179Z"
   },
   {
    "duration": 116,
    "start_time": "2021-06-29T19:56:35.200Z"
   },
   {
    "duration": 16,
    "start_time": "2021-06-29T19:56:35.318Z"
   },
   {
    "duration": 22,
    "start_time": "2021-06-29T19:56:35.336Z"
   },
   {
    "duration": 20,
    "start_time": "2021-06-29T19:56:35.383Z"
   },
   {
    "duration": 17,
    "start_time": "2021-06-29T19:56:35.406Z"
   },
   {
    "duration": 60,
    "start_time": "2021-06-29T19:56:35.426Z"
   },
   {
    "duration": 26,
    "start_time": "2021-06-29T19:56:35.490Z"
   },
   {
    "duration": 9,
    "start_time": "2021-06-29T19:56:35.519Z"
   },
   {
    "duration": 15,
    "start_time": "2021-06-29T19:56:35.530Z"
   },
   {
    "duration": 44,
    "start_time": "2021-06-29T19:56:35.548Z"
   },
   {
    "duration": 10,
    "start_time": "2021-06-29T19:56:35.595Z"
   },
   {
    "duration": 41,
    "start_time": "2021-06-29T19:56:35.608Z"
   },
   {
    "duration": 50,
    "start_time": "2021-06-29T19:56:35.685Z"
   },
   {
    "duration": 3,
    "start_time": "2021-06-29T19:56:35.737Z"
   },
   {
    "duration": 11,
    "start_time": "2021-06-29T19:56:35.742Z"
   },
   {
    "duration": 28,
    "start_time": "2021-06-29T19:56:35.755Z"
   },
   {
    "duration": 1711,
    "start_time": "2021-06-29T19:57:46.060Z"
   },
   {
    "duration": 2015,
    "start_time": "2021-06-29T19:58:11.222Z"
   },
   {
    "duration": 4,
    "start_time": "2021-06-29T19:58:13.240Z"
   },
   {
    "duration": 2021,
    "start_time": "2021-06-29T19:58:13.247Z"
   },
   {
    "duration": 12,
    "start_time": "2021-06-29T19:58:15.270Z"
   },
   {
    "duration": 102,
    "start_time": "2021-06-29T19:58:15.285Z"
   },
   {
    "duration": 17,
    "start_time": "2021-06-29T19:58:15.389Z"
   },
   {
    "duration": 16,
    "start_time": "2021-06-29T19:58:15.408Z"
   },
   {
    "duration": 16,
    "start_time": "2021-06-29T19:58:15.426Z"
   },
   {
    "duration": 49,
    "start_time": "2021-06-29T19:58:15.447Z"
   },
   {
    "duration": 34,
    "start_time": "2021-06-29T19:58:15.499Z"
   },
   {
    "duration": 50,
    "start_time": "2021-06-29T19:58:15.535Z"
   },
   {
    "duration": 17,
    "start_time": "2021-06-29T19:58:15.588Z"
   },
   {
    "duration": 16,
    "start_time": "2021-06-29T19:58:15.608Z"
   },
   {
    "duration": 17,
    "start_time": "2021-06-29T19:58:15.627Z"
   },
   {
    "duration": 11,
    "start_time": "2021-06-29T19:58:15.646Z"
   },
   {
    "duration": 47,
    "start_time": "2021-06-29T19:58:15.684Z"
   },
   {
    "duration": 1378,
    "start_time": "2021-06-29T19:58:15.733Z"
   },
   {
    "duration": -316,
    "start_time": "2021-06-29T19:58:17.430Z"
   },
   {
    "duration": -317,
    "start_time": "2021-06-29T19:58:17.432Z"
   },
   {
    "duration": -318,
    "start_time": "2021-06-29T19:58:17.435Z"
   },
   {
    "duration": -320,
    "start_time": "2021-06-29T19:58:17.438Z"
   },
   {
    "duration": 45,
    "start_time": "2021-06-29T19:58:44.872Z"
   },
   {
    "duration": 2057,
    "start_time": "2021-06-29T20:04:26.944Z"
   },
   {
    "duration": 4,
    "start_time": "2021-06-29T20:04:29.004Z"
   },
   {
    "duration": 2254,
    "start_time": "2021-06-29T20:04:29.012Z"
   },
   {
    "duration": 12,
    "start_time": "2021-06-29T20:04:31.269Z"
   },
   {
    "duration": 109,
    "start_time": "2021-06-29T20:04:31.283Z"
   },
   {
    "duration": 16,
    "start_time": "2021-06-29T20:04:31.395Z"
   },
   {
    "duration": 24,
    "start_time": "2021-06-29T20:04:31.414Z"
   },
   {
    "duration": 13,
    "start_time": "2021-06-29T20:04:31.440Z"
   },
   {
    "duration": 17,
    "start_time": "2021-06-29T20:04:31.485Z"
   },
   {
    "duration": 37,
    "start_time": "2021-06-29T20:04:31.505Z"
   },
   {
    "duration": 47,
    "start_time": "2021-06-29T20:04:31.546Z"
   },
   {
    "duration": 13,
    "start_time": "2021-06-29T20:04:31.596Z"
   },
   {
    "duration": 16,
    "start_time": "2021-06-29T20:04:31.611Z"
   },
   {
    "duration": 16,
    "start_time": "2021-06-29T20:04:31.630Z"
   },
   {
    "duration": 11,
    "start_time": "2021-06-29T20:04:31.683Z"
   },
   {
    "duration": 46,
    "start_time": "2021-06-29T20:04:31.697Z"
   },
   {
    "duration": 1561,
    "start_time": "2021-06-29T20:04:31.745Z"
   },
   {
    "duration": -320,
    "start_time": "2021-06-29T20:04:33.628Z"
   },
   {
    "duration": -320,
    "start_time": "2021-06-29T20:04:33.630Z"
   },
   {
    "duration": -321,
    "start_time": "2021-06-29T20:04:33.632Z"
   },
   {
    "duration": -322,
    "start_time": "2021-06-29T20:04:33.634Z"
   },
   {
    "duration": 1248,
    "start_time": "2021-06-29T20:18:53.275Z"
   },
   {
    "duration": 1469,
    "start_time": "2021-06-29T20:19:05.338Z"
   },
   {
    "duration": 2017,
    "start_time": "2021-06-29T20:19:43.556Z"
   },
   {
    "duration": 7,
    "start_time": "2021-06-29T20:19:45.576Z"
   },
   {
    "duration": 2149,
    "start_time": "2021-06-29T20:19:45.587Z"
   },
   {
    "duration": 12,
    "start_time": "2021-06-29T20:19:47.739Z"
   },
   {
    "duration": 93,
    "start_time": "2021-06-29T20:19:47.754Z"
   },
   {
    "duration": 37,
    "start_time": "2021-06-29T20:19:47.849Z"
   },
   {
    "duration": 17,
    "start_time": "2021-06-29T20:19:47.888Z"
   },
   {
    "duration": 12,
    "start_time": "2021-06-29T20:19:47.909Z"
   },
   {
    "duration": 15,
    "start_time": "2021-06-29T20:19:47.924Z"
   },
   {
    "duration": 64,
    "start_time": "2021-06-29T20:19:47.942Z"
   },
   {
    "duration": 26,
    "start_time": "2021-06-29T20:19:48.009Z"
   },
   {
    "duration": 46,
    "start_time": "2021-06-29T20:19:48.038Z"
   },
   {
    "duration": 17,
    "start_time": "2021-06-29T20:19:48.087Z"
   },
   {
    "duration": 11,
    "start_time": "2021-06-29T20:19:48.107Z"
   },
   {
    "duration": 10,
    "start_time": "2021-06-29T20:19:48.121Z"
   },
   {
    "duration": 91,
    "start_time": "2021-06-29T20:19:48.134Z"
   },
   {
    "duration": 1368,
    "start_time": "2021-06-29T20:19:48.229Z"
   },
   {
    "duration": -307,
    "start_time": "2021-06-29T20:19:49.907Z"
   },
   {
    "duration": -314,
    "start_time": "2021-06-29T20:19:49.916Z"
   },
   {
    "duration": -315,
    "start_time": "2021-06-29T20:19:49.918Z"
   },
   {
    "duration": -316,
    "start_time": "2021-06-29T20:19:49.920Z"
   },
   {
    "duration": 1272,
    "start_time": "2021-06-29T20:22:04.092Z"
   },
   {
    "duration": 269,
    "start_time": "2021-06-29T20:22:52.713Z"
   },
   {
    "duration": 2075,
    "start_time": "2021-06-29T20:29:26.108Z"
   },
   {
    "duration": 4,
    "start_time": "2021-06-29T20:29:28.186Z"
   },
   {
    "duration": 2138,
    "start_time": "2021-06-29T20:29:28.193Z"
   },
   {
    "duration": 12,
    "start_time": "2021-06-29T20:29:30.334Z"
   },
   {
    "duration": 101,
    "start_time": "2021-06-29T20:29:30.349Z"
   },
   {
    "duration": 41,
    "start_time": "2021-06-29T20:29:30.452Z"
   },
   {
    "duration": 25,
    "start_time": "2021-06-29T20:29:30.495Z"
   },
   {
    "duration": 16,
    "start_time": "2021-06-29T20:29:30.524Z"
   },
   {
    "duration": 20,
    "start_time": "2021-06-29T20:29:30.543Z"
   },
   {
    "duration": 31,
    "start_time": "2021-06-29T20:29:30.583Z"
   },
   {
    "duration": 24,
    "start_time": "2021-06-29T20:29:30.617Z"
   },
   {
    "duration": 40,
    "start_time": "2021-06-29T20:29:30.644Z"
   },
   {
    "duration": 15,
    "start_time": "2021-06-29T20:29:30.687Z"
   },
   {
    "duration": 23,
    "start_time": "2021-06-29T20:29:30.705Z"
   },
   {
    "duration": 12,
    "start_time": "2021-06-29T20:29:30.731Z"
   },
   {
    "duration": 4,
    "start_time": "2021-06-29T20:29:30.746Z"
   },
   {
    "duration": 51,
    "start_time": "2021-06-29T20:29:30.784Z"
   },
   {
    "duration": 510,
    "start_time": "2021-06-29T20:29:30.838Z"
   },
   {
    "duration": -305,
    "start_time": "2021-06-29T20:29:31.656Z"
   },
   {
    "duration": -305,
    "start_time": "2021-06-29T20:29:31.658Z"
   },
   {
    "duration": -305,
    "start_time": "2021-06-29T20:29:31.660Z"
   },
   {
    "duration": -307,
    "start_time": "2021-06-29T20:29:31.664Z"
   },
   {
    "duration": 2151,
    "start_time": "2021-06-29T20:30:10.760Z"
   },
   {
    "duration": 3,
    "start_time": "2021-06-29T20:30:12.914Z"
   },
   {
    "duration": 803,
    "start_time": "2021-06-29T20:30:12.920Z"
   },
   {
    "duration": 11,
    "start_time": "2021-06-29T20:30:13.726Z"
   },
   {
    "duration": 111,
    "start_time": "2021-06-29T20:30:13.739Z"
   },
   {
    "duration": 44,
    "start_time": "2021-06-29T20:30:13.853Z"
   },
   {
    "duration": 16,
    "start_time": "2021-06-29T20:30:13.899Z"
   },
   {
    "duration": 16,
    "start_time": "2021-06-29T20:30:13.917Z"
   },
   {
    "duration": 52,
    "start_time": "2021-06-29T20:30:13.937Z"
   },
   {
    "duration": 40,
    "start_time": "2021-06-29T20:30:13.991Z"
   },
   {
    "duration": 25,
    "start_time": "2021-06-29T20:30:14.034Z"
   },
   {
    "duration": 8,
    "start_time": "2021-06-29T20:30:14.083Z"
   },
   {
    "duration": 18,
    "start_time": "2021-06-29T20:30:14.093Z"
   },
   {
    "duration": 26,
    "start_time": "2021-06-29T20:30:14.113Z"
   },
   {
    "duration": 12,
    "start_time": "2021-06-29T20:30:14.142Z"
   },
   {
    "duration": 62,
    "start_time": "2021-06-29T20:30:14.157Z"
   },
   {
    "duration": 554,
    "start_time": "2021-06-29T20:30:14.221Z"
   },
   {
    "duration": -307,
    "start_time": "2021-06-29T20:30:15.086Z"
   },
   {
    "duration": -307,
    "start_time": "2021-06-29T20:30:15.087Z"
   },
   {
    "duration": -308,
    "start_time": "2021-06-29T20:30:15.089Z"
   },
   {
    "duration": -308,
    "start_time": "2021-06-29T20:30:15.091Z"
   },
   {
    "duration": 47,
    "start_time": "2021-06-29T20:49:14.050Z"
   },
   {
    "duration": 39,
    "start_time": "2021-06-29T20:51:15.191Z"
   },
   {
    "duration": 293,
    "start_time": "2021-06-29T20:51:30.148Z"
   },
   {
    "duration": 43,
    "start_time": "2021-06-29T20:52:35.446Z"
   },
   {
    "duration": 40,
    "start_time": "2021-06-29T21:04:04.027Z"
   },
   {
    "duration": 340,
    "start_time": "2021-06-29T21:04:16.035Z"
   },
   {
    "duration": 65,
    "start_time": "2021-06-29T21:04:30.151Z"
   },
   {
    "duration": 50,
    "start_time": "2021-06-29T21:06:35.532Z"
   },
   {
    "duration": 2364,
    "start_time": "2021-06-29T21:07:44.403Z"
   },
   {
    "duration": 5,
    "start_time": "2021-06-29T21:07:46.770Z"
   },
   {
    "duration": 2293,
    "start_time": "2021-06-29T21:07:46.785Z"
   },
   {
    "duration": 18,
    "start_time": "2021-06-29T21:07:49.082Z"
   },
   {
    "duration": 143,
    "start_time": "2021-06-29T21:07:49.103Z"
   },
   {
    "duration": 53,
    "start_time": "2021-06-29T21:07:49.250Z"
   },
   {
    "duration": 32,
    "start_time": "2021-06-29T21:07:49.306Z"
   },
   {
    "duration": 17,
    "start_time": "2021-06-29T21:07:49.341Z"
   },
   {
    "duration": 25,
    "start_time": "2021-06-29T21:07:49.383Z"
   },
   {
    "duration": 45,
    "start_time": "2021-06-29T21:07:49.411Z"
   },
   {
    "duration": 55,
    "start_time": "2021-06-29T21:07:49.459Z"
   },
   {
    "duration": 23,
    "start_time": "2021-06-29T21:07:49.517Z"
   },
   {
    "duration": 40,
    "start_time": "2021-06-29T21:07:49.543Z"
   },
   {
    "duration": 22,
    "start_time": "2021-06-29T21:07:49.586Z"
   },
   {
    "duration": 10,
    "start_time": "2021-06-29T21:07:49.611Z"
   },
   {
    "duration": 60,
    "start_time": "2021-06-29T21:07:49.624Z"
   },
   {
    "duration": 46,
    "start_time": "2021-06-29T21:07:49.686Z"
   },
   {
    "duration": 74,
    "start_time": "2021-06-29T21:07:49.736Z"
   },
   {
    "duration": 4,
    "start_time": "2021-06-29T21:07:49.814Z"
   },
   {
    "duration": 5,
    "start_time": "2021-06-29T21:07:49.821Z"
   },
   {
    "duration": 7,
    "start_time": "2021-06-29T21:07:49.829Z"
   },
   {
    "duration": 56,
    "start_time": "2021-06-29T21:08:20.500Z"
   },
   {
    "duration": 81,
    "start_time": "2021-06-29T21:08:30.546Z"
   },
   {
    "duration": 41,
    "start_time": "2021-06-29T21:10:31.399Z"
   },
   {
    "duration": 2072,
    "start_time": "2021-06-29T21:12:16.318Z"
   },
   {
    "duration": 4,
    "start_time": "2021-06-29T21:12:18.393Z"
   },
   {
    "duration": 2055,
    "start_time": "2021-06-29T21:12:18.400Z"
   },
   {
    "duration": 13,
    "start_time": "2021-06-29T21:12:20.458Z"
   },
   {
    "duration": 109,
    "start_time": "2021-06-29T21:12:20.474Z"
   },
   {
    "duration": 19,
    "start_time": "2021-06-29T21:12:20.586Z"
   },
   {
    "duration": 18,
    "start_time": "2021-06-29T21:12:20.607Z"
   },
   {
    "duration": 14,
    "start_time": "2021-06-29T21:12:20.627Z"
   },
   {
    "duration": 48,
    "start_time": "2021-06-29T21:12:20.644Z"
   },
   {
    "duration": 31,
    "start_time": "2021-06-29T21:12:20.696Z"
   },
   {
    "duration": 24,
    "start_time": "2021-06-29T21:12:20.730Z"
   },
   {
    "duration": 10,
    "start_time": "2021-06-29T21:12:20.785Z"
   },
   {
    "duration": 18,
    "start_time": "2021-06-29T21:12:20.798Z"
   },
   {
    "duration": 20,
    "start_time": "2021-06-29T21:12:20.819Z"
   },
   {
    "duration": 45,
    "start_time": "2021-06-29T21:12:20.842Z"
   },
   {
    "duration": 94,
    "start_time": "2021-06-29T21:12:20.891Z"
   },
   {
    "duration": 42,
    "start_time": "2021-06-29T21:12:20.988Z"
   },
   {
    "duration": 74,
    "start_time": "2021-06-29T21:12:21.033Z"
   },
   {
    "duration": 51,
    "start_time": "2021-06-29T21:14:26.845Z"
   },
   {
    "duration": 537,
    "start_time": "2021-06-29T21:15:14.635Z"
   },
   {
    "duration": 44,
    "start_time": "2021-06-29T21:15:44.820Z"
   },
   {
    "duration": 48,
    "start_time": "2021-06-29T21:15:57.962Z"
   },
   {
    "duration": 2085,
    "start_time": "2021-06-29T21:17:19.403Z"
   },
   {
    "duration": 4,
    "start_time": "2021-06-29T21:17:21.491Z"
   },
   {
    "duration": 1810,
    "start_time": "2021-06-29T21:17:21.499Z"
   },
   {
    "duration": 12,
    "start_time": "2021-06-29T21:17:23.312Z"
   },
   {
    "duration": 103,
    "start_time": "2021-06-29T21:17:23.326Z"
   },
   {
    "duration": 21,
    "start_time": "2021-06-29T21:17:23.431Z"
   },
   {
    "duration": 40,
    "start_time": "2021-06-29T21:17:23.454Z"
   },
   {
    "duration": 14,
    "start_time": "2021-06-29T21:17:23.497Z"
   },
   {
    "duration": 17,
    "start_time": "2021-06-29T21:17:23.516Z"
   },
   {
    "duration": 69,
    "start_time": "2021-06-29T21:17:23.536Z"
   },
   {
    "duration": 24,
    "start_time": "2021-06-29T21:17:23.607Z"
   },
   {
    "duration": 9,
    "start_time": "2021-06-29T21:17:23.634Z"
   },
   {
    "duration": 51,
    "start_time": "2021-06-29T21:17:23.645Z"
   },
   {
    "duration": 14,
    "start_time": "2021-06-29T21:17:23.698Z"
   },
   {
    "duration": 12,
    "start_time": "2021-06-29T21:17:23.715Z"
   },
   {
    "duration": 78,
    "start_time": "2021-06-29T21:17:23.730Z"
   },
   {
    "duration": 45,
    "start_time": "2021-06-29T21:17:23.810Z"
   },
   {
    "duration": 71,
    "start_time": "2021-06-29T21:17:23.858Z"
   },
   {
    "duration": 3,
    "start_time": "2021-06-29T21:17:43.171Z"
   },
   {
    "duration": 47,
    "start_time": "2021-06-29T21:17:53.335Z"
   },
   {
    "duration": 2564,
    "start_time": "2021-06-29T21:18:01.393Z"
   },
   {
    "duration": 4,
    "start_time": "2021-06-29T21:18:03.960Z"
   },
   {
    "duration": 1782,
    "start_time": "2021-06-29T21:18:03.967Z"
   },
   {
    "duration": 19,
    "start_time": "2021-06-29T21:18:05.753Z"
   },
   {
    "duration": 163,
    "start_time": "2021-06-29T21:18:05.775Z"
   },
   {
    "duration": 29,
    "start_time": "2021-06-29T21:18:05.941Z"
   },
   {
    "duration": 26,
    "start_time": "2021-06-29T21:18:05.987Z"
   },
   {
    "duration": 15,
    "start_time": "2021-06-29T21:18:06.015Z"
   },
   {
    "duration": 51,
    "start_time": "2021-06-29T21:18:06.036Z"
   },
   {
    "duration": 56,
    "start_time": "2021-06-29T21:18:06.091Z"
   },
   {
    "duration": 63,
    "start_time": "2021-06-29T21:18:06.150Z"
   },
   {
    "duration": 7,
    "start_time": "2021-06-29T21:18:06.216Z"
   },
   {
    "duration": 19,
    "start_time": "2021-06-29T21:18:06.226Z"
   },
   {
    "duration": 49,
    "start_time": "2021-06-29T21:18:06.248Z"
   },
   {
    "duration": 10,
    "start_time": "2021-06-29T21:18:06.301Z"
   },
   {
    "duration": 53,
    "start_time": "2021-06-29T21:18:06.314Z"
   },
   {
    "duration": 76,
    "start_time": "2021-06-29T21:18:06.387Z"
   },
   {
    "duration": 4,
    "start_time": "2021-06-29T21:18:06.483Z"
   },
   {
    "duration": 75,
    "start_time": "2021-06-29T21:20:06.566Z"
   },
   {
    "duration": 72,
    "start_time": "2021-06-29T21:20:57.250Z"
   },
   {
    "duration": 685,
    "start_time": "2021-06-29T21:21:44.440Z"
   },
   {
    "duration": 70,
    "start_time": "2021-06-29T21:22:22.810Z"
   },
   {
    "duration": 70,
    "start_time": "2021-06-29T21:23:26.531Z"
   },
   {
    "duration": 44,
    "start_time": "2021-06-29T21:26:43.971Z"
   },
   {
    "duration": 2109,
    "start_time": "2021-06-29T21:27:23.862Z"
   },
   {
    "duration": 4,
    "start_time": "2021-06-29T21:27:25.973Z"
   },
   {
    "duration": 1806,
    "start_time": "2021-06-29T21:27:25.983Z"
   },
   {
    "duration": 12,
    "start_time": "2021-06-29T21:27:27.791Z"
   },
   {
    "duration": 113,
    "start_time": "2021-06-29T21:27:27.806Z"
   },
   {
    "duration": 16,
    "start_time": "2021-06-29T21:27:27.921Z"
   },
   {
    "duration": 47,
    "start_time": "2021-06-29T21:27:27.939Z"
   },
   {
    "duration": 17,
    "start_time": "2021-06-29T21:27:27.991Z"
   },
   {
    "duration": 17,
    "start_time": "2021-06-29T21:27:28.012Z"
   },
   {
    "duration": 69,
    "start_time": "2021-06-29T21:27:28.032Z"
   },
   {
    "duration": 25,
    "start_time": "2021-06-29T21:27:28.104Z"
   },
   {
    "duration": 10,
    "start_time": "2021-06-29T21:27:28.133Z"
   },
   {
    "duration": 47,
    "start_time": "2021-06-29T21:27:28.145Z"
   },
   {
    "duration": 11,
    "start_time": "2021-06-29T21:27:28.195Z"
   },
   {
    "duration": 8,
    "start_time": "2021-06-29T21:27:28.209Z"
   },
   {
    "duration": 75,
    "start_time": "2021-06-29T21:27:28.220Z"
   },
   {
    "duration": 42,
    "start_time": "2021-06-29T21:27:28.297Z"
   },
   {
    "duration": 3,
    "start_time": "2021-06-29T21:27:28.342Z"
   },
   {
    "duration": 66,
    "start_time": "2021-06-29T21:29:37.536Z"
   },
   {
    "duration": 87,
    "start_time": "2021-06-29T21:29:59.551Z"
   },
   {
    "duration": 618,
    "start_time": "2021-06-29T21:30:55.627Z"
   },
   {
    "duration": 63,
    "start_time": "2021-06-29T21:31:21.453Z"
   },
   {
    "duration": 62,
    "start_time": "2021-06-29T21:32:21.795Z"
   },
   {
    "duration": 25,
    "start_time": "2021-06-29T21:42:46.650Z"
   },
   {
    "duration": 42,
    "start_time": "2021-06-29T21:44:51.690Z"
   },
   {
    "duration": 38,
    "start_time": "2021-06-29T21:45:29.812Z"
   },
   {
    "duration": 83,
    "start_time": "2021-06-29T21:46:14.221Z"
   },
   {
    "duration": 83,
    "start_time": "2021-06-29T21:46:19.821Z"
   },
   {
    "duration": 25,
    "start_time": "2021-06-29T21:50:36.275Z"
   },
   {
    "duration": 100,
    "start_time": "2021-06-29T21:50:45.706Z"
   },
   {
    "duration": 39,
    "start_time": "2021-06-29T21:54:46.970Z"
   },
   {
    "duration": 47,
    "start_time": "2021-06-29T22:00:23.928Z"
   },
   {
    "duration": 44,
    "start_time": "2021-06-29T22:00:36.459Z"
   },
   {
    "duration": 42,
    "start_time": "2021-06-29T22:02:10.916Z"
   },
   {
    "duration": 54,
    "start_time": "2021-06-29T22:03:08.668Z"
   },
   {
    "duration": 39,
    "start_time": "2021-06-29T22:03:19.930Z"
   },
   {
    "duration": 46,
    "start_time": "2021-06-29T22:03:33.077Z"
   },
   {
    "duration": 33,
    "start_time": "2021-06-29T22:05:26.541Z"
   },
   {
    "duration": 33,
    "start_time": "2021-06-29T22:07:25.977Z"
   },
   {
    "duration": 38,
    "start_time": "2021-06-29T22:07:41.799Z"
   },
   {
    "duration": 33,
    "start_time": "2021-06-29T22:08:13.315Z"
   },
   {
    "duration": 34,
    "start_time": "2021-06-29T22:08:23.364Z"
   },
   {
    "duration": 40,
    "start_time": "2021-06-29T22:08:36.691Z"
   },
   {
    "duration": 43,
    "start_time": "2021-06-29T22:09:19.171Z"
   },
   {
    "duration": 42,
    "start_time": "2021-06-29T22:09:32.105Z"
   },
   {
    "duration": 42,
    "start_time": "2021-06-29T22:12:07.410Z"
   },
   {
    "duration": 42,
    "start_time": "2021-06-29T22:12:54.176Z"
   },
   {
    "duration": 43,
    "start_time": "2021-06-29T22:13:10.860Z"
   },
   {
    "duration": 41,
    "start_time": "2021-06-29T22:14:15.475Z"
   },
   {
    "duration": 2049,
    "start_time": "2021-06-29T22:15:23.072Z"
   },
   {
    "duration": 4,
    "start_time": "2021-06-29T22:15:25.124Z"
   },
   {
    "duration": 2369,
    "start_time": "2021-06-29T22:15:25.133Z"
   },
   {
    "duration": 12,
    "start_time": "2021-06-29T22:15:27.504Z"
   },
   {
    "duration": 103,
    "start_time": "2021-06-29T22:15:27.518Z"
   },
   {
    "duration": 17,
    "start_time": "2021-06-29T22:15:27.624Z"
   },
   {
    "duration": 40,
    "start_time": "2021-06-29T22:15:27.643Z"
   },
   {
    "duration": 13,
    "start_time": "2021-06-29T22:15:27.686Z"
   },
   {
    "duration": 17,
    "start_time": "2021-06-29T22:15:27.702Z"
   },
   {
    "duration": 61,
    "start_time": "2021-06-29T22:15:27.722Z"
   },
   {
    "duration": 23,
    "start_time": "2021-06-29T22:15:27.786Z"
   },
   {
    "duration": 9,
    "start_time": "2021-06-29T22:15:27.812Z"
   },
   {
    "duration": 15,
    "start_time": "2021-06-29T22:15:27.823Z"
   },
   {
    "duration": 45,
    "start_time": "2021-06-29T22:15:27.840Z"
   },
   {
    "duration": 12,
    "start_time": "2021-06-29T22:15:27.888Z"
   },
   {
    "duration": 44,
    "start_time": "2021-06-29T22:15:27.903Z"
   },
   {
    "duration": 76,
    "start_time": "2021-06-29T22:15:27.950Z"
   },
   {
    "duration": 3,
    "start_time": "2021-06-29T22:15:28.029Z"
   },
   {
    "duration": 569,
    "start_time": "2021-07-12T10:42:47.519Z"
   },
   {
    "duration": 23,
    "start_time": "2021-07-12T10:42:48.090Z"
   },
   {
    "duration": 267,
    "start_time": "2021-07-12T10:42:48.115Z"
   },
   {
    "duration": 71,
    "start_time": "2021-07-12T10:42:48.384Z"
   },
   {
    "duration": 70,
    "start_time": "2021-07-12T10:42:48.457Z"
   },
   {
    "duration": 72,
    "start_time": "2021-07-12T10:42:48.529Z"
   },
   {
    "duration": 72,
    "start_time": "2021-07-12T10:42:48.602Z"
   },
   {
    "duration": 7,
    "start_time": "2021-07-12T10:42:48.676Z"
   },
   {
    "duration": 78,
    "start_time": "2021-07-12T10:42:48.684Z"
   },
   {
    "duration": 82,
    "start_time": "2021-07-12T10:42:48.764Z"
   },
   {
    "duration": 73,
    "start_time": "2021-07-12T10:42:48.847Z"
   },
   {
    "duration": 76,
    "start_time": "2021-07-12T10:42:48.921Z"
   },
   {
    "duration": 71,
    "start_time": "2021-07-12T10:42:48.999Z"
   },
   {
    "duration": 6,
    "start_time": "2021-07-12T10:42:49.072Z"
   },
   {
    "duration": 845,
    "start_time": "2021-07-12T13:23:49.551Z"
   },
   {
    "duration": 38,
    "start_time": "2021-07-12T13:23:50.399Z"
   },
   {
    "duration": 291,
    "start_time": "2021-07-12T13:23:50.440Z"
   },
   {
    "duration": 73,
    "start_time": "2021-07-12T13:23:50.734Z"
   },
   {
    "duration": 72,
    "start_time": "2021-07-12T13:23:50.809Z"
   },
   {
    "duration": 74,
    "start_time": "2021-07-12T13:23:50.883Z"
   },
   {
    "duration": 82,
    "start_time": "2021-07-12T13:23:50.959Z"
   },
   {
    "duration": 13,
    "start_time": "2021-07-12T13:23:51.046Z"
   },
   {
    "duration": 74,
    "start_time": "2021-07-12T13:23:51.063Z"
   },
   {
    "duration": 85,
    "start_time": "2021-07-12T13:23:51.140Z"
   },
   {
    "duration": 74,
    "start_time": "2021-07-12T13:23:51.227Z"
   },
   {
    "duration": 78,
    "start_time": "2021-07-12T13:23:51.304Z"
   },
   {
    "duration": 74,
    "start_time": "2021-07-12T13:23:51.384Z"
   },
   {
    "duration": 11,
    "start_time": "2021-07-12T13:23:51.460Z"
   },
   {
    "duration": 85,
    "start_time": "2021-07-12T13:25:51.480Z"
   },
   {
    "duration": 83,
    "start_time": "2021-07-12T13:26:48.984Z"
   },
   {
    "duration": 83,
    "start_time": "2021-07-12T13:27:22.392Z"
   },
   {
    "duration": 85,
    "start_time": "2021-07-12T13:27:41.550Z"
   }
  ],
  "kernelspec": {
   "display_name": "Python 3",
   "language": "python",
   "name": "python3"
  },
  "language_info": {
   "codemirror_mode": {
    "name": "ipython",
    "version": 3
   },
   "file_extension": ".py",
   "mimetype": "text/x-python",
   "name": "python",
   "nbconvert_exporter": "python",
   "pygments_lexer": "ipython3",
   "version": "3.7.10"
  },
  "toc": {
   "base_numbering": 1,
   "nav_menu": {},
   "number_sections": true,
   "sideBar": true,
   "skip_h1_title": false,
   "title_cell": "Table of Contents",
   "title_sidebar": "Contents",
   "toc_cell": false,
   "toc_position": {
    "height": "calc(100% - 180px)",
    "left": "10px",
    "top": "150px",
    "width": "384px"
   },
   "toc_section_display": true,
   "toc_window_display": true
  }
 },
 "nbformat": 4,
 "nbformat_minor": 5
}
