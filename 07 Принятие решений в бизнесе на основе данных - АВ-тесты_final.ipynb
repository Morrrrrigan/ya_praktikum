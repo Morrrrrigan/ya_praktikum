{
 "cells": [
  {
   "cell_type": "markdown",
   "id": "47d78da1",
   "metadata": {},
   "source": [
    "# Обзор и первичное исследование данных\n",
    "\n",
    "## Описание проекта\n",
    "\n",
    "Аналитический и маркетинговый отделы интернет-магазина подготовили список гипотез для увеличения выручки. \n",
    "\n",
    "Нужно проанализировать гипотезы, запустить А/В-тест и проанализировать рузельтаты. \n",
    "\n",
    "Цель: определить наиболее приоритетную гипотезу для проверки. На основании анализа А/В-теста определить нужно ли вносить изменения на сайт магазина.   "
   ]
  },
  {
   "cell_type": "markdown",
   "id": "e1c4d496",
   "metadata": {},
   "source": [
    "## Описание данных\n",
    "\n",
    "**Данные для приоретезации гипотез**\n",
    "\n",
    "*hypothesis.csv*\n",
    "\n",
    "Hypothesis — краткое описание гипотезы;\n",
    "\n",
    "Reach — охват пользователей по 10-балльной шкале;\n",
    "\n",
    "Impact — влияние на пользователей по 10-балльной шкале;\n",
    "\n",
    "Confidence — уверенность в гипотезе по 10-балльной шкале;\n",
    "\n",
    "Efforts — затраты ресурсов на проверку гипотезы по 10-балльной шкале. \n",
    "\n",
    "Чем больше значение Efforts, тем дороже проверка гипотезы.\n",
    "\n",
    "\n",
    "**Данные для А/В-теста**\n",
    "\n",
    "*orders.csv*\n",
    "\n",
    "transactionId — идентификатор заказа;\n",
    "\n",
    "visitorId — идентификатор пользователя, совершившего заказ;\n",
    "\n",
    "date — дата, когда был совершён заказ;\n",
    "\n",
    "revenue — выручка заказа;\n",
    "\n",
    "group — группа A/B-теста, в которую попал заказ.\n",
    "\n",
    "\n",
    "*visitors.csv* \n",
    "\n",
    "date — дата;\n",
    "\n",
    "group — группа A/B-теста;\n",
    "\n",
    "visitors — количество пользователей в указанную дату в указанной группе A/B-теста"
   ]
  },
  {
   "cell_type": "markdown",
   "id": "1b9a124d",
   "metadata": {},
   "source": [
    "## Импорт библиотек и данных"
   ]
  },
  {
   "cell_type": "code",
   "execution_count": 78,
   "id": "43d418c6",
   "metadata": {},
   "outputs": [],
   "source": [
    "import pandas as pd\n",
    "import numpy as np\n",
    "import scipy.stats as stats\n",
    "\n",
    "from IPython.display import display\n",
    "\n",
    "import matplotlib.pyplot as plt \n",
    "import seaborn as sns\n",
    "\n",
    "import warnings\n",
    "warnings.filterwarnings('ignore')\n",
    "\n",
    "import datetime as dt\n",
    "\n",
    "#turn off scientific notation \n",
    "pd.set_option('display.float_format', lambda x: '%.2f' % x)"
   ]
  },
  {
   "cell_type": "code",
   "execution_count": 2,
   "id": "5c1262dd",
   "metadata": {},
   "outputs": [],
   "source": [
    "hypothesis = pd.read_csv('https://.../hypothesis.csv')\n",
    "orders = pd.read_csv('https://.../orders.csv', date_parser='date')\n",
    "visitors = pd.read_csv('https://.../visitors.csv', date_parser='date')"
   ]
  },
  {
   "cell_type": "markdown",
   "id": "a1a2c440",
   "metadata": {},
   "source": [
    "## Изучение и предобработка данных"
   ]
  },
  {
   "cell_type": "code",
   "execution_count": 3,
   "id": "7bf1b561",
   "metadata": {},
   "outputs": [],
   "source": [
    "#функция для вывода основных характеристик таблицы \n",
    "\n",
    "def research(df):\n",
    "    \n",
    "# редактирование названий столбцов (строчные буквы, замена пробелов, удаление пробелов в начале и конце строки)\n",
    "    df.columns = ((df.columns.str.lower()).str.replace(' ', '_')).str.strip()\n",
    "    \n",
    "    print('1) Названия столбцов', '\\n\\n', df.columns)\n",
    "    print()\n",
    "      \n",
    "# вывод части таблицы     \n",
    "    print('2) Таблица')\n",
    "    display(df.sample(5, random_state = 42))\n",
    "    print()\n",
    "    \n",
    "#общая инфа по таблице    \n",
    "    print('3) Общая информация', '\\n')\n",
    "    df.info()\n",
    "    print()\n",
    "    \n",
    "# описательные статистики для object и int, float\n",
    "    objects = []\n",
    "    numbers = []\n",
    "    dates = []\n",
    "    for i in df:\n",
    "        if 'datetime' in str(df[i].dtypes):\n",
    "            dates.append(i)\n",
    "        if df[i].dtypes == 'object':\n",
    "            objects.append(i)    \n",
    "        if df[i].dtypes == bool:\n",
    "            _\n",
    "        if 'int' in str(df[i].dtypes) or 'float' in str(df[i].dtypes):\n",
    "            numbers.append(i)\n",
    "    \n",
    "    if not objects:\n",
    "        print('4) Таблица не содержит качественных переменных')\n",
    "    else:\n",
    "        print('4) Описательные статистики качественных переменных', '\\n')\n",
    "        display(df[objects].describe())\n",
    "    if not numbers:\n",
    "        print('5) Таблица не содержит количественных переменных')\n",
    "    else:\n",
    "        print('5) Описательные статистики количественных переменных', '\\n')\n",
    "        display(df[numbers].describe()) \n",
    "    if not dates:\n",
    "        _\n",
    "    else:\n",
    "        display(df[dates].describe())\n",
    "        \n",
    "# дубликаты\n",
    "    if df.duplicated().sum() == 0:\n",
    "        print('6) Грубых дубликатов не обнаружено')\n",
    "    else:\n",
    "        print('6) Количество дубликатов:', df.duplicated().sum())\n",
    "        print()\n",
    "        display(df.duplicated())"
   ]
  },
  {
   "cell_type": "markdown",
   "id": "db79b8f2",
   "metadata": {},
   "source": [
    "### hypothesis"
   ]
  },
  {
   "cell_type": "code",
   "execution_count": 4,
   "id": "be9c991f",
   "metadata": {},
   "outputs": [
    {
     "name": "stdout",
     "output_type": "stream",
     "text": [
      "1) Названия столбцов \n",
      "\n",
      " Index(['hypothesis', 'reach', 'impact', 'confidence', 'efforts'], dtype='object')\n",
      "\n",
      "2) Таблица\n"
     ]
    },
    {
     "data": {
      "text/html": [
       "<div>\n",
       "<style scoped>\n",
       "    .dataframe tbody tr th:only-of-type {\n",
       "        vertical-align: middle;\n",
       "    }\n",
       "\n",
       "    .dataframe tbody tr th {\n",
       "        vertical-align: top;\n",
       "    }\n",
       "\n",
       "    .dataframe thead th {\n",
       "        text-align: right;\n",
       "    }\n",
       "</style>\n",
       "<table border=\"1\" class=\"dataframe\">\n",
       "  <thead>\n",
       "    <tr style=\"text-align: right;\">\n",
       "      <th></th>\n",
       "      <th>hypothesis</th>\n",
       "      <th>reach</th>\n",
       "      <th>impact</th>\n",
       "      <th>confidence</th>\n",
       "      <th>efforts</th>\n",
       "    </tr>\n",
       "  </thead>\n",
       "  <tbody>\n",
       "    <tr>\n",
       "      <th>7</th>\n",
       "      <td>Добавить форму подписки на все основные страни...</td>\n",
       "      <td>10</td>\n",
       "      <td>7</td>\n",
       "      <td>8</td>\n",
       "      <td>5</td>\n",
       "    </tr>\n",
       "    <tr>\n",
       "      <th>1</th>\n",
       "      <td>Запустить собственную службу доставки, что сок...</td>\n",
       "      <td>2</td>\n",
       "      <td>5</td>\n",
       "      <td>4</td>\n",
       "      <td>10</td>\n",
       "    </tr>\n",
       "    <tr>\n",
       "      <th>5</th>\n",
       "      <td>Добавить страницу отзывов клиентов о магазине,...</td>\n",
       "      <td>3</td>\n",
       "      <td>2</td>\n",
       "      <td>2</td>\n",
       "      <td>3</td>\n",
       "    </tr>\n",
       "    <tr>\n",
       "      <th>0</th>\n",
       "      <td>Добавить два новых канала привлечения трафика,...</td>\n",
       "      <td>3</td>\n",
       "      <td>10</td>\n",
       "      <td>8</td>\n",
       "      <td>6</td>\n",
       "    </tr>\n",
       "    <tr>\n",
       "      <th>8</th>\n",
       "      <td>Запустить акцию, дающую скидку на товар в день...</td>\n",
       "      <td>1</td>\n",
       "      <td>9</td>\n",
       "      <td>9</td>\n",
       "      <td>5</td>\n",
       "    </tr>\n",
       "  </tbody>\n",
       "</table>\n",
       "</div>"
      ],
      "text/plain": [
       "                                          hypothesis  reach  impact  \\\n",
       "7  Добавить форму подписки на все основные страни...     10       7   \n",
       "1  Запустить собственную службу доставки, что сок...      2       5   \n",
       "5  Добавить страницу отзывов клиентов о магазине,...      3       2   \n",
       "0  Добавить два новых канала привлечения трафика,...      3      10   \n",
       "8  Запустить акцию, дающую скидку на товар в день...      1       9   \n",
       "\n",
       "   confidence  efforts  \n",
       "7           8        5  \n",
       "1           4       10  \n",
       "5           2        3  \n",
       "0           8        6  \n",
       "8           9        5  "
      ]
     },
     "metadata": {},
     "output_type": "display_data"
    },
    {
     "name": "stdout",
     "output_type": "stream",
     "text": [
      "\n",
      "3) Общая информация \n",
      "\n",
      "<class 'pandas.core.frame.DataFrame'>\n",
      "RangeIndex: 9 entries, 0 to 8\n",
      "Data columns (total 5 columns):\n",
      " #   Column      Non-Null Count  Dtype \n",
      "---  ------      --------------  ----- \n",
      " 0   hypothesis  9 non-null      object\n",
      " 1   reach       9 non-null      int64 \n",
      " 2   impact      9 non-null      int64 \n",
      " 3   confidence  9 non-null      int64 \n",
      " 4   efforts     9 non-null      int64 \n",
      "dtypes: int64(4), object(1)\n",
      "memory usage: 488.0+ bytes\n",
      "\n",
      "4) Описательные статистики качественных переменных \n",
      "\n"
     ]
    },
    {
     "data": {
      "text/html": [
       "<div>\n",
       "<style scoped>\n",
       "    .dataframe tbody tr th:only-of-type {\n",
       "        vertical-align: middle;\n",
       "    }\n",
       "\n",
       "    .dataframe tbody tr th {\n",
       "        vertical-align: top;\n",
       "    }\n",
       "\n",
       "    .dataframe thead th {\n",
       "        text-align: right;\n",
       "    }\n",
       "</style>\n",
       "<table border=\"1\" class=\"dataframe\">\n",
       "  <thead>\n",
       "    <tr style=\"text-align: right;\">\n",
       "      <th></th>\n",
       "      <th>hypothesis</th>\n",
       "    </tr>\n",
       "  </thead>\n",
       "  <tbody>\n",
       "    <tr>\n",
       "      <th>count</th>\n",
       "      <td>9</td>\n",
       "    </tr>\n",
       "    <tr>\n",
       "      <th>unique</th>\n",
       "      <td>9</td>\n",
       "    </tr>\n",
       "    <tr>\n",
       "      <th>top</th>\n",
       "      <td>Добавить форму подписки на все основные страни...</td>\n",
       "    </tr>\n",
       "    <tr>\n",
       "      <th>freq</th>\n",
       "      <td>1</td>\n",
       "    </tr>\n",
       "  </tbody>\n",
       "</table>\n",
       "</div>"
      ],
      "text/plain": [
       "                                               hypothesis\n",
       "count                                                   9\n",
       "unique                                                  9\n",
       "top     Добавить форму подписки на все основные страни...\n",
       "freq                                                    1"
      ]
     },
     "metadata": {},
     "output_type": "display_data"
    },
    {
     "name": "stdout",
     "output_type": "stream",
     "text": [
      "5) Описательные статистики количественных переменных \n",
      "\n"
     ]
    },
    {
     "data": {
      "text/html": [
       "<div>\n",
       "<style scoped>\n",
       "    .dataframe tbody tr th:only-of-type {\n",
       "        vertical-align: middle;\n",
       "    }\n",
       "\n",
       "    .dataframe tbody tr th {\n",
       "        vertical-align: top;\n",
       "    }\n",
       "\n",
       "    .dataframe thead th {\n",
       "        text-align: right;\n",
       "    }\n",
       "</style>\n",
       "<table border=\"1\" class=\"dataframe\">\n",
       "  <thead>\n",
       "    <tr style=\"text-align: right;\">\n",
       "      <th></th>\n",
       "      <th>reach</th>\n",
       "      <th>impact</th>\n",
       "      <th>confidence</th>\n",
       "      <th>efforts</th>\n",
       "    </tr>\n",
       "  </thead>\n",
       "  <tbody>\n",
       "    <tr>\n",
       "      <th>count</th>\n",
       "      <td>9.00</td>\n",
       "      <td>9.00</td>\n",
       "      <td>9.00</td>\n",
       "      <td>9.00</td>\n",
       "    </tr>\n",
       "    <tr>\n",
       "      <th>mean</th>\n",
       "      <td>4.78</td>\n",
       "      <td>4.78</td>\n",
       "      <td>5.56</td>\n",
       "      <td>4.89</td>\n",
       "    </tr>\n",
       "    <tr>\n",
       "      <th>std</th>\n",
       "      <td>3.15</td>\n",
       "      <td>3.19</td>\n",
       "      <td>3.05</td>\n",
       "      <td>2.80</td>\n",
       "    </tr>\n",
       "    <tr>\n",
       "      <th>min</th>\n",
       "      <td>1.00</td>\n",
       "      <td>1.00</td>\n",
       "      <td>1.00</td>\n",
       "      <td>1.00</td>\n",
       "    </tr>\n",
       "    <tr>\n",
       "      <th>25%</th>\n",
       "      <td>3.00</td>\n",
       "      <td>3.00</td>\n",
       "      <td>3.00</td>\n",
       "      <td>3.00</td>\n",
       "    </tr>\n",
       "    <tr>\n",
       "      <th>50%</th>\n",
       "      <td>3.00</td>\n",
       "      <td>3.00</td>\n",
       "      <td>7.00</td>\n",
       "      <td>5.00</td>\n",
       "    </tr>\n",
       "    <tr>\n",
       "      <th>75%</th>\n",
       "      <td>8.00</td>\n",
       "      <td>7.00</td>\n",
       "      <td>8.00</td>\n",
       "      <td>6.00</td>\n",
       "    </tr>\n",
       "    <tr>\n",
       "      <th>max</th>\n",
       "      <td>10.00</td>\n",
       "      <td>10.00</td>\n",
       "      <td>9.00</td>\n",
       "      <td>10.00</td>\n",
       "    </tr>\n",
       "  </tbody>\n",
       "</table>\n",
       "</div>"
      ],
      "text/plain": [
       "       reach  impact  confidence  efforts\n",
       "count   9.00    9.00        9.00     9.00\n",
       "mean    4.78    4.78        5.56     4.89\n",
       "std     3.15    3.19        3.05     2.80\n",
       "min     1.00    1.00        1.00     1.00\n",
       "25%     3.00    3.00        3.00     3.00\n",
       "50%     3.00    3.00        7.00     5.00\n",
       "75%     8.00    7.00        8.00     6.00\n",
       "max    10.00   10.00        9.00    10.00"
      ]
     },
     "metadata": {},
     "output_type": "display_data"
    },
    {
     "name": "stdout",
     "output_type": "stream",
     "text": [
      "6) Грубых дубликатов не обнаружено\n"
     ]
    }
   ],
   "source": [
    "research(hypothesis)"
   ]
  },
  {
   "cell_type": "markdown",
   "id": "7bb9687b",
   "metadata": {},
   "source": [
    "В таблице с гипотезами всё ок."
   ]
  },
  {
   "cell_type": "markdown",
   "id": "86865e58",
   "metadata": {},
   "source": [
    "### orders"
   ]
  },
  {
   "cell_type": "code",
   "execution_count": 5,
   "id": "b326572b",
   "metadata": {},
   "outputs": [
    {
     "name": "stdout",
     "output_type": "stream",
     "text": [
      "1) Названия столбцов \n",
      "\n",
      " Index(['transactionid', 'visitorid', 'date', 'revenue', 'group'], dtype='object')\n",
      "\n",
      "2) Таблица\n"
     ]
    },
    {
     "data": {
      "text/html": [
       "<div>\n",
       "<style scoped>\n",
       "    .dataframe tbody tr th:only-of-type {\n",
       "        vertical-align: middle;\n",
       "    }\n",
       "\n",
       "    .dataframe tbody tr th {\n",
       "        vertical-align: top;\n",
       "    }\n",
       "\n",
       "    .dataframe thead th {\n",
       "        text-align: right;\n",
       "    }\n",
       "</style>\n",
       "<table border=\"1\" class=\"dataframe\">\n",
       "  <thead>\n",
       "    <tr style=\"text-align: right;\">\n",
       "      <th></th>\n",
       "      <th>transactionid</th>\n",
       "      <th>visitorid</th>\n",
       "      <th>date</th>\n",
       "      <th>revenue</th>\n",
       "      <th>group</th>\n",
       "    </tr>\n",
       "  </thead>\n",
       "  <tbody>\n",
       "    <tr>\n",
       "      <th>921</th>\n",
       "      <td>3102219893</td>\n",
       "      <td>151496413</td>\n",
       "      <td>2019-08-21</td>\n",
       "      <td>350</td>\n",
       "      <td>A</td>\n",
       "    </tr>\n",
       "    <tr>\n",
       "      <th>321</th>\n",
       "      <td>1775445570</td>\n",
       "      <td>3118528100</td>\n",
       "      <td>2019-08-19</td>\n",
       "      <td>1090</td>\n",
       "      <td>A</td>\n",
       "    </tr>\n",
       "    <tr>\n",
       "      <th>101</th>\n",
       "      <td>3847160695</td>\n",
       "      <td>1830791924</td>\n",
       "      <td>2019-08-01</td>\n",
       "      <td>2350</td>\n",
       "      <td>A</td>\n",
       "    </tr>\n",
       "    <tr>\n",
       "      <th>920</th>\n",
       "      <td>3057892078</td>\n",
       "      <td>249864742</td>\n",
       "      <td>2019-08-21</td>\n",
       "      <td>5530</td>\n",
       "      <td>B</td>\n",
       "    </tr>\n",
       "    <tr>\n",
       "      <th>58</th>\n",
       "      <td>2145193898</td>\n",
       "      <td>1221478247</td>\n",
       "      <td>2019-08-16</td>\n",
       "      <td>1440</td>\n",
       "      <td>B</td>\n",
       "    </tr>\n",
       "  </tbody>\n",
       "</table>\n",
       "</div>"
      ],
      "text/plain": [
       "     transactionid   visitorid        date  revenue group\n",
       "921     3102219893   151496413  2019-08-21      350     A\n",
       "321     1775445570  3118528100  2019-08-19     1090     A\n",
       "101     3847160695  1830791924  2019-08-01     2350     A\n",
       "920     3057892078   249864742  2019-08-21     5530     B\n",
       "58      2145193898  1221478247  2019-08-16     1440     B"
      ]
     },
     "metadata": {},
     "output_type": "display_data"
    },
    {
     "name": "stdout",
     "output_type": "stream",
     "text": [
      "\n",
      "3) Общая информация \n",
      "\n",
      "<class 'pandas.core.frame.DataFrame'>\n",
      "RangeIndex: 1197 entries, 0 to 1196\n",
      "Data columns (total 5 columns):\n",
      " #   Column         Non-Null Count  Dtype \n",
      "---  ------         --------------  ----- \n",
      " 0   transactionid  1197 non-null   int64 \n",
      " 1   visitorid      1197 non-null   int64 \n",
      " 2   date           1197 non-null   object\n",
      " 3   revenue        1197 non-null   int64 \n",
      " 4   group          1197 non-null   object\n",
      "dtypes: int64(3), object(2)\n",
      "memory usage: 46.9+ KB\n",
      "\n",
      "4) Описательные статистики качественных переменных \n",
      "\n"
     ]
    },
    {
     "data": {
      "text/html": [
       "<div>\n",
       "<style scoped>\n",
       "    .dataframe tbody tr th:only-of-type {\n",
       "        vertical-align: middle;\n",
       "    }\n",
       "\n",
       "    .dataframe tbody tr th {\n",
       "        vertical-align: top;\n",
       "    }\n",
       "\n",
       "    .dataframe thead th {\n",
       "        text-align: right;\n",
       "    }\n",
       "</style>\n",
       "<table border=\"1\" class=\"dataframe\">\n",
       "  <thead>\n",
       "    <tr style=\"text-align: right;\">\n",
       "      <th></th>\n",
       "      <th>date</th>\n",
       "      <th>group</th>\n",
       "    </tr>\n",
       "  </thead>\n",
       "  <tbody>\n",
       "    <tr>\n",
       "      <th>count</th>\n",
       "      <td>1197</td>\n",
       "      <td>1197</td>\n",
       "    </tr>\n",
       "    <tr>\n",
       "      <th>unique</th>\n",
       "      <td>31</td>\n",
       "      <td>2</td>\n",
       "    </tr>\n",
       "    <tr>\n",
       "      <th>top</th>\n",
       "      <td>2019-08-05</td>\n",
       "      <td>B</td>\n",
       "    </tr>\n",
       "    <tr>\n",
       "      <th>freq</th>\n",
       "      <td>48</td>\n",
       "      <td>640</td>\n",
       "    </tr>\n",
       "  </tbody>\n",
       "</table>\n",
       "</div>"
      ],
      "text/plain": [
       "              date group\n",
       "count         1197  1197\n",
       "unique          31     2\n",
       "top     2019-08-05     B\n",
       "freq            48   640"
      ]
     },
     "metadata": {},
     "output_type": "display_data"
    },
    {
     "name": "stdout",
     "output_type": "stream",
     "text": [
      "5) Описательные статистики количественных переменных \n",
      "\n"
     ]
    },
    {
     "data": {
      "text/html": [
       "<div>\n",
       "<style scoped>\n",
       "    .dataframe tbody tr th:only-of-type {\n",
       "        vertical-align: middle;\n",
       "    }\n",
       "\n",
       "    .dataframe tbody tr th {\n",
       "        vertical-align: top;\n",
       "    }\n",
       "\n",
       "    .dataframe thead th {\n",
       "        text-align: right;\n",
       "    }\n",
       "</style>\n",
       "<table border=\"1\" class=\"dataframe\">\n",
       "  <thead>\n",
       "    <tr style=\"text-align: right;\">\n",
       "      <th></th>\n",
       "      <th>transactionid</th>\n",
       "      <th>visitorid</th>\n",
       "      <th>revenue</th>\n",
       "    </tr>\n",
       "  </thead>\n",
       "  <tbody>\n",
       "    <tr>\n",
       "      <th>count</th>\n",
       "      <td>1197.00</td>\n",
       "      <td>1197.00</td>\n",
       "      <td>1197.00</td>\n",
       "    </tr>\n",
       "    <tr>\n",
       "      <th>mean</th>\n",
       "      <td>2155621385.53</td>\n",
       "      <td>2165960143.10</td>\n",
       "      <td>8348.01</td>\n",
       "    </tr>\n",
       "    <tr>\n",
       "      <th>std</th>\n",
       "      <td>1229084904.76</td>\n",
       "      <td>1236014192.15</td>\n",
       "      <td>39191.13</td>\n",
       "    </tr>\n",
       "    <tr>\n",
       "      <th>min</th>\n",
       "      <td>1062393.00</td>\n",
       "      <td>5114589.00</td>\n",
       "      <td>50.00</td>\n",
       "    </tr>\n",
       "    <tr>\n",
       "      <th>25%</th>\n",
       "      <td>1166775572.00</td>\n",
       "      <td>1111826046.00</td>\n",
       "      <td>1220.00</td>\n",
       "    </tr>\n",
       "    <tr>\n",
       "      <th>50%</th>\n",
       "      <td>2145193898.00</td>\n",
       "      <td>2217984702.00</td>\n",
       "      <td>2978.00</td>\n",
       "    </tr>\n",
       "    <tr>\n",
       "      <th>75%</th>\n",
       "      <td>3237740112.00</td>\n",
       "      <td>3177606451.00</td>\n",
       "      <td>8290.00</td>\n",
       "    </tr>\n",
       "    <tr>\n",
       "      <th>max</th>\n",
       "      <td>4293855558.00</td>\n",
       "      <td>4283872382.00</td>\n",
       "      <td>1294500.00</td>\n",
       "    </tr>\n",
       "  </tbody>\n",
       "</table>\n",
       "</div>"
      ],
      "text/plain": [
       "       transactionid     visitorid    revenue\n",
       "count        1197.00       1197.00    1197.00\n",
       "mean   2155621385.53 2165960143.10    8348.01\n",
       "std    1229084904.76 1236014192.15   39191.13\n",
       "min       1062393.00    5114589.00      50.00\n",
       "25%    1166775572.00 1111826046.00    1220.00\n",
       "50%    2145193898.00 2217984702.00    2978.00\n",
       "75%    3237740112.00 3177606451.00    8290.00\n",
       "max    4293855558.00 4283872382.00 1294500.00"
      ]
     },
     "metadata": {},
     "output_type": "display_data"
    },
    {
     "name": "stdout",
     "output_type": "stream",
     "text": [
      "6) Грубых дубликатов не обнаружено\n"
     ]
    }
   ],
   "source": [
    "research(orders)"
   ]
  },
  {
   "cell_type": "markdown",
   "id": "55e83e48",
   "metadata": {},
   "source": [
    "Еще немного поправим названия столбцов. В остальном всё в порядке (типы данных соответствуют содержащимся данным, пропусков и дубликатов нет). В таблице содержатся данные по заказам за август 2019 г. "
   ]
  },
  {
   "cell_type": "code",
   "execution_count": 6,
   "id": "edfce855",
   "metadata": {},
   "outputs": [],
   "source": [
    "orders.columns = ['transaction_id', 'visitor_id', 'date', 'revenue', 'group']"
   ]
  },
  {
   "cell_type": "markdown",
   "id": "205349a6",
   "metadata": {},
   "source": [
    "### visitors"
   ]
  },
  {
   "cell_type": "code",
   "execution_count": 7,
   "id": "d91a7141",
   "metadata": {},
   "outputs": [
    {
     "name": "stdout",
     "output_type": "stream",
     "text": [
      "1) Названия столбцов \n",
      "\n",
      " Index(['date', 'group', 'visitors'], dtype='object')\n",
      "\n",
      "2) Таблица\n"
     ]
    },
    {
     "data": {
      "text/html": [
       "<div>\n",
       "<style scoped>\n",
       "    .dataframe tbody tr th:only-of-type {\n",
       "        vertical-align: middle;\n",
       "    }\n",
       "\n",
       "    .dataframe tbody tr th {\n",
       "        vertical-align: top;\n",
       "    }\n",
       "\n",
       "    .dataframe thead th {\n",
       "        text-align: right;\n",
       "    }\n",
       "</style>\n",
       "<table border=\"1\" class=\"dataframe\">\n",
       "  <thead>\n",
       "    <tr style=\"text-align: right;\">\n",
       "      <th></th>\n",
       "      <th>date</th>\n",
       "      <th>group</th>\n",
       "      <th>visitors</th>\n",
       "    </tr>\n",
       "  </thead>\n",
       "  <tbody>\n",
       "    <tr>\n",
       "      <th>50</th>\n",
       "      <td>2019-08-20</td>\n",
       "      <td>B</td>\n",
       "      <td>560</td>\n",
       "    </tr>\n",
       "    <tr>\n",
       "      <th>56</th>\n",
       "      <td>2019-08-26</td>\n",
       "      <td>B</td>\n",
       "      <td>676</td>\n",
       "    </tr>\n",
       "    <tr>\n",
       "      <th>0</th>\n",
       "      <td>2019-08-01</td>\n",
       "      <td>A</td>\n",
       "      <td>719</td>\n",
       "    </tr>\n",
       "    <tr>\n",
       "      <th>57</th>\n",
       "      <td>2019-08-27</td>\n",
       "      <td>B</td>\n",
       "      <td>720</td>\n",
       "    </tr>\n",
       "    <tr>\n",
       "      <th>5</th>\n",
       "      <td>2019-08-06</td>\n",
       "      <td>A</td>\n",
       "      <td>667</td>\n",
       "    </tr>\n",
       "  </tbody>\n",
       "</table>\n",
       "</div>"
      ],
      "text/plain": [
       "          date group  visitors\n",
       "50  2019-08-20     B       560\n",
       "56  2019-08-26     B       676\n",
       "0   2019-08-01     A       719\n",
       "57  2019-08-27     B       720\n",
       "5   2019-08-06     A       667"
      ]
     },
     "metadata": {},
     "output_type": "display_data"
    },
    {
     "name": "stdout",
     "output_type": "stream",
     "text": [
      "\n",
      "3) Общая информация \n",
      "\n",
      "<class 'pandas.core.frame.DataFrame'>\n",
      "RangeIndex: 62 entries, 0 to 61\n",
      "Data columns (total 3 columns):\n",
      " #   Column    Non-Null Count  Dtype \n",
      "---  ------    --------------  ----- \n",
      " 0   date      62 non-null     object\n",
      " 1   group     62 non-null     object\n",
      " 2   visitors  62 non-null     int64 \n",
      "dtypes: int64(1), object(2)\n",
      "memory usage: 1.6+ KB\n",
      "\n",
      "4) Описательные статистики качественных переменных \n",
      "\n"
     ]
    },
    {
     "data": {
      "text/html": [
       "<div>\n",
       "<style scoped>\n",
       "    .dataframe tbody tr th:only-of-type {\n",
       "        vertical-align: middle;\n",
       "    }\n",
       "\n",
       "    .dataframe tbody tr th {\n",
       "        vertical-align: top;\n",
       "    }\n",
       "\n",
       "    .dataframe thead th {\n",
       "        text-align: right;\n",
       "    }\n",
       "</style>\n",
       "<table border=\"1\" class=\"dataframe\">\n",
       "  <thead>\n",
       "    <tr style=\"text-align: right;\">\n",
       "      <th></th>\n",
       "      <th>date</th>\n",
       "      <th>group</th>\n",
       "    </tr>\n",
       "  </thead>\n",
       "  <tbody>\n",
       "    <tr>\n",
       "      <th>count</th>\n",
       "      <td>62</td>\n",
       "      <td>62</td>\n",
       "    </tr>\n",
       "    <tr>\n",
       "      <th>unique</th>\n",
       "      <td>31</td>\n",
       "      <td>2</td>\n",
       "    </tr>\n",
       "    <tr>\n",
       "      <th>top</th>\n",
       "      <td>2019-08-26</td>\n",
       "      <td>B</td>\n",
       "    </tr>\n",
       "    <tr>\n",
       "      <th>freq</th>\n",
       "      <td>2</td>\n",
       "      <td>31</td>\n",
       "    </tr>\n",
       "  </tbody>\n",
       "</table>\n",
       "</div>"
      ],
      "text/plain": [
       "              date group\n",
       "count           62    62\n",
       "unique          31     2\n",
       "top     2019-08-26     B\n",
       "freq             2    31"
      ]
     },
     "metadata": {},
     "output_type": "display_data"
    },
    {
     "name": "stdout",
     "output_type": "stream",
     "text": [
      "5) Описательные статистики количественных переменных \n",
      "\n"
     ]
    },
    {
     "data": {
      "text/html": [
       "<div>\n",
       "<style scoped>\n",
       "    .dataframe tbody tr th:only-of-type {\n",
       "        vertical-align: middle;\n",
       "    }\n",
       "\n",
       "    .dataframe tbody tr th {\n",
       "        vertical-align: top;\n",
       "    }\n",
       "\n",
       "    .dataframe thead th {\n",
       "        text-align: right;\n",
       "    }\n",
       "</style>\n",
       "<table border=\"1\" class=\"dataframe\">\n",
       "  <thead>\n",
       "    <tr style=\"text-align: right;\">\n",
       "      <th></th>\n",
       "      <th>visitors</th>\n",
       "    </tr>\n",
       "  </thead>\n",
       "  <tbody>\n",
       "    <tr>\n",
       "      <th>count</th>\n",
       "      <td>62.00</td>\n",
       "    </tr>\n",
       "    <tr>\n",
       "      <th>mean</th>\n",
       "      <td>607.29</td>\n",
       "    </tr>\n",
       "    <tr>\n",
       "      <th>std</th>\n",
       "      <td>114.40</td>\n",
       "    </tr>\n",
       "    <tr>\n",
       "      <th>min</th>\n",
       "      <td>361.00</td>\n",
       "    </tr>\n",
       "    <tr>\n",
       "      <th>25%</th>\n",
       "      <td>534.00</td>\n",
       "    </tr>\n",
       "    <tr>\n",
       "      <th>50%</th>\n",
       "      <td>624.50</td>\n",
       "    </tr>\n",
       "    <tr>\n",
       "      <th>75%</th>\n",
       "      <td>710.50</td>\n",
       "    </tr>\n",
       "    <tr>\n",
       "      <th>max</th>\n",
       "      <td>770.00</td>\n",
       "    </tr>\n",
       "  </tbody>\n",
       "</table>\n",
       "</div>"
      ],
      "text/plain": [
       "       visitors\n",
       "count     62.00\n",
       "mean     607.29\n",
       "std      114.40\n",
       "min      361.00\n",
       "25%      534.00\n",
       "50%      624.50\n",
       "75%      710.50\n",
       "max      770.00"
      ]
     },
     "metadata": {},
     "output_type": "display_data"
    },
    {
     "name": "stdout",
     "output_type": "stream",
     "text": [
      "6) Грубых дубликатов не обнаружено\n"
     ]
    }
   ],
   "source": [
    "research(visitors)"
   ]
  },
  {
   "cell_type": "markdown",
   "id": "a3594af3",
   "metadata": {},
   "source": [
    "С данными по визитам так же всё в порядке (типы данных соответствуют содержащимся данным, пропусков и дубликатов нет). В таблице содержатся данные за август 2019 г., т.е. периоды по визитам и заказам полностью совпадают.  "
   ]
  },
  {
   "cell_type": "markdown",
   "id": "ef582fcd",
   "metadata": {},
   "source": [
    "### сравнение групп А и В "
   ]
  },
  {
   "cell_type": "code",
   "execution_count": 8,
   "id": "4d397201",
   "metadata": {},
   "outputs": [
    {
     "data": {
      "text/html": [
       "<div>\n",
       "<style scoped>\n",
       "    .dataframe tbody tr th:only-of-type {\n",
       "        vertical-align: middle;\n",
       "    }\n",
       "\n",
       "    .dataframe tbody tr th {\n",
       "        vertical-align: top;\n",
       "    }\n",
       "\n",
       "    .dataframe thead th {\n",
       "        text-align: right;\n",
       "    }\n",
       "</style>\n",
       "<table border=\"1\" class=\"dataframe\">\n",
       "  <thead>\n",
       "    <tr style=\"text-align: right;\">\n",
       "      <th></th>\n",
       "      <th>transaction_id</th>\n",
       "      <th>visitor_id</th>\n",
       "      <th>date</th>\n",
       "      <th>revenue</th>\n",
       "      <th>group</th>\n",
       "    </tr>\n",
       "  </thead>\n",
       "  <tbody>\n",
       "    <tr>\n",
       "      <th>0</th>\n",
       "      <td>3667963787</td>\n",
       "      <td>3312258926</td>\n",
       "      <td>2019-08-15</td>\n",
       "      <td>1650</td>\n",
       "      <td>B</td>\n",
       "    </tr>\n",
       "    <tr>\n",
       "      <th>1</th>\n",
       "      <td>2804400009</td>\n",
       "      <td>3642806036</td>\n",
       "      <td>2019-08-15</td>\n",
       "      <td>730</td>\n",
       "      <td>B</td>\n",
       "    </tr>\n",
       "    <tr>\n",
       "      <th>2</th>\n",
       "      <td>2961555356</td>\n",
       "      <td>4069496402</td>\n",
       "      <td>2019-08-15</td>\n",
       "      <td>400</td>\n",
       "      <td>A</td>\n",
       "    </tr>\n",
       "    <tr>\n",
       "      <th>3</th>\n",
       "      <td>3797467345</td>\n",
       "      <td>1196621759</td>\n",
       "      <td>2019-08-15</td>\n",
       "      <td>9759</td>\n",
       "      <td>B</td>\n",
       "    </tr>\n",
       "    <tr>\n",
       "      <th>4</th>\n",
       "      <td>2282983706</td>\n",
       "      <td>2322279887</td>\n",
       "      <td>2019-08-15</td>\n",
       "      <td>2308</td>\n",
       "      <td>B</td>\n",
       "    </tr>\n",
       "  </tbody>\n",
       "</table>\n",
       "</div>"
      ],
      "text/plain": [
       "   transaction_id  visitor_id        date  revenue group\n",
       "0      3667963787  3312258926  2019-08-15     1650     B\n",
       "1      2804400009  3642806036  2019-08-15      730     B\n",
       "2      2961555356  4069496402  2019-08-15      400     A\n",
       "3      3797467345  1196621759  2019-08-15     9759     B\n",
       "4      2282983706  2322279887  2019-08-15     2308     B"
      ]
     },
     "execution_count": 8,
     "metadata": {},
     "output_type": "execute_result"
    }
   ],
   "source": [
    "orders.head()"
   ]
  },
  {
   "cell_type": "code",
   "execution_count": 9,
   "id": "48070923",
   "metadata": {},
   "outputs": [],
   "source": [
    "group_A = (orders[orders['group'] == 'A'].groupby('visitor_id')\n",
    "           .agg({'transaction_id': 'count', 'revenue': 'sum'}).reset_index())\n",
    "\n",
    "group_B = (orders[orders['group'] == 'B'].groupby('visitor_id')\n",
    "           .agg({'transaction_id': 'count', 'revenue': 'sum'}).reset_index())"
   ]
  },
  {
   "cell_type": "code",
   "execution_count": 10,
   "id": "4d7f0ee9",
   "metadata": {},
   "outputs": [
    {
     "data": {
      "text/plain": [
       "503"
      ]
     },
     "execution_count": 10,
     "metadata": {},
     "output_type": "execute_result"
    }
   ],
   "source": [
    "len(group_A)"
   ]
  },
  {
   "cell_type": "code",
   "execution_count": 11,
   "id": "d410a8b2",
   "metadata": {},
   "outputs": [
    {
     "data": {
      "text/plain": [
       "586"
      ]
     },
     "execution_count": 11,
     "metadata": {},
     "output_type": "execute_result"
    }
   ],
   "source": [
    "len(group_B)"
   ]
  },
  {
   "cell_type": "code",
   "execution_count": 12,
   "id": "8df9232b",
   "metadata": {},
   "outputs": [
    {
     "data": {
      "text/plain": [
       "1089"
      ]
     },
     "execution_count": 12,
     "metadata": {},
     "output_type": "execute_result"
    }
   ],
   "source": [
    "len(group_A) + len(group_B)"
   ]
  },
  {
   "cell_type": "code",
   "execution_count": 13,
   "id": "420edf32",
   "metadata": {},
   "outputs": [
    {
     "data": {
      "text/plain": [
       "1031"
      ]
     },
     "execution_count": 13,
     "metadata": {},
     "output_type": "execute_result"
    }
   ],
   "source": [
    "orders['visitor_id'].nunique()"
   ]
  },
  {
   "cell_type": "code",
   "execution_count": 14,
   "id": "470650f8",
   "metadata": {},
   "outputs": [
    {
     "data": {
      "text/plain": [
       "0.5683802133850631"
      ]
     },
     "execution_count": 14,
     "metadata": {},
     "output_type": "execute_result"
    }
   ],
   "source": [
    "len(group_B) / orders['visitor_id'].nunique()"
   ]
  },
  {
   "cell_type": "code",
   "execution_count": 15,
   "id": "02baafc7",
   "metadata": {},
   "outputs": [
    {
     "data": {
      "text/plain": [
       "0.48787584869059164"
      ]
     },
     "execution_count": 15,
     "metadata": {},
     "output_type": "execute_result"
    }
   ],
   "source": [
    "len(group_A) / orders['visitor_id'].nunique()"
   ]
  },
  {
   "cell_type": "code",
   "execution_count": 16,
   "id": "171aafd1",
   "metadata": {},
   "outputs": [
    {
     "data": {
      "text/plain": [
       "58"
      ]
     },
     "execution_count": 16,
     "metadata": {},
     "output_type": "execute_result"
    }
   ],
   "source": [
    "double_users = group_B.query('visitor_id in @group_A.visitor_id')\n",
    "\n",
    "len(double_users)"
   ]
  },
  {
   "cell_type": "code",
   "execution_count": 17,
   "id": "8ab8d9d9",
   "metadata": {},
   "outputs": [
    {
     "data": {
      "text/html": [
       "<div>\n",
       "<style scoped>\n",
       "    .dataframe tbody tr th:only-of-type {\n",
       "        vertical-align: middle;\n",
       "    }\n",
       "\n",
       "    .dataframe tbody tr th {\n",
       "        vertical-align: top;\n",
       "    }\n",
       "\n",
       "    .dataframe thead th {\n",
       "        text-align: right;\n",
       "    }\n",
       "</style>\n",
       "<table border=\"1\" class=\"dataframe\">\n",
       "  <thead>\n",
       "    <tr style=\"text-align: right;\">\n",
       "      <th></th>\n",
       "      <th>visitor_id</th>\n",
       "      <th>transaction_id</th>\n",
       "      <th>revenue</th>\n",
       "    </tr>\n",
       "  </thead>\n",
       "  <tbody>\n",
       "    <tr>\n",
       "      <th>2</th>\n",
       "      <td>8300375</td>\n",
       "      <td>1</td>\n",
       "      <td>10510</td>\n",
       "    </tr>\n",
       "    <tr>\n",
       "      <th>27</th>\n",
       "      <td>199603092</td>\n",
       "      <td>1</td>\n",
       "      <td>3488</td>\n",
       "    </tr>\n",
       "    <tr>\n",
       "      <th>33</th>\n",
       "      <td>232979603</td>\n",
       "      <td>1</td>\n",
       "      <td>2640</td>\n",
       "    </tr>\n",
       "    <tr>\n",
       "      <th>35</th>\n",
       "      <td>237748145</td>\n",
       "      <td>1</td>\n",
       "      <td>7620</td>\n",
       "    </tr>\n",
       "    <tr>\n",
       "      <th>42</th>\n",
       "      <td>276558944</td>\n",
       "      <td>1</td>\n",
       "      <td>12350</td>\n",
       "    </tr>\n",
       "  </tbody>\n",
       "</table>\n",
       "</div>"
      ],
      "text/plain": [
       "    visitor_id  transaction_id  revenue\n",
       "2      8300375               1    10510\n",
       "27   199603092               1     3488\n",
       "33   232979603               1     2640\n",
       "35   237748145               1     7620\n",
       "42   276558944               1    12350"
      ]
     },
     "execution_count": 17,
     "metadata": {},
     "output_type": "execute_result"
    }
   ],
   "source": [
    "double_users.head()"
   ]
  },
  {
   "cell_type": "code",
   "execution_count": 18,
   "id": "400bbe58",
   "metadata": {},
   "outputs": [
    {
     "data": {
      "text/html": [
       "<div>\n",
       "<style scoped>\n",
       "    .dataframe tbody tr th:only-of-type {\n",
       "        vertical-align: middle;\n",
       "    }\n",
       "\n",
       "    .dataframe tbody tr th {\n",
       "        vertical-align: top;\n",
       "    }\n",
       "\n",
       "    .dataframe thead th {\n",
       "        text-align: right;\n",
       "    }\n",
       "</style>\n",
       "<table border=\"1\" class=\"dataframe\">\n",
       "  <thead>\n",
       "    <tr style=\"text-align: right;\">\n",
       "      <th></th>\n",
       "      <th>transaction_id</th>\n",
       "      <th>visitor_id</th>\n",
       "      <th>date</th>\n",
       "      <th>revenue</th>\n",
       "      <th>group</th>\n",
       "    </tr>\n",
       "  </thead>\n",
       "  <tbody>\n",
       "    <tr>\n",
       "      <th>0</th>\n",
       "      <td>3667963787</td>\n",
       "      <td>3312258926</td>\n",
       "      <td>2019-08-15</td>\n",
       "      <td>1650</td>\n",
       "      <td>B</td>\n",
       "    </tr>\n",
       "    <tr>\n",
       "      <th>1</th>\n",
       "      <td>2804400009</td>\n",
       "      <td>3642806036</td>\n",
       "      <td>2019-08-15</td>\n",
       "      <td>730</td>\n",
       "      <td>B</td>\n",
       "    </tr>\n",
       "    <tr>\n",
       "      <th>2</th>\n",
       "      <td>2961555356</td>\n",
       "      <td>4069496402</td>\n",
       "      <td>2019-08-15</td>\n",
       "      <td>400</td>\n",
       "      <td>A</td>\n",
       "    </tr>\n",
       "    <tr>\n",
       "      <th>3</th>\n",
       "      <td>3797467345</td>\n",
       "      <td>1196621759</td>\n",
       "      <td>2019-08-15</td>\n",
       "      <td>9759</td>\n",
       "      <td>B</td>\n",
       "    </tr>\n",
       "    <tr>\n",
       "      <th>4</th>\n",
       "      <td>2282983706</td>\n",
       "      <td>2322279887</td>\n",
       "      <td>2019-08-15</td>\n",
       "      <td>2308</td>\n",
       "      <td>B</td>\n",
       "    </tr>\n",
       "    <tr>\n",
       "      <th>...</th>\n",
       "      <td>...</td>\n",
       "      <td>...</td>\n",
       "      <td>...</td>\n",
       "      <td>...</td>\n",
       "      <td>...</td>\n",
       "    </tr>\n",
       "    <tr>\n",
       "      <th>1192</th>\n",
       "      <td>2662137336</td>\n",
       "      <td>3733762160</td>\n",
       "      <td>2019-08-14</td>\n",
       "      <td>6490</td>\n",
       "      <td>B</td>\n",
       "    </tr>\n",
       "    <tr>\n",
       "      <th>1193</th>\n",
       "      <td>2203539145</td>\n",
       "      <td>370388673</td>\n",
       "      <td>2019-08-14</td>\n",
       "      <td>3190</td>\n",
       "      <td>A</td>\n",
       "    </tr>\n",
       "    <tr>\n",
       "      <th>1194</th>\n",
       "      <td>1807773912</td>\n",
       "      <td>573423106</td>\n",
       "      <td>2019-08-14</td>\n",
       "      <td>10550</td>\n",
       "      <td>A</td>\n",
       "    </tr>\n",
       "    <tr>\n",
       "      <th>1195</th>\n",
       "      <td>1947021204</td>\n",
       "      <td>1614305549</td>\n",
       "      <td>2019-08-14</td>\n",
       "      <td>100</td>\n",
       "      <td>A</td>\n",
       "    </tr>\n",
       "    <tr>\n",
       "      <th>1196</th>\n",
       "      <td>3936777065</td>\n",
       "      <td>2108080724</td>\n",
       "      <td>2019-08-15</td>\n",
       "      <td>202740</td>\n",
       "      <td>B</td>\n",
       "    </tr>\n",
       "  </tbody>\n",
       "</table>\n",
       "<p>1197 rows × 5 columns</p>\n",
       "</div>"
      ],
      "text/plain": [
       "      transaction_id  visitor_id        date  revenue group\n",
       "0         3667963787  3312258926  2019-08-15     1650     B\n",
       "1         2804400009  3642806036  2019-08-15      730     B\n",
       "2         2961555356  4069496402  2019-08-15      400     A\n",
       "3         3797467345  1196621759  2019-08-15     9759     B\n",
       "4         2282983706  2322279887  2019-08-15     2308     B\n",
       "...              ...         ...         ...      ...   ...\n",
       "1192      2662137336  3733762160  2019-08-14     6490     B\n",
       "1193      2203539145   370388673  2019-08-14     3190     A\n",
       "1194      1807773912   573423106  2019-08-14    10550     A\n",
       "1195      1947021204  1614305549  2019-08-14      100     A\n",
       "1196      3936777065  2108080724  2019-08-15   202740     B\n",
       "\n",
       "[1197 rows x 5 columns]"
      ]
     },
     "execution_count": 18,
     "metadata": {},
     "output_type": "execute_result"
    }
   ],
   "source": [
    "orders"
   ]
  },
  {
   "cell_type": "markdown",
   "id": "ca1ebe6b",
   "metadata": {},
   "source": [
    "Найдем долю заказов и сумму заказов по задублированным пользователям"
   ]
  },
  {
   "cell_type": "code",
   "execution_count": 19,
   "id": "0003bb35",
   "metadata": {},
   "outputs": [
    {
     "data": {
      "text/html": [
       "<div>\n",
       "<style scoped>\n",
       "    .dataframe tbody tr th:only-of-type {\n",
       "        vertical-align: middle;\n",
       "    }\n",
       "\n",
       "    .dataframe tbody tr th {\n",
       "        vertical-align: top;\n",
       "    }\n",
       "\n",
       "    .dataframe thead th {\n",
       "        text-align: right;\n",
       "    }\n",
       "</style>\n",
       "<table border=\"1\" class=\"dataframe\">\n",
       "  <thead>\n",
       "    <tr style=\"text-align: right;\">\n",
       "      <th></th>\n",
       "      <th>double_users</th>\n",
       "      <th>all_users</th>\n",
       "      <th>%%_double_users_of_total</th>\n",
       "    </tr>\n",
       "  </thead>\n",
       "  <tbody>\n",
       "    <tr>\n",
       "      <th>revenue</th>\n",
       "      <td>1558935</td>\n",
       "      <td>9992563</td>\n",
       "      <td>0.16</td>\n",
       "    </tr>\n",
       "    <tr>\n",
       "      <th>transaction_id</th>\n",
       "      <td>181</td>\n",
       "      <td>1197</td>\n",
       "      <td>0.15</td>\n",
       "    </tr>\n",
       "  </tbody>\n",
       "</table>\n",
       "</div>"
      ],
      "text/plain": [
       "                double_users  all_users  %%_double_users_of_total\n",
       "revenue              1558935    9992563                      0.16\n",
       "transaction_id           181       1197                      0.15"
      ]
     },
     "execution_count": 19,
     "metadata": {},
     "output_type": "execute_result"
    }
   ],
   "source": [
    "# создадим таблицу с суммой заказов и кол-вом транзакций по задублированным юзерам\n",
    "double_users_check = (orders\n",
    "                      .query('visitor_id in @double_users.visitor_id')\n",
    "                      .agg({'revenue': 'sum', 'transaction_id': 'count'})\n",
    "                      .to_frame().rename(columns={0:'double_users'})\n",
    " \n",
    " #добавим данные по сумме заказов и кол-ву транзакций для всех юзеров\n",
    "                      .join(orders.agg({'revenue': 'sum', 'transaction_id': 'count'})\n",
    "                            .to_frame().rename(columns={0:'all_users'}))\n",
    ")\n",
    "\n",
    "double_users_check['%%_double_users_of_total'] = (\n",
    "    round(double_users_check['double_users'] / double_users_check['all_users'], 2)\n",
    ")\n",
    "\n",
    "double_users_check"
   ]
  },
  {
   "cell_type": "markdown",
   "id": "b4751ada",
   "metadata": {},
   "source": [
    "Проверим какая доля заказов по задублированным пользователям относится к каждой группе. "
   ]
  },
  {
   "cell_type": "code",
   "execution_count": 20,
   "id": "f96883fc",
   "metadata": {},
   "outputs": [
    {
     "data": {
      "text/html": [
       "<div>\n",
       "<style scoped>\n",
       "    .dataframe tbody tr th:only-of-type {\n",
       "        vertical-align: middle;\n",
       "    }\n",
       "\n",
       "    .dataframe tbody tr th {\n",
       "        vertical-align: top;\n",
       "    }\n",
       "\n",
       "    .dataframe thead th {\n",
       "        text-align: right;\n",
       "    }\n",
       "</style>\n",
       "<table border=\"1\" class=\"dataframe\">\n",
       "  <thead>\n",
       "    <tr style=\"text-align: right;\">\n",
       "      <th>group</th>\n",
       "      <th>A_total</th>\n",
       "      <th>B_total</th>\n",
       "      <th>A</th>\n",
       "      <th>B</th>\n",
       "      <th>%_double_users_of_total_A</th>\n",
       "      <th>%_double_users_of_total_B</th>\n",
       "    </tr>\n",
       "  </thead>\n",
       "  <tbody>\n",
       "    <tr>\n",
       "      <th>revenue</th>\n",
       "      <td>4084803</td>\n",
       "      <td>5907760</td>\n",
       "      <td>720147</td>\n",
       "      <td>838788</td>\n",
       "      <td>0.18</td>\n",
       "      <td>0.14</td>\n",
       "    </tr>\n",
       "    <tr>\n",
       "      <th>transaction_id</th>\n",
       "      <td>557</td>\n",
       "      <td>640</td>\n",
       "      <td>89</td>\n",
       "      <td>92</td>\n",
       "      <td>0.16</td>\n",
       "      <td>0.14</td>\n",
       "    </tr>\n",
       "  </tbody>\n",
       "</table>\n",
       "</div>"
      ],
      "text/plain": [
       "group           A_total  B_total       A       B  %_double_users_of_total_A  \\\n",
       "revenue         4084803  5907760  720147  838788                       0.18   \n",
       "transaction_id      557      640      89      92                       0.16   \n",
       "\n",
       "group           %_double_users_of_total_B  \n",
       "revenue                              0.14  \n",
       "transaction_id                       0.14  "
      ]
     },
     "execution_count": 20,
     "metadata": {},
     "output_type": "execute_result"
    }
   ],
   "source": [
    "# таблица по сумме заказов и кол-ву транзакций по группам\n",
    "double_users_check_group = (orders.groupby('group').agg({'revenue': 'sum', 'transaction_id': 'count'}).T\n",
    "                            .rename(columns={'A':'A_total', 'B':'B_total'})\n",
    "# добавляем по сумме заказов и кол-ву транзакций данные по задублированным юзерам\n",
    "                            .join(\n",
    "                                orders.\n",
    "                                query('visitor_id in @double_users.visitor_id')\n",
    "                                .groupby('group').agg({'revenue': 'sum', 'transaction_id': 'count'}).T\n",
    "                            )\n",
    "                     )\n",
    "\n",
    "double_users_check_group['%_double_users_of_total_A'] = (\n",
    "    round(double_users_check_group['A'] / double_users_check_group['A_total'], 2)\n",
    ")\n",
    "\n",
    "double_users_check_group['%_double_users_of_total_B'] = (\n",
    "    round(double_users_check_group['B'] / double_users_check_group['B_total'], 2)\n",
    ")\n",
    "\n",
    "double_users_check_group"
   ]
  },
  {
   "cell_type": "markdown",
   "id": "d870ea73",
   "metadata": {},
   "source": [
    "Разделение на группы для тестирования было проведено не очень качественно. \n",
    "- группы получились разного размера, что в принципе компенсируется достаточным размером выборок, но  \n",
    "- есть пользователи, которые попали в обе группы, что недопустимо при проведении А/В-теста. \n",
    "\n",
    "Таких пользователей - 58 человек, при этом сумма их заказов составляет 15 % от общего, количество заказов - 16 % от общего.\n",
    "\n",
    "Сумма и кол-во заказов задублированных пользователей в группах распределены неодинаково. В группе А сумма заказов - 18 %, в группе В - 14 %. Кол-во заказов в группе А - 16 %, в группе В - 14 %. \n",
    "Если бы доли были одинаковыми, то это в некотором образе нивелировало эффект от дублирования, но это не так. \n",
    "\n",
    "Стоит отметить, что для дальнейшего проведения анализа невозможно корректно очистить таблицы `visitors` и `orders`, т.к. таблица `visitors` содержит только общее кол-во посетителей по группам в определенную дату и мы не можем знать в какую из групп в какую дату были отнесены наши \"дублирующиеся\" пользователи. \n",
    "Проведем анализ на тех данных, которые имеем. "
   ]
  },
  {
   "cell_type": "markdown",
   "id": "f123bc52",
   "metadata": {},
   "source": [
    "# Анализ данных"
   ]
  },
  {
   "cell_type": "markdown",
   "id": "48d04454",
   "metadata": {},
   "source": [
    "## Приоритезация гипотез"
   ]
  },
  {
   "cell_type": "code",
   "execution_count": 21,
   "id": "949349df",
   "metadata": {},
   "outputs": [],
   "source": [
    "#отображение колонок с максимальной шириной\n",
    "pd.set_option(\"max_colwidth\", -1)"
   ]
  },
  {
   "cell_type": "markdown",
   "id": "e4b03dd4",
   "metadata": {},
   "source": [
    "### с применением фреймворка ICE"
   ]
  },
  {
   "cell_type": "code",
   "execution_count": 22,
   "id": "227acdaf",
   "metadata": {},
   "outputs": [],
   "source": [
    "hypothesis['ice'] = ((hypothesis['impact'] * hypothesis['confidence']) / hypothesis['efforts']).round(2)"
   ]
  },
  {
   "cell_type": "code",
   "execution_count": 23,
   "id": "8fd68a99",
   "metadata": {},
   "outputs": [],
   "source": [
    "#добавим столбец с \"местами\" в рейтинге - \"ice_rating\"\n",
    "hypothesis_ice = (hypothesis[['hypothesis', 'ice']]\n",
    "                  .sort_values(by='ice', ignore_index=True)\n",
    "                  .reset_index())\n",
    "hypothesis_ice.columns = ['ice_rating', 'hypothesis', 'ice']"
   ]
  },
  {
   "cell_type": "code",
   "execution_count": 24,
   "id": "5e024b73",
   "metadata": {},
   "outputs": [
    {
     "data": {
      "text/html": [
       "<div>\n",
       "<style scoped>\n",
       "    .dataframe tbody tr th:only-of-type {\n",
       "        vertical-align: middle;\n",
       "    }\n",
       "\n",
       "    .dataframe tbody tr th {\n",
       "        vertical-align: top;\n",
       "    }\n",
       "\n",
       "    .dataframe thead th {\n",
       "        text-align: right;\n",
       "    }\n",
       "</style>\n",
       "<table border=\"1\" class=\"dataframe\">\n",
       "  <thead>\n",
       "    <tr style=\"text-align: right;\">\n",
       "      <th></th>\n",
       "      <th>ice_rating</th>\n",
       "      <th>hypothesis</th>\n",
       "      <th>ice</th>\n",
       "    </tr>\n",
       "  </thead>\n",
       "  <tbody>\n",
       "    <tr>\n",
       "      <th>8</th>\n",
       "      <td>8</td>\n",
       "      <td>Запустить акцию, дающую скидку на товар в день рождения</td>\n",
       "      <td>16.20</td>\n",
       "    </tr>\n",
       "    <tr>\n",
       "      <th>7</th>\n",
       "      <td>7</td>\n",
       "      <td>Добавить два новых канала привлечения трафика, что позволит привлекать на 30% больше пользователей</td>\n",
       "      <td>13.33</td>\n",
       "    </tr>\n",
       "    <tr>\n",
       "      <th>6</th>\n",
       "      <td>6</td>\n",
       "      <td>Добавить форму подписки на все основные страницы, чтобы собрать базу клиентов для email-рассылок</td>\n",
       "      <td>11.20</td>\n",
       "    </tr>\n",
       "    <tr>\n",
       "      <th>5</th>\n",
       "      <td>5</td>\n",
       "      <td>Показать на главной странице баннеры с актуальными акциями и распродажами, чтобы увеличить конверсию</td>\n",
       "      <td>8.00</td>\n",
       "    </tr>\n",
       "    <tr>\n",
       "      <th>4</th>\n",
       "      <td>4</td>\n",
       "      <td>Добавить блоки рекомендаций товаров на сайт интернет магазина, чтобы повысить конверсию и средний чек заказа</td>\n",
       "      <td>7.00</td>\n",
       "    </tr>\n",
       "    <tr>\n",
       "      <th>3</th>\n",
       "      <td>3</td>\n",
       "      <td>Запустить собственную службу доставки, что сократит срок доставки заказов</td>\n",
       "      <td>2.00</td>\n",
       "    </tr>\n",
       "    <tr>\n",
       "      <th>2</th>\n",
       "      <td>2</td>\n",
       "      <td>Добавить страницу отзывов клиентов о магазине, что позволит увеличить количество заказов</td>\n",
       "      <td>1.33</td>\n",
       "    </tr>\n",
       "    <tr>\n",
       "      <th>1</th>\n",
       "      <td>1</td>\n",
       "      <td>Изменить структура категорий, что увеличит конверсию, т.к. пользователи быстрее найдут нужный товар</td>\n",
       "      <td>1.12</td>\n",
       "    </tr>\n",
       "    <tr>\n",
       "      <th>0</th>\n",
       "      <td>0</td>\n",
       "      <td>Изменить цвет фона главной страницы, чтобы увеличить вовлеченность пользователей</td>\n",
       "      <td>1.00</td>\n",
       "    </tr>\n",
       "  </tbody>\n",
       "</table>\n",
       "</div>"
      ],
      "text/plain": [
       "   ice_rating  \\\n",
       "8  8            \n",
       "7  7            \n",
       "6  6            \n",
       "5  5            \n",
       "4  4            \n",
       "3  3            \n",
       "2  2            \n",
       "1  1            \n",
       "0  0            \n",
       "\n",
       "                                                                                                     hypothesis  \\\n",
       "8  Запустить акцию, дающую скидку на товар в день рождения                                                        \n",
       "7  Добавить два новых канала привлечения трафика, что позволит привлекать на 30% больше пользователей             \n",
       "6  Добавить форму подписки на все основные страницы, чтобы собрать базу клиентов для email-рассылок               \n",
       "5  Показать на главной странице баннеры с актуальными акциями и распродажами, чтобы увеличить конверсию           \n",
       "4  Добавить блоки рекомендаций товаров на сайт интернет магазина, чтобы повысить конверсию и средний чек заказа   \n",
       "3  Запустить собственную службу доставки, что сократит срок доставки заказов                                      \n",
       "2  Добавить страницу отзывов клиентов о магазине, что позволит увеличить количество заказов                       \n",
       "1  Изменить структура категорий, что увеличит конверсию, т.к. пользователи быстрее найдут нужный товар            \n",
       "0  Изменить цвет фона главной страницы, чтобы увеличить вовлеченность пользователей                               \n",
       "\n",
       "    ice  \n",
       "8 16.20  \n",
       "7 13.33  \n",
       "6 11.20  \n",
       "5 8.00   \n",
       "4 7.00   \n",
       "3 2.00   \n",
       "2 1.33   \n",
       "1 1.12   \n",
       "0 1.00   "
      ]
     },
     "execution_count": 24,
     "metadata": {},
     "output_type": "execute_result"
    }
   ],
   "source": [
    "hypothesis_ice.sort_values(by='ice', ascending=False)"
   ]
  },
  {
   "cell_type": "markdown",
   "id": "cc1273fa",
   "metadata": {},
   "source": [
    "### с применением фреймворка RICE"
   ]
  },
  {
   "cell_type": "code",
   "execution_count": 25,
   "id": "1261dafb",
   "metadata": {},
   "outputs": [],
   "source": [
    "hypothesis['rice'] = (((hypothesis['reach'] * hypothesis['impact'] * hypothesis['confidence']) \n",
    "                       / hypothesis['efforts']).round(2))"
   ]
  },
  {
   "cell_type": "code",
   "execution_count": 26,
   "id": "068e73ca",
   "metadata": {},
   "outputs": [],
   "source": [
    "#добавим столбец с \"местами\" в рейтинге - \"rice_rating\"\n",
    "hypothesis_rice = (hypothesis[['hypothesis', 'rice']]\n",
    "                   .sort_values(by='rice', ignore_index=True)\n",
    "                   .reset_index())\n",
    "hypothesis_rice.columns = ['rice_rating','hypothesis', 'rice']"
   ]
  },
  {
   "cell_type": "code",
   "execution_count": 27,
   "id": "24082402",
   "metadata": {},
   "outputs": [
    {
     "data": {
      "text/html": [
       "<div>\n",
       "<style scoped>\n",
       "    .dataframe tbody tr th:only-of-type {\n",
       "        vertical-align: middle;\n",
       "    }\n",
       "\n",
       "    .dataframe tbody tr th {\n",
       "        vertical-align: top;\n",
       "    }\n",
       "\n",
       "    .dataframe thead th {\n",
       "        text-align: right;\n",
       "    }\n",
       "</style>\n",
       "<table border=\"1\" class=\"dataframe\">\n",
       "  <thead>\n",
       "    <tr style=\"text-align: right;\">\n",
       "      <th></th>\n",
       "      <th>rice_rating</th>\n",
       "      <th>hypothesis</th>\n",
       "      <th>rice</th>\n",
       "    </tr>\n",
       "  </thead>\n",
       "  <tbody>\n",
       "    <tr>\n",
       "      <th>8</th>\n",
       "      <td>8</td>\n",
       "      <td>Добавить форму подписки на все основные страницы, чтобы собрать базу клиентов для email-рассылок</td>\n",
       "      <td>112.00</td>\n",
       "    </tr>\n",
       "    <tr>\n",
       "      <th>7</th>\n",
       "      <td>7</td>\n",
       "      <td>Добавить блоки рекомендаций товаров на сайт интернет магазина, чтобы повысить конверсию и средний чек заказа</td>\n",
       "      <td>56.00</td>\n",
       "    </tr>\n",
       "    <tr>\n",
       "      <th>5</th>\n",
       "      <td>5</td>\n",
       "      <td>Добавить два новых канала привлечения трафика, что позволит привлекать на 30% больше пользователей</td>\n",
       "      <td>40.00</td>\n",
       "    </tr>\n",
       "    <tr>\n",
       "      <th>6</th>\n",
       "      <td>6</td>\n",
       "      <td>Показать на главной странице баннеры с актуальными акциями и распродажами, чтобы увеличить конверсию</td>\n",
       "      <td>40.00</td>\n",
       "    </tr>\n",
       "    <tr>\n",
       "      <th>4</th>\n",
       "      <td>4</td>\n",
       "      <td>Запустить акцию, дающую скидку на товар в день рождения</td>\n",
       "      <td>16.20</td>\n",
       "    </tr>\n",
       "    <tr>\n",
       "      <th>3</th>\n",
       "      <td>3</td>\n",
       "      <td>Изменить структура категорий, что увеличит конверсию, т.к. пользователи быстрее найдут нужный товар</td>\n",
       "      <td>9.00</td>\n",
       "    </tr>\n",
       "    <tr>\n",
       "      <th>1</th>\n",
       "      <td>1</td>\n",
       "      <td>Запустить собственную службу доставки, что сократит срок доставки заказов</td>\n",
       "      <td>4.00</td>\n",
       "    </tr>\n",
       "    <tr>\n",
       "      <th>2</th>\n",
       "      <td>2</td>\n",
       "      <td>Добавить страницу отзывов клиентов о магазине, что позволит увеличить количество заказов</td>\n",
       "      <td>4.00</td>\n",
       "    </tr>\n",
       "    <tr>\n",
       "      <th>0</th>\n",
       "      <td>0</td>\n",
       "      <td>Изменить цвет фона главной страницы, чтобы увеличить вовлеченность пользователей</td>\n",
       "      <td>3.00</td>\n",
       "    </tr>\n",
       "  </tbody>\n",
       "</table>\n",
       "</div>"
      ],
      "text/plain": [
       "   rice_rating  \\\n",
       "8  8             \n",
       "7  7             \n",
       "5  5             \n",
       "6  6             \n",
       "4  4             \n",
       "3  3             \n",
       "1  1             \n",
       "2  2             \n",
       "0  0             \n",
       "\n",
       "                                                                                                     hypothesis  \\\n",
       "8  Добавить форму подписки на все основные страницы, чтобы собрать базу клиентов для email-рассылок               \n",
       "7  Добавить блоки рекомендаций товаров на сайт интернет магазина, чтобы повысить конверсию и средний чек заказа   \n",
       "5  Добавить два новых канала привлечения трафика, что позволит привлекать на 30% больше пользователей             \n",
       "6  Показать на главной странице баннеры с актуальными акциями и распродажами, чтобы увеличить конверсию           \n",
       "4  Запустить акцию, дающую скидку на товар в день рождения                                                        \n",
       "3  Изменить структура категорий, что увеличит конверсию, т.к. пользователи быстрее найдут нужный товар            \n",
       "1  Запустить собственную службу доставки, что сократит срок доставки заказов                                      \n",
       "2  Добавить страницу отзывов клиентов о магазине, что позволит увеличить количество заказов                       \n",
       "0  Изменить цвет фона главной страницы, чтобы увеличить вовлеченность пользователей                               \n",
       "\n",
       "    rice  \n",
       "8 112.00  \n",
       "7 56.00   \n",
       "5 40.00   \n",
       "6 40.00   \n",
       "4 16.20   \n",
       "3 9.00    \n",
       "1 4.00    \n",
       "2 4.00    \n",
       "0 3.00    "
      ]
     },
     "execution_count": 27,
     "metadata": {},
     "output_type": "execute_result"
    }
   ],
   "source": [
    "hypothesis_rice.sort_values(by='rice', ascending=False)"
   ]
  },
  {
   "cell_type": "code",
   "execution_count": 28,
   "id": "abb3fec3",
   "metadata": {},
   "outputs": [
    {
     "data": {
      "text/html": [
       "<div>\n",
       "<style scoped>\n",
       "    .dataframe tbody tr th:only-of-type {\n",
       "        vertical-align: middle;\n",
       "    }\n",
       "\n",
       "    .dataframe tbody tr th {\n",
       "        vertical-align: top;\n",
       "    }\n",
       "\n",
       "    .dataframe thead th {\n",
       "        text-align: right;\n",
       "    }\n",
       "</style>\n",
       "<table border=\"1\" class=\"dataframe\">\n",
       "  <thead>\n",
       "    <tr style=\"text-align: right;\">\n",
       "      <th></th>\n",
       "      <th>hypothesis</th>\n",
       "      <th>reach</th>\n",
       "      <th>impact</th>\n",
       "      <th>confidence</th>\n",
       "      <th>efforts</th>\n",
       "      <th>ice</th>\n",
       "      <th>rice</th>\n",
       "      <th>ice_rating</th>\n",
       "      <th>rice_rating</th>\n",
       "    </tr>\n",
       "  </thead>\n",
       "  <tbody>\n",
       "    <tr>\n",
       "      <th>0</th>\n",
       "      <td>Добавить два новых канала привлечения трафика, что позволит привлекать на 30% больше пользователей</td>\n",
       "      <td>3</td>\n",
       "      <td>10</td>\n",
       "      <td>8</td>\n",
       "      <td>6</td>\n",
       "      <td>13.33</td>\n",
       "      <td>40.00</td>\n",
       "      <td>7</td>\n",
       "      <td>5</td>\n",
       "    </tr>\n",
       "    <tr>\n",
       "      <th>1</th>\n",
       "      <td>Запустить собственную службу доставки, что сократит срок доставки заказов</td>\n",
       "      <td>2</td>\n",
       "      <td>5</td>\n",
       "      <td>4</td>\n",
       "      <td>10</td>\n",
       "      <td>2.00</td>\n",
       "      <td>4.00</td>\n",
       "      <td>3</td>\n",
       "      <td>1</td>\n",
       "    </tr>\n",
       "    <tr>\n",
       "      <th>2</th>\n",
       "      <td>Добавить блоки рекомендаций товаров на сайт интернет магазина, чтобы повысить конверсию и средний чек заказа</td>\n",
       "      <td>8</td>\n",
       "      <td>3</td>\n",
       "      <td>7</td>\n",
       "      <td>3</td>\n",
       "      <td>7.00</td>\n",
       "      <td>56.00</td>\n",
       "      <td>4</td>\n",
       "      <td>7</td>\n",
       "    </tr>\n",
       "    <tr>\n",
       "      <th>3</th>\n",
       "      <td>Изменить структура категорий, что увеличит конверсию, т.к. пользователи быстрее найдут нужный товар</td>\n",
       "      <td>8</td>\n",
       "      <td>3</td>\n",
       "      <td>3</td>\n",
       "      <td>8</td>\n",
       "      <td>1.12</td>\n",
       "      <td>9.00</td>\n",
       "      <td>1</td>\n",
       "      <td>3</td>\n",
       "    </tr>\n",
       "    <tr>\n",
       "      <th>4</th>\n",
       "      <td>Изменить цвет фона главной страницы, чтобы увеличить вовлеченность пользователей</td>\n",
       "      <td>3</td>\n",
       "      <td>1</td>\n",
       "      <td>1</td>\n",
       "      <td>1</td>\n",
       "      <td>1.00</td>\n",
       "      <td>3.00</td>\n",
       "      <td>0</td>\n",
       "      <td>0</td>\n",
       "    </tr>\n",
       "    <tr>\n",
       "      <th>5</th>\n",
       "      <td>Добавить страницу отзывов клиентов о магазине, что позволит увеличить количество заказов</td>\n",
       "      <td>3</td>\n",
       "      <td>2</td>\n",
       "      <td>2</td>\n",
       "      <td>3</td>\n",
       "      <td>1.33</td>\n",
       "      <td>4.00</td>\n",
       "      <td>2</td>\n",
       "      <td>2</td>\n",
       "    </tr>\n",
       "    <tr>\n",
       "      <th>6</th>\n",
       "      <td>Показать на главной странице баннеры с актуальными акциями и распродажами, чтобы увеличить конверсию</td>\n",
       "      <td>5</td>\n",
       "      <td>3</td>\n",
       "      <td>8</td>\n",
       "      <td>3</td>\n",
       "      <td>8.00</td>\n",
       "      <td>40.00</td>\n",
       "      <td>5</td>\n",
       "      <td>6</td>\n",
       "    </tr>\n",
       "    <tr>\n",
       "      <th>7</th>\n",
       "      <td>Добавить форму подписки на все основные страницы, чтобы собрать базу клиентов для email-рассылок</td>\n",
       "      <td>10</td>\n",
       "      <td>7</td>\n",
       "      <td>8</td>\n",
       "      <td>5</td>\n",
       "      <td>11.20</td>\n",
       "      <td>112.00</td>\n",
       "      <td>6</td>\n",
       "      <td>8</td>\n",
       "    </tr>\n",
       "    <tr>\n",
       "      <th>8</th>\n",
       "      <td>Запустить акцию, дающую скидку на товар в день рождения</td>\n",
       "      <td>1</td>\n",
       "      <td>9</td>\n",
       "      <td>9</td>\n",
       "      <td>5</td>\n",
       "      <td>16.20</td>\n",
       "      <td>16.20</td>\n",
       "      <td>8</td>\n",
       "      <td>4</td>\n",
       "    </tr>\n",
       "  </tbody>\n",
       "</table>\n",
       "</div>"
      ],
      "text/plain": [
       "                                                                                                     hypothesis  \\\n",
       "0  Добавить два новых канала привлечения трафика, что позволит привлекать на 30% больше пользователей             \n",
       "1  Запустить собственную службу доставки, что сократит срок доставки заказов                                      \n",
       "2  Добавить блоки рекомендаций товаров на сайт интернет магазина, чтобы повысить конверсию и средний чек заказа   \n",
       "3  Изменить структура категорий, что увеличит конверсию, т.к. пользователи быстрее найдут нужный товар            \n",
       "4  Изменить цвет фона главной страницы, чтобы увеличить вовлеченность пользователей                               \n",
       "5  Добавить страницу отзывов клиентов о магазине, что позволит увеличить количество заказов                       \n",
       "6  Показать на главной странице баннеры с актуальными акциями и распродажами, чтобы увеличить конверсию           \n",
       "7  Добавить форму подписки на все основные страницы, чтобы собрать базу клиентов для email-рассылок               \n",
       "8  Запустить акцию, дающую скидку на товар в день рождения                                                        \n",
       "\n",
       "   reach  impact  confidence  efforts   ice   rice  ice_rating  rice_rating  \n",
       "0  3      10      8           6       13.33 40.00   7           5            \n",
       "1  2      5       4           10      2.00  4.00    3           1            \n",
       "2  8      3       7           3       7.00  56.00   4           7            \n",
       "3  8      3       3           8       1.12  9.00    1           3            \n",
       "4  3      1       1           1       1.00  3.00    0           0            \n",
       "5  3      2       2           3       1.33  4.00    2           2            \n",
       "6  5      3       8           3       8.00  40.00   5           6            \n",
       "7  10     7       8           5       11.20 112.00  6           8            \n",
       "8  1      9       9           5       16.20 16.20   8           4            "
      ]
     },
     "execution_count": 28,
     "metadata": {},
     "output_type": "execute_result"
    }
   ],
   "source": [
    "hypothesis = (hypothesis\n",
    "              .merge(hypothesis_ice, on=['hypothesis', 'ice'])\n",
    "              .merge(hypothesis_rice, on=['hypothesis', 'rice'])\n",
    "             )\n",
    "\n",
    "hypothesis"
   ]
  },
  {
   "cell_type": "code",
   "execution_count": 29,
   "id": "11f813fc",
   "metadata": {},
   "outputs": [
    {
     "name": "stdout",
     "output_type": "stream",
     "text": [
      "Рейтинг гипотез по методам ICE и RICE \n",
      "(чем выше значение, тем лучше)\n"
     ]
    },
    {
     "data": {
      "text/html": [
       "<style  type=\"text/css\" >\n",
       "#T_a7360_row0_col1,#T_a7360_row0_col6,#T_a7360_row3_col2,#T_a7360_row4_col3,#T_a7360_row4_col5,#T_a7360_row7_col4{\n",
       "            background-color:  #008000;\n",
       "            color:  #f1f1f1;\n",
       "        }#T_a7360_row0_col2{\n",
       "            background-color:  #4daa4d;\n",
       "            color:  #000000;\n",
       "        }#T_a7360_row0_col3,#T_a7360_row1_col6,#T_a7360_row2_col3,#T_a7360_row3_col3,#T_a7360_row3_col5{\n",
       "            background-color:  #1c8f1c;\n",
       "            color:  #000000;\n",
       "        }#T_a7360_row0_col4,#T_a7360_row2_col1,#T_a7360_row4_col4,#T_a7360_row7_col2{\n",
       "            background-color:  #80c780;\n",
       "            color:  #000000;\n",
       "        }#T_a7360_row0_col5,#T_a7360_row1_col3,#T_a7360_row2_col6{\n",
       "            background-color:  #399f39;\n",
       "            color:  #000000;\n",
       "        }#T_a7360_row1_col1,#T_a7360_row5_col1,#T_a7360_row5_col4{\n",
       "            background-color:  #329c32;\n",
       "            color:  #000000;\n",
       "        }#T_a7360_row1_col2,#T_a7360_row1_col4,#T_a7360_row2_col2,#T_a7360_row2_col4,#T_a7360_row3_col1,#T_a7360_row5_col2,#T_a7360_row6_col1,#T_a7360_row6_col4,#T_a7360_row8_col1{\n",
       "            background-color:  #b3e3b3;\n",
       "            color:  #000000;\n",
       "        }#T_a7360_row1_col5,#T_a7360_row4_col6{\n",
       "            background-color:  #72bf72;\n",
       "            color:  #000000;\n",
       "        }#T_a7360_row2_col5,#T_a7360_row3_col6{\n",
       "            background-color:  #56af56;\n",
       "            color:  #000000;\n",
       "        }#T_a7360_row3_col4{\n",
       "            background-color:  #66b866;\n",
       "            color:  #000000;\n",
       "        }#T_a7360_row4_col1,#T_a7360_row8_col2,#T_a7360_row8_col3,#T_a7360_row8_col4,#T_a7360_row8_col5,#T_a7360_row8_col6{\n",
       "            background-color:  #e5ffe5;\n",
       "            color:  #000000;\n",
       "        }#T_a7360_row4_col2{\n",
       "            background-color:  #198e19;\n",
       "            color:  #000000;\n",
       "        }#T_a7360_row5_col3,#T_a7360_row6_col5,#T_a7360_row6_col6{\n",
       "            background-color:  #acdfac;\n",
       "            color:  #000000;\n",
       "        }#T_a7360_row5_col5,#T_a7360_row6_col3,#T_a7360_row7_col6{\n",
       "            background-color:  #c9efc9;\n",
       "            color:  #000000;\n",
       "        }#T_a7360_row5_col6,#T_a7360_row7_col3,#T_a7360_row7_col5{\n",
       "            background-color:  #8fcf8f;\n",
       "            color:  #000000;\n",
       "        }#T_a7360_row6_col2,#T_a7360_row7_col1{\n",
       "            background-color:  #ccf1cc;\n",
       "            color:  #000000;\n",
       "        }</style><table id=\"T_a7360_\" ><thead>    <tr>        <th class=\"blank level0\" ></th>        <th class=\"col_heading level0 col0\" >hypothesis</th>        <th class=\"col_heading level0 col1\" >reach</th>        <th class=\"col_heading level0 col2\" >impact</th>        <th class=\"col_heading level0 col3\" >confidence</th>        <th class=\"col_heading level0 col4\" >efforts</th>        <th class=\"col_heading level0 col5\" >ice_rating</th>        <th class=\"col_heading level0 col6\" >rice_rating</th>    </tr></thead><tbody>\n",
       "                <tr>\n",
       "                        <th id=\"T_a7360_level0_row0\" class=\"row_heading level0 row0\" >7</th>\n",
       "                        <td id=\"T_a7360_row0_col0\" class=\"data row0 col0\" >Добавить форму подписки на все основные страницы, чтобы собрать базу клиентов для email-рассылок</td>\n",
       "                        <td id=\"T_a7360_row0_col1\" class=\"data row0 col1\" >10</td>\n",
       "                        <td id=\"T_a7360_row0_col2\" class=\"data row0 col2\" >7</td>\n",
       "                        <td id=\"T_a7360_row0_col3\" class=\"data row0 col3\" >8</td>\n",
       "                        <td id=\"T_a7360_row0_col4\" class=\"data row0 col4\" >5</td>\n",
       "                        <td id=\"T_a7360_row0_col5\" class=\"data row0 col5\" >6</td>\n",
       "                        <td id=\"T_a7360_row0_col6\" class=\"data row0 col6\" >8</td>\n",
       "            </tr>\n",
       "            <tr>\n",
       "                        <th id=\"T_a7360_level0_row1\" class=\"row_heading level0 row1\" >2</th>\n",
       "                        <td id=\"T_a7360_row1_col0\" class=\"data row1 col0\" >Добавить блоки рекомендаций товаров на сайт интернет магазина, чтобы повысить конверсию и средний чек заказа</td>\n",
       "                        <td id=\"T_a7360_row1_col1\" class=\"data row1 col1\" >8</td>\n",
       "                        <td id=\"T_a7360_row1_col2\" class=\"data row1 col2\" >3</td>\n",
       "                        <td id=\"T_a7360_row1_col3\" class=\"data row1 col3\" >7</td>\n",
       "                        <td id=\"T_a7360_row1_col4\" class=\"data row1 col4\" >3</td>\n",
       "                        <td id=\"T_a7360_row1_col5\" class=\"data row1 col5\" >4</td>\n",
       "                        <td id=\"T_a7360_row1_col6\" class=\"data row1 col6\" >7</td>\n",
       "            </tr>\n",
       "            <tr>\n",
       "                        <th id=\"T_a7360_level0_row2\" class=\"row_heading level0 row2\" >6</th>\n",
       "                        <td id=\"T_a7360_row2_col0\" class=\"data row2 col0\" >Показать на главной странице баннеры с актуальными акциями и распродажами, чтобы увеличить конверсию</td>\n",
       "                        <td id=\"T_a7360_row2_col1\" class=\"data row2 col1\" >5</td>\n",
       "                        <td id=\"T_a7360_row2_col2\" class=\"data row2 col2\" >3</td>\n",
       "                        <td id=\"T_a7360_row2_col3\" class=\"data row2 col3\" >8</td>\n",
       "                        <td id=\"T_a7360_row2_col4\" class=\"data row2 col4\" >3</td>\n",
       "                        <td id=\"T_a7360_row2_col5\" class=\"data row2 col5\" >5</td>\n",
       "                        <td id=\"T_a7360_row2_col6\" class=\"data row2 col6\" >6</td>\n",
       "            </tr>\n",
       "            <tr>\n",
       "                        <th id=\"T_a7360_level0_row3\" class=\"row_heading level0 row3\" >0</th>\n",
       "                        <td id=\"T_a7360_row3_col0\" class=\"data row3 col0\" >Добавить два новых канала привлечения трафика, что позволит привлекать на 30% больше пользователей</td>\n",
       "                        <td id=\"T_a7360_row3_col1\" class=\"data row3 col1\" >3</td>\n",
       "                        <td id=\"T_a7360_row3_col2\" class=\"data row3 col2\" >10</td>\n",
       "                        <td id=\"T_a7360_row3_col3\" class=\"data row3 col3\" >8</td>\n",
       "                        <td id=\"T_a7360_row3_col4\" class=\"data row3 col4\" >6</td>\n",
       "                        <td id=\"T_a7360_row3_col5\" class=\"data row3 col5\" >7</td>\n",
       "                        <td id=\"T_a7360_row3_col6\" class=\"data row3 col6\" >5</td>\n",
       "            </tr>\n",
       "            <tr>\n",
       "                        <th id=\"T_a7360_level0_row4\" class=\"row_heading level0 row4\" >8</th>\n",
       "                        <td id=\"T_a7360_row4_col0\" class=\"data row4 col0\" >Запустить акцию, дающую скидку на товар в день рождения</td>\n",
       "                        <td id=\"T_a7360_row4_col1\" class=\"data row4 col1\" >1</td>\n",
       "                        <td id=\"T_a7360_row4_col2\" class=\"data row4 col2\" >9</td>\n",
       "                        <td id=\"T_a7360_row4_col3\" class=\"data row4 col3\" >9</td>\n",
       "                        <td id=\"T_a7360_row4_col4\" class=\"data row4 col4\" >5</td>\n",
       "                        <td id=\"T_a7360_row4_col5\" class=\"data row4 col5\" >8</td>\n",
       "                        <td id=\"T_a7360_row4_col6\" class=\"data row4 col6\" >4</td>\n",
       "            </tr>\n",
       "            <tr>\n",
       "                        <th id=\"T_a7360_level0_row5\" class=\"row_heading level0 row5\" >3</th>\n",
       "                        <td id=\"T_a7360_row5_col0\" class=\"data row5 col0\" >Изменить структура категорий, что увеличит конверсию, т.к. пользователи быстрее найдут нужный товар</td>\n",
       "                        <td id=\"T_a7360_row5_col1\" class=\"data row5 col1\" >8</td>\n",
       "                        <td id=\"T_a7360_row5_col2\" class=\"data row5 col2\" >3</td>\n",
       "                        <td id=\"T_a7360_row5_col3\" class=\"data row5 col3\" >3</td>\n",
       "                        <td id=\"T_a7360_row5_col4\" class=\"data row5 col4\" >8</td>\n",
       "                        <td id=\"T_a7360_row5_col5\" class=\"data row5 col5\" >1</td>\n",
       "                        <td id=\"T_a7360_row5_col6\" class=\"data row5 col6\" >3</td>\n",
       "            </tr>\n",
       "            <tr>\n",
       "                        <th id=\"T_a7360_level0_row6\" class=\"row_heading level0 row6\" >5</th>\n",
       "                        <td id=\"T_a7360_row6_col0\" class=\"data row6 col0\" >Добавить страницу отзывов клиентов о магазине, что позволит увеличить количество заказов</td>\n",
       "                        <td id=\"T_a7360_row6_col1\" class=\"data row6 col1\" >3</td>\n",
       "                        <td id=\"T_a7360_row6_col2\" class=\"data row6 col2\" >2</td>\n",
       "                        <td id=\"T_a7360_row6_col3\" class=\"data row6 col3\" >2</td>\n",
       "                        <td id=\"T_a7360_row6_col4\" class=\"data row6 col4\" >3</td>\n",
       "                        <td id=\"T_a7360_row6_col5\" class=\"data row6 col5\" >2</td>\n",
       "                        <td id=\"T_a7360_row6_col6\" class=\"data row6 col6\" >2</td>\n",
       "            </tr>\n",
       "            <tr>\n",
       "                        <th id=\"T_a7360_level0_row7\" class=\"row_heading level0 row7\" >1</th>\n",
       "                        <td id=\"T_a7360_row7_col0\" class=\"data row7 col0\" >Запустить собственную службу доставки, что сократит срок доставки заказов</td>\n",
       "                        <td id=\"T_a7360_row7_col1\" class=\"data row7 col1\" >2</td>\n",
       "                        <td id=\"T_a7360_row7_col2\" class=\"data row7 col2\" >5</td>\n",
       "                        <td id=\"T_a7360_row7_col3\" class=\"data row7 col3\" >4</td>\n",
       "                        <td id=\"T_a7360_row7_col4\" class=\"data row7 col4\" >10</td>\n",
       "                        <td id=\"T_a7360_row7_col5\" class=\"data row7 col5\" >3</td>\n",
       "                        <td id=\"T_a7360_row7_col6\" class=\"data row7 col6\" >1</td>\n",
       "            </tr>\n",
       "            <tr>\n",
       "                        <th id=\"T_a7360_level0_row8\" class=\"row_heading level0 row8\" >4</th>\n",
       "                        <td id=\"T_a7360_row8_col0\" class=\"data row8 col0\" >Изменить цвет фона главной страницы, чтобы увеличить вовлеченность пользователей</td>\n",
       "                        <td id=\"T_a7360_row8_col1\" class=\"data row8 col1\" >3</td>\n",
       "                        <td id=\"T_a7360_row8_col2\" class=\"data row8 col2\" >1</td>\n",
       "                        <td id=\"T_a7360_row8_col3\" class=\"data row8 col3\" >1</td>\n",
       "                        <td id=\"T_a7360_row8_col4\" class=\"data row8 col4\" >1</td>\n",
       "                        <td id=\"T_a7360_row8_col5\" class=\"data row8 col5\" >0</td>\n",
       "                        <td id=\"T_a7360_row8_col6\" class=\"data row8 col6\" >0</td>\n",
       "            </tr>\n",
       "    </tbody></table>"
      ],
      "text/plain": [
       "<pandas.io.formats.style.Styler at 0x1aa0cd1da48>"
      ]
     },
     "execution_count": 29,
     "metadata": {},
     "output_type": "execute_result"
    }
   ],
   "source": [
    "print('Рейтинг гипотез по методам ICE и RICE \\n(чем выше значение, тем лучше)')\n",
    "\n",
    "cm = sns.light_palette(\"green\", as_cmap=True)\n",
    "(hypothesis[['hypothesis', 'reach', 'impact', 'confidence', 'efforts', 'ice_rating', 'rice_rating']]\n",
    " .sort_values(by='rice_rating', ascending=False)\n",
    " .style.background_gradient(cmap=cm))"
   ]
  },
  {
   "cell_type": "markdown",
   "id": "6ad51a2d",
   "metadata": {},
   "source": [
    "**Вывод** \n",
    "\n",
    "При применении метода ICE приоритетной для проверки является гипотеза \"Запустить акцию, дающую скидку на товар в день рождения\". \n",
    "\n",
    "При применении метода RICE приоритетной для проверки является гипотеза \"Добавить форму подписки на все основные страницы, чтобы собрать базу клиентов для email-рассылок\". \n",
    "\n",
    "Приоритизация гипотез с применением метода RICE вместо ICE ожидаемо поменяла рейтинг гипотез, т.к. метод RICE учитывает охват пользователей, что хорошо видно в таблице выше по цветовой градации: гипотезы с высокими показателями `impact`, `confidence` и `reach` занимают более высокие позиции. \n",
    "\n",
    "Предполагаю, что с учетом специфики интернет-торговли для приоритезации гипотез более оправдано использование метода RICE. "
   ]
  },
  {
   "cell_type": "code",
   "execution_count": 30,
   "id": "abac43d2",
   "metadata": {},
   "outputs": [],
   "source": [
    "#отмена отображения колонок с максимальной шириной\n",
    "pd.reset_option(\"max_colwidth\")"
   ]
  },
  {
   "cell_type": "markdown",
   "id": "60cc7494",
   "metadata": {},
   "source": [
    "## Анализ\n",
    "\n",
    "Мы провели A/B-тест и получили результаты, которые описаны в `orders` и `visitors`"
   ]
  },
  {
   "cell_type": "markdown",
   "id": "874e9521",
   "metadata": {},
   "source": [
    "### Кумулятивные метрики\n",
    "\n",
    "#### график кумулятивной выручки по группам"
   ]
  },
  {
   "cell_type": "code",
   "execution_count": 31,
   "id": "7b52f61a",
   "metadata": {},
   "outputs": [
    {
     "data": {
      "text/html": [
       "<div>\n",
       "<style scoped>\n",
       "    .dataframe tbody tr th:only-of-type {\n",
       "        vertical-align: middle;\n",
       "    }\n",
       "\n",
       "    .dataframe tbody tr th {\n",
       "        vertical-align: top;\n",
       "    }\n",
       "\n",
       "    .dataframe thead th {\n",
       "        text-align: right;\n",
       "    }\n",
       "</style>\n",
       "<table border=\"1\" class=\"dataframe\">\n",
       "  <thead>\n",
       "    <tr style=\"text-align: right;\">\n",
       "      <th></th>\n",
       "      <th>date</th>\n",
       "      <th>group</th>\n",
       "    </tr>\n",
       "  </thead>\n",
       "  <tbody>\n",
       "    <tr>\n",
       "      <th>0</th>\n",
       "      <td>2019-08-15</td>\n",
       "      <td>B</td>\n",
       "    </tr>\n",
       "    <tr>\n",
       "      <th>2</th>\n",
       "      <td>2019-08-15</td>\n",
       "      <td>A</td>\n",
       "    </tr>\n",
       "    <tr>\n",
       "      <th>45</th>\n",
       "      <td>2019-08-16</td>\n",
       "      <td>A</td>\n",
       "    </tr>\n",
       "    <tr>\n",
       "      <th>47</th>\n",
       "      <td>2019-08-16</td>\n",
       "      <td>B</td>\n",
       "    </tr>\n",
       "    <tr>\n",
       "      <th>55</th>\n",
       "      <td>2019-08-01</td>\n",
       "      <td>A</td>\n",
       "    </tr>\n",
       "  </tbody>\n",
       "</table>\n",
       "</div>"
      ],
      "text/plain": [
       "          date group\n",
       "0   2019-08-15     B\n",
       "2   2019-08-15     A\n",
       "45  2019-08-16     A\n",
       "47  2019-08-16     B\n",
       "55  2019-08-01     A"
      ]
     },
     "execution_count": 31,
     "metadata": {},
     "output_type": "execute_result"
    }
   ],
   "source": [
    "# создаем массив уникальных пар значений дат и групп теста\n",
    "dates_groups = orders[['date','group']].drop_duplicates()\n",
    "dates_groups.head()"
   ]
  },
  {
   "cell_type": "code",
   "execution_count": 32,
   "id": "d59f2e24",
   "metadata": {},
   "outputs": [
    {
     "data": {
      "text/html": [
       "<div>\n",
       "<style scoped>\n",
       "    .dataframe tbody tr th:only-of-type {\n",
       "        vertical-align: middle;\n",
       "    }\n",
       "\n",
       "    .dataframe tbody tr th {\n",
       "        vertical-align: top;\n",
       "    }\n",
       "\n",
       "    .dataframe thead th {\n",
       "        text-align: right;\n",
       "    }\n",
       "</style>\n",
       "<table border=\"1\" class=\"dataframe\">\n",
       "  <thead>\n",
       "    <tr style=\"text-align: right;\">\n",
       "      <th></th>\n",
       "      <th>date</th>\n",
       "      <th>group</th>\n",
       "      <th>orders</th>\n",
       "      <th>buyers</th>\n",
       "      <th>revenue</th>\n",
       "    </tr>\n",
       "  </thead>\n",
       "  <tbody>\n",
       "    <tr>\n",
       "      <th>55</th>\n",
       "      <td>2019-08-01</td>\n",
       "      <td>A</td>\n",
       "      <td>24</td>\n",
       "      <td>20</td>\n",
       "      <td>148579</td>\n",
       "    </tr>\n",
       "    <tr>\n",
       "      <th>66</th>\n",
       "      <td>2019-08-01</td>\n",
       "      <td>B</td>\n",
       "      <td>21</td>\n",
       "      <td>20</td>\n",
       "      <td>101217</td>\n",
       "    </tr>\n",
       "    <tr>\n",
       "      <th>175</th>\n",
       "      <td>2019-08-02</td>\n",
       "      <td>A</td>\n",
       "      <td>44</td>\n",
       "      <td>38</td>\n",
       "      <td>242401</td>\n",
       "    </tr>\n",
       "    <tr>\n",
       "      <th>173</th>\n",
       "      <td>2019-08-02</td>\n",
       "      <td>B</td>\n",
       "      <td>45</td>\n",
       "      <td>43</td>\n",
       "      <td>266748</td>\n",
       "    </tr>\n",
       "    <tr>\n",
       "      <th>291</th>\n",
       "      <td>2019-08-03</td>\n",
       "      <td>A</td>\n",
       "      <td>68</td>\n",
       "      <td>62</td>\n",
       "      <td>354874</td>\n",
       "    </tr>\n",
       "  </tbody>\n",
       "</table>\n",
       "</div>"
      ],
      "text/plain": [
       "           date group  orders  buyers  revenue\n",
       "55   2019-08-01     A      24      20   148579\n",
       "66   2019-08-01     B      21      20   101217\n",
       "175  2019-08-02     A      44      38   242401\n",
       "173  2019-08-02     B      45      43   266748\n",
       "291  2019-08-03     A      68      62   354874"
      ]
     },
     "execution_count": 32,
     "metadata": {},
     "output_type": "execute_result"
    }
   ],
   "source": [
    "# получаем агрегированные кумулятивные по дням данные о заказах \n",
    "orders_aggregated = (\n",
    "    dates_groups\n",
    "    .apply(lambda x: orders[np.logical_and(orders['date'] <= x['date'], orders['group'] == x['group'])]\n",
    "           .agg({\n",
    "               'date' : 'max', \n",
    "               'group' : 'max', \n",
    "               'transaction_id' : pd.Series.nunique, \n",
    "               'visitor_id' : pd.Series.nunique, \n",
    "               'revenue' : 'sum'\n",
    "           })\n",
    "           , axis=1)\n",
    "    .sort_values(by=['date','group'])\n",
    ")\n",
    "\n",
    "orders_aggregated.columns = ['date', 'group', 'orders', 'buyers', 'revenue']\n",
    "\n",
    "orders_aggregated.head()"
   ]
  },
  {
   "cell_type": "code",
   "execution_count": 33,
   "id": "416ddc10",
   "metadata": {},
   "outputs": [
    {
     "data": {
      "text/html": [
       "<div>\n",
       "<style scoped>\n",
       "    .dataframe tbody tr th:only-of-type {\n",
       "        vertical-align: middle;\n",
       "    }\n",
       "\n",
       "    .dataframe tbody tr th {\n",
       "        vertical-align: top;\n",
       "    }\n",
       "\n",
       "    .dataframe thead th {\n",
       "        text-align: right;\n",
       "    }\n",
       "</style>\n",
       "<table border=\"1\" class=\"dataframe\">\n",
       "  <thead>\n",
       "    <tr style=\"text-align: right;\">\n",
       "      <th></th>\n",
       "      <th>date</th>\n",
       "      <th>group</th>\n",
       "      <th>visitors</th>\n",
       "    </tr>\n",
       "  </thead>\n",
       "  <tbody>\n",
       "    <tr>\n",
       "      <th>55</th>\n",
       "      <td>2019-08-01</td>\n",
       "      <td>A</td>\n",
       "      <td>719</td>\n",
       "    </tr>\n",
       "    <tr>\n",
       "      <th>66</th>\n",
       "      <td>2019-08-01</td>\n",
       "      <td>B</td>\n",
       "      <td>713</td>\n",
       "    </tr>\n",
       "    <tr>\n",
       "      <th>175</th>\n",
       "      <td>2019-08-02</td>\n",
       "      <td>A</td>\n",
       "      <td>1338</td>\n",
       "    </tr>\n",
       "    <tr>\n",
       "      <th>173</th>\n",
       "      <td>2019-08-02</td>\n",
       "      <td>B</td>\n",
       "      <td>1294</td>\n",
       "    </tr>\n",
       "    <tr>\n",
       "      <th>291</th>\n",
       "      <td>2019-08-03</td>\n",
       "      <td>A</td>\n",
       "      <td>1845</td>\n",
       "    </tr>\n",
       "  </tbody>\n",
       "</table>\n",
       "</div>"
      ],
      "text/plain": [
       "           date group  visitors\n",
       "55   2019-08-01     A       719\n",
       "66   2019-08-01     B       713\n",
       "175  2019-08-02     A      1338\n",
       "173  2019-08-02     B      1294\n",
       "291  2019-08-03     A      1845"
      ]
     },
     "execution_count": 33,
     "metadata": {},
     "output_type": "execute_result"
    }
   ],
   "source": [
    "# получаем агрегированные кумулятивные по дням данные о посетителях интернет-магазина \n",
    "visitors_aggregated = (\n",
    "    dates_groups\n",
    "    .apply(lambda x: visitors[np.logical_and(visitors['date'] <= x['date'], visitors['group'] == x['group'])]\n",
    "           .agg({\n",
    "               'date' : 'max', \n",
    "               'group' : 'max', \n",
    "               'visitors' : 'sum'\n",
    "           })\n",
    "           , axis=1)\n",
    "    .sort_values(by=['date','group'])\n",
    ")\n",
    "\n",
    "visitors_aggregated.head()"
   ]
  },
  {
   "cell_type": "code",
   "execution_count": 34,
   "id": "061f906a",
   "metadata": {},
   "outputs": [
    {
     "data": {
      "text/html": [
       "<div>\n",
       "<style scoped>\n",
       "    .dataframe tbody tr th:only-of-type {\n",
       "        vertical-align: middle;\n",
       "    }\n",
       "\n",
       "    .dataframe tbody tr th {\n",
       "        vertical-align: top;\n",
       "    }\n",
       "\n",
       "    .dataframe thead th {\n",
       "        text-align: right;\n",
       "    }\n",
       "</style>\n",
       "<table border=\"1\" class=\"dataframe\">\n",
       "  <thead>\n",
       "    <tr style=\"text-align: right;\">\n",
       "      <th></th>\n",
       "      <th>date</th>\n",
       "      <th>group</th>\n",
       "      <th>orders</th>\n",
       "      <th>buyers</th>\n",
       "      <th>revenue</th>\n",
       "      <th>visitors</th>\n",
       "    </tr>\n",
       "  </thead>\n",
       "  <tbody>\n",
       "    <tr>\n",
       "      <th>0</th>\n",
       "      <td>2019-08-01</td>\n",
       "      <td>A</td>\n",
       "      <td>24</td>\n",
       "      <td>20</td>\n",
       "      <td>148579</td>\n",
       "      <td>719</td>\n",
       "    </tr>\n",
       "    <tr>\n",
       "      <th>1</th>\n",
       "      <td>2019-08-01</td>\n",
       "      <td>B</td>\n",
       "      <td>21</td>\n",
       "      <td>20</td>\n",
       "      <td>101217</td>\n",
       "      <td>713</td>\n",
       "    </tr>\n",
       "    <tr>\n",
       "      <th>2</th>\n",
       "      <td>2019-08-02</td>\n",
       "      <td>A</td>\n",
       "      <td>44</td>\n",
       "      <td>38</td>\n",
       "      <td>242401</td>\n",
       "      <td>1338</td>\n",
       "    </tr>\n",
       "    <tr>\n",
       "      <th>3</th>\n",
       "      <td>2019-08-02</td>\n",
       "      <td>B</td>\n",
       "      <td>45</td>\n",
       "      <td>43</td>\n",
       "      <td>266748</td>\n",
       "      <td>1294</td>\n",
       "    </tr>\n",
       "    <tr>\n",
       "      <th>4</th>\n",
       "      <td>2019-08-03</td>\n",
       "      <td>A</td>\n",
       "      <td>68</td>\n",
       "      <td>62</td>\n",
       "      <td>354874</td>\n",
       "      <td>1845</td>\n",
       "    </tr>\n",
       "  </tbody>\n",
       "</table>\n",
       "</div>"
      ],
      "text/plain": [
       "         date group  orders  buyers  revenue  visitors\n",
       "0  2019-08-01     A      24      20   148579       719\n",
       "1  2019-08-01     B      21      20   101217       713\n",
       "2  2019-08-02     A      44      38   242401      1338\n",
       "3  2019-08-02     B      45      43   266748      1294\n",
       "4  2019-08-03     A      68      62   354874      1845"
      ]
     },
     "execution_count": 34,
     "metadata": {},
     "output_type": "execute_result"
    }
   ],
   "source": [
    "# объединяем кумулятивные данные в одной таблице\n",
    "cumulative_df = orders_aggregated.merge(visitors_aggregated, on=['date', 'group'])\n",
    "cumulative_df.head()"
   ]
  },
  {
   "cell_type": "code",
   "execution_count": 35,
   "id": "c9a16d9b",
   "metadata": {},
   "outputs": [
    {
     "data": {
      "image/png": "[encoded data removed]",
      "text/plain": [
       "<Figure size 864x360 with 1 Axes>"
      ]
     },
     "metadata": {
      "needs_background": "light"
     },
     "output_type": "display_data"
    }
   ],
   "source": [
    "cumulative_df.pivot_table(index='date', columns='group', values='revenue').plot(figsize=(12, 5), grid=True, style='-o')\n",
    "\n",
    "plt.xlabel('дни')\n",
    "plt.ylabel('выручка, руб.')\n",
    "plt.title('График кумулятивной выручки по группам')\n",
    "plt.show()"
   ]
  },
  {
   "cell_type": "markdown",
   "id": "ff1ab564",
   "metadata": {},
   "source": [
    "На протяжение всего теста, кроме первых 5 дней, выручка в группе В выше, чем в группе А. После 18.08 в группе В наблюдаем всплеск. В группе А выручка растет почти линейно, без резких спадов или всплесков.   "
   ]
  },
  {
   "cell_type": "markdown",
   "id": "2edb47dd",
   "metadata": {},
   "source": [
    "#### график кумулятивной среднего чека по группам"
   ]
  },
  {
   "cell_type": "code",
   "execution_count": 36,
   "id": "adc7be75",
   "metadata": {},
   "outputs": [],
   "source": [
    "#считаем средний чек\n",
    "cumulative_df['avg_check'] = (cumulative_df['revenue'] / cumulative_df['orders']).round(2)"
   ]
  },
  {
   "cell_type": "code",
   "execution_count": 37,
   "id": "5076aa69",
   "metadata": {},
   "outputs": [
    {
     "data": {
      "text/html": [
       "<div>\n",
       "<style scoped>\n",
       "    .dataframe tbody tr th:only-of-type {\n",
       "        vertical-align: middle;\n",
       "    }\n",
       "\n",
       "    .dataframe tbody tr th {\n",
       "        vertical-align: top;\n",
       "    }\n",
       "\n",
       "    .dataframe thead th {\n",
       "        text-align: right;\n",
       "    }\n",
       "</style>\n",
       "<table border=\"1\" class=\"dataframe\">\n",
       "  <thead>\n",
       "    <tr style=\"text-align: right;\">\n",
       "      <th></th>\n",
       "      <th>date</th>\n",
       "      <th>avg_check_A</th>\n",
       "      <th>avg_check_B</th>\n",
       "    </tr>\n",
       "  </thead>\n",
       "  <tbody>\n",
       "    <tr>\n",
       "      <th>0</th>\n",
       "      <td>2019-08-01</td>\n",
       "      <td>6190.79</td>\n",
       "      <td>4819.86</td>\n",
       "    </tr>\n",
       "    <tr>\n",
       "      <th>1</th>\n",
       "      <td>2019-08-02</td>\n",
       "      <td>5509.11</td>\n",
       "      <td>5927.73</td>\n",
       "    </tr>\n",
       "    <tr>\n",
       "      <th>2</th>\n",
       "      <td>2019-08-03</td>\n",
       "      <td>5218.74</td>\n",
       "      <td>6245.84</td>\n",
       "    </tr>\n",
       "    <tr>\n",
       "      <th>3</th>\n",
       "      <td>2019-08-04</td>\n",
       "      <td>5067.85</td>\n",
       "      <td>6276.50</td>\n",
       "    </tr>\n",
       "    <tr>\n",
       "      <th>4</th>\n",
       "      <td>2019-08-05</td>\n",
       "      <td>5045.11</td>\n",
       "      <td>5762.33</td>\n",
       "    </tr>\n",
       "  </tbody>\n",
       "</table>\n",
       "</div>"
      ],
      "text/plain": [
       "         date  avg_check_A  avg_check_B\n",
       "0  2019-08-01      6190.79      4819.86\n",
       "1  2019-08-02      5509.11      5927.73\n",
       "2  2019-08-03      5218.74      6245.84\n",
       "3  2019-08-04      5067.85      6276.50\n",
       "4  2019-08-05      5045.11      5762.33"
      ]
     },
     "execution_count": 37,
     "metadata": {},
     "output_type": "execute_result"
    }
   ],
   "source": [
    "#группируем таблицу по среднему чеку по группам\n",
    "cumulative_avg_check = cumulative_df.pivot_table(index='date', columns='group', values='avg_check').reset_index()\n",
    "cumulative_avg_check.columns = ['date', 'avg_check_A', 'avg_check_B']\n",
    "\n",
    "cumulative_avg_check.head()"
   ]
  },
  {
   "cell_type": "code",
   "execution_count": 38,
   "id": "40068d9f",
   "metadata": {},
   "outputs": [
    {
     "data": {
      "image/png": "[encoded data removed]",
      "text/plain": [
       "<Figure size 864x360 with 1 Axes>"
      ]
     },
     "metadata": {
      "needs_background": "light"
     },
     "output_type": "display_data"
    }
   ],
   "source": [
    "cumulative_avg_check.plot(x='date', y=['avg_check_A', 'avg_check_B'], figsize=(12, 5), grid=True, style='-o', \n",
    "                          ylim=(0, 12000))\n",
    "\n",
    "plt.xlabel('дни')\n",
    "plt.ylabel('кумулятивный средний чек, руб.')\n",
    "plt.title('График кумулятивного среднего чека по группам')\n",
    "plt.show()"
   ]
  },
  {
   "cell_type": "markdown",
   "id": "9d96d7ba",
   "metadata": {},
   "source": [
    "После 18.08 можно предположить, что сумма среднего чека начала устанавливаться, сильных колебаний, как в первой половине месяца, почти не наблюдается. Сумма среднего чека для группы А растет, для В - падает. "
   ]
  },
  {
   "cell_type": "markdown",
   "id": "cc427c6e",
   "metadata": {},
   "source": [
    "#### график относительного изменения кумулятивного среднего чека группы B к группе A"
   ]
  },
  {
   "cell_type": "code",
   "execution_count": 39,
   "id": "5c6000e4",
   "metadata": {},
   "outputs": [
    {
     "data": {
      "text/html": [
       "<div>\n",
       "<style scoped>\n",
       "    .dataframe tbody tr th:only-of-type {\n",
       "        vertical-align: middle;\n",
       "    }\n",
       "\n",
       "    .dataframe tbody tr th {\n",
       "        vertical-align: top;\n",
       "    }\n",
       "\n",
       "    .dataframe thead th {\n",
       "        text-align: right;\n",
       "    }\n",
       "</style>\n",
       "<table border=\"1\" class=\"dataframe\">\n",
       "  <thead>\n",
       "    <tr style=\"text-align: right;\">\n",
       "      <th></th>\n",
       "      <th>date</th>\n",
       "      <th>avg_check_A</th>\n",
       "      <th>avg_check_B</th>\n",
       "      <th>relative_dif_avg_check</th>\n",
       "    </tr>\n",
       "  </thead>\n",
       "  <tbody>\n",
       "    <tr>\n",
       "      <th>0</th>\n",
       "      <td>2019-08-01</td>\n",
       "      <td>6190.79</td>\n",
       "      <td>4819.86</td>\n",
       "      <td>-0.22</td>\n",
       "    </tr>\n",
       "    <tr>\n",
       "      <th>1</th>\n",
       "      <td>2019-08-02</td>\n",
       "      <td>5509.11</td>\n",
       "      <td>5927.73</td>\n",
       "      <td>0.08</td>\n",
       "    </tr>\n",
       "    <tr>\n",
       "      <th>2</th>\n",
       "      <td>2019-08-03</td>\n",
       "      <td>5218.74</td>\n",
       "      <td>6245.84</td>\n",
       "      <td>0.20</td>\n",
       "    </tr>\n",
       "    <tr>\n",
       "      <th>3</th>\n",
       "      <td>2019-08-04</td>\n",
       "      <td>5067.85</td>\n",
       "      <td>6276.50</td>\n",
       "      <td>0.24</td>\n",
       "    </tr>\n",
       "    <tr>\n",
       "      <th>4</th>\n",
       "      <td>2019-08-05</td>\n",
       "      <td>5045.11</td>\n",
       "      <td>5762.33</td>\n",
       "      <td>0.14</td>\n",
       "    </tr>\n",
       "  </tbody>\n",
       "</table>\n",
       "</div>"
      ],
      "text/plain": [
       "         date  avg_check_A  avg_check_B  relative_dif_avg_check\n",
       "0  2019-08-01      6190.79      4819.86                   -0.22\n",
       "1  2019-08-02      5509.11      5927.73                    0.08\n",
       "2  2019-08-03      5218.74      6245.84                    0.20\n",
       "3  2019-08-04      5067.85      6276.50                    0.24\n",
       "4  2019-08-05      5045.11      5762.33                    0.14"
      ]
     },
     "execution_count": 39,
     "metadata": {},
     "output_type": "execute_result"
    }
   ],
   "source": [
    "#считаем относительное различие для среднего чека\n",
    "cumulative_avg_check['relative_dif_avg_check'] = (\n",
    "    (cumulative_avg_check['avg_check_B'] / cumulative_avg_check['avg_check_A'] - 1 )\n",
    "    .round(2)\n",
    ")\n",
    "\n",
    "cumulative_avg_check.head()"
   ]
  },
  {
   "cell_type": "code",
   "execution_count": 40,
   "id": "31a8eca0",
   "metadata": {},
   "outputs": [
    {
     "data": {
      "image/png": "[encoded data removed]",
      "text/plain": [
       "<Figure size 864x360 with 1 Axes>"
      ]
     },
     "metadata": {
      "needs_background": "light"
     },
     "output_type": "display_data"
    }
   ],
   "source": [
    "cumulative_avg_check.plot(x='date', y='relative_dif_avg_check', \n",
    "                          figsize=(12, 5), grid=True, style='-o', color='green', \n",
    "                          ylim=(-0.6, 0.6))\n",
    "\n",
    "plt.xlabel('дни')\n",
    "plt.ylabel('относительное изменение кумулятивного среднего чека')\n",
    "plt.title('График относительного изменения кумулятивного среднего чека группы B к группе A')\n",
    "\n",
    "plt.axhline(y=0.2, color='grey', linestyle='--')\n",
    "plt.axhline(y=0.3, color='grey', linestyle='--')\n",
    "plt.axhline(y=0, color='red', linestyle='--') \n",
    "\n",
    "plt.show()"
   ]
  },
  {
   "cell_type": "markdown",
   "id": "e1b2fcf2",
   "metadata": {},
   "source": [
    "На графике несколько точек \"скачков\", что говорит о наличии выбросов в данных. "
   ]
  },
  {
   "cell_type": "markdown",
   "id": "8876b7c4",
   "metadata": {},
   "source": [
    "#### график кумулятивной конверсии по группам"
   ]
  },
  {
   "cell_type": "code",
   "execution_count": 41,
   "id": "7dac956d",
   "metadata": {},
   "outputs": [],
   "source": [
    "cumulative_df['conversion'] = cumulative_df['orders'] / cumulative_df['visitors']"
   ]
  },
  {
   "cell_type": "code",
   "execution_count": 42,
   "id": "ab81eaca",
   "metadata": {},
   "outputs": [
    {
     "data": {
      "text/html": [
       "<div>\n",
       "<style scoped>\n",
       "    .dataframe tbody tr th:only-of-type {\n",
       "        vertical-align: middle;\n",
       "    }\n",
       "\n",
       "    .dataframe tbody tr th {\n",
       "        vertical-align: top;\n",
       "    }\n",
       "\n",
       "    .dataframe thead th {\n",
       "        text-align: right;\n",
       "    }\n",
       "</style>\n",
       "<table border=\"1\" class=\"dataframe\">\n",
       "  <thead>\n",
       "    <tr style=\"text-align: right;\">\n",
       "      <th></th>\n",
       "      <th>date</th>\n",
       "      <th>conversion_A</th>\n",
       "      <th>conversion_B</th>\n",
       "    </tr>\n",
       "  </thead>\n",
       "  <tbody>\n",
       "    <tr>\n",
       "      <th>0</th>\n",
       "      <td>2019-08-01</td>\n",
       "      <td>0.03</td>\n",
       "      <td>0.03</td>\n",
       "    </tr>\n",
       "    <tr>\n",
       "      <th>1</th>\n",
       "      <td>2019-08-02</td>\n",
       "      <td>0.03</td>\n",
       "      <td>0.03</td>\n",
       "    </tr>\n",
       "    <tr>\n",
       "      <th>2</th>\n",
       "      <td>2019-08-03</td>\n",
       "      <td>0.04</td>\n",
       "      <td>0.03</td>\n",
       "    </tr>\n",
       "    <tr>\n",
       "      <th>3</th>\n",
       "      <td>2019-08-04</td>\n",
       "      <td>0.03</td>\n",
       "      <td>0.03</td>\n",
       "    </tr>\n",
       "    <tr>\n",
       "      <th>4</th>\n",
       "      <td>2019-08-05</td>\n",
       "      <td>0.03</td>\n",
       "      <td>0.03</td>\n",
       "    </tr>\n",
       "  </tbody>\n",
       "</table>\n",
       "</div>"
      ],
      "text/plain": [
       "         date  conversion_A  conversion_B\n",
       "0  2019-08-01          0.03          0.03\n",
       "1  2019-08-02          0.03          0.03\n",
       "2  2019-08-03          0.04          0.03\n",
       "3  2019-08-04          0.03          0.03\n",
       "4  2019-08-05          0.03          0.03"
      ]
     },
     "execution_count": 42,
     "metadata": {},
     "output_type": "execute_result"
    }
   ],
   "source": [
    "#группируем таблицу по конверсии по группам\n",
    "cumulative_conversion = cumulative_df.pivot_table(index='date', columns='group', values='conversion').reset_index()\n",
    "cumulative_conversion.columns = ['date', 'conversion_A', 'conversion_B']\n",
    "\n",
    "cumulative_conversion.head()"
   ]
  },
  {
   "cell_type": "code",
   "execution_count": 43,
   "id": "bd38c206",
   "metadata": {},
   "outputs": [
    {
     "data": {
      "image/png": "[encoded data removed]",
      "text/plain": [
       "<Figure size 864x360 with 1 Axes>"
      ]
     },
     "metadata": {
      "needs_background": "light"
     },
     "output_type": "display_data"
    }
   ],
   "source": [
    "cumulative_conversion.plot(x='date', y=['conversion_A', 'conversion_B'], figsize=(12, 5), grid=True, style='-o', \n",
    "                           ylim=(0, 0.045))\n",
    "\n",
    "plt.xlabel('дни')\n",
    "plt.ylabel('кумулятивная конверсия')\n",
    "plt.title('График кумулятивный конверсии по группам')\n",
    "plt.show()"
   ]
  },
  {
   "cell_type": "markdown",
   "id": "acc6ce68",
   "metadata": {},
   "source": [
    "В первую неделю группа А имела бОльшую конверсию, но далее показатель выровнялся для обеих групп: конверсия группы В выше, чем группы А. \n",
    "Конверсия в начале и конце теста изменилась не более, чем на 5 %: \n",
    "- для группы В с 30 % до 34 %, \n",
    "- для группы А с 33 % до 30 %. "
   ]
  },
  {
   "cell_type": "markdown",
   "id": "286a008a",
   "metadata": {},
   "source": [
    "#### график относительного изменения кумулятивной конверсии группы B к группе A"
   ]
  },
  {
   "cell_type": "code",
   "execution_count": 44,
   "id": "13a7b5d3",
   "metadata": {},
   "outputs": [
    {
     "data": {
      "text/html": [
       "<div>\n",
       "<style scoped>\n",
       "    .dataframe tbody tr th:only-of-type {\n",
       "        vertical-align: middle;\n",
       "    }\n",
       "\n",
       "    .dataframe tbody tr th {\n",
       "        vertical-align: top;\n",
       "    }\n",
       "\n",
       "    .dataframe thead th {\n",
       "        text-align: right;\n",
       "    }\n",
       "</style>\n",
       "<table border=\"1\" class=\"dataframe\">\n",
       "  <thead>\n",
       "    <tr style=\"text-align: right;\">\n",
       "      <th></th>\n",
       "      <th>date</th>\n",
       "      <th>conversion_A</th>\n",
       "      <th>conversion_B</th>\n",
       "      <th>relative_dif_conversion</th>\n",
       "    </tr>\n",
       "  </thead>\n",
       "  <tbody>\n",
       "    <tr>\n",
       "      <th>0</th>\n",
       "      <td>2019-08-01</td>\n",
       "      <td>0.03</td>\n",
       "      <td>0.03</td>\n",
       "      <td>-0.12</td>\n",
       "    </tr>\n",
       "    <tr>\n",
       "      <th>1</th>\n",
       "      <td>2019-08-02</td>\n",
       "      <td>0.03</td>\n",
       "      <td>0.03</td>\n",
       "      <td>0.06</td>\n",
       "    </tr>\n",
       "    <tr>\n",
       "      <th>2</th>\n",
       "      <td>2019-08-03</td>\n",
       "      <td>0.04</td>\n",
       "      <td>0.03</td>\n",
       "      <td>-0.08</td>\n",
       "    </tr>\n",
       "    <tr>\n",
       "      <th>3</th>\n",
       "      <td>2019-08-04</td>\n",
       "      <td>0.03</td>\n",
       "      <td>0.03</td>\n",
       "      <td>-0.08</td>\n",
       "    </tr>\n",
       "    <tr>\n",
       "      <th>4</th>\n",
       "      <td>2019-08-05</td>\n",
       "      <td>0.03</td>\n",
       "      <td>0.03</td>\n",
       "      <td>-0.06</td>\n",
       "    </tr>\n",
       "  </tbody>\n",
       "</table>\n",
       "</div>"
      ],
      "text/plain": [
       "         date  conversion_A  conversion_B  relative_dif_conversion\n",
       "0  2019-08-01          0.03          0.03                    -0.12\n",
       "1  2019-08-02          0.03          0.03                     0.06\n",
       "2  2019-08-03          0.04          0.03                    -0.08\n",
       "3  2019-08-04          0.03          0.03                    -0.08\n",
       "4  2019-08-05          0.03          0.03                    -0.06"
      ]
     },
     "execution_count": 44,
     "metadata": {},
     "output_type": "execute_result"
    }
   ],
   "source": [
    "#считаем относительное различие для конверсии\n",
    "cumulative_conversion['relative_dif_conversion'] = (\n",
    "    (cumulative_conversion['conversion_B'] / cumulative_conversion['conversion_A'] - 1 )\n",
    "    .round(2)\n",
    ")\n",
    "\n",
    "cumulative_conversion.head()"
   ]
  },
  {
   "cell_type": "code",
   "execution_count": 45,
   "id": "1db95a33",
   "metadata": {},
   "outputs": [
    {
     "data": {
      "image/png": "[encoded data removed]",
      "text/plain": [
       "<Figure size 864x360 with 1 Axes>"
      ]
     },
     "metadata": {
      "needs_background": "light"
     },
     "output_type": "display_data"
    }
   ],
   "source": [
    "cumulative_conversion.plot(x='date', y='relative_dif_conversion', \n",
    "                           figsize=(12, 5), grid=True, style='-o', color='green',\n",
    "                           ylim=(-0.25, 0.25))\n",
    "\n",
    "plt.xlabel('дни')\n",
    "plt.ylabel('относительное различие кумулятивной конверсии')\n",
    "plt.title('График относительного изменения кумулятивной конверсии группы B к группе A')\n",
    "\n",
    "plt.axhline(y=0.1, color='grey', linestyle='--')\n",
    "plt.axhline(y=0.15, color='grey', linestyle='--')\n",
    "plt.axhline(y=0, color='red', linestyle='--') \n",
    "\n",
    "plt.show()"
   ]
  },
  {
   "cell_type": "markdown",
   "id": "321da57f",
   "metadata": {},
   "source": [
    "Группа В почти сразу же вырвалась вперед, отношение конверсии постепенно устанавливается к концу месяца. "
   ]
  },
  {
   "cell_type": "markdown",
   "id": "94478f9a",
   "metadata": {},
   "source": [
    "### Анализ крайних значений данных (выбросов и всплексов)\n",
    "\n",
    "#### точечный график количества заказов по пользователям"
   ]
  },
  {
   "cell_type": "code",
   "execution_count": 46,
   "id": "2c2a6abb",
   "metadata": {},
   "outputs": [
    {
     "data": {
      "text/html": [
       "<div>\n",
       "<style scoped>\n",
       "    .dataframe tbody tr th:only-of-type {\n",
       "        vertical-align: middle;\n",
       "    }\n",
       "\n",
       "    .dataframe tbody tr th {\n",
       "        vertical-align: top;\n",
       "    }\n",
       "\n",
       "    .dataframe thead th {\n",
       "        text-align: right;\n",
       "    }\n",
       "</style>\n",
       "<table border=\"1\" class=\"dataframe\">\n",
       "  <thead>\n",
       "    <tr style=\"text-align: right;\">\n",
       "      <th></th>\n",
       "      <th>visitor_id</th>\n",
       "      <th>orders</th>\n",
       "    </tr>\n",
       "  </thead>\n",
       "  <tbody>\n",
       "    <tr>\n",
       "      <th>1023</th>\n",
       "      <td>4256040402</td>\n",
       "      <td>11</td>\n",
       "    </tr>\n",
       "    <tr>\n",
       "      <th>591</th>\n",
       "      <td>2458001652</td>\n",
       "      <td>11</td>\n",
       "    </tr>\n",
       "    <tr>\n",
       "      <th>569</th>\n",
       "      <td>2378935119</td>\n",
       "      <td>9</td>\n",
       "    </tr>\n",
       "    <tr>\n",
       "      <th>487</th>\n",
       "      <td>2038680547</td>\n",
       "      <td>8</td>\n",
       "    </tr>\n",
       "    <tr>\n",
       "      <th>44</th>\n",
       "      <td>199603092</td>\n",
       "      <td>5</td>\n",
       "    </tr>\n",
       "  </tbody>\n",
       "</table>\n",
       "</div>"
      ],
      "text/plain": [
       "      visitor_id  orders\n",
       "1023  4256040402      11\n",
       "591   2458001652      11\n",
       "569   2378935119       9\n",
       "487   2038680547       8\n",
       "44     199603092       5"
      ]
     },
     "execution_count": 46,
     "metadata": {},
     "output_type": "execute_result"
    }
   ],
   "source": [
    "#способ из теории:\n",
    "# orders_by_users = (orders.drop(['group', 'revenue', 'date'], axis=1)\n",
    "#                   .groupby('visitor_id', as_index=False)\n",
    "#                   .agg({'transaction_id': pd.Series.nunique}))\n",
    "#ИЛИ:\n",
    "\n",
    "orders_by_users = orders.groupby('visitor_id', as_index=False)['transaction_id'].count()\n",
    "orders_by_users.columns = ['visitor_id', 'orders']\n",
    "\n",
    "orders_by_users.sort_values(by='orders', ascending=False).head()"
   ]
  },
  {
   "cell_type": "code",
   "execution_count": 47,
   "id": "4b592fe7",
   "metadata": {
    "scrolled": true
   },
   "outputs": [
    {
     "data": {
      "image/png": "[encoded data removed]",
      "text/plain": [
       "<Figure size 576x360 with 1 Axes>"
      ]
     },
     "metadata": {
      "needs_background": "light"
     },
     "output_type": "display_data"
    }
   ],
   "source": [
    "orders_by_users['orders'].hist(bins=10, figsize=(8, 5), color='green')\n",
    "plt.xlabel('кол-во заказов на одного пользователя, шт.')\n",
    "plt.ylabel('кол-во пользователей, шт.')\n",
    "plt.title('Распределение кол-ва заказов на одного пользователя')\n",
    "plt.show()"
   ]
  },
  {
   "cell_type": "markdown",
   "id": "de74256b",
   "metadata": {},
   "source": [
    "Подавляющее большинство совершает только один заказ, но есть и те, кто делаем 2-3 заказа."
   ]
  },
  {
   "cell_type": "code",
   "execution_count": 48,
   "id": "5affa583",
   "metadata": {},
   "outputs": [
    {
     "data": {
      "image/png": "[encoded data removed]",
      "text/plain": [
       "<Figure size 864x504 with 1 Axes>"
      ]
     },
     "metadata": {
      "needs_background": "light"
     },
     "output_type": "display_data"
    }
   ],
   "source": [
    "x_values = pd.Series(range(0, len(orders_by_users['orders'])))\n",
    "\n",
    "plt.figure(figsize=(12, 7))\n",
    "plt.scatter(x = x_values, y = orders_by_users['orders'], color='green', alpha=0.5)\n",
    "plt.xlabel('кол-во пользователей, шт.')\n",
    "plt.ylabel('кол-во заказов на одного пользователя, шт.')\n",
    "plt.title('Распределение кол-ва заказов на одного пользователя')\n",
    "plt.show()"
   ]
  },
  {
   "cell_type": "markdown",
   "id": "8e897250",
   "metadata": {},
   "source": [
    "На точечном графике также видим подтверждение ранее сделанных выводов о кол-ве заказов на одного пользователя. "
   ]
  },
  {
   "cell_type": "markdown",
   "id": "48879bc2",
   "metadata": {},
   "source": [
    "#### 95-й и 99-й перцентили количества заказов на пользователя\n",
    "\n",
    "Посчитаем выборочные перцентили количества заказов на одного пользователя."
   ]
  },
  {
   "cell_type": "code",
   "execution_count": 49,
   "id": "67a1c1a5",
   "metadata": {},
   "outputs": [],
   "source": [
    "perc_list = [90, 95, 99]"
   ]
  },
  {
   "cell_type": "code",
   "execution_count": 50,
   "id": "a0ecc12e",
   "metadata": {},
   "outputs": [
    {
     "name": "stdout",
     "output_type": "stream",
     "text": [
      "90 перцентиль количества заказов на одного пользователя: 1.0\n",
      "95 перцентиль количества заказов на одного пользователя: 2.0\n",
      "99 перцентиль количества заказов на одного пользователя: 4.0\n"
     ]
    }
   ],
   "source": [
    "for i in perc_list:\n",
    "    print('{} перцентиль количества заказов на одного пользователя:'.format(i), \n",
    "          np.percentile(orders_by_users['orders'], i)) "
   ]
  },
  {
   "cell_type": "markdown",
   "id": "51c96d2c",
   "metadata": {},
   "source": [
    "90 % пользователей делают по одному заказу, остальные 10 % делали заказ более одного раза.\n",
    "\n",
    "Не более 5 % пользователей делают по два заказа.\n",
    "\n",
    "И не более, чем 1 % от общего числа пользователей совершают от 4 заказов. \n",
    "\n",
    "За нижнюю границу числа заказов возьмём всё, что выше 99 перцентиля, т.е. пользователи, совершающие 4 или более заказов будут для нас аномальными, их менее 1 %."
   ]
  },
  {
   "cell_type": "markdown",
   "id": "46d76a9e",
   "metadata": {},
   "source": [
    "#### точечный график стоимостей заказов"
   ]
  },
  {
   "cell_type": "code",
   "execution_count": 51,
   "id": "06882414",
   "metadata": {
    "scrolled": true
   },
   "outputs": [
    {
     "data": {
      "image/png": "[encoded data removed]",
      "text/plain": [
       "<Figure size 576x360 with 1 Axes>"
      ]
     },
     "metadata": {
      "needs_background": "light"
     },
     "output_type": "display_data"
    }
   ],
   "source": [
    "orders['revenue'].hist(bins=100, figsize=(8, 5), color='green')\n",
    "plt.xlim(0, 100000)\n",
    "plt.xlabel('стоимость заказа, руб.')\n",
    "plt.ylabel('кол-во заказов, шт.')\n",
    "plt.title('Распределение стоимости заказов')\n",
    "plt.show()"
   ]
  },
  {
   "cell_type": "markdown",
   "id": "05217ad5",
   "metadata": {},
   "source": [
    "Большая часть заказов не дороже 15 000 руб., но есть заказы и на суммы более 40 000, 80 000 и 100 000 руб. "
   ]
  },
  {
   "cell_type": "code",
   "execution_count": 52,
   "id": "f1475a0c",
   "metadata": {},
   "outputs": [
    {
     "data": {
      "image/png": "[encoded data removed]",
      "text/plain": [
       "<Figure size 864x504 with 1 Axes>"
      ]
     },
     "metadata": {
      "needs_background": "light"
     },
     "output_type": "display_data"
    }
   ],
   "source": [
    "x_values = pd.Series(range(0, len(orders['revenue'])))\n",
    "\n",
    "plt.figure(figsize=(12, 7))\n",
    "plt.scatter(x = x_values, y = orders['revenue'], color='green', alpha=0.5)\n",
    "plt.xlim(0, 1201)\n",
    "plt.xlabel('кол-во заказов, шт.')\n",
    "plt.ylabel('стоимость заказа, руб.')\n",
    "plt.title('Распределение стоимости заказов')\n",
    "plt.show()"
   ]
  },
  {
   "cell_type": "markdown",
   "id": "a6fb9c6c",
   "metadata": {},
   "source": [
    "Есть единичные заказы более 20 000 руб., но всё что менее этой суммы слилось в одну линию, укрупним график, ограничив его по оси Y."
   ]
  },
  {
   "cell_type": "code",
   "execution_count": 53,
   "id": "c6df5501",
   "metadata": {},
   "outputs": [
    {
     "data": {
      "image/png": "[encoded data removed]",
      "text/plain": [
       "<Figure size 864x504 with 1 Axes>"
      ]
     },
     "metadata": {
      "needs_background": "light"
     },
     "output_type": "display_data"
    }
   ],
   "source": [
    "plt.figure(figsize=(12, 7))\n",
    "plt.scatter(x = x_values, y = orders['revenue'], color='green', alpha=0.5)\n",
    "plt.xlim(0, 1201)\n",
    "plt.ylim(0, 60000)\n",
    "plt.xlabel('кол-во заказов, шт.')\n",
    "plt.ylabel('стоимость заказа, руб.')\n",
    "plt.title('Распределение стоимости заказов')\n",
    "plt.show()"
   ]
  },
  {
   "cell_type": "markdown",
   "id": "ad36d4db",
   "metadata": {},
   "source": [
    "Теперь график отражает ту же картину, что и гистограмма выше. Много заказов до 15 000 руб., но есть и со стоимость выше.\n",
    "\n",
    "По такому графику сложно решить какое значение принять за границу аномальных значений. Прибегнем к помощи статистики и найдем перцентили стоимости заказов. "
   ]
  },
  {
   "cell_type": "markdown",
   "id": "cacdc9c9",
   "metadata": {},
   "source": [
    "#### 95-й и 99-й перцентили стоимости заказов"
   ]
  },
  {
   "cell_type": "markdown",
   "id": "2acc98bb",
   "metadata": {},
   "source": [
    "Сделаем по аналогии с кол-ом заказов, используем те же значения перцентилей, и соответственно, тот же список значений"
   ]
  },
  {
   "cell_type": "code",
   "execution_count": 54,
   "id": "aebe00c7",
   "metadata": {},
   "outputs": [
    {
     "name": "stdout",
     "output_type": "stream",
     "text": [
      "90 перцентиль количества заказов на одного пользователя: 18168.0\n",
      "95 перцентиль количества заказов на одного пользователя: 28000.0\n",
      "99 перцентиль количества заказов на одного пользователя: 58233.2\n"
     ]
    }
   ],
   "source": [
    "for i in perc_list:\n",
    "    print('{} перцентиль количества заказов на одного пользователя:'.format(i), \n",
    "          np.percentile(orders['revenue'], i).round(2)) "
   ]
  },
  {
   "cell_type": "markdown",
   "id": "4f4e34f2",
   "metadata": {},
   "source": [
    "Стоимость менее 10 % заказов более 18 000 руб. и менее 5 % заказов совершается на сумму свыше 28 000 руб. \n",
    "\n",
    "Заказы свыше 58 000 руб. совершаются менее, чем в 1 % случаев. \n",
    "\n",
    "Применим свой \"профешенел жужмент\" (*professional judgment*) и примем за нижнюю границу аномальных значений сумму по заказу свыше 28 000 руб. (95 перцентиль). "
   ]
  },
  {
   "cell_type": "markdown",
   "id": "49843337",
   "metadata": {},
   "source": [
    "### Статистическая значимость различий:\n",
    "\n",
    "#### подготовка данных"
   ]
  },
  {
   "cell_type": "code",
   "execution_count": 55,
   "id": "e3b9ce36",
   "metadata": {},
   "outputs": [
    {
     "data": {
      "text/html": [
       "<div>\n",
       "<style scoped>\n",
       "    .dataframe tbody tr th:only-of-type {\n",
       "        vertical-align: middle;\n",
       "    }\n",
       "\n",
       "    .dataframe tbody tr th {\n",
       "        vertical-align: top;\n",
       "    }\n",
       "\n",
       "    .dataframe thead th {\n",
       "        text-align: right;\n",
       "    }\n",
       "</style>\n",
       "<table border=\"1\" class=\"dataframe\">\n",
       "  <thead>\n",
       "    <tr style=\"text-align: right;\">\n",
       "      <th></th>\n",
       "      <th>date</th>\n",
       "      <th>visitors_per_date_A</th>\n",
       "      <th>cum_visitors_A</th>\n",
       "    </tr>\n",
       "  </thead>\n",
       "  <tbody>\n",
       "    <tr>\n",
       "      <th>0</th>\n",
       "      <td>2019-08-01</td>\n",
       "      <td>719</td>\n",
       "      <td>719</td>\n",
       "    </tr>\n",
       "    <tr>\n",
       "      <th>1</th>\n",
       "      <td>2019-08-02</td>\n",
       "      <td>619</td>\n",
       "      <td>1338</td>\n",
       "    </tr>\n",
       "    <tr>\n",
       "      <th>2</th>\n",
       "      <td>2019-08-03</td>\n",
       "      <td>507</td>\n",
       "      <td>1845</td>\n",
       "    </tr>\n",
       "    <tr>\n",
       "      <th>3</th>\n",
       "      <td>2019-08-04</td>\n",
       "      <td>717</td>\n",
       "      <td>2562</td>\n",
       "    </tr>\n",
       "    <tr>\n",
       "      <th>4</th>\n",
       "      <td>2019-08-05</td>\n",
       "      <td>756</td>\n",
       "      <td>3318</td>\n",
       "    </tr>\n",
       "  </tbody>\n",
       "</table>\n",
       "</div>"
      ],
      "text/plain": [
       "         date  visitors_per_date_A  cum_visitors_A\n",
       "0  2019-08-01                  719             719\n",
       "1  2019-08-02                  619            1338\n",
       "2  2019-08-03                  507            1845\n",
       "3  2019-08-04                  717            2562\n",
       "4  2019-08-05                  756            3318"
      ]
     },
     "execution_count": 55,
     "metadata": {},
     "output_type": "execute_result"
    }
   ],
   "source": [
    "#группа A\n",
    "#визиты в день\n",
    "visitors_A = visitors[visitors['group'] == 'A'][['date', 'visitors']]\n",
    "visitors_A.columns = ['date', 'visitors_per_date_A']\n",
    "\n",
    "#визиты в день накопительным итогом\n",
    "visitors_A['cum_visitors_A'] = (\n",
    "    visitors_A\n",
    "    .apply(lambda x: visitors_A[visitors_A['date'] <= x['date']]\n",
    "           .agg({'visitors_per_date_A': 'sum'}), axis=1)\n",
    "                 )\n",
    "\n",
    "visitors_A.head()"
   ]
  },
  {
   "cell_type": "code",
   "execution_count": 56,
   "id": "7486e78f",
   "metadata": {},
   "outputs": [
    {
     "data": {
      "text/html": [
       "<div>\n",
       "<style scoped>\n",
       "    .dataframe tbody tr th:only-of-type {\n",
       "        vertical-align: middle;\n",
       "    }\n",
       "\n",
       "    .dataframe tbody tr th {\n",
       "        vertical-align: top;\n",
       "    }\n",
       "\n",
       "    .dataframe thead th {\n",
       "        text-align: right;\n",
       "    }\n",
       "</style>\n",
       "<table border=\"1\" class=\"dataframe\">\n",
       "  <thead>\n",
       "    <tr style=\"text-align: right;\">\n",
       "      <th></th>\n",
       "      <th>date</th>\n",
       "      <th>visitors_per_date_B</th>\n",
       "      <th>cum_visitors_B</th>\n",
       "    </tr>\n",
       "  </thead>\n",
       "  <tbody>\n",
       "    <tr>\n",
       "      <th>31</th>\n",
       "      <td>2019-08-01</td>\n",
       "      <td>713</td>\n",
       "      <td>713</td>\n",
       "    </tr>\n",
       "    <tr>\n",
       "      <th>32</th>\n",
       "      <td>2019-08-02</td>\n",
       "      <td>581</td>\n",
       "      <td>1294</td>\n",
       "    </tr>\n",
       "    <tr>\n",
       "      <th>33</th>\n",
       "      <td>2019-08-03</td>\n",
       "      <td>509</td>\n",
       "      <td>1803</td>\n",
       "    </tr>\n",
       "    <tr>\n",
       "      <th>34</th>\n",
       "      <td>2019-08-04</td>\n",
       "      <td>770</td>\n",
       "      <td>2573</td>\n",
       "    </tr>\n",
       "    <tr>\n",
       "      <th>35</th>\n",
       "      <td>2019-08-05</td>\n",
       "      <td>707</td>\n",
       "      <td>3280</td>\n",
       "    </tr>\n",
       "  </tbody>\n",
       "</table>\n",
       "</div>"
      ],
      "text/plain": [
       "          date  visitors_per_date_B  cum_visitors_B\n",
       "31  2019-08-01                  713             713\n",
       "32  2019-08-02                  581            1294\n",
       "33  2019-08-03                  509            1803\n",
       "34  2019-08-04                  770            2573\n",
       "35  2019-08-05                  707            3280"
      ]
     },
     "execution_count": 56,
     "metadata": {},
     "output_type": "execute_result"
    }
   ],
   "source": [
    "#группа B\n",
    "#визиты в день\n",
    "visitors_B = visitors[visitors['group'] == 'B'][['date', 'visitors']]\n",
    "visitors_B.columns = ['date', 'visitors_per_date_B']\n",
    "\n",
    "#визиты в день накопительным итогом\n",
    "visitors_B['cum_visitors_B'] = (\n",
    "    visitors_B\n",
    "    .apply(lambda x: visitors_B[visitors_B['date'] <= x['date']]\n",
    "           .agg({'visitors_per_date_B': 'sum'}), axis=1)\n",
    "                 )\n",
    "\n",
    "visitors_B.head()"
   ]
  },
  {
   "cell_type": "code",
   "execution_count": 57,
   "id": "e4080cac",
   "metadata": {},
   "outputs": [
    {
     "data": {
      "text/html": [
       "<div>\n",
       "<style scoped>\n",
       "    .dataframe tbody tr th:only-of-type {\n",
       "        vertical-align: middle;\n",
       "    }\n",
       "\n",
       "    .dataframe tbody tr th {\n",
       "        vertical-align: top;\n",
       "    }\n",
       "\n",
       "    .dataframe thead th {\n",
       "        text-align: right;\n",
       "    }\n",
       "</style>\n",
       "<table border=\"1\" class=\"dataframe\">\n",
       "  <thead>\n",
       "    <tr style=\"text-align: right;\">\n",
       "      <th></th>\n",
       "      <th>date</th>\n",
       "      <th>orders_per_date_A</th>\n",
       "      <th>revenue_per_date_A</th>\n",
       "      <th>cum_orders_A</th>\n",
       "      <th>cum_revenue_A</th>\n",
       "    </tr>\n",
       "  </thead>\n",
       "  <tbody>\n",
       "    <tr>\n",
       "      <th>0</th>\n",
       "      <td>2019-08-01</td>\n",
       "      <td>24</td>\n",
       "      <td>148579</td>\n",
       "      <td>24</td>\n",
       "      <td>148579</td>\n",
       "    </tr>\n",
       "    <tr>\n",
       "      <th>1</th>\n",
       "      <td>2019-08-02</td>\n",
       "      <td>20</td>\n",
       "      <td>93822</td>\n",
       "      <td>44</td>\n",
       "      <td>242401</td>\n",
       "    </tr>\n",
       "    <tr>\n",
       "      <th>2</th>\n",
       "      <td>2019-08-03</td>\n",
       "      <td>24</td>\n",
       "      <td>112473</td>\n",
       "      <td>68</td>\n",
       "      <td>354874</td>\n",
       "    </tr>\n",
       "    <tr>\n",
       "      <th>3</th>\n",
       "      <td>2019-08-04</td>\n",
       "      <td>16</td>\n",
       "      <td>70825</td>\n",
       "      <td>84</td>\n",
       "      <td>425699</td>\n",
       "    </tr>\n",
       "    <tr>\n",
       "      <th>4</th>\n",
       "      <td>2019-08-05</td>\n",
       "      <td>25</td>\n",
       "      <td>124218</td>\n",
       "      <td>109</td>\n",
       "      <td>549917</td>\n",
       "    </tr>\n",
       "  </tbody>\n",
       "</table>\n",
       "</div>"
      ],
      "text/plain": [
       "         date  orders_per_date_A  revenue_per_date_A  cum_orders_A  \\\n",
       "0  2019-08-01                 24              148579            24   \n",
       "1  2019-08-02                 20               93822            44   \n",
       "2  2019-08-03                 24              112473            68   \n",
       "3  2019-08-04                 16               70825            84   \n",
       "4  2019-08-05                 25              124218           109   \n",
       "\n",
       "   cum_revenue_A  \n",
       "0         148579  \n",
       "1         242401  \n",
       "2         354874  \n",
       "3         425699  \n",
       "4         549917  "
      ]
     },
     "execution_count": 57,
     "metadata": {},
     "output_type": "execute_result"
    }
   ],
   "source": [
    "#группа А\n",
    "#заказы и доход в день\n",
    "orders_A = (orders[orders['group'] == 'A'][['date', 'transaction_id', 'visitor_id', 'revenue']]\n",
    "                 .groupby('date', as_index=False)\n",
    "                  .agg({\n",
    "                      'transaction_id': pd.Series.nunique,\n",
    "                      'revenue': 'sum'\n",
    "                  })\n",
    "                 )\n",
    "orders_A.columns = ['date', 'orders_per_date_A', 'revenue_per_date_A']\n",
    "\n",
    "#заказы в день накопительным итогом\n",
    "orders_A['cum_orders_A'] = (\n",
    "    orders_A\n",
    "    .apply(lambda x: orders_A[orders_A['date'] <= x['date']]\n",
    "          .agg({'orders_per_date_A': 'sum'}), axis=1)\n",
    "           )\n",
    "\n",
    "#доход в день накопительным итогом\n",
    "orders_A['cum_revenue_A'] = (\n",
    "    orders_A\n",
    "    .apply(lambda x: orders_A[orders_A['date'] <= x['date']]\n",
    "          .agg({'revenue_per_date_A': 'sum'}), axis=1)\n",
    "           )\n",
    "\n",
    "orders_A.head()"
   ]
  },
  {
   "cell_type": "code",
   "execution_count": 58,
   "id": "25d10ffd",
   "metadata": {},
   "outputs": [
    {
     "data": {
      "text/html": [
       "<div>\n",
       "<style scoped>\n",
       "    .dataframe tbody tr th:only-of-type {\n",
       "        vertical-align: middle;\n",
       "    }\n",
       "\n",
       "    .dataframe tbody tr th {\n",
       "        vertical-align: top;\n",
       "    }\n",
       "\n",
       "    .dataframe thead th {\n",
       "        text-align: right;\n",
       "    }\n",
       "</style>\n",
       "<table border=\"1\" class=\"dataframe\">\n",
       "  <thead>\n",
       "    <tr style=\"text-align: right;\">\n",
       "      <th></th>\n",
       "      <th>date</th>\n",
       "      <th>orders_per_date_B</th>\n",
       "      <th>revenue_per_date_B</th>\n",
       "      <th>cum_orders_B</th>\n",
       "      <th>cum_revenue_B</th>\n",
       "    </tr>\n",
       "  </thead>\n",
       "  <tbody>\n",
       "    <tr>\n",
       "      <th>0</th>\n",
       "      <td>2019-08-01</td>\n",
       "      <td>21</td>\n",
       "      <td>101217</td>\n",
       "      <td>21</td>\n",
       "      <td>101217</td>\n",
       "    </tr>\n",
       "    <tr>\n",
       "      <th>1</th>\n",
       "      <td>2019-08-02</td>\n",
       "      <td>24</td>\n",
       "      <td>165531</td>\n",
       "      <td>45</td>\n",
       "      <td>266748</td>\n",
       "    </tr>\n",
       "    <tr>\n",
       "      <th>2</th>\n",
       "      <td>2019-08-03</td>\n",
       "      <td>16</td>\n",
       "      <td>114248</td>\n",
       "      <td>61</td>\n",
       "      <td>380996</td>\n",
       "    </tr>\n",
       "    <tr>\n",
       "      <th>3</th>\n",
       "      <td>2019-08-04</td>\n",
       "      <td>17</td>\n",
       "      <td>108571</td>\n",
       "      <td>78</td>\n",
       "      <td>489567</td>\n",
       "    </tr>\n",
       "    <tr>\n",
       "      <th>4</th>\n",
       "      <td>2019-08-05</td>\n",
       "      <td>23</td>\n",
       "      <td>92428</td>\n",
       "      <td>101</td>\n",
       "      <td>581995</td>\n",
       "    </tr>\n",
       "  </tbody>\n",
       "</table>\n",
       "</div>"
      ],
      "text/plain": [
       "         date  orders_per_date_B  revenue_per_date_B  cum_orders_B  \\\n",
       "0  2019-08-01                 21              101217            21   \n",
       "1  2019-08-02                 24              165531            45   \n",
       "2  2019-08-03                 16              114248            61   \n",
       "3  2019-08-04                 17              108571            78   \n",
       "4  2019-08-05                 23               92428           101   \n",
       "\n",
       "   cum_revenue_B  \n",
       "0         101217  \n",
       "1         266748  \n",
       "2         380996  \n",
       "3         489567  \n",
       "4         581995  "
      ]
     },
     "execution_count": 58,
     "metadata": {},
     "output_type": "execute_result"
    }
   ],
   "source": [
    "#группа B\n",
    "#заказы и доход в день\n",
    "orders_B = (orders[orders['group'] == 'B'][['date', 'transaction_id', 'visitor_id', 'revenue']]\n",
    "                 .groupby('date', as_index=False)\n",
    "                  .agg({\n",
    "                      'transaction_id': pd.Series.nunique,\n",
    "                      'revenue': 'sum'\n",
    "                  })\n",
    "                 )\n",
    "orders_B.columns = ['date', 'orders_per_date_B', 'revenue_per_date_B']\n",
    "\n",
    "#заказы в день накопительным итогом\n",
    "orders_B['cum_orders_B'] = (\n",
    "    orders_B\n",
    "    .apply(lambda x: orders_B[orders_B['date'] <= x['date']]\n",
    "          .agg({'orders_per_date_B': 'sum'}), axis=1)\n",
    "           )\n",
    "\n",
    "#доход в день накопительным итогом\n",
    "orders_B['cum_revenue_B'] = (\n",
    "    orders_B\n",
    "    .apply(lambda x: orders_B[orders_B['date'] <= x['date']]\n",
    "          .agg({'revenue_per_date_B': 'sum'}), axis=1)\n",
    "           )\n",
    "\n",
    "orders_B.head()"
   ]
  },
  {
   "cell_type": "code",
   "execution_count": 59,
   "id": "aa38f881",
   "metadata": {},
   "outputs": [
    {
     "data": {
      "text/html": [
       "<div>\n",
       "<style scoped>\n",
       "    .dataframe tbody tr th:only-of-type {\n",
       "        vertical-align: middle;\n",
       "    }\n",
       "\n",
       "    .dataframe tbody tr th {\n",
       "        vertical-align: top;\n",
       "    }\n",
       "\n",
       "    .dataframe thead th {\n",
       "        text-align: right;\n",
       "    }\n",
       "</style>\n",
       "<table border=\"1\" class=\"dataframe\">\n",
       "  <thead>\n",
       "    <tr style=\"text-align: right;\">\n",
       "      <th></th>\n",
       "      <th>date</th>\n",
       "      <th>orders_per_date_A</th>\n",
       "      <th>revenue_per_date_A</th>\n",
       "      <th>cum_orders_A</th>\n",
       "      <th>cum_revenue_A</th>\n",
       "      <th>orders_per_date_B</th>\n",
       "      <th>revenue_per_date_B</th>\n",
       "      <th>cum_orders_B</th>\n",
       "      <th>cum_revenue_B</th>\n",
       "      <th>visitors_per_date_A</th>\n",
       "      <th>cum_visitors_A</th>\n",
       "      <th>visitors_per_date_B</th>\n",
       "      <th>cum_visitors_B</th>\n",
       "    </tr>\n",
       "  </thead>\n",
       "  <tbody>\n",
       "    <tr>\n",
       "      <th>0</th>\n",
       "      <td>2019-08-01</td>\n",
       "      <td>24</td>\n",
       "      <td>148579</td>\n",
       "      <td>24</td>\n",
       "      <td>148579</td>\n",
       "      <td>21</td>\n",
       "      <td>101217</td>\n",
       "      <td>21</td>\n",
       "      <td>101217</td>\n",
       "      <td>719</td>\n",
       "      <td>719</td>\n",
       "      <td>713</td>\n",
       "      <td>713</td>\n",
       "    </tr>\n",
       "    <tr>\n",
       "      <th>1</th>\n",
       "      <td>2019-08-02</td>\n",
       "      <td>20</td>\n",
       "      <td>93822</td>\n",
       "      <td>44</td>\n",
       "      <td>242401</td>\n",
       "      <td>24</td>\n",
       "      <td>165531</td>\n",
       "      <td>45</td>\n",
       "      <td>266748</td>\n",
       "      <td>619</td>\n",
       "      <td>1338</td>\n",
       "      <td>581</td>\n",
       "      <td>1294</td>\n",
       "    </tr>\n",
       "    <tr>\n",
       "      <th>2</th>\n",
       "      <td>2019-08-03</td>\n",
       "      <td>24</td>\n",
       "      <td>112473</td>\n",
       "      <td>68</td>\n",
       "      <td>354874</td>\n",
       "      <td>16</td>\n",
       "      <td>114248</td>\n",
       "      <td>61</td>\n",
       "      <td>380996</td>\n",
       "      <td>507</td>\n",
       "      <td>1845</td>\n",
       "      <td>509</td>\n",
       "      <td>1803</td>\n",
       "    </tr>\n",
       "    <tr>\n",
       "      <th>3</th>\n",
       "      <td>2019-08-04</td>\n",
       "      <td>16</td>\n",
       "      <td>70825</td>\n",
       "      <td>84</td>\n",
       "      <td>425699</td>\n",
       "      <td>17</td>\n",
       "      <td>108571</td>\n",
       "      <td>78</td>\n",
       "      <td>489567</td>\n",
       "      <td>717</td>\n",
       "      <td>2562</td>\n",
       "      <td>770</td>\n",
       "      <td>2573</td>\n",
       "    </tr>\n",
       "    <tr>\n",
       "      <th>4</th>\n",
       "      <td>2019-08-05</td>\n",
       "      <td>25</td>\n",
       "      <td>124218</td>\n",
       "      <td>109</td>\n",
       "      <td>549917</td>\n",
       "      <td>23</td>\n",
       "      <td>92428</td>\n",
       "      <td>101</td>\n",
       "      <td>581995</td>\n",
       "      <td>756</td>\n",
       "      <td>3318</td>\n",
       "      <td>707</td>\n",
       "      <td>3280</td>\n",
       "    </tr>\n",
       "  </tbody>\n",
       "</table>\n",
       "</div>"
      ],
      "text/plain": [
       "         date  orders_per_date_A  revenue_per_date_A  cum_orders_A  \\\n",
       "0  2019-08-01                 24              148579            24   \n",
       "1  2019-08-02                 20               93822            44   \n",
       "2  2019-08-03                 24              112473            68   \n",
       "3  2019-08-04                 16               70825            84   \n",
       "4  2019-08-05                 25              124218           109   \n",
       "\n",
       "   cum_revenue_A  orders_per_date_B  revenue_per_date_B  cum_orders_B  \\\n",
       "0         148579                 21              101217            21   \n",
       "1         242401                 24              165531            45   \n",
       "2         354874                 16              114248            61   \n",
       "3         425699                 17              108571            78   \n",
       "4         549917                 23               92428           101   \n",
       "\n",
       "   cum_revenue_B  visitors_per_date_A  cum_visitors_A  visitors_per_date_B  \\\n",
       "0         101217                  719             719                  713   \n",
       "1         266748                  619            1338                  581   \n",
       "2         380996                  507            1845                  509   \n",
       "3         489567                  717            2562                  770   \n",
       "4         581995                  756            3318                  707   \n",
       "\n",
       "   cum_visitors_B  \n",
       "0             713  \n",
       "1            1294  \n",
       "2            1803  \n",
       "3            2573  \n",
       "4            3280  "
      ]
     },
     "execution_count": 59,
     "metadata": {},
     "output_type": "execute_result"
    }
   ],
   "source": [
    "df = (orders_A\n",
    "      .merge(orders_B, on='date', how='left')\n",
    "      .merge(visitors_A, on='date', how='left')\n",
    "      .merge(visitors_B, on='date', how='left')\n",
    ")\n",
    "\n",
    "df.head()"
   ]
  },
  {
   "cell_type": "markdown",
   "id": "20106dc0",
   "metadata": {},
   "source": [
    "Проверим результаты объединения."
   ]
  },
  {
   "cell_type": "code",
   "execution_count": 60,
   "id": "8fb01197",
   "metadata": {},
   "outputs": [],
   "source": [
    "def check_merge(df, row):\n",
    "    for i in row:\n",
    "        print('Сумма по столбцу \"{}\" - '.format(i), df[i].sum()) "
   ]
  },
  {
   "cell_type": "markdown",
   "id": "1d2d066d",
   "metadata": {},
   "source": [
    "визиты группа А "
   ]
  },
  {
   "cell_type": "code",
   "execution_count": 61,
   "id": "7ca7edc3",
   "metadata": {},
   "outputs": [
    {
     "name": "stdout",
     "output_type": "stream",
     "text": [
      "Сумма по столбцу \"visitors_per_date_A\" -  18736\n",
      "Сумма по столбцу \"cum_visitors_A\" -  305673\n"
     ]
    }
   ],
   "source": [
    "check_merge(visitors_A, ['visitors_per_date_A', 'cum_visitors_A'])"
   ]
  },
  {
   "cell_type": "code",
   "execution_count": 62,
   "id": "3f7b4a92",
   "metadata": {},
   "outputs": [
    {
     "name": "stdout",
     "output_type": "stream",
     "text": [
      "Сумма по столбцу \"visitors_per_date_A\" -  18736\n",
      "Сумма по столбцу \"cum_visitors_A\" -  305673\n"
     ]
    }
   ],
   "source": [
    "check_merge(df, ['visitors_per_date_A', 'cum_visitors_A'])"
   ]
  },
  {
   "cell_type": "markdown",
   "id": "8d1a578e",
   "metadata": {},
   "source": [
    "визиты группа В"
   ]
  },
  {
   "cell_type": "code",
   "execution_count": 63,
   "id": "8fbd59ab",
   "metadata": {},
   "outputs": [
    {
     "name": "stdout",
     "output_type": "stream",
     "text": [
      "Сумма по столбцу \"visitors_per_date_B\" -  18916\n",
      "Сумма по столбцу \"cum_visitors_B\" -  307092\n"
     ]
    }
   ],
   "source": [
    "check_merge(visitors_B, ['visitors_per_date_B', 'cum_visitors_B'])"
   ]
  },
  {
   "cell_type": "code",
   "execution_count": 64,
   "id": "9192fee9",
   "metadata": {},
   "outputs": [
    {
     "name": "stdout",
     "output_type": "stream",
     "text": [
      "Сумма по столбцу \"visitors_per_date_B\" -  18916\n",
      "Сумма по столбцу \"cum_visitors_B\" -  307092\n"
     ]
    }
   ],
   "source": [
    "check_merge(df, ['visitors_per_date_B', 'cum_visitors_B'])"
   ]
  },
  {
   "cell_type": "markdown",
   "id": "989cf1fb",
   "metadata": {},
   "source": [
    "заказы группы А"
   ]
  },
  {
   "cell_type": "code",
   "execution_count": 65,
   "id": "25007f3e",
   "metadata": {},
   "outputs": [
    {
     "name": "stdout",
     "output_type": "stream",
     "text": [
      "Сумма по столбцу \"orders_per_date_A\" -  557\n",
      "Сумма по столбцу \"revenue_per_date_A\" -  4084803\n",
      "Сумма по столбцу \"cum_orders_A\" -  9229\n",
      "Сумма по столбцу \"cum_revenue_A\" -  62755023\n"
     ]
    }
   ],
   "source": [
    "check_merge(orders_A, ['orders_per_date_A', 'revenue_per_date_A', 'cum_orders_A', 'cum_revenue_A'])"
   ]
  },
  {
   "cell_type": "code",
   "execution_count": 66,
   "id": "c11fc562",
   "metadata": {},
   "outputs": [
    {
     "name": "stdout",
     "output_type": "stream",
     "text": [
      "Сумма по столбцу \"orders_per_date_A\" -  557\n",
      "Сумма по столбцу \"revenue_per_date_A\" -  4084803\n",
      "Сумма по столбцу \"cum_orders_A\" -  9229\n",
      "Сумма по столбцу \"cum_revenue_A\" -  62755023\n"
     ]
    }
   ],
   "source": [
    "check_merge(df, ['orders_per_date_A', 'revenue_per_date_A', 'cum_orders_A', 'cum_revenue_A'])"
   ]
  },
  {
   "cell_type": "markdown",
   "id": "a158cc6d",
   "metadata": {},
   "source": [
    "заказы группы В"
   ]
  },
  {
   "cell_type": "code",
   "execution_count": 67,
   "id": "974712c5",
   "metadata": {},
   "outputs": [
    {
     "name": "stdout",
     "output_type": "stream",
     "text": [
      "Сумма по столбцу \"orders_per_date_B\" -  640\n",
      "Сумма по столбцу \"revenue_per_date_B\" -  5907760\n",
      "Сумма по столбцу \"cum_orders_B\" -  10466\n",
      "Сумма по столбцу \"cum_revenue_B\" -  90043396\n"
     ]
    }
   ],
   "source": [
    "check_merge(orders_B, ['orders_per_date_B', 'revenue_per_date_B', 'cum_orders_B', 'cum_revenue_B'])"
   ]
  },
  {
   "cell_type": "code",
   "execution_count": 68,
   "id": "a00996aa",
   "metadata": {},
   "outputs": [
    {
     "name": "stdout",
     "output_type": "stream",
     "text": [
      "Сумма по столбцу \"orders_per_date_B\" -  640\n",
      "Сумма по столбцу \"revenue_per_date_B\" -  5907760\n",
      "Сумма по столбцу \"cum_orders_B\" -  10466\n",
      "Сумма по столбцу \"cum_revenue_B\" -  90043396\n"
     ]
    }
   ],
   "source": [
    "check_merge(df, ['orders_per_date_B', 'revenue_per_date_B', 'cum_orders_B', 'cum_revenue_B'])"
   ]
  },
  {
   "cell_type": "code",
   "execution_count": 69,
   "id": "f404462a",
   "metadata": {},
   "outputs": [],
   "source": [
    "#таблицы по группам с пользователями и кол-вом заказов, которые они совершили \n",
    "order_by_users_A = (orders[orders['group'] == 'A']\n",
    "                    .groupby('visitor_id', as_index=False)\n",
    "                    .agg({'transaction_id': pd.Series.nunique})\n",
    "                   )\n",
    "\n",
    "order_by_users_A.columns = ['visitor_id', 'orders']\n",
    "\n",
    "order_by_users_B = (orders[orders['group'] == 'B']\n",
    "                    .groupby('visitor_id', as_index=False)\n",
    "                    .agg({'transaction_id': pd.Series.nunique})\n",
    "                   )\n",
    "\n",
    "order_by_users_B.columns = ['visitor_id', 'orders']"
   ]
  },
  {
   "cell_type": "code",
   "execution_count": 70,
   "id": "2ceec1ca",
   "metadata": {},
   "outputs": [
    {
     "data": {
      "text/html": [
       "<div>\n",
       "<style scoped>\n",
       "    .dataframe tbody tr th:only-of-type {\n",
       "        vertical-align: middle;\n",
       "    }\n",
       "\n",
       "    .dataframe tbody tr th {\n",
       "        vertical-align: top;\n",
       "    }\n",
       "\n",
       "    .dataframe thead th {\n",
       "        text-align: right;\n",
       "    }\n",
       "</style>\n",
       "<table border=\"1\" class=\"dataframe\">\n",
       "  <thead>\n",
       "    <tr style=\"text-align: right;\">\n",
       "      <th></th>\n",
       "      <th>visitor_id</th>\n",
       "      <th>orders</th>\n",
       "    </tr>\n",
       "  </thead>\n",
       "  <tbody>\n",
       "    <tr>\n",
       "      <th>499</th>\n",
       "      <td>4256040402</td>\n",
       "      <td>7</td>\n",
       "    </tr>\n",
       "    <tr>\n",
       "      <th>227</th>\n",
       "      <td>2038680547</td>\n",
       "      <td>5</td>\n",
       "    </tr>\n",
       "    <tr>\n",
       "      <th>278</th>\n",
       "      <td>2458001652</td>\n",
       "      <td>5</td>\n",
       "    </tr>\n",
       "    <tr>\n",
       "      <th>269</th>\n",
       "      <td>2378935119</td>\n",
       "      <td>4</td>\n",
       "    </tr>\n",
       "    <tr>\n",
       "      <th>18</th>\n",
       "      <td>199603092</td>\n",
       "      <td>4</td>\n",
       "    </tr>\n",
       "  </tbody>\n",
       "</table>\n",
       "</div>"
      ],
      "text/plain": [
       "     visitor_id  orders\n",
       "499  4256040402       7\n",
       "227  2038680547       5\n",
       "278  2458001652       5\n",
       "269  2378935119       4\n",
       "18    199603092       4"
      ]
     },
     "execution_count": 70,
     "metadata": {},
     "output_type": "execute_result"
    }
   ],
   "source": [
    "order_by_users_A.sort_values(by='orders', ascending=False).head()"
   ]
  },
  {
   "cell_type": "code",
   "execution_count": 71,
   "id": "4414e3b5",
   "metadata": {},
   "outputs": [],
   "source": [
    "sample_A = pd.concat(\n",
    "    [order_by_users_A['orders'], \n",
    "     pd.Series(0, index=np.arange(df['visitors_per_date_A'].sum() - len(order_by_users_A['orders'])), \n",
    "               name='orders')]\n",
    "    , axis=0\n",
    ")\n",
    "\n",
    "sample_B = pd.concat(\n",
    "    [order_by_users_B['orders'], \n",
    "     pd.Series(0, index=np.arange(df['visitors_per_date_B'].sum() - len(order_by_users_B['orders'])), \n",
    "               name='orders')]\n",
    "    , axis=0\n",
    ")\n",
    "\n",
    "#pd.Series(0, index=np.arange(df['visitors_per_date_A'].sum() - len(order_by_users_A['orders'])), name='orders')\n",
    "# список нулей для пользователей, которые ничего не заказывали. \n",
    "# их количество равно разнице между суммой посетителей и количеством записей о заказа"
   ]
  },
  {
   "cell_type": "markdown",
   "id": "904b5bd6",
   "metadata": {},
   "source": [
    "Ранее мы определили, что аномальными будем считать значения выше 95 перцентилей:\n",
    "- более 4 заказов\n",
    "- стоимость заказа более 28 000 руб.\n",
    "\n",
    "Найдем кол-во пользователей, совершающих такие ~~возмутительно~~ аномальный действия."
   ]
  },
  {
   "cell_type": "code",
   "execution_count": 72,
   "id": "16590e9d",
   "metadata": {},
   "outputs": [
    {
     "name": "stdout",
     "output_type": "stream",
     "text": [
      "Кол-во пользователей с аномальной активностью: 63\n"
     ]
    }
   ],
   "source": [
    "users_with_many_orders = pd.concat(\n",
    "    [\n",
    "        order_by_users_A[order_by_users_A['orders'] >= 4]['visitor_id'],\n",
    "        order_by_users_B[order_by_users_B['orders'] >= 4]['visitor_id'],\n",
    "    ],\n",
    "    axis=0,\n",
    ")\n",
    "\n",
    "users_with_expensive_orders = orders[orders['revenue'] > 28000]['visitor_id']\n",
    "\n",
    "abnormal_users = (\n",
    "    pd.concat([users_with_many_orders, users_with_expensive_orders], axis=0)\n",
    "    .drop_duplicates()\n",
    "    .sort_values()\n",
    ")\n",
    "\n",
    "#print(abnormal_users.head(5))\n",
    "print('Кол-во пользователей с аномальной активностью:', abnormal_users.shape[0]) "
   ]
  },
  {
   "cell_type": "markdown",
   "id": "d44ea686",
   "metadata": {},
   "source": [
    "Очистим наши данные"
   ]
  },
  {
   "cell_type": "code",
   "execution_count": 73,
   "id": "7548b606",
   "metadata": {},
   "outputs": [],
   "source": [
    "filter_sample_A = pd.concat(\n",
    "    [\n",
    "        order_by_users_A[\n",
    "            np.logical_not(order_by_users_A['visitor_id'].isin(abnormal_users))\n",
    "        ]['orders'],\n",
    "        pd.Series(\n",
    "            0,\n",
    "            index=np.arange(\n",
    "                df['visitors_per_date_A'].sum() - len(order_by_users_A['orders'])\n",
    "            ),\n",
    "            name='orders',\n",
    "        ),\n",
    "    ],\n",
    "    axis=0,\n",
    ")\n",
    "\n",
    "filter_sample_B = pd.concat(\n",
    "    [\n",
    "        order_by_users_B[\n",
    "            np.logical_not(order_by_users_B['visitor_id'].isin(abnormal_users))\n",
    "        ]['orders'],\n",
    "        pd.Series(\n",
    "            0,\n",
    "            index=np.arange(\n",
    "                df['visitors_per_date_B'].sum() - len(order_by_users_B['orders'])\n",
    "            ),\n",
    "            name='orders',\n",
    "        ),\n",
    "    ],\n",
    "    axis=0,\n",
    ") "
   ]
  },
  {
   "cell_type": "markdown",
   "id": "27e35e49",
   "metadata": {},
   "source": [
    "#### гипотеза о различии конверсий \n",
    "\n",
    "Гипотезы:\n",
    "\n",
    "Н0: Различие конверсий между группами А и В отсутствует.\n",
    "\n",
    "Н1: Между конверсиями групп А и В есть различие.\n",
    "\n",
    "Посмотрим сначала результаты **по «сырым» данным**"
   ]
  },
  {
   "cell_type": "code",
   "execution_count": 74,
   "id": "64f1e198",
   "metadata": {},
   "outputs": [
    {
     "name": "stdout",
     "output_type": "stream",
     "text": [
      "p-value: 0.017\n",
      "Отношение конверсии группы В к конверсии группы А: 0.138\n"
     ]
    }
   ],
   "source": [
    "print(\"p-value: {0:.3f}\".format(stats.mannwhitneyu(sample_A, sample_B, True, 'two-sided')[1]))\n",
    "\n",
    "print(\"Отношение конверсии группы В к конверсии группы А: {0:.3f}\"\n",
    "      .format(sample_B.mean() / sample_A.mean() - 1)) "
   ]
  },
  {
   "cell_type": "markdown",
   "id": "bc77f166",
   "metadata": {},
   "source": [
    "p-value ниже порогового значения 0,05, значит у нас есть основание отвергнуть нулевую гипотезу. По \"сырым\" данным различие в конверсиях групп А и В присутствует.\n",
    "\n",
    "При этом стоит отметить, что конверсия группы В выше, чем в группе А, на 13,8 %. \n",
    "\n",
    "Теперь посчитаем те же показатели для **«очищенных» данных**"
   ]
  },
  {
   "cell_type": "code",
   "execution_count": 75,
   "id": "dab38b79",
   "metadata": {},
   "outputs": [
    {
     "name": "stdout",
     "output_type": "stream",
     "text": [
      "p-value: 0.018\n",
      "Отношение конверсии группы В к конверсии группы А: 0.148\n"
     ]
    }
   ],
   "source": [
    "print(\"p-value: {0:.3f}\".format(stats.mannwhitneyu(filter_sample_A, filter_sample_B, True, 'two-sided')[1]))\n",
    "\n",
    "print(\"Отношение конверсии группы В к конверсии группы А: {0:.3f}\"\n",
    "      .format(filter_sample_B.mean() / filter_sample_A.mean() - 1)) "
   ]
  },
  {
   "cell_type": "markdown",
   "id": "5bbd4e38",
   "metadata": {},
   "source": [
    "и по очищенным данных отвергаем нулевую гипотезу. Причем показатели изменились не сильно, отношение конверсии увеличилось на 1 %, можно сделать вывод, что \"выбросы\" не оказали существенного влияния на результаты. "
   ]
  },
  {
   "cell_type": "markdown",
   "id": "c33173ff",
   "metadata": {},
   "source": [
    "#### гипотеза о равенстве среднего чека \n",
    "\n",
    "Гипотезы:\n",
    "\n",
    "Н0: Средние чеки в группах А и В равны.\n",
    "\n",
    "Н1: Средние чеки в группах А и В не равны.\n",
    "\n",
    "**по «сырым» данным:**"
   ]
  },
  {
   "cell_type": "code",
   "execution_count": 76,
   "id": "b7ea8ecf",
   "metadata": {},
   "outputs": [
    {
     "name": "stdout",
     "output_type": "stream",
     "text": [
      "p-value: 0.729\n",
      "Отношение среднего чека группы В к среднему чеку группы А: 0.259\n"
     ]
    }
   ],
   "source": [
    "print('p-value: {0:.3f}'.format(stats.mannwhitneyu(\n",
    "    orders[orders['group']=='A']['revenue'], \n",
    "    orders[orders['group']=='B']['revenue'], True, 'two-sided')[1]))\n",
    "\n",
    "print('Отношение среднего чека группы В к среднему чеку группы А: {0:.3f}'.format(\n",
    "    orders[orders['group']=='B']['revenue'].mean() / orders[orders['group']=='A']['revenue'].mean() - 1)) "
   ]
  },
  {
   "cell_type": "markdown",
   "id": "637e8451",
   "metadata": {},
   "source": [
    "p-value больше порогового значения 0,05. Значит у нас опять нет основание отвергать нулевыую гипотезу, можно считать, что *статистически значимой* разницы между средними чеками групп нет. При этом средний чек по группе В больше среднего чека группы В на 25,9 %. \n",
    "\n",
    "**по «очищенным» данным:**"
   ]
  },
  {
   "cell_type": "code",
   "execution_count": 77,
   "id": "4e1a6470",
   "metadata": {},
   "outputs": [
    {
     "name": "stdout",
     "output_type": "stream",
     "text": [
      "p-value: 0.488\n",
      "Отношение среднего чека группы В к среднему чеку группы А: -0.017\n"
     ]
    }
   ],
   "source": [
    "print('p-value: {0:.3f}'.format(stats.mannwhitneyu(\n",
    "            orders[np.logical_and(\n",
    "                    orders['group'] == 'A', \n",
    "                    np.logical_not(orders['visitor_id'].isin(abnormal_users)),\n",
    "            )\n",
    "            ]['revenue'],\n",
    "            orders[\n",
    "                np.logical_and(\n",
    "                    orders['group'] == 'B',\n",
    "                    np.logical_not(orders['visitor_id'].isin(abnormal_users)),\n",
    "                )\n",
    "            ]['revenue'],\n",
    "        )[1]\n",
    "    )\n",
    ")\n",
    "\n",
    "print('Отношение среднего чека группы В к среднему чеку группы А: {0:.3f}'.format(\n",
    "        orders[\n",
    "            np.logical_and(\n",
    "                orders['group'] == 'B',\n",
    "                np.logical_not(orders['visitor_id'].isin(abnormal_users)),\n",
    "            )\n",
    "        ]['revenue'].mean()\n",
    "        / orders[\n",
    "            np.logical_and(\n",
    "                orders['group'] == 'A',\n",
    "                np.logical_not(orders['visitor_id'].isin(abnormal_users)),\n",
    "            )\n",
    "        ]['revenue'].mean()\n",
    "        - 1\n",
    "    )\n",
    ") "
   ]
  },
  {
   "cell_type": "markdown",
   "id": "99cf28f6",
   "metadata": {},
   "source": [
    "По \"очищенным\" данных также не можем отвергнуть нулевую гипотезу, средние чеки с точки зрения статистической значимости равно. При этом отношение средних поменялось, после \"очистки\" разница составляет 1,7 %, причем в пользу группы А. "
   ]
  },
  {
   "cell_type": "markdown",
   "id": "83ff35d8",
   "metadata": {},
   "source": [
    "# Общие выводы и рекомендации"
   ]
  },
  {
   "cell_type": "markdown",
   "id": "a0868917",
   "metadata": {},
   "source": [
    "По результатам проведенного исследования мы зафиксировали статистически значимые различия конверсии группы В по результатам А/В тестирования. Конверсия группы В больше на 13-14 %. Средний чек в группах не отличается. \n",
    "\n",
    "Все основные метрики (кумулятивная выручка, средний чек и конверсия) стабилизировались к концу наблюдаемого периода. \n",
    "\n",
    "Исходя из вышеизложенного можно дать рекомендации: остановить тест и зафиксировать победу группы В в части увеличения конверсии. \n",
    "\n",
    "*Исходя из того, что в начале изучения данных мы обнаружили дубли пользователей в группах необходимо признать проведенный тест несостоявшимся, изучить и устранить причины, которые привели к дублям и провести тест заново.*"
   ]
  },
  {
   "cell_type": "code",
   "execution_count": null,
   "id": "c7c2fe61",
   "metadata": {},
   "outputs": [],
   "source": []
  }
 ],
 "metadata": {
  "kernelspec": {
   "display_name": "Python 3",
   "language": "python",
   "name": "python3"
  },
  "language_info": {
   "codemirror_mode": {
    "name": "ipython",
    "version": 3
   },
   "file_extension": ".py",
   "mimetype": "text/x-python",
   "name": "python",
   "nbconvert_exporter": "python",
   "pygments_lexer": "ipython3",
   "version": "3.7.10"
  },
  "toc": {
   "base_numbering": 1,
   "nav_menu": {},
   "number_sections": true,
   "sideBar": true,
   "skip_h1_title": false,
   "title_cell": "Table of Contents",
   "title_sidebar": "Contents",
   "toc_cell": false,
   "toc_position": {
    "height": "calc(100% - 180px)",
    "left": "10px",
    "top": "150px",
    "width": "448px"
   },
   "toc_section_display": true,
   "toc_window_display": true
  }
 },
 "nbformat": 4,
 "nbformat_minor": 5
}
